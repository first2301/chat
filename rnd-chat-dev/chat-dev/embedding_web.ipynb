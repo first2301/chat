{
 "cells": [
  {
   "cell_type": "code",
   "execution_count": 1,
   "metadata": {},
   "outputs": [],
   "source": [
    "import os\n",
    "os.environ[\"CUDA_VISIBLE_DEVICES\"] = \"3\""
   ]
  },
  {
   "cell_type": "code",
   "execution_count": 2,
   "metadata": {},
   "outputs": [
    {
     "name": "stdout",
     "output_type": "stream",
     "text": [
      "True\n",
      "NVIDIA A100-SXM4-80GB\n",
      "3\n"
     ]
    }
   ],
   "source": [
    "import torch\n",
    "print(torch.cuda.is_available())\n",
    "print(torch.cuda.get_device_name(0))\n",
    "print((torch.cuda._get_nvml_device_index(0)))"
   ]
  },
  {
   "cell_type": "code",
   "execution_count": 3,
   "metadata": {},
   "outputs": [
    {
     "name": "stderr",
     "output_type": "stream",
     "text": [
      "USER_AGENT environment variable not set, consider setting it to identify your requests.\n"
     ]
    }
   ],
   "source": [
    "from langchain.embeddings import HuggingFaceEmbeddings\n",
    "from langchain.vectorstores import FAISS\n",
    "from langchain_community.document_loaders import PyPDFDirectoryLoader, WebBaseLoader\n",
    "from langchain.text_splitter import RecursiveCharacterTextSplitter\n",
    "from pathlib import Path"
   ]
  },
  {
   "cell_type": "code",
   "execution_count": 4,
   "metadata": {},
   "outputs": [
    {
     "name": "stdout",
     "output_type": "stream",
     "text": [
      "/AIHUB/PCNRND/home/chatbot\n"
     ]
    }
   ],
   "source": [
    "# 모델 경로 설정\n",
    "root_path = Path(\".\").resolve().parent.parent\n",
    "print(root_path)"
   ]
  },
  {
   "cell_type": "code",
   "execution_count": 5,
   "metadata": {},
   "outputs": [
    {
     "name": "stderr",
     "output_type": "stream",
     "text": [
      "/tmp/ipykernel_642703/41752180.py:5: LangChainDeprecationWarning: The class `HuggingFaceEmbeddings` was deprecated in LangChain 0.2.2 and will be removed in 1.0. An updated version of the class exists in the :class:`~langchain-huggingface package and should be used instead. To use it run `pip install -U :class:`~langchain-huggingface` and import as `from :class:`~langchain_huggingface import HuggingFaceEmbeddings``.\n",
      "  embeddings = HuggingFaceEmbeddings(\n"
     ]
    }
   ],
   "source": [
    "# /AIHUB/PCNRND/home/chatbot/ai_models/base_models/embeddings/dragonkue/BGE-m3-ko\n",
    "embedding_model_path = root_path / \"ai_models\" / \"base_models\" / \"embeddings\" /\"dragonkue\" / \"BGE-m3-ko\"\n",
    "\n",
    "# 임베딩 모델 초기화\n",
    "embeddings = HuggingFaceEmbeddings(\n",
    "    model_name=str(embedding_model_path),\n",
    "    model_kwargs={'device': 'cuda:0'},\n",
    "    encode_kwargs={'normalize_embeddings': True}\n",
    ")"
   ]
  },
  {
   "cell_type": "code",
   "execution_count": null,
   "metadata": {},
   "outputs": [
    {
     "name": "stderr",
     "output_type": "stream",
     "text": [
      "PdfReadError(\"Invalid Elementary Object starting with b'\\\\xb5' @1042106: b'/BaseFont /\\\\xbf\\\\xa1\\\\xbd\\\\xba\\\\xc4\\\\xda\\\\xbe\\\\xee \\\\xb5\\\\xe5\\\\xb8\\\\xb2 9 Black\\\\n/Encoding /Identity-H\\\\n\\\\n/DescendantFonts [ 255 0'\")\n",
      "PdfReadError('Expecting a NameObject for key but found 9')\n",
      "PdfReadError(\"Invalid Elementary Object starting with b'B' @1042113: b'nt /\\\\xbf\\\\xa1\\\\xbd\\\\xba\\\\xc4\\\\xda\\\\xbe\\\\xee \\\\xb5\\\\xe5\\\\xb8\\\\xb2 9 Black\\\\n/Encoding /Identity-H\\\\n\\\\n/DescendantFonts [ 255 0 R\\\\n ] \\\\n'\")\n",
      "PdfReadError(\"Invalid Elementary Object starting with b'\\\\xb5' @1100897: b'/BaseFont /\\\\xbf\\\\xa1\\\\xbd\\\\xba\\\\xc4\\\\xda\\\\xbe\\\\xee \\\\xb5\\\\xe5\\\\xb8\\\\xb2 9 Black \\\\n/CIDToGIDMap /Identity \\\\n/Subtype /Type1\\\\n/CIDSy'\")\n",
      "PdfReadError('Expecting a NameObject for key but found 9')\n",
      "PdfReadError(\"Invalid Elementary Object starting with b'B' @1100904: b'nt /\\\\xbf\\\\xa1\\\\xbd\\\\xba\\\\xc4\\\\xda\\\\xbe\\\\xee \\\\xb5\\\\xe5\\\\xb8\\\\xb2 9 Black \\\\n/CIDToGIDMap /Identity \\\\n/Subtype /Type1\\\\n/CIDSystemInf'\")\n",
      "Ignoring wrong pointing object 14 0 (offset 0)\n",
      "Ignoring wrong pointing object 155 0 (offset 0)\n",
      "Ignoring wrong pointing object 1453 0 (offset 0)\n",
      "PdfReadError(\"Invalid Elementary Object starting with b'\\\\xb5' @551321: b'/BaseFont /\\\\xbf\\\\xa1\\\\xbd\\\\xba\\\\xc4\\\\xda\\\\xbe\\\\xee \\\\xb5\\\\xe5\\\\xb8\\\\xb2 4 Regular\\\\n/Encoding /Identity-H\\\\n\\\\n/DescendantFonts [ 271'\")\n",
      "PdfReadError('Expecting a NameObject for key but found 4')\n",
      "PdfReadError(\"Invalid Elementary Object starting with b'R' @551328: b'nt /\\\\xbf\\\\xa1\\\\xbd\\\\xba\\\\xc4\\\\xda\\\\xbe\\\\xee \\\\xb5\\\\xe5\\\\xb8\\\\xb2 4 Regular\\\\n/Encoding /Identity-H\\\\n\\\\n/DescendantFonts [ 271 0 R\\\\n ]'\")\n",
      "PdfReadError(\"Invalid Elementary Object starting with b'\\\\xb5' @561570: b'/BaseFont /\\\\xbf\\\\xa1\\\\xbd\\\\xba\\\\xc4\\\\xda\\\\xbe\\\\xee \\\\xb5\\\\xe5\\\\xb8\\\\xb2 4 Regular \\\\n/CIDToGIDMap /Identity \\\\n/Subtype /Type1\\\\n/CID'\")\n",
      "PdfReadError('Expecting a NameObject for key but found 4')\n",
      "PdfReadError(\"Invalid Elementary Object starting with b'R' @561577: b'nt /\\\\xbf\\\\xa1\\\\xbd\\\\xba\\\\xc4\\\\xda\\\\xbe\\\\xee \\\\xb5\\\\xe5\\\\xb8\\\\xb2 4 Regular \\\\n/CIDToGIDMap /Identity \\\\n/Subtype /Type1\\\\n/CIDSystemI'\")\n",
      "PdfReadError(\"Invalid Elementary Object starting with b'\\\\xb5' @850655: b'/BaseFont /\\\\xbf\\\\xa1\\\\xbd\\\\xba\\\\xc4\\\\xda\\\\xbe\\\\xee \\\\xb5\\\\xe5\\\\xb8\\\\xb2 9 Black\\\\n/Encoding /Identity-H\\\\n\\\\n/DescendantFonts [ 242 0'\")\n",
      "PdfReadError('Expecting a NameObject for key but found 9')\n",
      "PdfReadError(\"Invalid Elementary Object starting with b'B' @850662: b'nt /\\\\xbf\\\\xa1\\\\xbd\\\\xba\\\\xc4\\\\xda\\\\xbe\\\\xee \\\\xb5\\\\xe5\\\\xb8\\\\xb2 9 Black\\\\n/Encoding /Identity-H\\\\n\\\\n/DescendantFonts [ 242 0 R\\\\n ] \\\\n'\")\n",
      "PdfReadError(\"Invalid Elementary Object starting with b'\\\\xb5' @912438: b'/BaseFont /\\\\xbf\\\\xa1\\\\xbd\\\\xba\\\\xc4\\\\xda\\\\xbe\\\\xee \\\\xb5\\\\xe5\\\\xb8\\\\xb2 9 Black \\\\n/CIDToGIDMap /Identity \\\\n/Subtype /Type1\\\\n/CIDSy'\")\n",
      "PdfReadError('Expecting a NameObject for key but found 9')\n",
      "PdfReadError(\"Invalid Elementary Object starting with b'B' @912445: b'nt /\\\\xbf\\\\xa1\\\\xbd\\\\xba\\\\xc4\\\\xda\\\\xbe\\\\xee \\\\xb5\\\\xe5\\\\xb8\\\\xb2 9 Black \\\\n/CIDToGIDMap /Identity \\\\n/Subtype /Type1\\\\n/CIDSystemInf'\")\n",
      "PdfReadError(\"Invalid Elementary Object starting with b'\\\\xb5' @816016: b'/BaseFont /\\\\xbf\\\\xa1\\\\xbd\\\\xba\\\\xc4\\\\xda\\\\xbe\\\\xee \\\\xb5\\\\xe5\\\\xb8\\\\xb2 4 Regular\\\\n/Encoding /Identity-H\\\\n\\\\n/DescendantFonts [ 299'\")\n",
      "PdfReadError('Expecting a NameObject for key but found 4')\n",
      "PdfReadError(\"Invalid Elementary Object starting with b'R' @816023: b'nt /\\\\xbf\\\\xa1\\\\xbd\\\\xba\\\\xc4\\\\xda\\\\xbe\\\\xee \\\\xb5\\\\xe5\\\\xb8\\\\xb2 4 Regular\\\\n/Encoding /Identity-H\\\\n\\\\n/DescendantFonts [ 299 0 R\\\\n ]'\")\n",
      "PdfReadError(\"Invalid Elementary Object starting with b'\\\\xb5' @825876: b'/BaseFont /\\\\xbf\\\\xa1\\\\xbd\\\\xba\\\\xc4\\\\xda\\\\xbe\\\\xee \\\\xb5\\\\xe5\\\\xb8\\\\xb2 4 Regular \\\\n/CIDToGIDMap /Identity \\\\n/Subtype /Type1\\\\n/CID'\")\n",
      "PdfReadError('Expecting a NameObject for key but found 4')\n",
      "PdfReadError(\"Invalid Elementary Object starting with b'R' @825883: b'nt /\\\\xbf\\\\xa1\\\\xbd\\\\xba\\\\xc4\\\\xda\\\\xbe\\\\xee \\\\xb5\\\\xe5\\\\xb8\\\\xb2 4 Regular \\\\n/CIDToGIDMap /Identity \\\\n/Subtype /Type1\\\\n/CIDSystemI'\")\n",
      "PdfReadError(\"Invalid Elementary Object starting with b'\\\\xb5' @1138881: b'/BaseFont /\\\\xbf\\\\xa1\\\\xbd\\\\xba\\\\xc4\\\\xda\\\\xbe\\\\xee \\\\xb5\\\\xe5\\\\xb8\\\\xb2 4 Regular\\\\n/Encoding /Identity-H\\\\n\\\\n/DescendantFonts [ 253'\")\n",
      "PdfReadError('Expecting a NameObject for key but found 4')\n",
      "PdfReadError(\"Invalid Elementary Object starting with b'R' @1138888: b'nt /\\\\xbf\\\\xa1\\\\xbd\\\\xba\\\\xc4\\\\xda\\\\xbe\\\\xee \\\\xb5\\\\xe5\\\\xb8\\\\xb2 4 Regular\\\\n/Encoding /Identity-H\\\\n\\\\n/DescendantFonts [ 253 0 R\\\\n ]'\")\n",
      "PdfReadError(\"Invalid Elementary Object starting with b'\\\\xb5' @1149489: b'/BaseFont /\\\\xbf\\\\xa1\\\\xbd\\\\xba\\\\xc4\\\\xda\\\\xbe\\\\xee \\\\xb5\\\\xe5\\\\xb8\\\\xb2 4 Regular \\\\n/CIDToGIDMap /Identity \\\\n/Subtype /Type1\\\\n/CID'\")\n",
      "PdfReadError('Expecting a NameObject for key but found 4')\n",
      "PdfReadError(\"Invalid Elementary Object starting with b'R' @1149496: b'nt /\\\\xbf\\\\xa1\\\\xbd\\\\xba\\\\xc4\\\\xda\\\\xbe\\\\xee \\\\xb5\\\\xe5\\\\xb8\\\\xb2 4 Regular \\\\n/CIDToGIDMap /Identity \\\\n/Subtype /Type1\\\\n/CIDSystemI'\")\n",
      "PdfReadError(\"Invalid Elementary Object starting with b'\\\\xb0' @1025566: b'F12\\\\n/BaseFont /\\\\xc4\\\\xda\\\\xbe\\\\xee \\\\xb0\\\\xed\\\\xb5\\\\xf1 E 7 ExtraBold\\\\n/Encoding /Identity-H\\\\n\\\\n/DescendantFonts ['\")\n",
      "PdfReadError(\"Invalid Elementary Object starting with b'E' @1025571: b'BaseFont /\\\\xc4\\\\xda\\\\xbe\\\\xee \\\\xb0\\\\xed\\\\xb5\\\\xf1 E 7 ExtraBold\\\\n/Encoding /Identity-H\\\\n\\\\n/DescendantFonts [ 847 '\")\n",
      "PdfReadError('Expecting a NameObject for key but found 7')\n",
      "PdfReadError(\"Invalid Elementary Object starting with b'E' @1025575: b'Font /\\\\xc4\\\\xda\\\\xbe\\\\xee \\\\xb0\\\\xed\\\\xb5\\\\xf1 E 7 ExtraBold\\\\n/Encoding /Identity-H\\\\n\\\\n/DescendantFonts [ 847 0 R\\\\n'\")\n",
      "PdfReadError(\"Invalid Elementary Object starting with b'\\\\xb0' @1314403: b'ont\\\\n/BaseFont /\\\\xc4\\\\xda\\\\xbe\\\\xee \\\\xb0\\\\xed\\\\xb5\\\\xf1 E 7 ExtraBold \\\\n/CIDToGIDMap /Identity \\\\n/Subtype /Type1\\\\n'\")\n",
      "PdfReadError(\"Invalid Elementary Object starting with b'E' @1314408: b'BaseFont /\\\\xc4\\\\xda\\\\xbe\\\\xee \\\\xb0\\\\xed\\\\xb5\\\\xf1 E 7 ExtraBold \\\\n/CIDToGIDMap /Identity \\\\n/Subtype /Type1\\\\n/CIDS'\")\n",
      "PdfReadError('Expecting a NameObject for key but found 7')\n",
      "PdfReadError(\"Invalid Elementary Object starting with b'E' @1314412: b'Font /\\\\xc4\\\\xda\\\\xbe\\\\xee \\\\xb0\\\\xed\\\\xb5\\\\xf1 E 7 ExtraBold \\\\n/CIDToGIDMap /Identity \\\\n/Subtype /Type1\\\\n/CIDSyste'\")\n",
      "PdfReadError(\"Invalid Elementary Object starting with b'L' @9156475: b'nt /KoPub\\\\xb5\\\\xb8\\\\xbf\\\\xf2\\\\xc3\\\\xbc_Pro Light\\\\n/Encoding /Identity-H\\\\n\\\\n/DescendantFonts [ 652 0 R\\\\n ] \\\\n'\")\n",
      "PdfReadError(\"Invalid Elementary Object starting with b'L' @9190666: b'nt /KoPub\\\\xb5\\\\xb8\\\\xbf\\\\xf2\\\\xc3\\\\xbc_Pro Light \\\\n/CIDToGIDMap /Identity \\\\n/Subtype /Type1\\\\n/CIDSystemInf'\")\n",
      "PdfReadError(\"Invalid Elementary Object starting with b'\\\\xb0' @1231220: b'/F3\\\\n/BaseFont /\\\\xc4\\\\xda\\\\xbe\\\\xee \\\\xb0\\\\xed\\\\xb5\\\\xf1 E 2 ExtraLight\\\\n/Encoding /Identity-H\\\\n\\\\n/DescendantFonts '\")\n",
      "PdfReadError(\"Invalid Elementary Object starting with b'E' @1231225: b'BaseFont /\\\\xc4\\\\xda\\\\xbe\\\\xee \\\\xb0\\\\xed\\\\xb5\\\\xf1 E 2 ExtraLight\\\\n/Encoding /Identity-H\\\\n\\\\n/DescendantFonts [ 320'\")\n",
      "PdfReadError('Expecting a NameObject for key but found 2')\n",
      "PdfReadError(\"Invalid Elementary Object starting with b'E' @1231229: b'Font /\\\\xc4\\\\xda\\\\xbe\\\\xee \\\\xb0\\\\xed\\\\xb5\\\\xf1 E 2 ExtraLight\\\\n/Encoding /Identity-H\\\\n\\\\n/DescendantFonts [ 320 0 R'\")\n",
      "PdfReadError(\"Invalid Elementary Object starting with b'\\\\xb0' @1303509: b'ont\\\\n/BaseFont /\\\\xc4\\\\xda\\\\xbe\\\\xee \\\\xb0\\\\xed\\\\xb5\\\\xf1 E 2 ExtraLight \\\\n/CIDToGIDMap /Identity \\\\n/Subtype /Type1'\")\n",
      "PdfReadError(\"Invalid Elementary Object starting with b'E' @1303514: b'BaseFont /\\\\xc4\\\\xda\\\\xbe\\\\xee \\\\xb0\\\\xed\\\\xb5\\\\xf1 E 2 ExtraLight \\\\n/CIDToGIDMap /Identity \\\\n/Subtype /Type1\\\\n/CID'\")\n",
      "PdfReadError('Expecting a NameObject for key but found 2')\n",
      "PdfReadError(\"Invalid Elementary Object starting with b'E' @1303518: b'Font /\\\\xc4\\\\xda\\\\xbe\\\\xee \\\\xb0\\\\xed\\\\xb5\\\\xf1 E 2 ExtraLight \\\\n/CIDToGIDMap /Identity \\\\n/Subtype /Type1\\\\n/CIDSyst'\")\n",
      "PdfReadError(\"Invalid Elementary Object starting with b'\\\\xb0' @695443: b'/F6\\\\n/BaseFont /\\\\xc4\\\\xda\\\\xbe\\\\xee \\\\xb0\\\\xed\\\\xb5\\\\xf1 E 7 ExtraBold\\\\n/Encoding /Identity-H\\\\n\\\\n/DescendantFonts ['\")\n",
      "PdfReadError(\"Invalid Elementary Object starting with b'E' @695448: b'BaseFont /\\\\xc4\\\\xda\\\\xbe\\\\xee \\\\xb0\\\\xed\\\\xb5\\\\xf1 E 7 ExtraBold\\\\n/Encoding /Identity-H\\\\n\\\\n/DescendantFonts [ 228 '\")\n",
      "PdfReadError('Expecting a NameObject for key but found 7')\n",
      "PdfReadError(\"Invalid Elementary Object starting with b'E' @695452: b'Font /\\\\xc4\\\\xda\\\\xbe\\\\xee \\\\xb0\\\\xed\\\\xb5\\\\xf1 E 7 ExtraBold\\\\n/Encoding /Identity-H\\\\n\\\\n/DescendantFonts [ 228 0 R\\\\n'\")\n",
      "PdfReadError(\"Invalid Elementary Object starting with b'\\\\xb0' @783154: b'ont\\\\n/BaseFont /\\\\xc4\\\\xda\\\\xbe\\\\xee \\\\xb0\\\\xed\\\\xb5\\\\xf1 E 7 ExtraBold \\\\n/CIDToGIDMap /Identity \\\\n/Subtype /Type1\\\\n'\")\n",
      "PdfReadError(\"Invalid Elementary Object starting with b'E' @783159: b'BaseFont /\\\\xc4\\\\xda\\\\xbe\\\\xee \\\\xb0\\\\xed\\\\xb5\\\\xf1 E 7 ExtraBold \\\\n/CIDToGIDMap /Identity \\\\n/Subtype /Type1\\\\n/CIDS'\")\n",
      "PdfReadError('Expecting a NameObject for key but found 7')\n",
      "PdfReadError(\"Invalid Elementary Object starting with b'E' @783163: b'Font /\\\\xc4\\\\xda\\\\xbe\\\\xee \\\\xb0\\\\xed\\\\xb5\\\\xf1 E 7 ExtraBold \\\\n/CIDToGIDMap /Identity \\\\n/Subtype /Type1\\\\n/CIDSyste'\")\n",
      "PdfReadError(\"Invalid Elementary Object starting with b'\\\\xb0' @287637: b'/F8\\\\n/BaseFont /\\\\xc4\\\\xda\\\\xbe\\\\xee \\\\xb0\\\\xed\\\\xb5\\\\xf1 E 7 ExtraBold\\\\n/Encoding /Identity-H\\\\n\\\\n/DescendantFonts ['\")\n",
      "PdfReadError(\"Invalid Elementary Object starting with b'E' @287642: b'BaseFont /\\\\xc4\\\\xda\\\\xbe\\\\xee \\\\xb0\\\\xed\\\\xb5\\\\xf1 E 7 ExtraBold\\\\n/Encoding /Identity-H\\\\n\\\\n/DescendantFonts [ 189 '\")\n",
      "PdfReadError('Expecting a NameObject for key but found 7')\n",
      "PdfReadError(\"Invalid Elementary Object starting with b'E' @287646: b'Font /\\\\xc4\\\\xda\\\\xbe\\\\xee \\\\xb0\\\\xed\\\\xb5\\\\xf1 E 7 ExtraBold\\\\n/Encoding /Identity-H\\\\n\\\\n/DescendantFonts [ 189 0 R\\\\n'\")\n",
      "PdfReadError(\"Invalid Elementary Object starting with b'\\\\xb0' @413064: b'ont\\\\n/BaseFont /\\\\xc4\\\\xda\\\\xbe\\\\xee \\\\xb0\\\\xed\\\\xb5\\\\xf1 E 7 ExtraBold \\\\n/CIDToGIDMap /Identity \\\\n/Subtype /Type1\\\\n'\")\n",
      "PdfReadError(\"Invalid Elementary Object starting with b'E' @413069: b'BaseFont /\\\\xc4\\\\xda\\\\xbe\\\\xee \\\\xb0\\\\xed\\\\xb5\\\\xf1 E 7 ExtraBold \\\\n/CIDToGIDMap /Identity \\\\n/Subtype /Type1\\\\n/CIDS'\")\n",
      "PdfReadError('Expecting a NameObject for key but found 7')\n",
      "PdfReadError(\"Invalid Elementary Object starting with b'E' @413073: b'Font /\\\\xc4\\\\xda\\\\xbe\\\\xee \\\\xb0\\\\xed\\\\xb5\\\\xf1 E 7 ExtraBold \\\\n/CIDToGIDMap /Identity \\\\n/Subtype /Type1\\\\n/CIDSyste'\")\n",
      "PdfReadError(\"Invalid Elementary Object starting with b'\\\\xb5' @622797: b'/BaseFont /\\\\xbf\\\\xa1\\\\xbd\\\\xba\\\\xc4\\\\xda\\\\xbe\\\\xee \\\\xb5\\\\xe5\\\\xb8\\\\xb2 4 Regular\\\\n/Encoding /Identity-H\\\\n\\\\n/DescendantFonts [ 229'\")\n",
      "PdfReadError('Expecting a NameObject for key but found 4')\n",
      "PdfReadError(\"Invalid Elementary Object starting with b'R' @622804: b'nt /\\\\xbf\\\\xa1\\\\xbd\\\\xba\\\\xc4\\\\xda\\\\xbe\\\\xee \\\\xb5\\\\xe5\\\\xb8\\\\xb2 4 Regular\\\\n/Encoding /Identity-H\\\\n\\\\n/DescendantFonts [ 229 0 R\\\\n ]'\")\n",
      "PdfReadError(\"Invalid Elementary Object starting with b'\\\\xb5' @632514: b'/BaseFont /\\\\xbf\\\\xa1\\\\xbd\\\\xba\\\\xc4\\\\xda\\\\xbe\\\\xee \\\\xb5\\\\xe5\\\\xb8\\\\xb2 4 Regular \\\\n/CIDToGIDMap /Identity \\\\n/Subtype /Type1\\\\n/CID'\")\n",
      "PdfReadError('Expecting a NameObject for key but found 4')\n",
      "PdfReadError(\"Invalid Elementary Object starting with b'R' @632521: b'nt /\\\\xbf\\\\xa1\\\\xbd\\\\xba\\\\xc4\\\\xda\\\\xbe\\\\xee \\\\xb5\\\\xe5\\\\xb8\\\\xb2 4 Regular \\\\n/CIDToGIDMap /Identity \\\\n/Subtype /Type1\\\\n/CIDSystemI'\")\n",
      "PdfReadError(\"Invalid Elementary Object starting with b'\\\\xb5' @1016563: b'/BaseFont /\\\\xbf\\\\xa1\\\\xbd\\\\xba\\\\xc4\\\\xda\\\\xbe\\\\xee \\\\xb5\\\\xe5\\\\xb8\\\\xb2 9 Black\\\\n/Encoding /Identity-H\\\\n\\\\n/DescendantFonts [ 238 0'\")\n",
      "PdfReadError('Expecting a NameObject for key but found 9')\n",
      "PdfReadError(\"Invalid Elementary Object starting with b'B' @1016570: b'nt /\\\\xbf\\\\xa1\\\\xbd\\\\xba\\\\xc4\\\\xda\\\\xbe\\\\xee \\\\xb5\\\\xe5\\\\xb8\\\\xb2 9 Black\\\\n/Encoding /Identity-H\\\\n\\\\n/DescendantFonts [ 238 0 R\\\\n ] \\\\n'\")\n",
      "PdfReadError(\"Invalid Elementary Object starting with b'\\\\xb5' @1069541: b'/BaseFont /\\\\xbf\\\\xa1\\\\xbd\\\\xba\\\\xc4\\\\xda\\\\xbe\\\\xee \\\\xb5\\\\xe5\\\\xb8\\\\xb2 9 Black \\\\n/CIDToGIDMap /Identity \\\\n/Subtype /Type1\\\\n/CIDSy'\")\n",
      "PdfReadError('Expecting a NameObject for key but found 9')\n",
      "PdfReadError(\"Invalid Elementary Object starting with b'B' @1069548: b'nt /\\\\xbf\\\\xa1\\\\xbd\\\\xba\\\\xc4\\\\xda\\\\xbe\\\\xee \\\\xb5\\\\xe5\\\\xb8\\\\xb2 9 Black \\\\n/CIDToGIDMap /Identity \\\\n/Subtype /Type1\\\\n/CIDSystemInf'\")\n",
      "PdfReadError(\"Invalid Elementary Object starting with b'\\\\xb5' @644379: b'/BaseFont /\\\\xbf\\\\xa1\\\\xbd\\\\xba\\\\xc4\\\\xda\\\\xbe\\\\xee \\\\xb5\\\\xe5\\\\xb8\\\\xb2 9 Black\\\\n/Encoding /Identity-H\\\\n\\\\n/DescendantFonts [ 230 0'\")\n",
      "PdfReadError('Expecting a NameObject for key but found 9')\n",
      "PdfReadError(\"Invalid Elementary Object starting with b'B' @644386: b'nt /\\\\xbf\\\\xa1\\\\xbd\\\\xba\\\\xc4\\\\xda\\\\xbe\\\\xee \\\\xb5\\\\xe5\\\\xb8\\\\xb2 9 Black\\\\n/Encoding /Identity-H\\\\n\\\\n/DescendantFonts [ 230 0 R\\\\n ] \\\\n'\")\n",
      "PdfReadError(\"Invalid Elementary Object starting with b'\\\\xb5' @700927: b'/BaseFont /\\\\xbf\\\\xa1\\\\xbd\\\\xba\\\\xc4\\\\xda\\\\xbe\\\\xee \\\\xb5\\\\xe5\\\\xb8\\\\xb2 9 Black \\\\n/CIDToGIDMap /Identity \\\\n/Subtype /Type1\\\\n/CIDSy'\")\n",
      "PdfReadError('Expecting a NameObject for key but found 9')\n",
      "PdfReadError(\"Invalid Elementary Object starting with b'B' @700934: b'nt /\\\\xbf\\\\xa1\\\\xbd\\\\xba\\\\xc4\\\\xda\\\\xbe\\\\xee \\\\xb5\\\\xe5\\\\xb8\\\\xb2 9 Black \\\\n/CIDToGIDMap /Identity \\\\n/Subtype /Type1\\\\n/CIDSystemInf'\")\n"
     ]
    }
   ],
   "source": [
    "# def load_pdf_directory(directory_path):\n",
    "#     loader = PyPDFDirectoryLoader(directory_path)\n",
    "#     pages = loader.load()\n",
    "#     return pages\n",
    "\n",
    "from langchain_community.document_loaders import WebBaseLoader\n",
    "\n",
    "def load_web_data(url_list):\n",
    "    loader = WebBaseLoader(url_list)\n",
    "    pages = loader.load()\n",
    "\n",
    "    # 줄바꿈 노이즈 정리\n",
    "    for page in pages:\n",
    "        # 하이픈으로 줄바꿈된 단어 복원\n",
    "        page.page_content = page.page_content.replace(\"-\\n\", \"\")\n",
    "        # 일반 줄바꿈은 공백으로 변환\n",
    "        page.page_content = page.page_content.replace(\"\\n\", \" \")\n",
    "\n",
    "    return pages\n",
    "\n",
    "web_urls = [\n",
    "    \"https://www.example.com\",\n",
    "    \"https://www.example2.com\"\n",
    "]\n",
    "web_data = load_web_data(web_urls)"
   ]
  },
  {
   "cell_type": "code",
   "execution_count": 6,
   "metadata": {},
   "outputs": [],
   "source": [
    "\n",
    "def split_documents(documents):\n",
    "    text_splitter = RecursiveCharacterTextSplitter(\n",
    "        chunk_size=400,\n",
    "        chunk_overlap=50,\n",
    "        length_function=len,\n",
    "        separators=[r\"\\n{2,}\", r\"\\n\", r\"[.!?]\", r\"[,;:]\", r\" \"],\n",
    "        is_separator_regex=True\n",
    "    )\n",
    "    return text_splitter.split_documents(documents)\n",
    "\n",
    "chunks = split_documents(pdf_data)\n",
    "\n",
    "# text_splitter = RecursiveCharacterTextSplitter(\n",
    "#     chunk_size=400,  # 한 청크에 너무 많은 문장이 담기지 않도록\n",
    "#     chunk_overlap=50,  # 앞뒤 문맥 연결 위해 소폭 겹침\n",
    "#     separators=[r\"\\n{2,}\", r\"\\n\", r\"[.!?]\", r\"[,;:]\", r\" \"],  # 문단, 줄, 문장, 쉼표, 공백 순으로 분할\n",
    "#     is_separator_regex=True\n",
    "# )\n",
    "\n",
    "# chunks = text_splitter.split_documents(pdf_data)\n",
    "\n",
    "# text_splitter = RecursiveCharacterTextSplitter(\n",
    "#     chunk_size=500,  # PDF 문서는 더 작은 청크로 나누는 것이 좋음\n",
    "#     chunk_overlap=50, # 청크 간 중복도 줄임\n",
    "#     length_function=len,\n",
    "#     separators=[\"\\n\\n\", \"\\n\", \".\", \"!\", \"?\", \";\", \":\", \" \", \"\"],  # PDF 문서의 구조를 고려한 구분자 추가\n",
    "#     is_separator_regex=False\n",
    "# )\n",
    "\n",
    "# chunks = text_splitter.split_documents(pdf_data)"
   ]
  },
  {
   "cell_type": "code",
   "execution_count": 7,
   "metadata": {},
   "outputs": [],
   "source": [
    "# FAISS 벡터 스토어 생성\n",
    "db = FAISS.from_documents(\n",
    "    chunks, \n",
    "    embeddings\n",
    ")"
   ]
  },
  {
   "cell_type": "code",
   "execution_count": 8,
   "metadata": {},
   "outputs": [],
   "source": [
    "# FAISS 벡터 스토어 저장\n",
    "faiss_index_directory = \"./faiss_index_directory\"\n",
    "# os.makedirs(faiss_index_directory, exist_ok=True)\n",
    "db.save_local(faiss_index_directory)"
   ]
  },
  {
   "cell_type": "code",
   "execution_count": 9,
   "metadata": {},
   "outputs": [
    {
     "name": "stdout",
     "output_type": "stream",
     "text": [
      "\n",
      "## 검색결과 1\n",
      "내용: .  - AI를 알고리즘만으로 만들지 않고, 몸과 환경을 통해 시각․청각․촉각․후각 등의 멀티 모달 센서로 현실 세계를 인식하고, '체험'할 수 있게 해서 더 현실적인 지능을 구현한다는 의미  - 즉, ‘몸을 가진 AI’로 물리적 환경 속에서 실시간으로 감각하고 반응하며 행동하는 AI 시스템을 의미하며, 시각․청각․촉각 등 다양한 센서로 외부 세계를 인식하고 그에 맞는 행동을 수행  ※ 신체화 AI 핵심 기술 요소: 강화학습(Reinforcement Learning), 로봇공학(Robotics), 컴퓨터 비전(Computer Vision), 자연어처리 (NLP), 시뮬레이션 플랫폼(AI 훈련용 가상 환경)\n",
      "출처: {'producer': 'Hancom PDF 1.3.0.547', 'creator': 'Hwp 2018 10.0.0.14241', 'creationdate': '2025-04-18T15:01:47+09:00', 'author': '김종금', 'moddate': '2025-04-18T15:01:47+09:00', 'pdfversion': '1.4', 'source': '../data/pdf3/★_250402_(AI리포트)_(최종)_신체성_AI_현황과_전망.pdf', 'total_pages': 20, 'page': 7, 'page_label': '8'}\n",
      "\n",
      "## 검색결과 2\n",
      "내용: ‘AI 입은 로봇, 신체화 AI(Embodied AI)’ 현황과 전망 6 ○ 신체화 AI는 신체를 가진 AI를 의미하며, 물리적 신체와 지능형 에이전트를 갖추고 실세계에서 물체를 조작하거나 물리적 상호작용으로 인간과 소통할 수 있는 에이전트 기반의 AI 시스템  - 로봇과 같은 물리적 신체에 AI가 융합, 환경을 인지․학습해 동적으로 상호작용 할 수 있고, 계산․논리적 추론을 기반으로 지각․행동․환경 피드백을 통해 학습․적응해서 작업을 완료하는 시스템  ※ 휴머노이드 로봇 외에 자율주행차․웨어러블기기 등 상호작용 기능을 갖춘 HW도 신체화 AI의 본체 역할 가능  - 단순한 SW적 AI와 달리 감각(센서)과 운동(액추에이터)을 통해 ‘몸을 가진 지능’이라는 개념을 실현하며\n",
      "출처: {'producer': 'Hancom PDF 1.3.0.547', 'creator': 'Hwp 2018 10.0.0.14241', 'creationdate': '2025-04-18T15:01:47+09:00', 'author': '김종금', 'moddate': '2025-04-18T15:01:47+09:00', 'pdfversion': '1.4', 'source': '../data/pdf3/★_250402_(AI리포트)_(최종)_신체성_AI_현황과_전망.pdf', 'total_pages': 20, 'page': 7, 'page_label': '8'}\n",
      "\n",
      "## 검색결과 3\n",
      "내용: . 3 ○ 특히, AI 기술을 적용한 ‘신체화 AI(Embodied AI)’는 현안 해결이 필요한 분야에서 급속히 진화 - 전통적 AI는 비구현화(disembodied)된 상태로 순전히 디지털 영역에서만 작동했지만, 생성AI 발전에 따른 구현(embodied)된 신체화 AI(EAI) 등장은 비구현화에서 물리적 상호작용으로 전환 - 단순 SW로서의 AI가 아니라 물리적인 신체와 센서, 액추에이터를 갖춘 로봇이나 디바이스에 구현된 AI는 환경과의 직접적인 상호작용을 가능하게 해서 지금까지 없었던 서비스나 업무 효율화를 실현 - 신체화 AI는 역동적이며 예측 불가능한 상황에서도 빠르고 정확한 대응이 가능한 고성능 지능형 시스템이며\n",
      "출처: {'producer': 'Hancom PDF 1.3.0.547', 'creator': 'Hwp 2018 10.0.0.14241', 'creationdate': '2025-04-18T15:01:47+09:00', 'author': '김종금', 'moddate': '2025-04-18T15:01:47+09:00', 'pdfversion': '1.4', 'source': '../data/pdf3/★_250402_(AI리포트)_(최종)_신체성_AI_현황과_전망.pdf', 'total_pages': 20, 'page': 4, 'page_label': '5'}\n"
     ]
    }
   ],
   "source": [
    "# FAISS 벡터 스토어에서 유사도 검색\n",
    "query = \"피지컬 AI 란?\"\n",
    "docs = db.similarity_search(query, k=3)  # k는 반환할 문서 수\n",
    "\n",
    "# 검색 결과 출력\n",
    "for i, doc in enumerate(docs):\n",
    "    print(f\"\\n## 검색결과 {i+1}\")\n",
    "    print(f\"내용: {doc.page_content}\")\n",
    "    print(f\"출처: {doc.metadata}\")"
   ]
  },
  {
   "cell_type": "code",
   "execution_count": 10,
   "metadata": {},
   "outputs": [],
   "source": [
    "faiss_index_directory = \"./faiss_index_directory\"\n",
    "vectorstore = FAISS.load_local(faiss_index_directory, embeddings, allow_dangerous_deserialization=True)\n",
    "retriever = vectorstore.as_retriever(    \n",
    "    search_type=\"similarity_score_threshold\", \n",
    "    search_kwargs={\"score_threshold\": 0.5, \"k\": 3}\n",
    ")"
   ]
  },
  {
   "cell_type": "code",
   "execution_count": 11,
   "metadata": {},
   "outputs": [
    {
     "data": {
      "text/plain": [
       "[Document(id='dce99223-e797-40db-a0f2-ea083d98402b', metadata={'producer': 'Hancom PDF 1.3.0.547', 'creator': 'Hwp 2020 11.0.0.8658', 'creationdate': '2024-12-23T08:29:00+09:00', 'moddate': '2024-12-23T08:29:00+09:00', 'pdfversion': '1.4', 'source': '../data/pdf3/[D.gov_이슈분석_2024-2호]_초연결사회의_양면성과_정책_과제.pdf', 'total_pages': 32, 'page': 19, 'page_label': '20'}, page_content='. (n.d.) AI 윤리기준 개요.'),\n",
       " Document(id='5e1d8821-0ee6-4e6c-bb09-480b35fae5e1', metadata={'producer': 'Hancom PDF 1.3.0.546', 'creator': 'Hwp 2020 11.0.0.8362', 'creationdate': '2024-07-25T10:14:05+09:00', 'author': '김종금', 'moddate': '2024-07-25T10:14:05+09:00', 'pdfversion': '1.4', 'source': '../data/pdf3/AI_REPORT_2024_1_2024년_AI_이슈를_용어와_함께_쉽게_이해하기_최종수정_게시용_20240725.pdf', 'total_pages': 175, 'page': 140, 'page_label': '141'}, page_content='.② 쉽게 설명하면?AI 윤리는 인공지능을 개발하고 사용하는 과정에서 우리가 지켜야 할 도덕적 기준이나 규범을 말한다. 마치 어린아이에게 옳고 그름을 가르치듯, 인공지능이 인간 사회에 긍정적 영향을 미치도록 바른 길로 이끄는 나침반 같은 역할을 한다. 예를 들어 ‘인공지능은 인간에게 해를 끼쳐서는 안 된다’, ‘인공지능의 판단은 공정하고 차별 없어야 한다’와 같은 원칙이 AI 윤리에 해당한다. 이를 통해 우리는 인공지능이 가진 힘을 인류애적 방향으로 활용할 수 있게 된다.③ 예시와 함께 좀 더 자세히 알아볼까?AI 윤리가 다루는 주제는 무척 다양하다. 그중에서도 공정성, 투명성, 책임성, 인간 존엄성, 사회적 책임 등이 핵심 쟁점으로 꼽힌다'),\n",
       " Document(id='e68771bd-9d08-4091-8012-ebeaa9510c3c', metadata={'producer': 'Hancom PDF 1.3.0.547', 'creator': 'Hwp 2020 11.0.0.8658', 'creationdate': '2024-12-23T08:29:00+09:00', 'moddate': '2024-12-23T08:29:00+09:00', 'pdfversion': '1.4', 'source': '../data/pdf3/[D.gov_이슈분석_2024-2호]_초연결사회의_양면성과_정책_과제.pdf', 'total_pages': 32, 'page': 19, 'page_label': '20'}, page_content=': 김정욱 등 (2024)을 참고하여 작성| 주요국의 AI 윤리 원칙 | 출처: 한국과학기술정보연구원 (2024)51) 인공지능 윤리 소통채널')]"
      ]
     },
     "execution_count": 11,
     "metadata": {},
     "output_type": "execute_result"
    }
   ],
   "source": [
    "vectorstore.similarity_search(k=3, query=\"ai 윤리 알려줘\")"
   ]
  },
  {
   "cell_type": "code",
   "execution_count": null,
   "metadata": {},
   "outputs": [],
   "source": []
  }
 ],
 "metadata": {
  "kernelspec": {
   "display_name": "rnd_chatbot",
   "language": "python",
   "name": "python3"
  },
  "language_info": {
   "codemirror_mode": {
    "name": "ipython",
    "version": 3
   },
   "file_extension": ".py",
   "mimetype": "text/x-python",
   "name": "python",
   "nbconvert_exporter": "python",
   "pygments_lexer": "ipython3",
   "version": "3.13.5"
  }
 },
 "nbformat": 4,
 "nbformat_minor": 2
}
