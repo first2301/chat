{
 "cells": [
  {
   "cell_type": "code",
   "execution_count": null,
   "id": "2736271d",
   "metadata": {},
   "outputs": [],
   "source": [
    "from bs4 import SoupStrainer\n",
    "from langchain_community.document_loaders import WebBaseLoader\n",
    "from langchain_huggingface import HuggingFaceEmbeddings\n",
    "from langchain.text_splitter import RecursiveCharacterTextSplitter"
   ]
  },
  {
   "cell_type": "code",
   "execution_count": null,
   "id": "2bcd0ac3",
   "metadata": {},
   "outputs": [],
   "source": [
    "from bs4 import SoupStrainer\n",
    "from langchain_community.document_loaders import WebBaseLoader, SeleniumURLLoader\n",
    "\n",
    "urls = [\n",
    "    \"https://www.pcninc.co.kr/\",\n",
    "    \"https://www.pcninc.co.kr/digital/ai.do\",\n",
    "    \"https://www.pcninc.co.kr/digital/bigdata.do\",\n",
    "    \"https://www.pcninc.co.kr/digital/xrcontents.do\",\n",
    "    \"https://www.pcninc.co.kr/digital/portfolio/list.do\",\n",
    "    \"https://www.pcninc.co.kr/siux/public.do\",\n",
    "    \"https://www.pcninc.co.kr/siux/finance.do\",\n",
    "    \"https://www.pcninc.co.kr/siux/brand.do\",\n",
    "    \"https://www.pcninc.co.kr/siux/health.do\",\n",
    "    \"https://www.pcninc.co.kr/solution/oasis.do\",\n",
    "    \"https://www.pcninc.co.kr/solution/apim.do\",\n",
    "    \"https://www.pcninc.co.kr/solution/esearch.do\",\n",
    "    \"https://www.pcninc.co.kr/solution/oasisx.do\",\n",
    "    \"https://www.pcninc.co.kr/solution/datamap.do\",\n",
    "    \"https://www.pcninc.co.kr/solution/trenddata.do\",\n",
    "    \"https://www.pcninc.co.kr/solution/ozai.do\",\n",
    "    \"https://www.pcninc.co.kr/company/introduce.do\",\n",
    "    \"https://www.pcninc.co.kr/company/business.do?accYear=2023\",\n",
    "    \"https://www.pcninc.co.kr/company/benefit.do\",\n",
    "    \"https://www.pcninc.co.kr/company/history.do\",\n",
    "    \"https://www.pcninc.co.kr/company/location.do\",\n",
    "    \"https://www.pcninc.co.kr/ir/disinfo/list.do?page=1&pageSize=10\",\n",
    "    \"https://www.pcninc.co.kr/notice/press/list.do?page=1&pageSize=6\",\n",
    "    \"https://www.pcninc.co.kr/notice/plus/list.do?page=1&pageSize=6\",\n",
    "    \"https://www.pcninc.co.kr/notice/news/list.do?page=1&pageSize=6\",\n",
    "]\n",
    "    \n",
    "loader = WebBaseLoader(\n",
    "    web_paths=urls,\n",
    "    # urls=urls,\n",
    "    # browser=\"chrome\",\n",
    "    # headless=True,\n",
    "    header_template={\n",
    "        \"User-Agent\": \"Mozilla/5.0 (Windows NT 10.0; Win64; x64) AppleWebKit/537.36 (KHTML, like Gecko) Chrome/102.0.0.0 Safari/537.36\",\n",
    "    },\n",
    "    bs_kwargs={\n",
    "        \"parse_only\": SoupStrainer([\"p\", \"h1\", \"h2\", \"h3\", \"div\", \"span\"])  # 텍스트 노드만 파싱\n",
    "    }\n",
    ")\n",
    "docs = loader.load()\n",
    "print(len(docs))\n"
   ]
  },
  {
   "cell_type": "code",
   "execution_count": null,
   "id": "3187ea32",
   "metadata": {},
   "outputs": [],
   "source": [
    "from langchain.text_splitter import RecursiveCharacterTextSplitter\n",
    "\n",
    "text_splitter = RecursiveCharacterTextSplitter(\n",
    "    chunk_size=1024,\n",
    "    chunk_overlap=100,\n",
    "    length_function=len,  # 텍스트 길이를 측정하는 함수\n",
    "    is_separator_regex=False,  # 구분자가 정규식이 아님을 명시\n",
    "    separators=[\"\\n\\n\", \"\\n\", \" \", \"\"]\n",
    ")\n",
    "\n",
    "split_docs = text_splitter.split_documents(docs)\n",
    "split_docs"
   ]
  },
  {
   "cell_type": "code",
   "execution_count": null,
   "id": "5e6893ec",
   "metadata": {},
   "outputs": [],
   "source": [
    "import os\n",
    "from pathlib import Path\n",
    "root_path = Path(os.getcwd()).parent.parent\n",
    "embeddings_path = root_path / \"ollama-service\" / \"models\" / \"BGE-m3-ko\"\n",
    "print(root_path)\n",
    "print(embeddings_path)"
   ]
  },
  {
   "cell_type": "code",
   "execution_count": null,
   "id": "30033af2",
   "metadata": {},
   "outputs": [],
   "source": [
    "from langchain_huggingface import HuggingFaceEmbeddings\n",
    "\n",
    "# HuggingFace 임베딩 모델 로드 (경로를 문자열로 변환하여 오류 방지)\n",
    "embedding_model = HuggingFaceEmbeddings(\n",
    "    model_name=str(embeddings_path)\n",
    ")"
   ]
  },
  {
   "cell_type": "code",
   "execution_count": null,
   "id": "7d677b6f",
   "metadata": {},
   "outputs": [],
   "source": [
    "# 원본\n",
    "# embeddings = embedding_model.embed_documents([doc.page_content for doc in split_docs])\n",
    "\n",
    "# 개선 제안 1: 더 명확한 변수명 사용\n",
    "document_contents = [doc.page_content for doc in split_docs]\n",
    "embeddings = embedding_model.embed_documents(document_contents)"
   ]
  },
  {
   "cell_type": "code",
   "execution_count": null,
   "id": "d7ab2485",
   "metadata": {},
   "outputs": [],
   "source": [
    "from langchain_community.vectorstores import FAISS"
   ]
  },
  {
   "cell_type": "code",
   "execution_count": null,
   "id": "466d9527",
   "metadata": {},
   "outputs": [],
   "source": [
    "db = FAISS.from_documents(split_docs, embedding_model)"
   ]
  },
  {
   "cell_type": "code",
   "execution_count": null,
   "id": "e23ee0a8",
   "metadata": {},
   "outputs": [],
   "source": [
    "db.save_local(\"./vector_db/pcn_web\")"
   ]
  },
  {
   "cell_type": "code",
   "execution_count": null,
   "id": "80de583b",
   "metadata": {},
   "outputs": [],
   "source": [
    "db = FAISS.load_local(\"./vector_db/pcn_web\", embedding_model, allow_dangerous_deserialization=True)"
   ]
  },
  {
   "cell_type": "code",
   "execution_count": null,
   "id": "5fba079c",
   "metadata": {},
   "outputs": [],
   "source": [
    "# 쿼리 문서 임베딩 생성 (예: 첫 번째 문서 사용)\n",
    "query_embedding = embedding_model.embed_query(\"피씨엔 소개\")\n",
    "\n",
    "# 벡터 유사도 검색 (상위 3개 결과 반환)\n",
    "results = db.similarity_search_by_vector(query_embedding, k=10)\n",
    "\n",
    "# for i, doc in enumerate(results, 1):\n",
    "#     print(f\"{i}번째 결과:\\n{doc.page_content}\\n\")"
   ]
  },
  {
   "cell_type": "code",
   "execution_count": null,
   "id": "cbd029f3",
   "metadata": {},
   "outputs": [],
   "source": [
    "results"
   ]
  },
  {
   "cell_type": "code",
   "execution_count": null,
   "id": "bb4cad46",
   "metadata": {},
   "outputs": [],
   "source": []
  }
 ],
 "metadata": {
  "kernelspec": {
   "display_name": ".venv_chat",
   "language": "python",
   "name": "python3"
  },
  "language_info": {
   "codemirror_mode": {
    "name": "ipython",
    "version": 3
   },
   "file_extension": ".py",
   "mimetype": "text/x-python",
   "name": "python",
   "nbconvert_exporter": "python",
   "pygments_lexer": "ipython3",
   "version": "3.10.11"
  }
 },
 "nbformat": 4,
 "nbformat_minor": 5
}
