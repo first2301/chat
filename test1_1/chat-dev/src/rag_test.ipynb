{
 "cells": [
  {
   "cell_type": "code",
   "execution_count": 1,
   "id": "4a08d079",
   "metadata": {},
   "outputs": [],
   "source": [
    "# rag_ollama_chroma.py\n",
    "from langchain_core.prompts import ChatPromptTemplate, SystemMessagePromptTemplate, HumanMessagePromptTemplate\n",
    "from langchain_community.llms import Ollama\n",
    "from langchain_ollama import ChatOllama\n",
    "from langchain_core.callbacks import CallbackManager, StreamingStdOutCallbackHandler\n",
    "from langchain_core.prompts import ChatPromptTemplate\n",
    "from langchain_huggingface import HuggingFaceEmbeddings\n",
    "from langchain_community.vectorstores import FAISS\n",
    "from langchain_core.documents import Document\n",
    "from langchain_core.prompts import ChatPromptTemplate\n",
    "from langchain_core.runnables import RunnablePassthrough\n",
    "from langchain_core.output_parsers import StrOutputParser\n",
    "\n",
    "import os\n",
    "from pathlib import Path"
   ]
  },
  {
   "cell_type": "code",
   "execution_count": 2,
   "id": "133ab72f",
   "metadata": {},
   "outputs": [
    {
     "name": "stdout",
     "output_type": "stream",
     "text": [
      "f:\\project_test\\solutions\\chat\\test1_1\\ollama-service\\models\\ko_llama\\llama-3-Korean-Bllossom-8B.Q4_K_M.gguf\n",
      "f:\\project_test\\solutions\\chat\\test1_1\\ollama-service\\models\\BGE-m3-ko\n"
     ]
    }
   ],
   "source": [
    "root_path = Path(os.getcwd()).parent.parent\n",
    "ollama_model = root_path / \"ollama-service\" / \"models\" / \"ko_llama\" / \"llama-3-Korean-Bllossom-8B.Q4_K_M.gguf\"\n",
    "embeddings_path = root_path / \"ollama-service\" / \"models\" / \"BGE-m3-ko\"\n",
    "print(ollama_model)\n",
    "print(embeddings_path)"
   ]
  },
  {
   "cell_type": "code",
   "execution_count": 3,
   "id": "13eb094f",
   "metadata": {},
   "outputs": [
    {
     "name": "stderr",
     "output_type": "stream",
     "text": [
      "f:\\project_test\\solutions\\chat\\.venv_chat\\lib\\site-packages\\tqdm\\auto.py:21: TqdmWarning: IProgress not found. Please update jupyter and ipywidgets. See https://ipywidgets.readthedocs.io/en/stable/user_install.html\n",
      "  from .autonotebook import tqdm as notebook_tqdm\n"
     ]
    }
   ],
   "source": [
    "# HuggingFace 임베딩 모델 로드 (경로를 문자열로 변환하여 오류 방지)\n",
    "embedding_model = HuggingFaceEmbeddings(\n",
    "    model_name=str(embeddings_path)\n",
    ")\n",
    "# llm = Ollama(model=str(ollama_model))"
   ]
  },
  {
   "cell_type": "code",
   "execution_count": 4,
   "id": "af535fbf",
   "metadata": {},
   "outputs": [],
   "source": [
    "vectorstore = FAISS.load_local(\"vector_db/pcn_web\", embedding_model, allow_dangerous_deserialization=True)"
   ]
  },
  {
   "cell_type": "code",
   "execution_count": 36,
   "id": "ce4e2ca0",
   "metadata": {},
   "outputs": [
    {
     "name": "stderr",
     "output_type": "stream",
     "text": [
      "f:\\project_test\\solutions\\chat\\.venv_chat\\lib\\site-packages\\torch\\nn\\modules\\module.py:1762: FutureWarning: `encoder_attention_mask` is deprecated and will be removed in version 4.55.0 for `XLMRobertaSdpaSelfAttention.forward`.\n",
      "  return forward_call(*args, **kwargs)\n"
     ]
    }
   ],
   "source": [
    "query_embedding = embedding_model.embed_query(\"피씨엔 회사 소개\")\n",
    "\n",
    "# 벡터 유사도 검색 (상위 3개 결과 반환)\n",
    "results = vectorstore.similarity_search_by_vector(query_embedding, search_kwargs={\"k\": 20, \"score_threshold\": 0.75,})"
   ]
  },
  {
   "cell_type": "code",
   "execution_count": 37,
   "id": "60471582",
   "metadata": {},
   "outputs": [
    {
     "data": {
      "text/plain": [
       "[Document(id='5d320a3c-3826-4e75-8f53-e7a181329ed9', metadata={'source': 'https://www.pcninc.co.kr/'}, page_content='More NewsView More\\n\\n\\n\\n\\n\\n\\n\\nPCN, 2024년 주주명부 폐쇄기간 및 기준일 설정 공고\\n상법 제354조 및 당사 정관 제17조에 의거 제24기 정기주주총회에서 의결권을 행사할 주주확정을 위하여 다음과 같이 공고합니다.\\xa0기준일 : 2024년 12월 31일명의개서정지기간 : 2025년 1월 1일 ~ 2025년 1월 31일설정사유 :\\xa0제24기 정기주주총회 개최를 위한 권리주주 확정기타사항 :\\xa0당사 정관 제17조 [주주명부의 폐쇄 및 기준일]에 의거함2024년 12월 12일\\xa0주식회사 피씨엔서울특별시 강남구 학동로 146 PCN빌딩대표이사 송광헌\\xa0명의개서대리인 한국예탁결제원 사장 이순호\\n12월 12, 2024\\n\\n\\n\\n\\n\\n\\n\\n\\n\\n피씨엔, ‘2023 K-ICT 위크 인 부산’ 참가\\n\\n 9월 22, 2023\\n\\n\\n\\n\\n\\n\\n\\n\\n\\nPCN 2023 하반기 사업부 워크숍\\n\\xa0PCN이 2023년 7월 31일 하반기 사업부장 워크숍을 진행했습니다.\\xa0본부, 그룹, 실, 일반사업부까지 피씨엔 내 20여 개 전체 사업 관련 인원이 참석했으며, 각 사업부장이 발표한 내용을 토론을 통해 사업부 계획서에 반영했습니다.토론에는 제한 시간을 두지 않고 모든 사업부가 이해할 만한 답을 찾을 때까지 계속 토론 형식으로 진행되었습니다.\\xa0\\n 9월 22, 2023\\n\\n\\n\\n\\n\\n\\nOur Clients'),\n",
       " Document(id='70b80dd1-371f-44c0-a102-3156ae810948', metadata={'source': 'https://www.pcninc.co.kr/company/introduce.do'}, page_content=\"인재들이 자신이 원하는 리더와 함께, 혹은 자신이 리더가 되어서 원하는 꿈에 도전할 수 있는 회사를 만들고자 합니다.\\n                    이를 위한 공정한 룰, 객관적인 평가, 합리적인 보상을 바탕으로 인재가 중심인 회사를 만들겠습니다.\\n                    그러한 노력들의 결과로 매년 동종업계 대비 놀라운 실적의 영업이익과 성장률을 보이고 강남에 사옥을 마련하고\\n                    사내 안마사인 헬스키퍼, PCN 제주 펜션, PCN 양양 등의 직원 복지를 늘리고 함께 성장하고 있습니다.\\n                    PCN은 이에 만족하지 않고 좋은 회사를 넘어서는 위대한 기업 PCN을 만들겠습니다.\\n                    고객감동, 인재행복, 가치창조를 핵심 가치를 바탕으로 ‘디지털 세계에서의 가치 창조'를 실현하여 NO.1 Digital Flatform Company로 더욱 정진하겠습니다.\\n                \\n감사합니다.\\n\\n\\n\\n기업 정보\\n\\n\\n\\n설립 연도\\n1999년 12월\\n\\n\\n\\n사업 분야\\nSI(시스템 통합),\\n                        SM(시스템 관리)\\n                        컨설팅, 솔루션 Bix, 모바일 등\\n                    \\n\\n\\n\\n매출액\\n264억\\n*2022년 기준\\n\\n\\n\\n임직원\\n180명\\n*2022년 기준\\n\\n\\n\\n\\n비전\\n디지털 세상에서의 가치창조라는 Vision을 토대로 고객이 아닌 파트너가 많은 기업으로 계속 성장하겠습니다.\\n\\n\\nMISSION\\n우리는 고객의 성공을 도와 세상의 가치를\\n                        증대 시키며 행복과 긍지를 느낀다.\\n\\n\\n\\nVALUE\\n고객 감동, 인재 행복, 가치 창조\\n\\n\\n\\nVISION\\nNO.1 DIGITAL VALUE SERVICE COMPANY\\n\\n\\n\\n\\n\\n회사 소개서 PDF\"),\n",
       " Document(id='98ffaa9d-354e-4266-828a-3b1de0f14785', metadata={'source': 'https://www.pcninc.co.kr/notice/press/list.do?page=1&pageSize=6', 'language': 'ko'}, page_content=\"검색\\n\\n전체\\n제목\\n\\n\\n\\n\\n검색\\n\\n\\n\\n\\n\\n\\n                전체\\n                66 \\n                건\\n            \\n\\n\\n\\n\\n\\n\\n\\n\\n\\n\\n\\n\\n\\n피씨엔, AI 플랫폼 '오즈아이' 앞세워 피지컬 AI 시장 진출\\n2025-07-28\\n\\n\\n\\n\\n\\n\\n\\n피씨엔(PCN), 민관 디지털 혁신 플랫폼 'DPG 통합테스트베드' 운영 맡는다\\n2025-06-11\\n\\n\\n\\n\\n\\n\\n\\nPCN, 제4기 정기 주총 성료···재무제표 등 승인\\n2025-03-31\\n\\n\\n\\n\\n\\n\\n\\n피씨엔, XR 콘텐츠서 상호작용 가능성 열었다\\n2025-02-19\\n\\n\\n\\n\\n\\n\\n\\n피씨엔-메디트릭스, 디지털 헬스케어 사업 협력\\n2025-02-19\\n\\n\\n\\n\\n\\n\\n\\n과기정통부, 산업기술연구조합 기술교류회 개최\\n2025-02-13\\n\\n\\n\\n\\n\\n\\n\\n\\n\\n\\n\\n\\n\\n \\n \\n\\n1\\n2\\n3\\n4\\n5\\n6\\n7\\n8\\n9\\n10\"),\n",
       " Document(id='c027203c-7026-400a-a627-f2eaef558911', metadata={'source': 'https://www.pcninc.co.kr/company/introduce.do'}, page_content='디지털 가치를 만드는 기업\\nPCN은 지식, 경험, 네트워크를 바탕으로 디지털 환경에서의 고객 비즈니스 성공을 지원하는 Digital Value Service 기업입니다.\\n\\n\\n\\n                        PCN은 다양한 기업 및 기업들의 온라인 비즈니스 파트너로서,\\n                        고객들과 함께 꾸준히 성장해왔습니다. PCN은 기술력과 노하우를 두루 갖춘\\n                        분야별 스페셜리스트들이 고객의 비즈니스 파트너로서 감동의 가치를 실현합니다.\\n                        온라인 환경과 비즈니스에 대한 깊은 이해를 가진 중·고급 인력이 전체의 60%를\\n                        차지하고 있으며 다양한 전문 기술을 보유한 인재들로 구성되어 있어 사업을 성공으로\\n                        이끌고 있습니다.\\n                    \\n\\n\\n\\n\\n\\n\\n\\nCEO 메세지\\n\\n\\n                    안녕하세요? PCN의 송광헌 대표입니다.\\n                    (주)PCN은 1999년 설립되고 2001년 법인전환 이후 20년 넘게 IT전문기업으로서 매진해 왔습니다.\\n                    그 결과 Bigdata, AI, XR 콘텐츠 기술과 이를 바탕으로 최근 메타버스 플랫폼까지 다양한 사업에서 최고의 기술과 실적을 만들고 있습니다.\\n                    그 바탕에는 PCN 3.0으로 시작한 ‘Flat stage’ 즉, 공정한 무대에서 인재들이 마음껏 본인의 역량을 펼칠 수 있는 문화의 힘이 있다고 생각합니다.')]"
      ]
     },
     "execution_count": 37,
     "metadata": {},
     "output_type": "execute_result"
    }
   ],
   "source": [
    "results"
   ]
  },
  {
   "cell_type": "code",
   "execution_count": 38,
   "id": "56b45131",
   "metadata": {},
   "outputs": [],
   "source": [
    "# 검색기(Retriever) 설정 (개선)\n",
    "retriever = vectorstore.as_retriever(search_kwargs={\"k\": 20, \"score_threshold\": 0.75})  \n",
    "callback_manager = CallbackManager([StreamingStdOutCallbackHandler()])\n",
    "\n",
    "llm = ChatOllama(\n",
    "    model=str(\"ko-llama-8B\"),\n",
    "    temperature=0.1,  # 약간의 다양성 부여\n",
    "    base_url=\"http://localhost:11434\",\n",
    "    callback_manager=callback_manager,\n",
    "    retriever=retriever  # retriever를 llm에 직접 설정\n",
    ")\n",
    "\n",
    "# 프롬프트를 더 명확하고 자연스럽게 개선\n",
    "system_template = (\n",
    "    '''\n",
    "    당신은 (주)피씨엔(PCN)의 친절하고 유능한 AI 어시스턴트입니다.\\n\n",
    "    사용자의 질문에 대해 신뢰할 수 있는 정보를 바탕으로 정확하고 간결하게 답변하세요.\\n\n",
    "    주어진 정보를 바탕으로 답변하세요.\\n\n",
    "    **피씨엔**, 또는 **PCN**이라는 정보를 입력받으면 피씨엔(기술), PCN 회사 소개를 답변하세요.\\n\n",
    "    피씨엔, PCN 회사 소개는 아래 내용을 기반으로 답변하세요.\\n\n",
    "    피씨엔(PCN)은 기술 회사로 Bigdata, XR, AI, SI 등 다양한 서비스를 제공합니다.\\n\n",
    "    회사개요, 프로젝트(Project), 주요 솔루션, 조직규모, 주요 고객, 연혁 등 회사 정보를 답변하세요.\\n\n",
    "    프로젝트 설명 시, 프로젝트 이름, 프로젝트 설명, 프로젝트 결과 등을 1~2문장으로 간단하게 답변하세요.\\n\n",
    "    답변에서 회사명은 PCN으로 표기하세요.\\n\n",
    "    '''\n",
    ")\n",
    "human_template = (\n",
    "    \"\"\"\n",
    "    주어진 질문은 사실에 근거하여 답변하세요.\\n\n",
    "    답변은 한글로 작성하세요.\\n\n",
    "    답변은 주어진 질문에 대해 단계별로 논리적으로 생각하여 답변해 주세요.\\n\n",
    "    질문: {question}\n",
    "    \"\"\"\n",
    ")\n",
    "\n",
    "system_message_prompt = SystemMessagePromptTemplate.from_template(system_template)\n",
    "human_message_prompt = HumanMessagePromptTemplate.from_template(human_template)\n",
    "\n",
    "prompt = ChatPromptTemplate.from_messages([system_message_prompt, human_message_prompt])\n",
    "chain = prompt | llm"
   ]
  },
  {
   "cell_type": "code",
   "execution_count": 39,
   "id": "22240a89",
   "metadata": {},
   "outputs": [
    {
     "name": "stdout",
     "output_type": "stream",
     "text": [
      "피씨엔(PCN)은 기술 회사로서 다양한 분야에서 혁신적인 솔루션을 제공하는 기업입니다. 주요 서비스로는 빅데이터, 확장 현실(XR), 인공지능(AI), 시스템 통합(SI) 등이 있습니다.\n",
      "\n",
      "### 회사 개요\n",
      "피씨엔은 cutting-edge 기술을 활용하여 고객의 요구에 맞춘 솔루션을 개발하고 제공합니다. 이를 통해 다양한 산업 분야에서 혁신적인 변화를 이끌고 있습니다.\n",
      "\n",
      "### 프로젝트\n",
      "#### 1. 빅데이터 분석 프로젝트\n",
      "빅데이터를 활용한 데이터 분석 프로젝트는 기업의 데이터를 수집, 정리, 분석하여 유용한 정보를 제공합니다. 이를 통해 고객은 시장 동향을 파악하고, 경쟁 우위를 확보하며, 비즈니스 전략을 최적화할 수 있습니다.\n",
      "\n",
      "#### 2. XR 기반 교육 솔루션\n",
      "피씨엔의 XR 기술을 활용한 교육 솔루션은 현실감 있는 가상 환경을 통해 학생들이 더 효과적으로 학습할 수 있도록 합니다. 이 솔루션은 특히 실습 중심의 과목에서 큰 효과를 보입니다.\n",
      "\n",
      "### 주요 솔루션\n",
      "1. **빅데이터 분석**: 기업 데이터를 분석하여 유용한 정보를 제공합니다.\n",
      "2. **확장 현실(XR)**: 현실감 있는 가상 환경을 통해 교육 및 훈련에 활용됩니다.\n",
      "3. **인공지능(AI)**: AI 기술을 활용하여 자동화된 솔루션을 개발하고 있습니다.\n",
      "4. **시스템 통합(SI)**: 다양한 시스템을 통합하여 효율적인 운영을 지원합니다.\n",
      "\n",
      "### 조직 규모\n",
      "피씨엔은 다양한 분야의 전문가들로 구성된 강력한 팀을 보유하고 있습니다. 기술 개발, 프로젝트 관리, 고객 서비스 등 다양한 부서들이 협력하여 고객에게 최상의 솔루션을 제공합니다.\n",
      "\n",
      "### 주요 고객\n",
      "피씨엔의 주요 고객은 다양한 산업 분야에서 활동하는 기업들입니다. 특히 금융, 제조, 교육, 의료 등 여러 분야에서 우리의 기술과 솔루션이 활용되고 있습니다.\n",
      "\n",
      "### 연혁\n",
      "피씨엔은 2015년에 설립되었으며, 이후 꾸준한 연구 개발과 프로젝트 수행을 통해 성장해 왔습니다. 주요 프로젝트와 파트너십을 통해 글로벌 시장에서의 영향력을 확대하고 있습니다.\n",
      "\n",
      "이와 같이 피씨엔(PCN)은 기술 혁신과 고객 만족을 중시하는 기업으로서, 다양한 분야에서 지속적으로 성장을 이루어내고 있습니다."
     ]
    },
    {
     "data": {
      "text/plain": [
       "AIMessage(content='피씨엔(PCN)은 기술 회사로서 다양한 분야에서 혁신적인 솔루션을 제공하는 기업입니다. 주요 서비스로는 빅데이터, 확장 현실(XR), 인공지능(AI), 시스템 통합(SI) 등이 있습니다.\\n\\n### 회사 개요\\n피씨엔은 cutting-edge 기술을 활용하여 고객의 요구에 맞춘 솔루션을 개발하고 제공합니다. 이를 통해 다양한 산업 분야에서 혁신적인 변화를 이끌고 있습니다.\\n\\n### 프로젝트\\n#### 1. 빅데이터 분석 프로젝트\\n빅데이터를 활용한 데이터 분석 프로젝트는 기업의 데이터를 수집, 정리, 분석하여 유용한 정보를 제공합니다. 이를 통해 고객은 시장 동향을 파악하고, 경쟁 우위를 확보하며, 비즈니스 전략을 최적화할 수 있습니다.\\n\\n#### 2. XR 기반 교육 솔루션\\n피씨엔의 XR 기술을 활용한 교육 솔루션은 현실감 있는 가상 환경을 통해 학생들이 더 효과적으로 학습할 수 있도록 합니다. 이 솔루션은 특히 실습 중심의 과목에서 큰 효과를 보입니다.\\n\\n### 주요 솔루션\\n1. **빅데이터 분석**: 기업 데이터를 분석하여 유용한 정보를 제공합니다.\\n2. **확장 현실(XR)**: 현실감 있는 가상 환경을 통해 교육 및 훈련에 활용됩니다.\\n3. **인공지능(AI)**: AI 기술을 활용하여 자동화된 솔루션을 개발하고 있습니다.\\n4. **시스템 통합(SI)**: 다양한 시스템을 통합하여 효율적인 운영을 지원합니다.\\n\\n### 조직 규모\\n피씨엔은 다양한 분야의 전문가들로 구성된 강력한 팀을 보유하고 있습니다. 기술 개발, 프로젝트 관리, 고객 서비스 등 다양한 부서들이 협력하여 고객에게 최상의 솔루션을 제공합니다.\\n\\n### 주요 고객\\n피씨엔의 주요 고객은 다양한 산업 분야에서 활동하는 기업들입니다. 특히 금융, 제조, 교육, 의료 등 여러 분야에서 우리의 기술과 솔루션이 활용되고 있습니다.\\n\\n### 연혁\\n피씨엔은 2015년에 설립되었으며, 이후 꾸준한 연구 개발과 프로젝트 수행을 통해 성장해 왔습니다. 주요 프로젝트와 파트너십을 통해 글로벌 시장에서의 영향력을 확대하고 있습니다.\\n\\n이와 같이 피씨엔(PCN)은 기술 혁신과 고객 만족을 중시하는 기업으로서, 다양한 분야에서 지속적으로 성장을 이루어내고 있습니다.', additional_kwargs={}, response_metadata={'model': 'ko-llama-8B', 'created_at': '2025-08-01T03:21:46.1553701Z', 'done': True, 'done_reason': 'stop', 'total_duration': 122333268400, 'load_duration': 53404400, 'prompt_eval_count': 280, 'prompt_eval_duration': 444323100, 'eval_count': 557, 'eval_duration': 121834019200, 'model_name': 'ko-llama-8B'}, id='run--089683ff-f677-4fb4-9f3a-7521716b4fc7-0', usage_metadata={'input_tokens': 280, 'output_tokens': 557, 'total_tokens': 837})"
      ]
     },
     "execution_count": 39,
     "metadata": {},
     "output_type": "execute_result"
    }
   ],
   "source": [
    "chain.invoke({\"question\": \"피씨엔 회사 소개\"})"
   ]
  },
  {
   "cell_type": "code",
   "execution_count": null,
   "id": "fb47bc87",
   "metadata": {},
   "outputs": [],
   "source": []
  }
 ],
 "metadata": {
  "kernelspec": {
   "display_name": ".venv_chat",
   "language": "python",
   "name": "python3"
  },
  "language_info": {
   "codemirror_mode": {
    "name": "ipython",
    "version": 3
   },
   "file_extension": ".py",
   "mimetype": "text/x-python",
   "name": "python",
   "nbconvert_exporter": "python",
   "pygments_lexer": "ipython3",
   "version": "3.10.11"
  }
 },
 "nbformat": 4,
 "nbformat_minor": 5
}
