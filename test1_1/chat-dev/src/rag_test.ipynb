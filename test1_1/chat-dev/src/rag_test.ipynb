{
 "cells": [
  {
   "cell_type": "code",
   "execution_count": null,
   "id": "4a08d079",
   "metadata": {},
   "outputs": [],
   "source": [
    "# rag_ollama_chroma.py\n",
    "from langchain_core.prompts import ChatPromptTemplate, SystemMessagePromptTemplate, HumanMessagePromptTemplate\n",
    "from langchain_community.llms import Ollama\n",
    "from langchain_ollama import ChatOllama\n",
    "from langchain_core.callbacks import CallbackManager, StreamingStdOutCallbackHandler\n",
    "from langchain_core.prompts import ChatPromptTemplate\n",
    "from langchain_huggingface import HuggingFaceEmbeddings\n",
    "from langchain_community.vectorstores import FAISS\n",
    "from langchain_core.documents import Document\n",
    "from langchain_core.prompts import ChatPromptTemplate\n",
    "from langchain_core.runnables import RunnablePassthrough\n",
    "from langchain_core.output_parsers import StrOutputParser\n",
    "\n",
    "import os\n",
    "from pathlib import Path"
   ]
  },
  {
   "cell_type": "code",
   "execution_count": null,
   "id": "133ab72f",
   "metadata": {},
   "outputs": [],
   "source": [
    "root_path = Path(os.getcwd()).parent.parent\n",
    "ollama_model = root_path / \"ollama-service\" / \"models\" / \"ko_llama\" / \"llama-3-Korean-Bllossom-8B.Q4_K_M.gguf\"\n",
    "embeddings_path = root_path / \"ollama-service\" / \"models\" / \"BGE-m3-ko\"\n",
    "print(ollama_model)\n",
    "print(embeddings_path)"
   ]
  },
  {
   "cell_type": "code",
   "execution_count": null,
   "id": "13eb094f",
   "metadata": {},
   "outputs": [],
   "source": [
    "# HuggingFace 임베딩 모델 로드 (경로를 문자열로 변환하여 오류 방지)\n",
    "embedding_model = HuggingFaceEmbeddings(\n",
    "    model_name=str(embeddings_path)\n",
    ")\n",
    "# llm = Ollama(model=str(ollama_model))"
   ]
  },
  {
   "cell_type": "code",
   "execution_count": null,
   "id": "af535fbf",
   "metadata": {},
   "outputs": [],
   "source": [
    "vectorstore = FAISS.load_local(\"vector_db/pcn_web\", embedding_model, allow_dangerous_deserialization=True)"
   ]
  },
  {
   "cell_type": "code",
   "execution_count": null,
   "id": "ce4e2ca0",
   "metadata": {},
   "outputs": [],
   "source": [
    "query_embedding = embedding_model.embed_query(\"피씨엔 소개\")\n",
    "\n",
    "# 벡터 유사도 검색 (상위 3개 결과 반환)\n",
    "results = vectorstore.similarity_search_by_vector(query_embedding, k=10)"
   ]
  },
  {
   "cell_type": "code",
   "execution_count": null,
   "id": "56b45131",
   "metadata": {},
   "outputs": [],
   "source": [
    "# 검색기(Retriever) 설정 (개선)\n",
    "retriever = vectorstore.as_retriever(search_kwargs={\"k\": 10})  # 상위 5개 문서 반환하도록 개선\n",
    "callback_manager = CallbackManager([StreamingStdOutCallbackHandler()])\n",
    "\n",
    "llm = ChatOllama(\n",
    "    model=str(\"ko-llama-8B\"),\n",
    "    temperature=0.1,  # 약간의 다양성 부여\n",
    "    base_url=\"http://localhost:11434\",\n",
    "    callback_manager=callback_manager,\n",
    "    retriever=retriever  # retriever를 llm에 직접 설정\n",
    ")\n",
    "\n",
    "# 프롬프트를 더 명확하고 자연스럽게 개선\n",
    "system_template = (\n",
    "    \"당신은 친절하고 유능한 AI 어시스턴트입니다. \"\n",
    "    \"사용자의 질문에 대해 신뢰할 수 있는 정보를 바탕으로 정확하고 간결하게 답변하세요.\"\n",
    ")\n",
    "human_template = (\n",
    "    \"아래의 질문에 대해 단계별로 논리적으로 생각하여 답변해 주세요.\\n\"\n",
    "    \"질문: {question}\"\n",
    ")\n",
    "\n",
    "system_message_prompt = SystemMessagePromptTemplate.from_template(system_template)\n",
    "human_message_prompt = HumanMessagePromptTemplate.from_template(human_template)\n",
    "\n",
    "prompt = ChatPromptTemplate.from_messages([system_message_prompt, human_message_prompt])\n",
    "chain = prompt | llm"
   ]
  },
  {
   "cell_type": "code",
   "execution_count": null,
   "id": "82c13eba",
   "metadata": {},
   "outputs": [],
   "source": [
    "chain.invoke({\"question\": \"피씨엔 소개\"})"
   ]
  },
  {
   "cell_type": "code",
   "execution_count": null,
   "id": "2d5584f7",
   "metadata": {},
   "outputs": [],
   "source": [
    "# 3. 질의 응답 체인 구성\n",
    "# 프롬프트 템플릿 정의\n",
    "# context 변수에는 검색된 문서 내용이 들어갑니다.\n",
    "# question 변수에는 사용자 질문이 들어갑니다.\n",
    "template = \"\"\"다음 맥락을 사용하여 질문에 답하세요:\n",
    "{context}\n",
    "\n",
    "질문: {question}\n",
    "\"\"\"\n",
    "prompt = ChatPromptTemplate.from_template(template)\n",
    "\n",
    "print(\"프롬프트 템플릿 준비 완료.\")\n",
    "\n",
    "# LangChain LCEL(LangChain Expression Language)을 사용하여 체인 구성\n",
    "rag_chain = (\n",
    "    {\"context\": retriever, \"question\": RunnablePassthrough()}\n",
    "    | prompt\n",
    "    | llm\n",
    "    | StrOutputParser()\n",
    ")\n",
    "\n",
    "print(\"RAG 체인 구성 완료. 이제 질문할 수 있습니다!\")\n",
    "\n",
    "# 4. 질의 응답 테스트\n",
    "while True:\n",
    "    user_question = input(\"\\n질문하세요 (종료하려면 'q' 입력): \")\n",
    "    if user_question.lower() == 'q':\n",
    "        print(\"RAG 시스템을 종료합니다.\")\n",
    "        break\n",
    "\n",
    "    print(f\"'{user_question}' 질문에 대한 답변을 생성 중...\")\n",
    "    try:\n",
    "        response = rag_chain.invoke(user_question)\n",
    "        print(\"\\n--- 답변 ---\")\n",
    "        print(response)\n",
    "        print(\"------------\")\n",
    "    except Exception as e:\n",
    "        print(f\"오류 발생: {e}. Ollama 모델이 제대로 실행 중인지 확인하세요.\")"
   ]
  }
 ],
 "metadata": {
  "kernelspec": {
   "display_name": ".venv_chat",
   "language": "python",
   "name": "python3"
  },
  "language_info": {
   "codemirror_mode": {
    "name": "ipython",
    "version": 3
   },
   "file_extension": ".py",
   "mimetype": "text/x-python",
   "name": "python",
   "nbconvert_exporter": "python",
   "pygments_lexer": "ipython3",
   "version": "3.10.11"
  }
 },
 "nbformat": 4,
 "nbformat_minor": 5
}
