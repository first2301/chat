{
 "cells": [
  {
   "cell_type": "code",
   "execution_count": 1,
   "id": "4a08d079",
   "metadata": {},
   "outputs": [],
   "source": [
    "# rag_ollama_chroma.py\n",
    "from langchain_core.prompts import ChatPromptTemplate, SystemMessagePromptTemplate, HumanMessagePromptTemplate\n",
    "from langchain_community.llms import Ollama\n",
    "from langchain_ollama import ChatOllama\n",
    "from langchain_core.callbacks import CallbackManager, StreamingStdOutCallbackHandler\n",
    "from langchain_core.prompts import ChatPromptTemplate\n",
    "from langchain_huggingface import HuggingFaceEmbeddings\n",
    "from langchain_community.vectorstores import FAISS\n",
    "from langchain_core.documents import Document\n",
    "from langchain_core.prompts import ChatPromptTemplate\n",
    "from langchain_core.runnables import RunnablePassthrough\n",
    "from langchain_core.output_parsers import StrOutputParser\n",
    "\n",
    "import os\n",
    "from pathlib import Path"
   ]
  },
  {
   "cell_type": "code",
   "execution_count": 2,
   "id": "133ab72f",
   "metadata": {},
   "outputs": [
    {
     "name": "stdout",
     "output_type": "stream",
     "text": [
      "f:\\project_test\\solutions\\chat\\test1_1\\ollama-service\\models\\ko_llama\\llama-3-Korean-Bllossom-8B.Q4_K_M.gguf\n",
      "f:\\project_test\\solutions\\chat\\test1_1\\ollama-service\\models\\BGE-m3-ko\n"
     ]
    }
   ],
   "source": [
    "root_path = Path(os.getcwd()).parent.parent\n",
    "ollama_model = root_path / \"ollama-service\" / \"models\" / \"ko_llama\" / \"llama-3-Korean-Bllossom-8B.Q4_K_M.gguf\"\n",
    "embeddings_path = root_path / \"ollama-service\" / \"models\" / \"BGE-m3-ko\"\n",
    "print(ollama_model)\n",
    "print(embeddings_path)"
   ]
  },
  {
   "cell_type": "code",
   "execution_count": null,
   "id": "13eb094f",
   "metadata": {},
   "outputs": [],
   "source": [
    "# HuggingFace 임베딩 모델 로드 (경로를 문자열로 변환하여 오류 방지)\n",
    "embedding_model = HuggingFaceEmbeddings(\n",
    "    model_name=str(embeddings_path)\n",
    ")\n",
    "# llm = Ollama(model=str(ollama_model))"
   ]
  },
  {
   "cell_type": "code",
   "execution_count": 4,
   "id": "af535fbf",
   "metadata": {},
   "outputs": [],
   "source": [
    "vectorstore = FAISS.load_local(\"vector_db/pcn_web2\", embedding_model, allow_dangerous_deserialization=True)"
   ]
  },
  {
   "cell_type": "code",
   "execution_count": 5,
   "id": "ce4e2ca0",
   "metadata": {},
   "outputs": [],
   "source": [
    "# query_embedding = embedding_model.embed_query(\"피씨엔 회사 소개\")\n",
    "\n",
    "# # 벡터 유사도 검색 (상위 3개 결과 반환)\n",
    "# results = vectorstore.similarity_search_by_vector(query_embedding, search_kwargs={\"k\": 20, \"score_threshold\": 0.75,})"
   ]
  },
  {
   "cell_type": "code",
   "execution_count": 6,
   "id": "070ad151",
   "metadata": {},
   "outputs": [],
   "source": [
    "# 검색기(Retriever) 설정 (개선)\n",
    "retriever = vectorstore.as_retriever(search_kwargs={\"k\": 20})  # \"score_threshold\": 0.75\n",
    "callback_manager = CallbackManager([StreamingStdOutCallbackHandler()])"
   ]
  },
  {
   "cell_type": "code",
   "execution_count": 7,
   "id": "c8c461b6",
   "metadata": {},
   "outputs": [],
   "source": [
    "# # 벡터서치 결과 예시 출력\n",
    "# from langchain_core.documents import Document\n",
    "\n",
    "# docs = retriever.get_relevant_documents(\"PCN 회사 소개\")\n",
    "# docs"
   ]
  },
  {
   "cell_type": "code",
   "execution_count": 8,
   "id": "56b45131",
   "metadata": {},
   "outputs": [],
   "source": [
    "\n",
    "llm = ChatOllama(\n",
    "    model=str(\"ko-llama-8B\"),\n",
    "    temperature=0.1,  # 약간의 다양성 부여\n",
    "    base_url=\"http://localhost:11434\",\n",
    "    callback_manager=callback_manager,\n",
    "    retriever=retriever  # retriever를 llm에 직접 설정\n",
    ")\n",
    "\n",
    "# 프롬프트를 더 명확하고 자연스럽게 개선\n",
    "system_template = (\n",
    "    '''\n",
    "    당신은 (주)피씨엔(PCN)의 친절하고 유능한 AI 어시스턴트입니다.\\n\n",
    "    사용자의 질문에 대해 신뢰할 수 있는 정보를 바탕으로 정확하고 간결하게 답변하세요.\\n\n",
    "    주어진 정보를 바탕으로 답변하세요.\\n\n",
    "    **피씨엔**, 또는 **PCN**이라는 정보를 입력받으면 피씨엔(기술), PCN 회사 소개를 답변하세요.\\n\n",
    "    피씨엔, PCN 회사 소개는 아래 내용을 기반으로 답변하세요.\\n\n",
    "    피씨엔(PCN)은 기술 회사로 Bigdata, XR, AI, SI 등 다양한 서비스를 제공합니다.\\n\n",
    "    회사개요, 프로젝트(Project), 주요 솔루션, 조직규모, 주요 고객, 연혁 등 회사 정보를 답변하세요.\\n\n",
    "    프로젝트 설명 시, 프로젝트 이름, 프로젝트 설명, 프로젝트 결과 등을 1~2문장으로 간단하게 답변하세요.\\n\n",
    "    답변에서 회사명은 PCN으로 표기하세요.\\n\n",
    "    '''\n",
    ")\n",
    "human_template = (\n",
    "    \"\"\"\n",
    "    주어진 질문은 사실에 근거하여 답변하세요.\\n\n",
    "    답변은 한글로 작성하세요.\\n\n",
    "    답변은 주어진 질문에 대해 단계별로 논리적으로 생각하여 답변해 주세요.\\n\n",
    "    질문: {question}\n",
    "    \"\"\"\n",
    ")\n",
    "\n",
    "system_message_prompt = SystemMessagePromptTemplate.from_template(system_template)\n",
    "human_message_prompt = HumanMessagePromptTemplate.from_template(human_template)\n",
    "\n",
    "prompt = ChatPromptTemplate.from_messages([system_message_prompt, human_message_prompt])\n",
    "chain = prompt | llm"
   ]
  },
  {
   "cell_type": "code",
   "execution_count": 9,
   "id": "22240a89",
   "metadata": {},
   "outputs": [
    {
     "name": "stdout",
     "output_type": "stream",
     "text": [
      "피씨엔(PCN)은 기술 회사로서 다양한 분야에서 혁신적인 솔루션을 제공하는 기업입니다. 주요 서비스로는 빅데이터, 확장 현실(XR), 인공지능(AI), 시스템 통합(SI) 등이 있습니다.\n",
      "\n",
      "### 회사 개요\n",
      "피씨엔은 cutting-edge 기술을 활용하여 고객의 요구에 맞춘 솔루션을 개발하고 제공합니다. 이를 통해 다양한 산업 분야에서 혁신적인 변화를 이끌어내고 있습니다.\n",
      "\n",
      "### 프로젝트\n",
      "피씨엔은 여러 가지 프로젝트를 진행하고 있습니다. 예를 들어, '스마트 시티' 프로젝트는 도시의 효율성을 높이기 위해 빅데이터와 AI 기술을 활용한 솔루션을 제공합니다. 이 프로젝트는 교통 관리, 에너지 효율성, 공공 안전 등 다양한 측면에서 긍정적인 영향을 미쳤습니다.\n",
      "\n",
      "### 주요 솔루션\n",
      "1. **빅데이터 분석**: 대량의 데이터를 효과적으로 분석하여 고객에게 유용한 정보를 제공합니다.\n",
      "2. **확장 현실(XR)**: 가상 현실(VR)과 증강 현실(AR)을 활용하여 교육, 마케팅, 의료 등 다양한 분야에서 혁신적인 경험을 제공합니다.\n",
      "3. **인공지능(AI)**: 머신 러닝 기술을 적용하여 자동화와 예측 분석을 통해 고객의 비즈니스 효율성을 높입니다.\n",
      "4. **시스템 통합(SI)**: IT 인프라를 통합하여 기업의 운영 효율성을 극대화합니다.\n",
      "\n",
      "### 조직 규모\n",
      "피씨엔은 다양한 분야의 전문가들로 구성된 강력한 팀을 보유하고 있습니다. 이를 통해 고객에게 최상의 서비스를 제공할 수 있습니다.\n",
      "\n",
      "### 주요 고객\n",
      "피씨엔의 주요 고객은 다양한 산업 분야에서 활동하는 기업들이며, 특히 금융, 제조, 유통, 교육 등이 포함됩니다.\n",
      "\n",
      "### 연혁\n",
      "피씨엔은 2010년에 설립되었으며, 이후 꾸준히 기술 혁신을 추구하며 성장해왔습니다. 주요 프로젝트와 솔루션의 성공적인 적용으로 인해 글로벌 시장에서도 주목받고 있습니다.\n",
      "\n",
      "이러한 강점과 경험을 바탕으로 피씨엔은 앞으로도 지속적으로 발전하고 고객에게 최상의 서비스를 제공할 것입니다.content=\"피씨엔(PCN)은 기술 회사로서 다양한 분야에서 혁신적인 솔루션을 제공하는 기업입니다. 주요 서비스로는 빅데이터, 확장 현실(XR), 인공지능(AI), 시스템 통합(SI) 등이 있습니다.\\n\\n### 회사 개요\\n피씨엔은 cutting-edge 기술을 활용하여 고객의 요구에 맞춘 솔루션을 개발하고 제공합니다. 이를 통해 다양한 산업 분야에서 혁신적인 변화를 이끌어내고 있습니다.\\n\\n### 프로젝트\\n피씨엔은 여러 가지 프로젝트를 진행하고 있습니다. 예를 들어, '스마트 시티' 프로젝트는 도시의 효율성을 높이기 위해 빅데이터와 AI 기술을 활용한 솔루션을 제공합니다. 이 프로젝트는 교통 관리, 에너지 효율성, 공공 안전 등 다양한 측면에서 긍정적인 영향을 미쳤습니다.\\n\\n### 주요 솔루션\\n1. **빅데이터 분석**: 대량의 데이터를 효과적으로 분석하여 고객에게 유용한 정보를 제공합니다.\\n2. **확장 현실(XR)**: 가상 현실(VR)과 증강 현실(AR)을 활용하여 교육, 마케팅, 의료 등 다양한 분야에서 혁신적인 경험을 제공합니다.\\n3. **인공지능(AI)**: 머신 러닝 기술을 적용하여 자동화와 예측 분석을 통해 고객의 비즈니스 효율성을 높입니다.\\n4. **시스템 통합(SI)**: IT 인프라를 통합하여 기업의 운영 효율성을 극대화합니다.\\n\\n### 조직 규모\\n피씨엔은 다양한 분야의 전문가들로 구성된 강력한 팀을 보유하고 있습니다. 이를 통해 고객에게 최상의 서비스를 제공할 수 있습니다.\\n\\n### 주요 고객\\n피씨엔의 주요 고객은 다양한 산업 분야에서 활동하는 기업들이며, 특히 금융, 제조, 유통, 교육 등이 포함됩니다.\\n\\n### 연혁\\n피씨엔은 2010년에 설립되었으며, 이후 꾸준히 기술 혁신을 추구하며 성장해왔습니다. 주요 프로젝트와 솔루션의 성공적인 적용으로 인해 글로벌 시장에서도 주목받고 있습니다.\\n\\n이러한 강점과 경험을 바탕으로 피씨엔은 앞으로도 지속적으로 발전하고 고객에게 최상의 서비스를 제공할 것입니다.\" additional_kwargs={} response_metadata={'model': 'ko-llama-8B', 'created_at': '2025-08-07T06:58:15.5916443Z', 'done': True, 'done_reason': 'stop', 'total_duration': 164493304400, 'load_duration': 63245200, 'prompt_eval_count': 280, 'prompt_eval_duration': 40399953600, 'eval_count': 518, 'eval_duration': 124017735000, 'model_name': 'ko-llama-8B'} id='run--c04100e5-ffe4-4d06-9ebd-750b9005a477-0' usage_metadata={'input_tokens': 280, 'output_tokens': 518, 'total_tokens': 798}\n"
     ]
    }
   ],
   "source": [
    "result1 = chain.invoke({\"question\": \"피씨엔 회사 소개\"})\n",
    "print(result1)"
   ]
  },
  {
   "cell_type": "code",
   "execution_count": null,
   "id": "9409cf2a",
   "metadata": {},
   "outputs": [],
   "source": []
  },
  {
   "cell_type": "code",
   "execution_count": 11,
   "id": "cfab5e73",
   "metadata": {},
   "outputs": [],
   "source": [
    "from langchain.evaluation.qa import QAEvalChain\n",
    "\n",
    "# 평가용 질문-정답 쌍 예시\n",
    "eval_data = [\n",
    "    {\n",
    "        \"query\": \"PCN의 주요 서비스는 무엇인가요?\",\n",
    "        \"answer\": \"PCN은 빅데이터, XR, AI, SI 등 다양한 기술 서비스를 제공합니다.\"\n",
    "    },\n",
    "    {\n",
    "        \"query\": \"PCN의 설립 연도는 언제인가요?\",\n",
    "        \"answer\": \"PCN은 2015년에 설립되었습니다.\"\n",
    "    },\n",
    "    {\n",
    "        \"query\": \"PCN의 주요 고객은 어떤 산업 분야에 있나요?\",\n",
    "        \"answer\": \"PCN의 주요 고객은 금융, 제조, 유통, 교육 등 다양한 산업 분야에 있습니다.\"\n",
    "    }\n",
    "]\n"
   ]
  },
  {
   "cell_type": "code",
   "execution_count": 12,
   "id": "2b5a22be",
   "metadata": {},
   "outputs": [
    {
     "name": "stdout",
     "output_type": "stream",
     "text": [
      "PCN의 주요 서비스는 다음과 같습니다:\n",
      "\n",
      "1. **Bigdata 서비스**: PCN은 대량 데이터를 수집, 저장, 분석하는 Bigdata 솔루션을 제공합니다. 이를 통해 고객은 데이터 기반 의사결정을 내릴 수 있으며, 비즈니스 운영 효율성을 높일 수 있습니다.\n",
      "\n",
      "2. **XR(Extended Reality) 서비스**: PCN은 가상 현실(VR), 증강 현실(AR), 혼합 현실(MR) 기술을 활용한 XR 솔루션을 제공합니다. 이를 통해 고객은 혁신적인 교육, 마케팅, 엔터테인먼트 경험을 구현할 수 있습니다.\n",
      "\n",
      "3. **AI(Artificial Intelligence) 서비스**: PCN은 인공지능 기술을 활용하여 고객의 비즈니스 프로세스를 자동화하고 최적화하는 AI 솔루션을 제공합니다. 이를 통해 고객은 자원 낭비를 줄이고, 효율성을 높일 수 있습니다.\n",
      "\n",
      "4. **SI(System Integration) 서비스**: PCN은 다양한 시스템을 통합하는 SI 솔루션을 제공하여 고객의 정보시스템 운영 효율성을 극대화합니다. 이를 통해 고객은 종합적인 IT 관리와 유지보수를 받을 수 있습니다.\n",
      "\n",
      "이러한 주요 서비스를 통해 PCN은 다양한 산업 분야에서 고객에게 혁신적인 기술 지원을 제공하고 있습니다.질문 처리 완료: PCN의 주요 서비스는 무엇인가요?...\n",
      "PCN의 설립 연도는 현재 제공된 정보를 바탕으로 확인할 수 없습니다. 제공된 정보에 따르면 피씨엔(PCN)은 Bigdata, XR, AI, SI 등 다양한 서비스를 제공하는 기술 회사입니다. 그러나 PCN의 정확한 설립 연도를 알기 위해서는 추가적인 정보나 공식 문서가 필요합니다.질문 처리 완료: PCN의 설립 연도는 언제인가요?...\n",
      "PCN의 주요 고객은 다양한 산업 분야에서 활동하고 있습니다. 특히, 기술 혁신과 데이터 분석이 중요한 분야에서 많은 수요가 있습니다. 다음은 PCN의 주요 고객이 속한 주요 산업 분야입니다:\n",
      "\n",
      "1. **재무 및 금융**: PCN의 Bigdata 솔루션을 통해 금융 기관들은 거래 데이터를 분석하여 리스크 관리와 투자 전략을 개선합니다.\n",
      "\n",
      "2. **헬스케어**: 의료 데이터를 활용해 환자 치료 계획을 최적화하고, 질병 예측 모델을 개발하는 등 헬스케어 분야에서도 활발한 활동이 이루어지고 있습니다.\n",
      "\n",
      "3. **소비재 및 유통**: 소매업계에서는 고객 구매 패턴 분석과 마케팅 전략 수립에 PCN의 AI 기술이 활용됩니다.\n",
      "\n",
      "4. **자동차 및 로봇공학**: XR(XR) 기술을 통해 차량 디자인과 테스트 프로세스를 혁신하고, 로봇 제조 공정에서의 생산 효율성을 높입니다.\n",
      "\n",
      "5. **교육**: 온라인 교육 플랫폼에서 XR 기술을 활용해 몰입형 학습 환경을 제공하여 학생들의 학습 효과를 극대화합니다.\n",
      "\n",
      "이러한 산업 분야에서 PCN의 솔루션은 고객들에게 실질적인 가치를 제공하고 있습니다.질문 처리 완료: PCN의 주요 고객은 어떤 산업 분야에 있나요?...\n",
      "eval_data 길이: 3\n",
      "predictions 길이: 3\n",
      "predictions_dict 길이: 3\n",
      "GRADE: CORRECTGRADE: INCORRECTGRADE: CORRECT질문 1: PCN의 주요 서비스는 무엇인가요?\n",
      "정답: PCN은 빅데이터, XR, AI, SI 등 다양한 기술 서비스를 제공합니다.\n",
      "모델 답변: content='PCN의 주요 서비스는 다음과 같습니다:\\n\\n1. **Bigdata 서비스**: PCN은 대량 데이터를 수집, 저장, 분석하는 Bigdata 솔루션을 제공합니다. 이를 통해 고객은 데이터 기반 의사결정을 내릴 수 있으며, 비즈니스 운영 효율성을 높일 수 있습니다.\\n\\n2. **XR(Extended Reality) 서비스**: PCN은 가상 현실(VR), 증강 현실(AR), 혼합 현실(MR) 기술을 활용한 XR 솔루션을 제공합니다. 이를 통해 고객은 혁신적인 교육, 마케팅, 엔터테인먼트 경험을 구현할 수 있습니다.\\n\\n3. **AI(Artificial Intelligence) 서비스**: PCN은 인공지능 기술을 활용하여 고객의 비즈니스 프로세스를 자동화하고 최적화하는 AI 솔루션을 제공합니다. 이를 통해 고객은 자원 낭비를 줄이고, 효율성을 높일 수 있습니다.\\n\\n4. **SI(System Integration) 서비스**: PCN은 다양한 시스템을 통합하는 SI 솔루션을 제공하여 고객의 정보시스템 운영 효율성을 극대화합니다. 이를 통해 고객은 종합적인 IT 관리와 유지보수를 받을 수 있습니다.\\n\\n이러한 주요 서비스를 통해 PCN은 다양한 산업 분야에서 고객에게 혁신적인 기술 지원을 제공하고 있습니다.' additional_kwargs={} response_metadata={'model': 'ko-llama-8B', 'created_at': '2025-08-07T05:27:27.7310621Z', 'done': True, 'done_reason': 'stop', 'total_duration': 74842321500, 'load_duration': 67788200, 'prompt_eval_count': 284, 'prompt_eval_duration': 2539088800, 'eval_count': 288, 'eval_duration': 72232078200, 'model_name': 'ko-llama-8B'} id='run--acdb0b97-26d6-49c1-a760-24f1b7dbfefa-0' usage_metadata={'input_tokens': 284, 'output_tokens': 288, 'total_tokens': 572}\n",
      "평가 결과: GRADE: CORRECT\n",
      "--------------------------------------------------\n",
      "질문 2: PCN의 설립 연도는 언제인가요?\n",
      "정답: PCN은 2015년에 설립되었습니다.\n",
      "모델 답변: content='PCN의 설립 연도는 현재 제공된 정보를 바탕으로 확인할 수 없습니다. 제공된 정보에 따르면 피씨엔(PCN)은 Bigdata, XR, AI, SI 등 다양한 서비스를 제공하는 기술 회사입니다. 그러나 PCN의 정확한 설립 연도를 알기 위해서는 추가적인 정보나 공식 문서가 필요합니다.' additional_kwargs={} response_metadata={'model': 'ko-llama-8B', 'created_at': '2025-08-07T05:27:48.3165195Z', 'done': True, 'done_reason': 'stop', 'total_duration': 20581426600, 'load_duration': 72158500, 'prompt_eval_count': 286, 'prompt_eval_duration': 2271439900, 'eval_count': 77, 'eval_duration': 18234533500, 'model_name': 'ko-llama-8B'} id='run--c2df4593-4bcc-44b5-a8a6-f83250ec9eaa-0' usage_metadata={'input_tokens': 286, 'output_tokens': 77, 'total_tokens': 363}\n",
      "평가 결과: GRADE: INCORRECT\n",
      "--------------------------------------------------\n",
      "질문 3: PCN의 주요 고객은 어떤 산업 분야에 있나요?\n",
      "정답: PCN의 주요 고객은 금융, 제조, 유통, 교육 등 다양한 산업 분야에 있습니다.\n",
      "모델 답변: content='PCN의 주요 고객은 다양한 산업 분야에서 활동하고 있습니다. 특히, 기술 혁신과 데이터 분석이 중요한 분야에서 많은 수요가 있습니다. 다음은 PCN의 주요 고객이 속한 주요 산업 분야입니다:\\n\\n1. **재무 및 금융**: PCN의 Bigdata 솔루션을 통해 금융 기관들은 거래 데이터를 분석하여 리스크 관리와 투자 전략을 개선합니다.\\n\\n2. **헬스케어**: 의료 데이터를 활용해 환자 치료 계획을 최적화하고, 질병 예측 모델을 개발하는 등 헬스케어 분야에서도 활발한 활동이 이루어지고 있습니다.\\n\\n3. **소비재 및 유통**: 소매업계에서는 고객 구매 패턴 분석과 마케팅 전략 수립에 PCN의 AI 기술이 활용됩니다.\\n\\n4. **자동차 및 로봇공학**: XR(XR) 기술을 통해 차량 디자인과 테스트 프로세스를 혁신하고, 로봇 제조 공정에서의 생산 효율성을 높입니다.\\n\\n5. **교육**: 온라인 교육 플랫폼에서 XR 기술을 활용해 몰입형 학습 환경을 제공하여 학생들의 학습 효과를 극대화합니다.\\n\\n이러한 산업 분야에서 PCN의 솔루션은 고객들에게 실질적인 가치를 제공하고 있습니다.' additional_kwargs={} response_metadata={'model': 'ko-llama-8B', 'created_at': '2025-08-07T05:29:00.6126524Z', 'done': True, 'done_reason': 'stop', 'total_duration': 72292631100, 'load_duration': 71076200, 'prompt_eval_count': 287, 'prompt_eval_duration': 2468906200, 'eval_count': 291, 'eval_duration': 69748615900, 'model_name': 'ko-llama-8B'} id='run--df2d34b9-cadb-42e7-b120-69760ebf79af-0' usage_metadata={'input_tokens': 287, 'output_tokens': 291, 'total_tokens': 578}\n",
      "평가 결과: GRADE: CORRECT\n",
      "--------------------------------------------------\n"
     ]
    }
   ],
   "source": [
    "# Cell 11: 예측 생성 및 평가\n",
    "# 체인에 질문을 넣어 답변 생성\n",
    "predictions = []\n",
    "for item in eval_data:\n",
    "    try:\n",
    "        result = chain.invoke({\"question\": item[\"query\"]})\n",
    "        predictions.append(str(result))\n",
    "        print(f\"질문 처리 완료: {item['query'][:30]}...\")\n",
    "    except Exception as e:\n",
    "        print(f\"질문 처리 실패: {item['query']} - 에러: {e}\")\n",
    "        predictions.append(\"\")  # 빈 문자열로 채움\n",
    "\n",
    "# 길이 확인\n",
    "print(f\"eval_data 길이: {len(eval_data)}\")\n",
    "print(f\"predictions 길이: {len(predictions)}\")\n",
    "\n",
    "# predictions를 딕셔너리 형태로 변경\n",
    "predictions_dict = []\n",
    "for pred in predictions:\n",
    "    predictions_dict.append({\"result\": pred})\n",
    "\n",
    "print(f\"predictions_dict 길이: {len(predictions_dict)}\")\n",
    "\n",
    "# 평가 체인 준비\n",
    "eval_chain = QAEvalChain.from_llm(llm=llm)\n",
    "\n",
    "# 평가 실행\n",
    "graded_outputs = eval_chain.evaluate(\n",
    "    examples=eval_data,\n",
    "    predictions=predictions_dict,\n",
    "    question_key=\"query\",\n",
    "    answer_key=\"answer\"\n",
    ")\n",
    "\n",
    "# 평가 결과 출력\n",
    "for i, (item, pred, grade) in enumerate(zip(eval_data, predictions, graded_outputs)):\n",
    "    print(f\"질문 {i+1}: {item['query']}\")\n",
    "    print(f\"정답: {item['answer']}\")\n",
    "    print(f\"모델 답변: {pred}\")\n",
    "    print(f\"평가 결과: {grade['results'] if 'results' in grade else grade}\")\n",
    "    print(\"-\" * 50)"
   ]
  },
  {
   "cell_type": "code",
   "execution_count": 13,
   "id": "6bea7a25",
   "metadata": {},
   "outputs": [
    {
     "name": "stdout",
     "output_type": "stream",
     "text": [
      "질문 1: PCN의 주요 서비스는 무엇인가요?\n",
      "정답: PCN은 빅데이터, XR, AI, SI 등 다양한 기술 서비스를 제공합니다.\n",
      "모델 답변: content='PCN의 주요 서비스는 다음과 같습니다:\\n\\n1. **Bigdata 서비스**: PCN은 대량 데이터를 수집, 저장, 분석하는 Bigdata 솔루션을 제공합니다. 이를 통해 고객은 데이터 기반 의사결정을 내릴 수 있으며, 비즈니스 운영 효율성을 높일 수 있습니다.\\n\\n2. **XR(Extended Reality) 서비스**: PCN은 가상 현실(VR), 증강 현실(AR), 혼합 현실(MR) 기술을 활용한 XR 솔루션을 제공합니다. 이를 통해 고객은 혁신적인 교육, 마케팅, 엔터테인먼트 경험을 구현할 수 있습니다.\\n\\n3. **AI(Artificial Intelligence) 서비스**: PCN은 인공지능 기술을 활용하여 고객의 비즈니스 프로세스를 자동화하고 최적화하는 AI 솔루션을 제공합니다. 이를 통해 고객은 자원 낭비를 줄이고, 효율성을 높일 수 있습니다.\\n\\n4. **SI(System Integration) 서비스**: PCN은 다양한 시스템을 통합하는 SI 솔루션을 제공하여 고객의 정보시스템 운영 효율성을 극대화합니다. 이를 통해 고객은 종합적인 IT 관리와 유지보수를 받을 수 있습니다.\\n\\n이러한 주요 서비스를 통해 PCN은 다양한 산업 분야에서 고객에게 혁신적인 기술 지원을 제공하고 있습니다.' additional_kwargs={} response_metadata={'model': 'ko-llama-8B', 'created_at': '2025-08-07T05:27:27.7310621Z', 'done': True, 'done_reason': 'stop', 'total_duration': 74842321500, 'load_duration': 67788200, 'prompt_eval_count': 284, 'prompt_eval_duration': 2539088800, 'eval_count': 288, 'eval_duration': 72232078200, 'model_name': 'ko-llama-8B'} id='run--acdb0b97-26d6-49c1-a760-24f1b7dbfefa-0' usage_metadata={'input_tokens': 284, 'output_tokens': 288, 'total_tokens': 572}\n",
      "유사도: 0.60\n",
      "--------------------------------------------------\n",
      "질문 2: PCN의 설립 연도는 언제인가요?\n",
      "정답: PCN은 2015년에 설립되었습니다.\n",
      "모델 답변: content='PCN의 설립 연도는 현재 제공된 정보를 바탕으로 확인할 수 없습니다. 제공된 정보에 따르면 피씨엔(PCN)은 Bigdata, XR, AI, SI 등 다양한 서비스를 제공하는 기술 회사입니다. 그러나 PCN의 정확한 설립 연도를 알기 위해서는 추가적인 정보나 공식 문서가 필요합니다.' additional_kwargs={} response_metadata={'model': 'ko-llama-8B', 'created_at': '2025-08-07T05:27:48.3165195Z', 'done': True, 'done_reason': 'stop', 'total_duration': 20581426600, 'load_duration': 72158500, 'prompt_eval_count': 286, 'prompt_eval_duration': 2271439900, 'eval_count': 77, 'eval_duration': 18234533500, 'model_name': 'ko-llama-8B'} id='run--c2df4593-4bcc-44b5-a8a6-f83250ec9eaa-0' usage_metadata={'input_tokens': 286, 'output_tokens': 77, 'total_tokens': 363}\n",
      "유사도: 0.00\n",
      "--------------------------------------------------\n",
      "질문 3: PCN의 주요 고객은 어떤 산업 분야에 있나요?\n",
      "정답: PCN의 주요 고객은 금융, 제조, 유통, 교육 등 다양한 산업 분야에 있습니다.\n",
      "모델 답변: content='PCN의 주요 고객은 다양한 산업 분야에서 활동하고 있습니다. 특히, 기술 혁신과 데이터 분석이 중요한 분야에서 많은 수요가 있습니다. 다음은 PCN의 주요 고객이 속한 주요 산업 분야입니다:\\n\\n1. **재무 및 금융**: PCN의 Bigdata 솔루션을 통해 금융 기관들은 거래 데이터를 분석하여 리스크 관리와 투자 전략을 개선합니다.\\n\\n2. **헬스케어**: 의료 데이터를 활용해 환자 치료 계획을 최적화하고, 질병 예측 모델을 개발하는 등 헬스케어 분야에서도 활발한 활동이 이루어지고 있습니다.\\n\\n3. **소비재 및 유통**: 소매업계에서는 고객 구매 패턴 분석과 마케팅 전략 수립에 PCN의 AI 기술이 활용됩니다.\\n\\n4. **자동차 및 로봇공학**: XR(XR) 기술을 통해 차량 디자인과 테스트 프로세스를 혁신하고, 로봇 제조 공정에서의 생산 효율성을 높입니다.\\n\\n5. **교육**: 온라인 교육 플랫폼에서 XR 기술을 활용해 몰입형 학습 환경을 제공하여 학생들의 학습 효과를 극대화합니다.\\n\\n이러한 산업 분야에서 PCN의 솔루션은 고객들에게 실질적인 가치를 제공하고 있습니다.' additional_kwargs={} response_metadata={'model': 'ko-llama-8B', 'created_at': '2025-08-07T05:29:00.6126524Z', 'done': True, 'done_reason': 'stop', 'total_duration': 72292631100, 'load_duration': 71076200, 'prompt_eval_count': 287, 'prompt_eval_duration': 2468906200, 'eval_count': 291, 'eval_duration': 69748615900, 'model_name': 'ko-llama-8B'} id='run--df2d34b9-cadb-42e7-b120-69760ebf79af-0' usage_metadata={'input_tokens': 287, 'output_tokens': 291, 'total_tokens': 578}\n",
      "유사도: 0.67\n",
      "--------------------------------------------------\n"
     ]
    }
   ],
   "source": [
    "# 간단한 평가 (QAEvalChain 대신 직접 비교)\n",
    "for i, (item, pred) in enumerate(zip(eval_data, predictions)):\n",
    "    print(f\"질문 {i+1}: {item['query']}\")\n",
    "    print(f\"정답: {item['answer']}\")\n",
    "    print(f\"모델 답변: {pred}\")\n",
    "    \n",
    "    # 간단한 유사도 체크\n",
    "    answer_words = set(item['answer'].lower().split())\n",
    "    pred_words = set(pred.lower().split())\n",
    "    common_words = answer_words.intersection(pred_words)\n",
    "    similarity = len(common_words) / len(answer_words) if answer_words else 0\n",
    "    \n",
    "    print(f\"유사도: {similarity:.2f}\")\n",
    "    print(\"-\" * 50)"
   ]
  },
  {
   "cell_type": "code",
   "execution_count": 14,
   "id": "499c74cb",
   "metadata": {},
   "outputs": [
    {
     "name": "stdout",
     "output_type": "stream",
     "text": [
      "=== 주요 성능지표 기반 RAG 평가 결과 (evaluate 사용) ===\n",
      "정확도(Accuracy): 0.00\n",
      "정밀도(Precision): 0.00\n",
      "재현율(Recall): 0.00\n",
      "F1 점수(F1 Score): 0.00\n"
     ]
    },
    {
     "name": "stderr",
     "output_type": "stream",
     "text": [
      "f:\\project_test\\solutions\\chat\\.venv_chat\\lib\\site-packages\\sklearn\\metrics\\_classification.py:1731: UndefinedMetricWarning: Precision is ill-defined and being set to 0.0 due to no predicted samples. Use `zero_division` parameter to control this behavior.\n",
      "  _warn_prf(average, modifier, f\"{metric.capitalize()} is\", result.shape[0])\n"
     ]
    }
   ],
   "source": [
    "import evaluate\n",
    "\n",
    "# 정답과 예측이 완전히 일치하면 1, 아니면 0으로 처리\n",
    "references = []\n",
    "preds = []\n",
    "\n",
    "for item, pred in zip(eval_data, predictions):\n",
    "    if item[\"answer\"].strip() == pred.strip():\n",
    "        references.append(1)\n",
    "        preds.append(1)\n",
    "    else:\n",
    "        references.append(1)\n",
    "        preds.append(0)\n",
    "\n",
    "accuracy_metric = evaluate.load(\"accuracy\")\n",
    "precision_metric = evaluate.load(\"precision\")\n",
    "recall_metric = evaluate.load(\"recall\")\n",
    "f1_metric = evaluate.load(\"f1\")\n",
    "\n",
    "# evaluate 라이브러리는 zero_division 매개변수를 지원하지 않으므로 제거\n",
    "accuracy = accuracy_metric.compute(references=references, predictions=preds)\n",
    "precision = precision_metric.compute(references=references, predictions=preds, average=\"binary\")\n",
    "recall = recall_metric.compute(references=references, predictions=preds, average=\"binary\")\n",
    "f1 = f1_metric.compute(references=references, predictions=preds, average=\"binary\")\n",
    "\n",
    "print(\"=== 주요 성능지표 기반 RAG 평가 결과 (evaluate 사용) ===\")\n",
    "print(f\"정확도(Accuracy): {accuracy['accuracy']:.2f}\")\n",
    "print(f\"정밀도(Precision): {precision['precision']:.2f}\")\n",
    "print(f\"재현율(Recall): {recall['recall']:.2f}\")\n",
    "print(f\"F1 점수(F1 Score): {f1['f1']:.2f}\")"
   ]
  },
  {
   "cell_type": "code",
   "execution_count": null,
   "id": "8ae8687f",
   "metadata": {},
   "outputs": [
    {
     "name": "stdout",
     "output_type": "stream",
     "text": [
      "=== 주요 성능지표 기반 RAG 평가 결과 (evaluate 사용) ===\n",
      "정확도(Accuracy): 0.00\n",
      "정밀도(Precision): 0.00\n",
      "재현율(Recall): 0.00\n",
      "F1 점수(F1 Score): 0.00\n"
     ]
    },
    {
     "name": "stderr",
     "output_type": "stream",
     "text": [
      "f:\\project_test\\solutions\\chat\\.venv_chat\\lib\\site-packages\\sklearn\\metrics\\_classification.py:1731: UndefinedMetricWarning: Precision is ill-defined and being set to 0.0 due to no predicted samples. Use `zero_division` parameter to control this behavior.\n",
      "  _warn_prf(average, modifier, f\"{metric.capitalize()} is\", result.shape[0])\n"
     ]
    }
   ],
   "source": [
    "import evaluate\n",
    "\n",
    "# 정답과 예측이 완전히 일치하면 1, 아니면 0으로 처리\n",
    "references = []\n",
    "preds = []\n",
    "\n",
    "for item, pred in zip(eval_data, predictions):\n",
    "    if item[\"answer\"].strip() == pred.strip():\n",
    "        references.append(1)\n",
    "        preds.append(1)\n",
    "    else:\n",
    "        references.append(1)\n",
    "        preds.append(0)\n",
    "\n",
    "accuracy_metric = evaluate.load(\"accuracy\")\n",
    "precision_metric = evaluate.load(\"precision\")\n",
    "recall_metric = evaluate.load(\"recall\")\n",
    "f1_metric = evaluate.load(\"f1\")\n",
    "\n",
    "# evaluate 라이브러리는 zero_division 매개변수를 지원하지 않으므로 제거\n",
    "accuracy = accuracy_metric.compute(references=references, predictions=preds)\n",
    "precision = precision_metric.compute(references=references, predictions=preds, average=\"binary\")\n",
    "recall = recall_metric.compute(references=references, predictions=preds, average=\"binary\")\n",
    "f1 = f1_metric.compute(references=references, predictions=preds, average=\"binary\")\n",
    "\n",
    "print(\"=== 주요 성능지표 기반 RAG 평가 결과 (evaluate 사용) ===\")\n",
    "print(f\"정확도(Accuracy): {accuracy['accuracy']:.2f}\")\n",
    "print(f\"정밀도(Precision): {precision['precision']:.2f}\")\n",
    "print(f\"재현율(Recall): {recall['recall']:.2f}\")\n",
    "print(f\"F1 점수(F1 Score): {f1['f1']:.2f}\")"
   ]
  },
  {
   "cell_type": "code",
   "execution_count": 16,
   "id": "b696a56f",
   "metadata": {},
   "outputs": [
    {
     "data": {
      "text/plain": [
       "str"
      ]
     },
     "execution_count": 16,
     "metadata": {},
     "output_type": "execute_result"
    }
   ],
   "source": [
    "type(result1.content)"
   ]
  },
  {
   "cell_type": "code",
   "execution_count": 18,
   "id": "4a137923",
   "metadata": {},
   "outputs": [],
   "source": [
    "result_text = result1.content"
   ]
  },
  {
   "cell_type": "code",
   "execution_count": 19,
   "id": "216b531b",
   "metadata": {},
   "outputs": [],
   "source": [
    "reference=\"피씨엔(PCN)은 기술 회사로 Bigdata, XR, AI, SI 등 다양한 서비스를 제공합니다.\""
   ]
  },
  {
   "cell_type": "code",
   "execution_count": 21,
   "id": "7ada35b2",
   "metadata": {},
   "outputs": [],
   "source": [
    "\n",
    "from langchain.chains import RetrievalQA\n",
    "\n",
    "def rag_pipeline(input):\n",
    "    # Extract retrieval context\n",
    "    retrieved_docs = retriever.get_relevant_documents(input)\n",
    "    context_texts = [doc.page_content for doc in retrieved_docs]\n",
    "\n",
    "    # Generate response\n",
    "    qa_chain = RetrievalQA.from_chain_type(\n",
    "        llm=llm,\n",
    "        chain_type=\"stuff\",\n",
    "        retriever=retriever,\n",
    "        return_source_documents=True\n",
    "    )\n",
    "    result = qa_chain.invoke({\"query\": input})\n",
    "    return result[\"result\"], context_texts"
   ]
  },
  {
   "cell_type": "code",
   "execution_count": 23,
   "id": "903d9432",
   "metadata": {},
   "outputs": [
    {
     "name": "stderr",
     "output_type": "stream",
     "text": [
      "f:\\project_test\\solutions\\chat\\.venv_chat\\lib\\site-packages\\torch\\nn\\modules\\module.py:1762: FutureWarning: `encoder_attention_mask` is deprecated and will be removed in version 4.55.0 for `XLMRobertaSdpaSelfAttention.forward`.\n",
      "  return forward_call(*args, **kwargs)\n",
      "f:\\project_test\\solutions\\chat\\.venv_chat\\lib\\site-packages\\torch\\nn\\modules\\module.py:1762: FutureWarning: `encoder_attention_mask` is deprecated and will be removed in version 4.55.0 for `XLMRobertaSdpaSelfAttention.forward`.\n",
      "  return forward_call(*args, **kwargs)\n"
     ]
    },
    {
     "name": "stdout",
     "output_type": "stream",
     "text": [
      "죄송하지만, 저는 특정 회사의 정보를 제공할 수 없습니다. 하지만 일반적인 피씨엔(PCIe) 인터페이스에 대해 설명해 드릴 수 있습니다.\n",
      "\n",
      "PCIe (Peripheral Component Interconnect Express)는 컴퓨터 하드웨어에서 데이터 전송을 위한 고속 인터페이스입니다. PCIe는 PCI (Peripheral Component Interconnect) 인터페이스의 후속 기술로, 더 빠른 속도와 더 많은 대역폭을 제공합니다. PCIe는 주로 그래픽 카드, 네트워크 카드, 저장 장치(예: SSD), 사운드 카드 등 다양한 외장 장치를 연결하는 데 사용됩니다.\n",
      "\n",
      "PCIe 인터페이스는 여러 종류가 있으며, 그 중 가장 널리 사용되는 것은 다음과 같습니다:\n",
      "\n",
      "1. **PCIe x1**: 가장 기본적인 형태로, 하나의 lane을 사용합니다.\n",
      "2. **PCIe x4**: 네 개의 lane을 사용하여 더 빠른 데이터 전송이 가능합니다.\n",
      "3. **PCIe x8**: 여덟 개의 lane을 사용하여 가장 높은 대역폭을 제공합니다.\n",
      "4. **PCIe x16**: 주로 그래픽 카드에 사용되며, 넓은 bandwidth를 필요로 합니다.\n",
      "\n",
      "PCIe는 슬롯 형태로 제공되며, 컴퓨터 메인보드에 설치됩니다. 각 슬롯에는 특정한 전압과 데이터 신호가 제공되어, 장치를 연결하고 데이터를 주고받을 수 있도록 합니다.\n",
      "\n",
      "이와 같이 PCIe 인터페이스는 현대 컴퓨터 시스템에서 중요한 역할을 하며, 다양한 외장 장치의 빠른 데이터 전송을 가능하게 합니다."
     ]
    }
   ],
   "source": [
    "from deepeval.test_case import LLMTestCase\n",
    "\n",
    "input = '피씨엔 회사에 대해 소개해 주세요.'\n",
    "actual_output, retrieved_contexts = rag_pipeline(input)\n",
    "\n",
    "test_case = LLMTestCase(\n",
    "    input=input,\n",
    "    actual_output=actual_output,\n",
    "    retrieval_context=retrieved_contexts,\n",
    "    expected_output='피씨엔은 디지털 환경에서 고객 비즈니스 성공을 지원하는 Digital Value Service 기업입니다.'\n",
    ")"
   ]
  },
  {
   "cell_type": "code",
   "execution_count": 3,
   "id": "eec7c713",
   "metadata": {},
   "outputs": [],
   "source": [
    "import pytest\n",
    "from deepeval import assert_test\n",
    "from deepeval.dataset import EvaluationDataset, Golden\n",
    "from deepeval.metrics import AnswerRelevancyMetric\n",
    "from deepeval.test_case import LLMTestCase\n",
    "\n",
    "dataset = EvaluationDataset(goldens=[Golden(input=\"피씨엔 회사에 대해 소개해 주세요\")])\n"
   ]
  },
  {
   "cell_type": "code",
   "execution_count": 13,
   "id": "b00c80ba",
   "metadata": {},
   "outputs": [],
   "source": [
    "@pytest.mark.parametrize(\n",
    "    \"test_case\",\n",
    "    dataset,\n",
    ")\n",
    "def test_customer_chatbot(test_case: LLMTestCase):\n",
    "    answer_relevancy_metric = AnswerRelevancyMetric(threshold=0.5)\n",
    "    assert_test(test_case, [answer_relevancy_metric])"
   ]
  },
  {
   "cell_type": "code",
   "execution_count": 14,
   "id": "8f22deff",
   "metadata": {},
   "outputs": [
    {
     "name": "stdout",
     "output_type": "stream",
     "text": [
      "피씨엔(PCN)은 기술 회사로서 다양한 분야에서 혁신적인 솔루션을 제공하는 기업입니다. 주요 서비스로는 빅데이터, 확장 현실(XR), 인공지능(AI), 시스템 통합(SI) 등이 있습니다.\n",
      "\n",
      "### 회사 개요\n",
      "피씨엔은 cutting-edge 기술을 활용하여 고객의 요구에 맞춘 솔루션을 개발하고 제공합니다. 이를 통해 다양한 산업 분야에서 효율성을 높이고 혁신적인 변화를 이끌어냅니다.\n",
      "\n",
      "### 주요 프로젝트\n",
      "- **프로젝트 이름: Smart City Solution**\n",
      "  - **프로젝트 설명:** 피씨엔은 스마트 시티 프로젝트를 통해 도시의 자원 관리, 교통 시스템, 에너지 효율성을 개선하는 솔루션을 개발했습니다.\n",
      "  - **프로젝트 결과:** 이 프로젝트는 도시에 대한 데이터 분석과 예측 모델링을 통해 자원의 효율적인 사용을 가능하게 하였으며, 이는 도시의 환경 보호와 주민들의 삶의 질 향상에 기여했습니다.\n",
      "\n",
      "### 주요 솔루션\n",
      "- 빅데이터: 대량의 데이터를 수집하고 분석하여 고객에게 유용한 정보를 제공합니다.\n",
      "- 확장 현실(XR): 가상과 증강 현실 기술을 활용하여 교육, 의료, 엔터테인먼트 분야에서의 혁신적인 경험을 제공합니다.\n",
      "- 인공지능(AI): 머신 러닝과 딥러닝 알고리즘을 적용하여 자동화와 예측 분석을 지원합니다.\n",
      "- 시스템 통합(SI): 다양한 시스템을 통합하여 효율적인 운영과 관리를 가능하게 합니다.\n",
      "\n",
      "### 조직 규모\n",
      "피씨엔은 기술 전문가, 데이터 과학자, 개발자 등 다양한 분야의 전문 인력을 보유하고 있습니다. 이를 통해 고객에게 최상의 서비스를 제공할 수 있도록 노력합니다.\n",
      "\n",
      "### 주요 고객\n",
      "피씨엔의 주요 고객은 다양한 산업 분야에서 활동하는 기업들입니다. 예를 들어, 제조업, 금융, 교육, 의료 등이 있으며, 이들은 피씨엔의 솔루션을 통해 경쟁력을 강화하고 혁신적인 변화를 추구합니다.\n",
      "\n",
      "### 연혁\n",
      "피씨엔은 2015년에 설립되었으며, 이후 다양한 프로젝트와 파트너십을 통해 기술적 성장을 이루어왔습니다. 2020년에는 AI 분야에서 세계적으로 인정받는 솔루션을 개발하여 큰 성공을 거두었습니다.\n",
      "\n",
      "이와 같이 피씨엔(PCN)은 cutting-edge 기술과 혁신적인 접근 방식을 바탕으로 다양한 산업 분야에서 고객에게 가치를 제공하는 기업입니다."
     ]
    }
   ],
   "source": [
    "for golden in dataset.goldens:\n",
    "    test_case = LLMTestCase(\n",
    "        input=golden.input,\n",
    "        actual_output=chain.invoke({\"question\": golden.input})\n",
    "    )\n",
    "    dataset.add_test_case(test_case)"
   ]
  },
  {
   "cell_type": "code",
   "execution_count": 10,
   "id": "bc3a87eb",
   "metadata": {},
   "outputs": [],
   "source": [
    "from deepeval.models import OllamaModel\n",
    "from deepeval.metrics import AnswerRelevancyMetric\n",
    "from deepeval.test_case import LLMTestCase\n",
    "from deepeval.metrics import (\n",
    "    ContextualRelevancyMetric,\n",
    "    ContextualRecallMetric,\n",
    "    ContextualPrecisionMetric,\n",
    ")\n",
    "\n",
    "ollama_llm = OllamaModel(\n",
    "    # 모델 이름, 베이스 URL, 온도(temperature) 설정\n",
    "    # temperature는 생성되는 답변의 다양성(랜덤성)을 조절합니다. 0에 가까울수록 일관된 답변을, 1에 가까울수록 다양한 답변을 생성합니다.\n",
    "    model=str(\"ko-llama-8B\"),\n",
    "    base_url=\"http://localhost:11434\",\n",
    "    temperature=0\n",
    ")\n",
    "\n",
    "\n",
    "relevancy = ContextualRelevancyMetric(model=ollama_llm)\n",
    "recall = ContextualRecallMetric(model=ollama_llm)\n",
    "precision = ContextualPrecisionMetric(model=ollama_llm)\n",
    "answer_relevancy = AnswerRelevancyMetric(model=ollama_llm)"
   ]
  },
  {
   "cell_type": "code",
   "execution_count": 11,
   "id": "ca118427",
   "metadata": {},
   "outputs": [
    {
     "name": "stderr",
     "output_type": "stream",
     "text": [
      "C:\\Users\\PCN\\AppData\\Local\\Temp\\ipykernel_17852\\4164084339.py:1: LangChainDeprecationWarning: The method `BaseRetriever.get_relevant_documents` was deprecated in langchain-core 0.1.46 and will be removed in 1.0. Use :meth:`~invoke` instead.\n",
      "  retrieval_context = retriever.get_relevant_documents(\"피씨엔 회사 소개\")\n",
      "f:\\project_test\\solutions\\chat\\.venv_chat\\lib\\site-packages\\torch\\nn\\modules\\module.py:1762: FutureWarning: `encoder_attention_mask` is deprecated and will be removed in version 4.55.0 for `XLMRobertaSdpaSelfAttention.forward`.\n",
      "  return forward_call(*args, **kwargs)\n"
     ]
    }
   ],
   "source": [
    "retrieval_context = retriever.get_relevant_documents(\"피씨엔 회사 소개\")"
   ]
  },
  {
   "cell_type": "code",
   "execution_count": 12,
   "id": "bc284645",
   "metadata": {},
   "outputs": [],
   "source": [
    "doc_lis = [doc.page_content for doc in retrieval_context]"
   ]
  },
  {
   "cell_type": "code",
   "execution_count": 13,
   "id": "55bf9da2",
   "metadata": {},
   "outputs": [],
   "source": [
    "test_case = LLMTestCase(\n",
    "    input=\"피씨엔 회사에 대해 소개해 주세요\",\n",
    "    actual_output=str(result1.content),\n",
    "    retrieval_context=list(doc_lis),\n",
    "    expected_output=\"피씨엔은 디지털 환경에서 고객 비즈니스 성공을 지원하는 Digital Value Service 기업입니다.\"\n",
    ")"
   ]
  },
  {
   "cell_type": "code",
   "execution_count": 14,
   "id": "88058367",
   "metadata": {},
   "outputs": [],
   "source": [
    "from deepeval.metrics import GEval\n",
    "\n",
    "answer_correctness = GEval(\n",
    "    model=ollama_llm,\n",
    "    name=\"Answer Correctness\",\n",
    "    criteria=\"실제 출력의 'answer' 속성이 입력과 검색된 컨텍스트를 바탕으로 피씨엔에 대해 올바르고 완전하게 설명하는지 평가하세요. 답변이 올바르지 않거나 불완전하다면 점수를 감점하세요.\",\n",
    "    # LLMTestCaseParams가 정의되어 있지 않으므로 문자열로 대체\n",
    "    evaluation_params=[\"input\", \"actual_output\", \"retrieval_context\"]\n",
    ")\n",
    "\n",
    "citation_accuracy = GEval(\n",
    "    model=ollama_llm,\n",
    "    name=\"Citation Accuracy\",\n",
    "    criteria=\"실제 출력의 인용구가 입력과 검색된 컨텍스트를 바탕으로 올바르고 관련성이 있는지 평가하세요. 인용구가 올바르지 않거나 관련성이 없다면 점수를 감점하세요.\",\n",
    "    evaluation_params=[\"input\", \"actual_output\", \"retrieval_context\"]\n",
    ")"
   ]
  },
  {
   "cell_type": "code",
   "execution_count": 15,
   "id": "bdb69361",
   "metadata": {},
   "outputs": [
    {
     "data": {
      "text/html": [
       "<pre style=\"white-space:pre;overflow-x:auto;line-height:normal;font-family:Menlo,'DejaVu Sans Mono',consolas,'Courier New',monospace\">✨ You're running DeepEval's latest <span style=\"color: #6a00ff; text-decoration-color: #6a00ff\">Contextual Relevancy Metric</span>! <span style=\"color: #374151; text-decoration-color: #374151; font-weight: bold\">(</span><span style=\"color: #374151; text-decoration-color: #374151\">using ko-llama-8B </span><span style=\"color: #374151; text-decoration-color: #374151; font-weight: bold\">(</span><span style=\"color: #374151; text-decoration-color: #374151\">Ollama</span><span style=\"color: #374151; text-decoration-color: #374151; font-weight: bold\">)</span><span style=\"color: #374151; text-decoration-color: #374151\">, </span><span style=\"color: #374151; text-decoration-color: #374151\">strict</span><span style=\"color: #374151; text-decoration-color: #374151\">=</span><span style=\"color: #374151; text-decoration-color: #374151; font-style: italic\">False</span><span style=\"color: #374151; text-decoration-color: #374151\">, </span>\n",
       "<span style=\"color: #374151; text-decoration-color: #374151\">async_mode</span><span style=\"color: #374151; text-decoration-color: #374151\">=</span><span style=\"color: #374151; text-decoration-color: #374151; font-style: italic\">False</span><span style=\"color: #374151; text-decoration-color: #374151; font-weight: bold\">)</span><span style=\"color: #374151; text-decoration-color: #374151\">...</span>\n",
       "</pre>\n"
      ],
      "text/plain": [
       "✨ You're running DeepEval's latest \u001b[38;2;106;0;255mContextual Relevancy Metric\u001b[0m! \u001b[1;38;2;55;65;81m(\u001b[0m\u001b[38;2;55;65;81musing ko-llama-8B \u001b[0m\u001b[1;38;2;55;65;81m(\u001b[0m\u001b[38;2;55;65;81mOllama\u001b[0m\u001b[1;38;2;55;65;81m)\u001b[0m\u001b[38;2;55;65;81m, \u001b[0m\u001b[38;2;55;65;81mstrict\u001b[0m\u001b[38;2;55;65;81m=\u001b[0m\u001b[3;38;2;55;65;81mFalse\u001b[0m\u001b[38;2;55;65;81m, \u001b[0m\n",
       "\u001b[38;2;55;65;81masync_mode\u001b[0m\u001b[38;2;55;65;81m=\u001b[0m\u001b[3;38;2;55;65;81mFalse\u001b[0m\u001b[1;38;2;55;65;81m)\u001b[0m\u001b[38;2;55;65;81m...\u001b[0m\n"
      ]
     },
     "metadata": {},
     "output_type": "display_data"
    },
    {
     "data": {
      "text/html": [
       "<pre style=\"white-space:pre;overflow-x:auto;line-height:normal;font-family:Menlo,'DejaVu Sans Mono',consolas,'Courier New',monospace\">✨ You're running DeepEval's latest <span style=\"color: #6a00ff; text-decoration-color: #6a00ff\">Contextual Recall Metric</span>! <span style=\"color: #374151; text-decoration-color: #374151; font-weight: bold\">(</span><span style=\"color: #374151; text-decoration-color: #374151\">using ko-llama-8B </span><span style=\"color: #374151; text-decoration-color: #374151; font-weight: bold\">(</span><span style=\"color: #374151; text-decoration-color: #374151\">Ollama</span><span style=\"color: #374151; text-decoration-color: #374151; font-weight: bold\">)</span><span style=\"color: #374151; text-decoration-color: #374151\">, </span><span style=\"color: #374151; text-decoration-color: #374151\">strict</span><span style=\"color: #374151; text-decoration-color: #374151\">=</span><span style=\"color: #374151; text-decoration-color: #374151; font-style: italic\">False</span><span style=\"color: #374151; text-decoration-color: #374151\">, </span>\n",
       "<span style=\"color: #374151; text-decoration-color: #374151\">async_mode</span><span style=\"color: #374151; text-decoration-color: #374151\">=</span><span style=\"color: #374151; text-decoration-color: #374151; font-style: italic\">False</span><span style=\"color: #374151; text-decoration-color: #374151; font-weight: bold\">)</span><span style=\"color: #374151; text-decoration-color: #374151\">...</span>\n",
       "</pre>\n"
      ],
      "text/plain": [
       "✨ You're running DeepEval's latest \u001b[38;2;106;0;255mContextual Recall Metric\u001b[0m! \u001b[1;38;2;55;65;81m(\u001b[0m\u001b[38;2;55;65;81musing ko-llama-8B \u001b[0m\u001b[1;38;2;55;65;81m(\u001b[0m\u001b[38;2;55;65;81mOllama\u001b[0m\u001b[1;38;2;55;65;81m)\u001b[0m\u001b[38;2;55;65;81m, \u001b[0m\u001b[38;2;55;65;81mstrict\u001b[0m\u001b[38;2;55;65;81m=\u001b[0m\u001b[3;38;2;55;65;81mFalse\u001b[0m\u001b[38;2;55;65;81m, \u001b[0m\n",
       "\u001b[38;2;55;65;81masync_mode\u001b[0m\u001b[38;2;55;65;81m=\u001b[0m\u001b[3;38;2;55;65;81mFalse\u001b[0m\u001b[1;38;2;55;65;81m)\u001b[0m\u001b[38;2;55;65;81m...\u001b[0m\n"
      ]
     },
     "metadata": {},
     "output_type": "display_data"
    },
    {
     "data": {
      "application/vnd.jupyter.widget-view+json": {
       "model_id": "f9cd8b68b6da44c8b1ed6829b19f1bf9",
       "version_major": 2,
       "version_minor": 0
      },
      "text/plain": [
       "Output()"
      ]
     },
     "metadata": {},
     "output_type": "display_data"
    },
    {
     "data": {
      "text/html": [
       "<pre style=\"white-space:pre;overflow-x:auto;line-height:normal;font-family:Menlo,'DejaVu Sans Mono',consolas,'Courier New',monospace\"></pre>\n"
      ],
      "text/plain": []
     },
     "metadata": {},
     "output_type": "display_data"
    },
    {
     "name": "stdout",
     "output_type": "stream",
     "text": [
      "\n",
      "======================================================================\n",
      "\n",
      "Metrics Summary\n",
      "\n",
      "  - ✅ Contextual Relevancy (score: 0.7075098814229249, threshold: 0.5, strict: False, evaluation model: ko-llama-8B (Ollama), reason: The input provided is too long and exceeds the maximum allowed length for a single message. Please break it down into smaller chunks or provide more context., error: None)\n",
      "  - ❌ Contextual Recall (score: 0.0, threshold: 0.5, strict: False, evaluation model: ko-llama-8B (Ollama), reason: The score is 0.00 because the provided output lacks sufficient context to accurately support the expected response., error: None)\n",
      "\n",
      "For test case:\n",
      "\n",
      "  - input: 피씨엔 회사에 대해 소개해 주세요\n",
      "  - actual output: 피씨엔(PCN)은 기술 회사로서 다양한 분야에서 혁신적인 솔루션을 제공하는 기업입니다. 주요 서비스로는 빅데이터, 확장 현실(XR), 인공지능(AI), 시스템 통합(SI) 등이 있습니다.\n",
      "\n",
      "### 회사 개요\n",
      "피씨엔은 cutting-edge 기술을 활용하여 고객의 요구에 맞춘 솔루션을 개발하고 제공합니다. 이를 통해 다양한 산업 분야에서 혁신적인 변화를 이끌어내고 있습니다.\n",
      "\n",
      "### 프로젝트\n",
      "피씨엔은 여러 가지 프로젝트를 진행하고 있습니다. 예를 들어, '스마트 시티' 프로젝트는 도시의 효율성을 높이기 위해 빅데이터와 AI 기술을 활용한 솔루션을 제공합니다. 이 프로젝트는 교통 관리, 에너지 효율성, 공공 안전 등 다양한 측면에서 긍정적인 영향을 미쳤습니다.\n",
      "\n",
      "### 주요 솔루션\n",
      "1. **빅데이터 분석**: 대량의 데이터를 효과적으로 분석하여 고객에게 유용한 정보를 제공합니다.\n",
      "2. **확장 현실(XR)**: 가상 현실(VR)과 증강 현실(AR)을 활용하여 교육, 마케팅, 의료 등 다양한 분야에서 혁신적인 경험을 제공합니다.\n",
      "3. **인공지능(AI)**: 머신 러닝 기술을 적용하여 자동화와 예측 분석을 통해 고객의 비즈니스 효율성을 높입니다.\n",
      "4. **시스템 통합(SI)**: IT 인프라를 통합하여 기업의 운영 효율성을 극대화합니다.\n",
      "\n",
      "### 조직 규모\n",
      "피씨엔은 다양한 분야의 전문가들로 구성된 강력한 팀을 보유하고 있습니다. 이를 통해 고객에게 최상의 서비스를 제공할 수 있습니다.\n",
      "\n",
      "### 주요 고객\n",
      "피씨엔의 주요 고객은 다양한 산업 분야에서 활동하는 기업들이며, 특히 금융, 제조, 유통, 교육 등이 포함됩니다.\n",
      "\n",
      "### 연혁\n",
      "피씨엔은 2010년에 설립되었으며, 이후 꾸준히 기술 혁신을 추구하며 성장해왔습니다. 주요 프로젝트와 솔루션의 성공적인 적용으로 인해 글로벌 시장에서도 주목받고 있습니다.\n",
      "\n",
      "이러한 강점과 경험을 바탕으로 피씨엔은 앞으로도 지속적으로 발전하고 고객에게 최상의 서비스를 제공할 것입니다.\n",
      "  - expected output: 피씨엔은 디지털 환경에서 고객 비즈니스 성공을 지원하는 Digital Value Service 기업입니다.\n",
      "  - context: None\n",
      "  - retrieval context: ['More NewsView More\\n\\n\\n\\n\\n\\n\\n\\nPCN, 2024년 주주명부 폐쇄기간 및 기준일 설정 공고\\n상법 제354조 및 당사 정관 제17조에 의거 제24기 정기주주총회에서 의결권을 행사할 주주확정을 위하여 다음과 같이 공고합니다.\\xa0기준일 : 2024년 12월 31일명의개서정지기간 : 2025년 1월 1일 ~ 2025년 1월 31일설정사유 :\\xa0제24기 정기주주총회 개최를 위한 권리주주 확정기타사항 :\\xa0당사 정관 제17조 [주주명부의 폐쇄 및 기준일]에 의거함2024년 12월 12일\\xa0주식회사 피씨엔서울특별시 강남구 학동로 146 PCN빌딩대표이사 송광헌\\xa0명의개서대리인 한국예탁결제원 사장 이순호\\n12월 12, 2024\\n\\n\\n\\n\\n\\n\\n\\n\\n\\n피씨엔, ‘2023 K-ICT 위크 인 부산’ 참가\\n\\n 9월 22, 2023\\n\\n\\n\\n\\n\\n\\n\\n\\n\\nPCN 2023 하반기 사업부 워크숍\\n\\xa0PCN이 2023년 7월 31일 하반기 사업부장 워크숍을 진행했습니다.\\xa0본부, 그룹, 실, 일반사업부까지 피씨엔 내 20여 개 전체 사업 관련 인원이 참석했으며, 각 사업부장이 발표한 내용을 토론을 통해 사업부 계획서에 반영했습니다.토론에는 제한 시간을 두지 않고 모든 사업부가 이해할 만한 답을 찾을 때까지 계속 토론 형식으로 진행되었습니다.\\xa0\\n 9월 22, 2023\\n\\n\\n\\n\\n\\n\\nOur Clients', \"인재들이 자신이 원하는 리더와 함께, 혹은 자신이 리더가 되어서 원하는 꿈에 도전할 수 있는 회사를 만들고자 합니다.\\n                    이를 위한 공정한 룰, 객관적인 평가, 합리적인 보상을 바탕으로 인재가 중심인 회사를 만들겠습니다.\\n                    그러한 노력들의 결과로 매년 동종업계 대비 놀라운 실적의 영업이익과 성장률을 보이고 강남에 사옥을 마련하고\\n                    사내 안마사인 헬스키퍼, PCN 제주 펜션, PCN 양양 등의 직원 복지를 늘리고 함께 성장하고 있습니다.\\n                    PCN은 이에 만족하지 않고 좋은 회사를 넘어서는 위대한 기업 PCN을 만들겠습니다.\\n                    고객감동, 인재행복, 가치창조를 핵심 가치를 바탕으로 ‘디지털 세계에서의 가치 창조'를 실현하여 NO.1 Digital Flatform Company로 더욱 정진하겠습니다.\\n                \\n감사합니다.\\n\\n\\n\\n기업 정보\\n\\n\\n\\n설립 연도\\n1999년 12월\\n\\n\\n\\n사업 분야\\nSI(시스템 통합),\\n                        SM(시스템 관리)\\n                        컨설팅, 솔루션 Bix, 모바일 등\\n                    \\n\\n\\n\\n매출액\\n264억\\n*2022년 기준\\n\\n\\n\\n임직원\\n180명\\n*2022년 기준\\n\\n\\n\\n\\n비전\\n디지털 세상에서의 가치창조라는 Vision을 토대로 고객이 아닌 파트너가 많은 기업으로 계속 성장하겠습니다.\\n\\n\\nMISSION\\n우리는 고객의 성공을 도와 세상의 가치를\\n                        증대 시키며 행복과 긍지를 느낀다.\\n\\n\\n\\nVALUE\\n고객 감동, 인재 행복, 가치 창조\\n\\n\\n\\nVISION\\nNO.1 DIGITAL VALUE SERVICE COMPANY\\n\\n\\n\\n\\n\\n회사 소개서 PDF\", \"검색\\n\\n전체\\n제목\\n\\n\\n\\n\\n검색\\n\\n\\n\\n\\n\\n\\n                전체\\n                66 \\n                건\\n            \\n\\n\\n\\n\\n\\n\\n\\n\\n\\n\\n\\n\\n\\n피씨엔, AI 플랫폼 '오즈아이' 앞세워 피지컬 AI 시장 진출\\n2025-07-28\\n\\n\\n\\n\\n\\n\\n\\n피씨엔(PCN), 민관 디지털 혁신 플랫폼 'DPG 통합테스트베드' 운영 맡는다\\n2025-06-11\\n\\n\\n\\n\\n\\n\\n\\nPCN, 제4기 정기 주총 성료···재무제표 등 승인\\n2025-03-31\\n\\n\\n\\n\\n\\n\\n\\n피씨엔, XR 콘텐츠서 상호작용 가능성 열었다\\n2025-02-19\\n\\n\\n\\n\\n\\n\\n\\n피씨엔-메디트릭스, 디지털 헬스케어 사업 협력\\n2025-02-19\\n\\n\\n\\n\\n\\n\\n\\n과기정통부, 산업기술연구조합 기술교류회 개최\\n2025-02-13\\n\\n\\n\\n\\n\\n\\n\\n\\n\\n\\n\\n\\n\\n \\n \\n\\n1\\n2\\n3\\n4\\n5\\n6\\n7\\n8\\n9\\n10\", '디지털 가치를 만드는 기업\\nPCN은 지식, 경험, 네트워크를 바탕으로 디지털 환경에서의 고객 비즈니스 성공을 지원하는 Digital Value Service 기업입니다.\\n\\n\\n\\n                        PCN은 다양한 기업 및 기업들의 온라인 비즈니스 파트너로서,\\n                        고객들과 함께 꾸준히 성장해왔습니다. PCN은 기술력과 노하우를 두루 갖춘\\n                        분야별 스페셜리스트들이 고객의 비즈니스 파트너로서 감동의 가치를 실현합니다.\\n                        온라인 환경과 비즈니스에 대한 깊은 이해를 가진 중·고급 인력이 전체의 60%를\\n                        차지하고 있으며 다양한 전문 기술을 보유한 인재들로 구성되어 있어 사업을 성공으로\\n                        이끌고 있습니다.\\n                    \\n\\n\\n\\n\\n\\n\\n\\nCEO 메세지\\n\\n\\n                    안녕하세요? PCN의 송광헌 대표입니다.\\n                    (주)PCN은 1999년 설립되고 2001년 법인전환 이후 20년 넘게 IT전문기업으로서 매진해 왔습니다.\\n                    그 결과 Bigdata, AI, XR 콘텐츠 기술과 이를 바탕으로 최근 메타버스 플랫폼까지 다양한 사업에서 최고의 기술과 실적을 만들고 있습니다.\\n                    그 바탕에는 PCN 3.0으로 시작한 ‘Flat stage’ 즉, 공정한 무대에서 인재들이 마음껏 본인의 역량을 펼칠 수 있는 문화의 힘이 있다고 생각합니다.', 'PCN E-Search\\nPCN 통합검색 솔루션\\nPCN E-Search는 Lucene 라이브러리 및 Elastic 오픈소스 기반으로 제작되었고 다양한 형태의 리소스 데이터에 대한 크롤링,\\n                    분산 저장 및 검색을 지원하는 확장성이 뛰어난 검색 플랫폼입니다. PCN 기업부설연구소는 Elastic기반으로 검색엔진을 확장하여 공공 기관에 납품한 실적을 보유하고 있습니다.\\n\\n\\n\\n구성도\\n\\n\\n\\n특장점\\n\\n1. 다양한 형태의 데이터 수집 및 색인 지원\\n2. 멀티 노드 기반의 고가용성 지원\\n3. 다수의 클러스터링 구성 가능\\n4. 독립된 모듈 형태의 기능 분할\\n5. 빅데이터 분산 저장소 및 분석도구 지원\\n6. 플러그인 지원으로 확장성 보장\\n7. 자연어 검색, 복합명사 붙용어 필터 지원\\n8. 검색어 자동완성, 트랜드 분석 및 연관검색어 지원\\n\\n\\n\\n\\n\\n\\n제품 소개서 다운로드', 'PCN 직원 혜택\\nPCN은 다양한 사원복지를 통해 임직원들이 즐겁고 행복하게 일 할 수 있는 회사가 될 수 있도록 노력 합니다.\\n\\n\\n\\n\\n\\n\\n제주 양양 펜션\\n직원들이 휴식 및 숙박을 할 수 있는 임직원 전용 공간입니다.\\n\\n제주 펜션\\n양양 펜션\\n\\n\\n\\n\\n\\n\\n헬스키퍼\\n직원들의 뭉친 근육을 풀어 드립니다! 국가공인 안마사 자격을\\n                            갖춘 헬스 키퍼 분들에게 주 1회 안마를 받을 수 있습니다\\n\\n\\n\\n\\n\\n맞춤형 복지 제도\\n여행, 건강, 교육, 취미 1회에 한하여 현금을 지급합니다.\\n\\n\\n\\n\\n\\n장기근속자 포상\\nPCN과 함께 꾸준히 성장해준 직원들에게 3/5/7/10/15/20/25주년\\n                            선물을 지급 합니다.\\n\\n\\n\\n\\n\\n교육훈련비 지원\\n사외교육 50% 지원 및 직원 본인 대학/대학원 등록금 50%\\n                            지원 합니다.\\n\\n\\n\\n\\n\\n패밀리 데이\\n매월 1일 2시간 조기 퇴근\\n\\n\\n\\n\\n\\n명절 선물 지급\\n설과 추석 명절에 감사의 마음을 전하기 위해 선물을 지급합니다.\\n\\n\\n\\n\\n\\n도서비 지원\\n직원들의 성장과 역량 향상을 위해  업무 관련 도서비를 지원합니다.\\n\\n\\n\\n\\n\\n생일자 선물\\n생일 파티 또는 본인 선물 구매를 위해 현금을 지급합니다.\\n\\n\\n\\n\\n\\n휴식공간\\n업무 중에 잠시 휴식을 위해 사내 카페에서 커피한잔의 여유와\\n                            휴게공간에서 안마의자 등을 통해 잠시 휴식을 가질 수 있습니다.\\n\\n\\n\\n\\n\\n경조화환\\n경조사 발생시 조의의 마음을 전하고자 화환을 제공합니다.', 'PCN에 오시는 길\\nPCN은 강남구 학동역/논현역 부근에 위치하고 있습니다. 문의는 언제나 열려있습니다.\\n\\n\\n\\n\\n\\n\\n주소\\n서울특별시 강남구 학동로 146 PCN빌딩\\n\\n\\n문의\\n\\n\\n채용‧프로젝트‧홍보문의\\nE.master@pcninc.co.kr\\nT.02 - 565 - 7740\\n\\n\\n영업문의\\nE.master@pcninc.co.kr\\nT.02 - 6027 - 5870\\n\\n\\n\\n\\n\\n\\n지하철\\n\\n학동역에서 하차\\n(5번 출구에서 300m 도보 5분거리)\\n\\n\\n논현역에서 하차\\n(1번 출구에서 450m 도보 8분거리)\\n\\n\\n\\n버스\\n\\n논현사거리, 학동역\\n240, 401, 3412, 6411\\n\\n\\n\\n자가용\\n\\nPCN 빌딩 주차장\\n유료 시설로 대중교통 이용을 권장', \"갤러리 아트인사이트 개관\\n\\n\\n\\n\\n\\n\\n2016\\n\\n\\n\\n09월\\n\\n일학습병행제 경진대회 장려상(한국산업인력공단)\\n\\n\\n\\n\\n\\n\\n2015\\n\\n\\n\\n11월\\n\\n미래창조과학부 장관 표창\\n\\n\\n\\n08월\\n\\n정보통신 공사업 취득\\n\\n\\n\\n\\n\\n\\n2013\\n\\n\\n\\n11월\\n\\n오픈 API 기반 콘텐츠 서비스 인터페이스 제공시스템 및 방법 특허 출원\\n\\n\\n\\n08월\\n\\n포렌식기반 이미지 위변조방지 시스템 invisibleCode, GS인증\\n\\n\\n\\n\\n\\n\\n2011\\n\\n\\n\\n08월\\n한국정보산업협동조합 조합원 가입\\n\\n\\n07월\\n기술혁신형 중소기업(INNO-BIZ) 확인\\n\\n\\n06월\\n㈜피씨엔으로 상호변경\\n\\n\\n04월\\n포스트코리아넷 부설 연구소 ISO 9001:2008 인증 획득\\n\\n\\n\\n\\n\\n\\n\\n\\n\\n\\n\\n행정안전부 장관상 수상\\n\\n\\n\\n\\n\\n\\n\\n\\n\\n\\n\\n2010\\n\\n\\n\\n11월\\n\\n㈜포스트코리아넷 부설연구소 설립\\n\\n\\n\\n08월\\n\\n소프트웨어공제조합 가입(출자)\\n\\n\\n\\n06월\\n\\n벤처기업확인 인증\\n\\n\\n\\n\\n\\n\\n2008\\n\\n\\n\\n04월\\n\\n소프트웨어 사업자 신고\\n\\n\\n\\n03월\\n\\n2008 웹어워드 위원회 최우수 디지털에이전시 인증\\n\\n\\n\\n\\n\\n\\n2004\\n\\n\\n\\n10월\\n\\n온라인쇼핑몰 솔루션 PCNShop V 1.0 개발\\n\\n\\n\\n\\n\\n\\n2002\\n\\n\\n\\n04월\\n\\n'온라인을 이용한 병원 자동화 서비스 시스템' 특허출원 (출원번호 10-2004-0051772)\\n\\n\\n\\n\\n\\n\\n2001\\n\\n\\n\\n05월\\n\\n㈜포스트코리아넷 법인전환\\n\\n\\n\\n\\n\\n\\n1999\\n\\n\\n\\n12월\\n\\n코리아넷 설립\\n\\n\\n\\n\\n\\n\\n\\n\\n\\n\\n\\n\\n웹어워드 코리아 공공ㆍ의료 통합대상 수상\", '23년간 남긴 기록들\\n\\n                ‘디지털 세상에서의 가치 창조’라는 비전 아래 20년간 끊임 없이 달려왔습니다.\\n                1999년 PCN의 전신인 코리아넷이 설립된 이후부터 지금에 이르기까지 다양한 특허와 인증을 획득하며 해당 분야에서 공고히 자리매김해왔습니다.\\n            \\n\\n\\n\\n\\n2022\\n\\n\\n\\n12월\\n\\n대한민국디지털경영혁신대상 문화체육관광부 장관상\\n\\n\\n\\n10월\\n\\n레드닷 디자인 어워드 브랜드 커뮤니케이션부문상\\n\\n\\n\\n08월\\n\\nPCN 신사옥 이전(학동로 146 PCN빌딩)\\n\\n\\n\\n01월\\n\\n갤러리 아트인사이트 개관\\n\\n\\n\\n\\n\\n\\n2021\\n\\n\\n\\n12월\\n\\n국무총리 표창 (소프트웨어산업진흥 발전)\\n행정안전부 장관 표창 (정보화 발전)\\n\\n\\n\\n11월\\n\\n제6회 3D 프린팅 BIZCON 경진대회 최우수상(문화재청)\\n행정안전부 장관 표창 (정부혁신 추진)\\n\\n\\n\\n09월\\n\\nPCN 사옥 이전 PCN 빌딩(언주로135길 33)\\n\\n\\n\\n01월\\n\\nPCN E-SEARCH v1.0 GS인증 1등급 취득\\n\\n\\n\\n\\n\\n\\n2020\\n\\n\\n\\n06월\\n\\n여성가족부 가족친화기업 인증\\n대한상공회의소 일하기 좋은 중소기업 선정\\n\\n\\n\\n02월\\n\\nKiss OASIS v1.2 GS 인증 1등급 취득\\n\\n\\n\\n\\n\\n\\n2019\\n\\n\\n\\n04월\\n\\nRDF 트리플 데이터 기반의 지능형 검색 시스템 및 방법 특허 출원\\n\\n\\n\\n03월\\n\\n온톨리지 기반의 검색 서비스 시스템 및 방법 특허 출원\\n\\n\\n\\n\\n\\n\\n\\n\\n\\n\\n\\n\\n2022 레드닷 디자인 어워드 수상\\n\\n\\n\\n\\n\\n\\n\\n\\n\\n\\n\\n2018\\n\\n\\n\\n07월\\n\\n재난재해 복구를 위한 자원관리 방법 및 시스템 특허 출원\\n\\n\\n\\n05월\\n\\n전통문화 융복합 지원을 위한 디지털 연표 표출시스템 특허 출원\\n\\n\\n\\n08월\\n\\nPCN 신사옥 이전(학동로 146 PCN빌딩)\\n\\n\\n\\n01월\\n\\n갤러리 아트인사이트 개관\\n\\n\\n\\n\\n\\n\\n2016\\n\\n\\n\\n09월\\n\\n일학습병행제 경진대회 장려상(한국산업인력공단)\\n\\n\\n\\n\\n\\n\\n2015\\n\\n\\n\\n11월\\n\\n미래창조과학부 장관 표창\\n\\n\\n\\n08월', '검색\\n\\n전체\\n제목\\n내용\\n\\n\\n\\n\\n검색\\n\\n\\n\\n\\n\\n\\n                전체\\n                98 \\n                건\\n            \\n\\n\\n\\n\\n\\n\\n\\n\\n\\n\\n\\n\\nPCN 제24기 결산공고\\n2025-03-31\\n\\n\\n\\n\\n\\n\\n\\nPCN 제24기 정기주주총회 소집 공고\\n2025-02-28\\n\\n\\n\\n\\n\\n\\n\\nPCN, 2024년 주주명부 폐쇄기간 및 기준일 설정 공고\\n2024-12-12\\n\\n\\n\\n\\n\\n\\n\\nPCN, 임시주주총회 소집공고\\n2024-05-08\\n\\n\\n\\n\\n\\n\\n\\nPCN, 임시주주총회 기준일 설정공고\\n2024-04-08\\n\\n\\n\\n\\n\\n\\n\\nPCN, 제23기 결산공고\\n2024-04-02\\n\\n\\n\\n\\n\\n\\n\\n\\n\\n\\n\\n\\n\\n\\n \\n \\n\\n1\\n2\\n3\\n4\\n5\\n6\\n7\\n8\\n9\\n10', 'OASIS-X\\n빅데이터 수집 솔루션\\n무료 오픈 소스 서버의 데이터 처리 파이프라인인 Logstash는 다양한 소스에서 데이터를 수집하여 변환한 후 자주 사용하는 저장소로 전달합니다. PCN 기업부설연구소는 Logstash 기반의 데이터 수집/저장 프로세스를 쉽게 구성 할 수 있도록 Web 기반의 솔루션을 개발 하였으며 다양한\\n                    플러그인을 추가하여 기능을 확장 하였습니다.\\n\\n\\n\\n구성도\\n\\n\\n\\n특장점\\n\\n1. 다양한 형태의 데이터 소스 지원\\n2. 다양한 형태의 데이터 저장소 지원\\n3. 필터를 제공하여 다양한 형태로의 데이터 가공\\n4. 플러그인 지원으로 확장성 보장\\n5. Web UI 지원으로 손쉬운 구성\\n6. 수집/저장 현황의 모니터링\\n7. 스케줄러 지원으로 배치 작업 수행\\n\\n\\n\\n\\n\\n\\n제품 소개서 다운로드', '공공 · 민간 데이터 검색 및 활용\\n한양도성 타임머신\\nView More\\n\\n\\n\\n\\n\\n\\n\\n화성시 문화유산에 대한 3차원 디지털 데이터\\n화성시 문화유산 3D 스캐닝 및 VR 제작\\nView More\\n\\n\\n\\n\\n\\n\\n\\n대용량 뉴스 기반 사건 · 사고 지식 빅데이터 센터 구축\\n스마트치안 빅데이터 센터\\nView More\\n\\n\\n\\n\\n\\n\\n\\n대시민 소통의 접점 역할\\n서울시 홈페이지 운영 및 유지관리\\nView More\\n\\n\\n\\n\\n\\n\\n\\n\\n01Big Data\\n02XR Contents\\n03AI\\n04SI/UX\\n\\n\\n\\n\\n\\n\\n\\n\\n\\n\\n\\n\\n\\n\\n\\n\\n\\n\\n\\n\\n\\n\\n\\n\\n\\nProjectsView More\\n\\n\\n\\n\\n\\n행정안전부\\n2022년 정부24 국가보조금 맞춤형서비스 구축\\n\\n\\n\\n\\n\\n\\n한국지능정보사회진흥원\\n디스플레이 중심 안구 움직임 영상 데이터\\n\\n\\n\\n\\n\\n\\n서울특별시\\n2022년 서울시 홈페이지 운영 및 유지관리\\n\\n\\n\\n\\n\\n\\n문화재청\\n2022년 한양도성 타임머신\\n\\n\\n\\n\\n\\n한국지능정보사회진흥원\\n대용량 뉴스 기반 사건.사고 지식 빅데이터 센터 구축\\n\\n\\n\\n\\n\\n\\n서울특별시\\n2022년 열린데이터광장 운영 및 유지관리 용역\\n\\n\\n\\n\\n\\n\\nWe Are\\nPCN이 가진 고유한 기술의 융합을 통해 가치 있는 디지털 플랫폼을 만들어 나갑니다.\\n\\n\\n\\n\\nEXPERTISE\\n기업의 풍부한 경험과 인재의 열정을 통한\\n                        실질적이고 실제적인 전문성을 보여드립니다.\\n\\n\\n\\n\\n\\nSUCCESS\\n우리의 전문성을 통해 고객의 성공을 돕는\\n                        일이 PCN의 명확한 목표입니다.\\n\\n\\n\\n\\n\\nVALUE\\n우리가 만들어가는 디지털 서비스는 최고의\\n                        전문성을 갖추고 가치 증대에 기여합니다.\\n\\n\\n\\n\\n\\nPRIDE\\n우리는 고객의 성공을 위해 세상의 가치증대를\\n                        실현하여 감동과 자긍심을 느낍니다.\\n\\n\\n\\n\\n\\nMore NewsView More', '검색\\n\\n전체\\n제목\\n내용\\n\\n\\n\\n\\n검색\\n\\n\\n\\n\\n\\n\\n                전체\\n                24 \\n                건\\n            \\n\\n\\n\\n\\n\\n\\n\\n\\n\\n\\n\\n\\n\\n2025년도 AI툴 활용 아이디어 공모전\\n2025-07-23\\n\\n\\n\\n\\n\\n\\n\\n2024 PCN 맥주파티\\n2024-06-10\\n\\n\\n\\n\\n\\n\\n\\n2023 PCN AWARDS\\n2024-06-10\\n\\n\\n\\n\\n\\n\\n\\n2023 피플 10기 워크숍\\n2024-06-07\\n\\n\\n\\n\\n\\n\\n\\n2023 PCN 맥주파티\\n2023-09-26\\n\\n\\n\\n\\n\\n\\n\\nPCN 2023 하반기 사업부 워크숍\\n2023-09-22\\n\\n\\n\\n\\n\\n\\n\\n\\n\\n\\n\\n\\n \\n \\n\\n1\\n2\\n3\\n4', 'Portfolio\\nPCN의 Digital Platform 주요 사업을 소개합니다.\\n\\n\\n\\n전체\\nMetaverse\\nAi\\nBig data\\nXR Contents\\n\\n\\n\\n\\n\\n\\n\\n\\nMore', '공공∙민간 데이터 검색 및 활용\\n통합 데이터지도 구축\\n공공과 민간 데이터를 쉽게 검색 및 활용할 수 있도록 지원하기 위한 빅데이터 수집∙가공∙유통 체계 구축\\n\\n\\n\\n\\n\\n\\n\\n\\n표준화된 메타데이터연계 시스템\\n\\n\\n\\n\\n\\n오픈소스 기반의데이터 공유 환경\\n\\n\\n\\n\\n\\n딥러닝 기반자연어처리 솔루션\\n\\n\\n\\n\\n\\n\\n\\n효율적이고지능화된 검색 시스템\\n\\n\\n\\n\\n\\n이용자 중심의UI/UX\\n\\n\\n\\n\\n\\n민간 크라우드기반 운영\\n\\n\\n\\n\\n\\n\\nFeatures\\n\\n\\n\\n\\n데이터 연계 확장성 확보를 위한 메타데이터 표준화\\n상세 검색 및 신규·복합 단어 등 고도화된 검색을 위한 고속 검색 엔진\\nAI 기반 데이터 자동 분류 기술\\nAI 기반 데이터 간 연관도 분석 및 데이터 맵 시각화 기술\\nAI 기반 핵심 키워드 자동 추출 기술\\n\\n\\n\\n\\n공공민간 데이터 연계\\n\\n\\n\\n고속 검색 엔진\\n\\n\\n\\n실시간 데이터 관리 시스템\\n\\n\\n\\nAI 데이터 분석\\n\\n\\n\\n\\n\\n\\n\\nTech\\n표준 메타데이터 연계부터 AI 자연어처리 기반 실시간 자동 분류, 핵심 키워드 자동 추출, 데이터맵 시각화까지 처리되는 고속 검색 엔진 구축\\n\\n\\n\\n\\n\\n1메타데이터연계 API 서버\\n\\n연계 API 개선으로 메타데이터 항목 실시간 동기화 구현\\n\\n\\n\\n2데이터정체모델\\n\\n한국어에 특화된 언어 모델 BERT를 활용하여 자동 분류 및 임베딩 정확도 향상\\n\\n\\n\\n3검색엔진서버\\n\\n한국어 형태소 분석 및 연관 검색이 가능한 고속 검색엔진 탑재\\n\\n\\n\\n4연관분석모델\\n\\n고도화된 언어 모델 기반으로 연관도 분석 성능 개선\\n\\n\\n\\n\\n\\n\\n\\nApplied Solutions\\nPCN이 보유한 기술을 활용하여 다양한 프로젝트를 진행하고 있습니다.\\n\\n\\n\\n\\n\\n\\nOASIS DataMap\\nView More', 'OASIS-APIM\\nAPI 관리서버 솔루션\\n서버로 요청되는 모든 API의 접점 역할을 하는 API 관리 서버(API Management System: APIM)로써 외부에서의 API 요청 시 내부의 시스템과 상관 없이\\n                    약속된 형태의 API 요청을 할 수 있도록 지원합니다.\\n\\n\\n\\n구성도\\n\\n\\n\\n특장점\\n\\n1. 다양한 API의 라우팅 처리\\n2. 플러그인 지원으로 확장성 보장\\n3. 요청 현황에 대한 모니터링\\n4. Web UI 지원으로 손쉬운 구성\\n5. 트래픽 및 요청 횟수 제한\\n6. 사용자에 대한 인증 및 인가 처리\\n7. 변경사항의 실시간 반영\\n8. 캐시 사용에 의한 성능 보장\\n\\n\\n\\n\\n\\n\\n제품 소개서 다운로드', '대용량 뉴스 기반 사건사고 지식 빅데이터 센터 구축\\n스마트 치안 빅데이터 센터\\n효과적인 스마트치안 활동을 위한 고품질 사건·사고 원문 뉴스 데이터를 생산·관리·유통하는 빅데이터 센터\\n\\n\\n\\n\\n\\n\\n\\n\\n원문 뉴스기반고품질 메타데이터\\n\\n\\n\\n\\n\\n뉴스 데이터 통합 및분류 체계 표준화\\n\\n\\n\\n\\n\\n자연어 처리를 통한특징 추출\\n\\n\\n\\n\\n\\n\\n\\n뉴스 특징 기반자동 문류\\n\\n\\n\\n\\n\\n데이터 품질 관리\\n\\n\\n\\n\\n\\n클라우드 컴퓨팅기반 인프라 구축\\n\\n\\n\\n\\n\\n\\nFeatures\\n\\n\\n\\n\\n통계 분석 및 시각화\\n\\n\\n\\n네트워킹 기술\\n\\n\\n\\n\\n\\n생산 데이터의 통계 분석 및 시각화 모델\\n\\nOS를 가리지 않는 플랫폼 서버 배포 환경\\n서버 내 별도의 콘텐츠 관리\\nReal Time 메타버스 환경을 위한 게임 서버 아키텍처\\n\\n\\n\\n효율적 관리를 위한 지식 베이스 구축\\n\\n입력된 메타데이터 기반 개체 추출 및 시계열 기반 구축\\n시각적 분석 및 데이터 융합 기술 적용\\n\\n\\n\\n데이터 융합 네트워킹 기술\\n\\n자연어 처리를 통한 인물,장소,시간 개체를 추출\\n생산된 시멘틱 데이터의 관계 그래프 생성 및 시각화\\n\\n\\n\\n\\n\\n\\n\\nTech\\n\\n\\n\\n\\n\\n\\n\\nRelated Business\\n\\n\\n\\n\\n\\n\\n미디어온\\n미디어 기반 팩트 체크 서비스(데이터 제공)\\nView More\\n\\n\\n\\n\\n\\n서울대학교 산학협력단\\nAI 기반 팩트체크 자동화 서비스(데이터 제공)\\nView More', '프로젝트명\\n\\n\\n\\n프로젝트 성격\\n\\n\\n\\n도메인\\n\\n\\n\\n발주기관\\n\\n\\n\\n적용 기술\\n\\n\\n\\n주요 목적', '프로젝트명\\n\\n\\n\\n프로젝트 성격\\n\\n\\n\\n도메인\\n\\n\\n\\n발주기관\\n\\n\\n\\n적용 기술\\n\\n\\n\\n주요 목적', '프로젝트명\\n\\n\\n\\n프로젝트 성격\\n\\n\\n\\n도메인\\n\\n\\n\\n발주기관\\n\\n\\n\\n적용 기술\\n\\n\\n\\n주요 목적']\n",
      "\n",
      "======================================================================\n",
      "\n",
      "Overall Metric Pass Rates\n",
      "\n",
      "Contextual Relevancy: 100.00% pass rate\n",
      "Contextual Recall: 0.00% pass rate\n",
      "\n",
      "======================================================================\n",
      "\n"
     ]
    },
    {
     "data": {
      "text/html": [
       "<pre style=\"white-space:pre;overflow-x:auto;line-height:normal;font-family:Menlo,'DejaVu Sans Mono',consolas,'Courier New',monospace\">\n",
       "\n",
       "<span style=\"color: #05f58d; text-decoration-color: #05f58d\">✓</span> Evaluation completed 🎉! <span style=\"font-weight: bold\">(</span>time taken: <span style=\"color: #008080; text-decoration-color: #008080; font-weight: bold\">6079.</span>81s | token cost: <span style=\"color: #008080; text-decoration-color: #008080; font-weight: bold\">0.0</span> USD<span style=\"font-weight: bold\">)</span>\n",
       "» Test Results <span style=\"font-weight: bold\">(</span><span style=\"color: #008080; text-decoration-color: #008080; font-weight: bold\">1</span> total tests<span style=\"font-weight: bold\">)</span>:\n",
       "   » Pass Rate: <span style=\"color: #008080; text-decoration-color: #008080; font-weight: bold\">0.0</span>% | Passed: <span style=\"color: #008000; text-decoration-color: #008000; font-weight: bold\">0</span> | Failed: <span style=\"color: #800000; text-decoration-color: #800000; font-weight: bold\">1</span>\n",
       "\n",
       " ================================================================================ \n",
       "\n",
       "» What to share evals with your team, or a place for your test cases to live? ❤️ 🏡\n",
       "  » Run <span style=\"color: #008000; text-decoration-color: #008000; font-weight: bold\">'deepeval view'</span> to analyze and save testing results on <span style=\"color: #6a00ff; text-decoration-color: #6a00ff\">Confident AI</span>.\n",
       "\n",
       "\n",
       "</pre>\n"
      ],
      "text/plain": [
       "\n",
       "\n",
       "\u001b[38;2;5;245;141m✓\u001b[0m Evaluation completed 🎉! \u001b[1m(\u001b[0mtime taken: \u001b[1;36m6079.\u001b[0m81s | token cost: \u001b[1;36m0.0\u001b[0m USD\u001b[1m)\u001b[0m\n",
       "» Test Results \u001b[1m(\u001b[0m\u001b[1;36m1\u001b[0m total tests\u001b[1m)\u001b[0m:\n",
       "   » Pass Rate: \u001b[1;36m0.0\u001b[0m% | Passed: \u001b[1;32m0\u001b[0m | Failed: \u001b[1;31m1\u001b[0m\n",
       "\n",
       " ================================================================================ \n",
       "\n",
       "» What to share evals with your team, or a place for your test cases to live? ❤️ 🏡\n",
       "  » Run \u001b[1;32m'deepeval view'\u001b[0m to analyze and save testing results on \u001b[38;2;106;0;255mConfident AI\u001b[0m.\n",
       "\n",
       "\n"
      ]
     },
     "metadata": {},
     "output_type": "display_data"
    },
    {
     "ename": "AttributeError",
     "evalue": "'EvaluationResult' object has no attribute 'summary'",
     "output_type": "error",
     "traceback": [
      "\u001b[1;31m---------------------------------------------------------------------------\u001b[0m",
      "\u001b[1;31mAttributeError\u001b[0m                            Traceback (most recent call last)",
      "Cell \u001b[1;32mIn[15], line 10\u001b[0m\n\u001b[0;32m      3\u001b[0m retriever_metrics \u001b[38;5;241m=\u001b[39m [relevancy, recall] \u001b[38;5;66;03m# precision\u001b[39;00m\n\u001b[0;32m      5\u001b[0m result \u001b[38;5;241m=\u001b[39m evaluate(\n\u001b[0;32m      6\u001b[0m     [test_case],\n\u001b[0;32m      7\u001b[0m     retriever_metrics,\n\u001b[0;32m      8\u001b[0m     async_config\u001b[38;5;241m=\u001b[39mAsyncConfig(run_async\u001b[38;5;241m=\u001b[39m\u001b[38;5;28;01mFalse\u001b[39;00m)\n\u001b[0;32m      9\u001b[0m )\n\u001b[1;32m---> 10\u001b[0m \u001b[38;5;28mprint\u001b[39m(\u001b[43mresult\u001b[49m\u001b[38;5;241;43m.\u001b[39;49m\u001b[43msummary\u001b[49m())\n",
      "File \u001b[1;32mf:\\project_test\\solutions\\chat\\.venv_chat\\lib\\site-packages\\pydantic\\main.py:991\u001b[0m, in \u001b[0;36mBaseModel.__getattr__\u001b[1;34m(self, item)\u001b[0m\n\u001b[0;32m    988\u001b[0m     \u001b[38;5;28;01mreturn\u001b[39;00m \u001b[38;5;28msuper\u001b[39m()\u001b[38;5;241m.\u001b[39m\u001b[38;5;21m__getattribute__\u001b[39m(item)  \u001b[38;5;66;03m# Raises AttributeError if appropriate\u001b[39;00m\n\u001b[0;32m    989\u001b[0m \u001b[38;5;28;01melse\u001b[39;00m:\n\u001b[0;32m    990\u001b[0m     \u001b[38;5;66;03m# this is the current error\u001b[39;00m\n\u001b[1;32m--> 991\u001b[0m     \u001b[38;5;28;01mraise\u001b[39;00m \u001b[38;5;167;01mAttributeError\u001b[39;00m(\u001b[38;5;124mf\u001b[39m\u001b[38;5;124m'\u001b[39m\u001b[38;5;132;01m{\u001b[39;00m\u001b[38;5;28mtype\u001b[39m(\u001b[38;5;28mself\u001b[39m)\u001b[38;5;241m.\u001b[39m\u001b[38;5;18m__name__\u001b[39m\u001b[38;5;132;01m!r}\u001b[39;00m\u001b[38;5;124m object has no attribute \u001b[39m\u001b[38;5;132;01m{\u001b[39;00mitem\u001b[38;5;132;01m!r}\u001b[39;00m\u001b[38;5;124m'\u001b[39m)\n",
      "\u001b[1;31mAttributeError\u001b[0m: 'EvaluationResult' object has no attribute 'summary'"
     ]
    }
   ],
   "source": [
    "from deepeval.evaluate import evaluate, AsyncConfig\n",
    "\n",
    "retriever_metrics = [relevancy, recall] # precision\n",
    "\n",
    "result = evaluate(\n",
    "    [test_case],\n",
    "    retriever_metrics,\n",
    "    async_config=AsyncConfig(run_async=False)\n",
    ")\n",
    "print(result.summary())\n"
   ]
  },
  {
   "cell_type": "code",
   "execution_count": 16,
   "id": "567137c0",
   "metadata": {},
   "outputs": [
    {
     "name": "stderr",
     "output_type": "stream",
     "text": [
      "C:\\Users\\PCN\\AppData\\Local\\Temp\\ipykernel_17852\\3026971379.py:1: PydanticDeprecatedSince20: The `dict` method is deprecated; use `model_dump` instead. Deprecated in Pydantic V2.0 to be removed in V3.0. See Pydantic V2 Migration Guide at https://errors.pydantic.dev/2.11/migration/\n",
      "  result.dict()\n"
     ]
    },
    {
     "data": {
      "text/plain": [
       "{'test_results': [{'name': 'test_case_0',\n",
       "   'success': False,\n",
       "   'metrics_data': [{'name': 'Contextual Relevancy',\n",
       "     'threshold': 0.5,\n",
       "     'success': True,\n",
       "     'score': 0.7075098814229249,\n",
       "     'reason': 'The input provided is too long and exceeds the maximum allowed length for a single message. Please break it down into smaller chunks or provide more context.',\n",
       "     'strict_mode': False,\n",
       "     'evaluation_model': 'ko-llama-8B (Ollama)',\n",
       "     'error': None,\n",
       "     'evaluation_cost': 0.0,\n",
       "     'verbose_logs': 'Verdicts:\\n[\\n    {\\n        \"verdicts\": [\\n            {\\n                \"statement\": \"PCN, 2024\\\\ub144 \\\\uc8fc\\\\uc8fc\\\\uba85\\\\ubd80 \\\\ud3d0\\\\uc1c4\\\\uae30\\\\uac04 \\\\ubc0f \\\\uae30\\\\uc900\\\\uc77c \\\\uc124\\\\uc815 \\\\uacf5\\\\uace0\",\\n                \"verdict\": \"yes\",\\n                \"reason\": null\\n            },\\n            {\\n                \"statement\": \"\\\\ud53c\\\\uc528\\\\uc5d4, \\\\u20182023 K-ICT \\\\uc704\\\\ud06c \\\\uc778 \\\\ubd80\\\\uc0b0\\\\u2019 \\\\ucc38\\\\uac00\",\\n                \"verdict\": \"yes\",\\n                \"reason\": null\\n            },\\n            {\\n                \"statement\": \"PCN 2023 \\\\ud558\\\\ubc18\\\\uae30 \\\\uc0ac\\\\uc5c5\\\\ubd80 \\\\uc6cc\\\\ud06c\\\\uc20d\",\\n                \"verdict\": \"yes\",\\n                \"reason\": null\\n            }\\n        ]\\n    },\\n    {\\n        \"verdicts\": [\\n            {\\n                \"statement\": \"\\\\ud53c\\\\uc528\\\\uc5d4 \\\\ud68c\\\\uc0ac\\\\uc5d0 \\\\ub300\\\\ud574 \\\\uc18c\\\\uac1c\\\\ud574 \\\\uc8fc\\\\uc138\\\\uc694\",\\n                \"verdict\": \"yes\",\\n                \"reason\": null\\n            },\\n            {\\n                \"statement\": \"\\\\uc778\\\\uc7ac\\\\ub4e4\\\\uc774 \\\\uc790\\\\uc2e0\\\\uc774 \\\\uc6d0\\\\ud558\\\\ub294 \\\\ub9ac\\\\ub354\\\\uc640 \\\\ud568\\\\uaed8, \\\\ud639\\\\uc740 \\\\uc790\\\\uc2e0\\\\uc774 \\\\ub9ac\\\\ub354\\\\uac00 \\\\ub418\\\\uc5b4\\\\uc11c \\\\uc6d0\\\\ud558\\\\ub294 \\\\uafc8\\\\uc5d0 \\\\ub3c4\\\\uc804\\\\ud560 \\\\uc218 \\\\uc788\\\\ub294 \\\\ud68c\\\\uc0ac\\\\ub97c \\\\ub9cc\\\\ub4e4\\\\uace0\\\\uc790 \\\\ud569\\\\ub2c8\\\\ub2e4.\",\\n                \"verdict\": \"yes\",\\n                \"reason\": null\\n            },\\n            {\\n                \"statement\": \"\\\\uc774\\\\ub97c \\\\uc704\\\\ud55c \\\\uacf5\\\\uc815\\\\ud55c \\\\ub8f0, \\\\uac1d\\\\uad00\\\\uc801\\\\uc778 \\\\ud3c9\\\\uac00, \\\\ud569\\\\ub9ac\\\\uc801\\\\uc778 \\\\ubcf4\\\\uc0c1\\\\uc744 \\\\ubc14\\\\ud0d5\\\\uc73c\\\\ub85c \\\\uc778\\\\uc7ac\\\\uac00 \\\\uc911\\\\uc2ec\\\\uc778 \\\\ud68c\\\\uc0ac\\\\ub97c \\\\ub9cc\\\\ub4e4\\\\uaca0\\\\uc2b5\\\\ub2c8\\\\ub2e4.\",\\n                \"verdict\": \"yes\",\\n                \"reason\": null\\n            },\\n            {\\n                \"statement\": \"\\\\ub9e4\\\\ub144 \\\\ub3d9\\\\uc885\\\\uc5c5\\\\uacc4 \\\\ub300\\\\ube44 \\\\ub180\\\\ub77c\\\\uc6b4 \\\\uc2e4\\\\uc801\\\\uc758 \\\\uc601\\\\uc5c5\\\\uc774\\\\uc775\\\\uacfc \\\\uc131\\\\uc7a5\\\\ub960\\\\uc744 \\\\ubcf4\\\\uc774\\\\uace0 \\\\uac15\\\\ub0a8\\\\uc5d0 \\\\uc0ac\\\\uc625\\\\uc744 \\\\ub9c8\\\\ub828\\\\ud558\\\\uace0\",\\n                \"verdict\": \"yes\",\\n                \"reason\": null\\n            },\\n            {\\n                \"statement\": \"\\\\uc0ac\\\\ub0b4 \\\\uc548\\\\ub9c8\\\\uc0ac\\\\uc778 \\\\ud5ec\\\\uc2a4\\\\ud0a4\\\\ud37c, PCN \\\\uc81c\\\\uc8fc \\\\ud39c\\\\uc158, PCN \\\\uc591\\\\uc591 \\\\ub4f1\\\\uc758 \\\\uc9c1\\\\uc6d0 \\\\ubcf5\\\\uc9c0\\\\ub97c \\\\ub298\\\\ub9ac\\\\uace0 \\\\ud568\\\\uaed8 \\\\uc131\\\\uc7a5\\\\ud558\\\\uace0 \\\\uc788\\\\uc2b5\\\\ub2c8\\\\ub2e4.\",\\n                \"verdict\": \"yes\",\\n                \"reason\": null\\n            },\\n            {\\n                \"statement\": \"PCN\\\\uc740 \\\\uc774\\\\uc5d0 \\\\ub9cc\\\\uc871\\\\ud558\\\\uc9c0 \\\\uc54a\\\\uace0 \\\\uc88b\\\\uc740 \\\\ud68c\\\\uc0ac\\\\ub97c \\\\ub118\\\\uc5b4\\\\uc11c\\\\ub294 \\\\uc704\\\\ub300\\\\ud55c \\\\uae30\\\\uc5c5 PCN\\\\uc744 \\\\ub9cc\\\\ub4e4\\\\uaca0\\\\uc2b5\\\\ub2c8\\\\ub2e4.\",\\n                \"verdict\": \"yes\",\\n                \"reason\": null\\n            },\\n            {\\n                \"statement\": \"\\\\uace0\\\\uac1d\\\\uac10\\\\ub3d9, \\\\uc778\\\\uc7ac\\\\ud589\\\\ubcf5, \\\\uac00\\\\uce58\\\\ucc3d\\\\uc870\\\\ub97c \\\\ud575\\\\uc2ec \\\\uac00\\\\uce58\\\\ub97c \\\\ubc14\\\\ud0d5\\\\uc73c\\\\ub85c \\\\u2018\\\\ub514\\\\uc9c0\\\\ud138 \\\\uc138\\\\uacc4\\\\uc5d0\\\\uc11c\\\\uc758 \\\\uac00\\\\uce58 \\\\ucc3d\\\\uc870\\\\u2019\\\\ub97c \\\\uc2e4\\\\ud604\\\\ud558\\\\uc5ec NO.1 Digital Flatform Company\\\\ub85c \\\\ub354\\\\uc6b1 \\\\uc815\\\\uc9c4\\\\ud558\\\\uaca0\\\\uc2b5\\\\ub2c8\\\\ub2e4.\",\\n                \"verdict\": \"yes\",\\n                \"reason\": null\\n            },\\n            {\\n                \"statement\": \"\\\\uac10\\\\uc0ac\\\\ud569\\\\ub2c8\\\\ub2e4.\",\\n                \"verdict\": \"no\",\\n                \"reason\": \"\\\\uc774 \\\\ubb38\\\\uc7a5\\\\uc740 \\\\uac10\\\\uc0ac\\\\ub9d0\\\\ub85c, \\\\ud53c\\\\uc528\\\\uc5d4 \\\\ud68c\\\\uc0ac\\\\uc5d0 \\\\ub300\\\\ud55c \\\\uc18c\\\\uac1c\\\\ub098 \\\\uad00\\\\ub828 \\\\uc815\\\\ubcf4\\\\uac00 \\\\uc544\\\\ub2d9\\\\ub2c8\\\\ub2e4.\"\\n            },\\n            {\\n                \"statement\": \"\\\\uae30\\\\uc5c5 \\\\uc815\\\\ubcf4\",\\n                \"verdict\": \"yes\",\\n                \"reason\": null\\n            },\\n            {\\n                \"statement\": \"\\\\uc124\\\\ub9bd \\\\uc5f0\\\\ub3c4 1999\\\\ub144 12\\\\uc6d4\",\\n                \"verdict\": \"yes\",\\n                \"reason\": null\\n            },\\n            {\\n                \"statement\": \"\\\\uc0ac\\\\uc5c5 \\\\ubd84\\\\uc57c SI(\\\\uc2dc\\\\uc2a4\\\\ud15c \\\\ud1b5\\\\ud569), SM(\\\\uc2dc\\\\uc2a4\\\\ud15c \\\\uad00\\\\ub9ac) \\\\ucee8\\\\uc124\\\\ud305, \\\\uc194\\\\ub8e8\\\\uc158 Bix, \\\\ubaa8\\\\ubc14\\\\uc77c \\\\ub4f1\",\\n                \"verdict\": \"yes\",\\n                \"reason\": null\\n            },\\n            {\\n                \"statement\": \"\\\\ub9e4\\\\ucd9c\\\\uc561 264\\\\uc5b5 *2022\\\\ub144 \\\\uae30\\\\uc900*\",\\n                \"verdict\": \"yes\",\\n                \"reason\": null\\n            },\\n            {\\n                \"statement\": \"\\\\uc784\\\\uc9c1\\\\uc6d0 180\\\\uba85 *2022\\\\ub144 \\\\uae30\\\\uc900*\",\\n                \"verdict\": \"yes\",\\n                \"reason\": null\\n            },\\n            {\\n                \"statement\": \"\\\\ube44\\\\uc804 \\\\ub514\\\\uc9c0\\\\ud138 \\\\uc138\\\\uc0c1\\\\uc5d0\\\\uc11c\\\\uc758 \\\\uac00\\\\uce58\\\\ucc3d\\\\uc870\\\\ub77c\\\\ub294 Vision\\\\uc744 \\\\ud1a0\\\\ub300\\\\ub85c \\\\uace0\\\\uac1d\\\\uc774 \\\\uc544\\\\ub2cc \\\\ud30c\\\\ud2b8\\\\ub108\\\\uac00 \\\\ub9ce\\\\uc740 \\\\uae30\\\\uc5c5\\\\uc73c\\\\ub85c \\\\uacc4\\\\uc18d \\\\uc131\\\\uc7a5\\\\ud558\\\\uaca0\\\\uc2b5\\\\ub2c8\\\\ub2e4.\",\\n                \"verdict\": \"yes\",\\n                \"reason\": null\\n            },\\n            {\\n                \"statement\": \"MISSION \\\\uc6b0\\\\ub9ac\\\\ub294 \\\\uace0\\\\uac1d\\\\uc758 \\\\uc131\\\\uacf5\\\\uc744 \\\\ub3c4\\\\uc640 \\\\uc138\\\\uc0c1\\\\uc758 \\\\uac00\\\\uce58\\\\ub97c \\\\uc99d\\\\ub300\\\\uc2dc\\\\ud0a4\\\\uba70 \\\\ud589\\\\ubcf5\\\\uacfc \\\\uae0d\\\\uc9c0\\\\ub97c \\\\ub290\\\\ub080\\\\ub2e4.\",\\n                \"verdict\": \"yes\",\\n                \"reason\": null\\n            },\\n            {\\n                \"statement\": \"VALUE \\\\uace0\\\\uac1d \\\\uac10\\\\ub3d9, \\\\uc778\\\\uc7ac \\\\ud589\\\\ubcf5, \\\\uac00\\\\uce58 \\\\ucc3d\\\\uc870\",\\n                \"verdict\": \"yes\",\\n                \"reason\": null\\n            },\\n            {\\n                \"statement\": \"VISION NO.1 DIGITAL VALUE SERVICE COMPANY\",\\n                \"verdict\": \"yes\",\\n                \"reason\": null\\n            },\\n            {\\n                \"statement\": \"\\\\ud68c\\\\uc0ac \\\\uc18c\\\\uac1c\\\\uc11c PDF\",\\n                \"verdict\": \"no\",\\n                \"reason\": \"\\\\uc774 \\\\ubb38\\\\uc7a5\\\\uc740 \\\\ud30c\\\\uc77c \\\\uc815\\\\ubcf4\\\\ub85c, \\\\ud53c\\\\uc528\\\\uc5d4 \\\\ud68c\\\\uc0ac\\\\uc5d0 \\\\ub300\\\\ud55c \\\\uc18c\\\\uac1c\\\\ub098 \\\\uad00\\\\ub828 \\\\uc815\\\\ubcf4\\\\uac00 \\\\uc544\\\\ub2d9\\\\ub2c8\\\\ub2e4.\"\\n            }\\n        ]\\n    },\\n    {\\n        \"verdicts\": [\\n            {\\n                \"statement\": \"\\\\ud53c\\\\uc528\\\\uc5d4, AI \\\\ud50c\\\\ub7ab\\\\ud3fc \\'\\\\uc624\\\\uc988\\\\uc544\\\\uc774\\' \\\\uc55e\\\\uc138\\\\uc6cc \\\\ud53c\\\\uc9c0\\\\uceec AI \\\\uc2dc\\\\uc7a5 \\\\uc9c4\\\\ucd9c\",\\n                \"verdict\": \"yes\",\\n                \"reason\": null\\n            },\\n            {\\n                \"statement\": \"\\\\ud53c\\\\uc528\\\\uc5d4(PCN), \\\\ubbfc\\\\uad00 \\\\ub514\\\\uc9c0\\\\ud138 \\\\ud601\\\\uc2e0 \\\\ud50c\\\\ub7ab\\\\ud3fc \\'DPG \\\\ud1b5\\\\ud569\\\\ud14c\\\\uc2a4\\\\ud2b8\\\\ubca0\\\\ub4dc\\' \\\\uc6b4\\\\uc601 \\\\ub9e1\\\\ub294\\\\ub2e4\",\\n                \"verdict\": \"yes\",\\n                \"reason\": null\\n            },\\n            {\\n                \"statement\": \"PCN, \\\\uc81c4\\\\uae30 \\\\uc815\\\\uae30 \\\\uc8fc\\\\ucd1d \\\\uc131\\\\ub8cc\\\\u00b7\\\\u00b7\\\\u00b7\\\\uc7ac\\\\ubb34\\\\uc81c\\\\ud45c \\\\ub4f1 \\\\uc2b9\\\\uc778\",\\n                \"verdict\": \"yes\",\\n                \"reason\": null\\n            },\\n            {\\n                \"statement\": \"\\\\ud53c\\\\uc528\\\\uc5d4, XR \\\\ucf58\\\\ud150\\\\uce20\\\\uc11c \\\\uc0c1\\\\ud638\\\\uc791\\\\uc6a9 \\\\uac00\\\\ub2a5\\\\uc131 \\\\uc5f4\\\\uc5c8\\\\ub2e4\",\\n                \"verdict\": \"yes\",\\n                \"reason\": null\\n            },\\n            {\\n                \"statement\": \"\\\\ud53c\\\\uc528\\\\uc5d4-\\\\uba54\\\\ub514\\\\ud2b8\\\\ub9ad\\\\uc2a4, \\\\ub514\\\\uc9c0\\\\ud138 \\\\ud5ec\\\\uc2a4\\\\ucf00\\\\uc5b4 \\\\uc0ac\\\\uc5c5 \\\\ud611\\\\ub825\",\\n                \"verdict\": \"yes\",\\n                \"reason\": null\\n            },\\n            {\\n                \"statement\": \"\\\\uacfc\\\\uae30\\\\uc815\\\\ud1b5\\\\ubd80, \\\\uc0b0\\\\uc5c5\\\\uae30\\\\uc220\\\\uc5f0\\\\uad6c\\\\uc870\\\\ud569 \\\\uae30\\\\uc220\\\\uad50\\\\ub958\\\\ud68c \\\\uac1c\\\\ucd5c\",\\n                \"verdict\": \"no\",\\n                \"reason\": \"The retrieval context contained the information \\'\\\\uacfc\\\\uae30\\\\uc815\\\\ud1b5\\\\ubd80, \\\\uc0b0\\\\uc5c5\\\\uae30\\\\uc220\\\\uc5f0\\\\uad6c\\\\uc870\\\\ud569 \\\\uae30\\\\uc220\\\\uad50\\\\ub958\\\\ud68c \\\\uac1c\\\\ucd5c\\' when it has nothing to do with \\\\ud53c\\\\uc528\\\\uc5d4 company introduction.\"\\n            }\\n        ]\\n    },\\n    {\\n        \"verdicts\": [\\n            {\\n                \"statement\": \"\\\\ub514\\\\uc9c0\\\\ud138 \\\\uac00\\\\uce58\\\\ub97c \\\\ub9cc\\\\ub4dc\\\\ub294 \\\\uae30\\\\uc5c5\",\\n                \"verdict\": \"yes\",\\n                \"reason\": null\\n            },\\n            {\\n                \"statement\": \"PCN\\\\uc740 \\\\uc9c0\\\\uc2dd, \\\\uacbd\\\\ud5d8, \\\\ub124\\\\ud2b8\\\\uc6cc\\\\ud06c\\\\ub97c \\\\ubc14\\\\ud0d5\\\\uc73c\\\\ub85c \\\\ub514\\\\uc9c0\\\\ud138 \\\\ud658\\\\uacbd\\\\uc5d0\\\\uc11c\\\\uc758 \\\\uace0\\\\uac1d \\\\ube44\\\\uc988\\\\ub2c8\\\\uc2a4 \\\\uc131\\\\uacf5\\\\uc744 \\\\uc9c0\\\\uc6d0\\\\ud558\\\\ub294 Digital Value Service \\\\uae30\\\\uc5c5\\\\uc785\\\\ub2c8\\\\ub2e4.\",\\n                \"verdict\": \"yes\",\\n                \"reason\": null\\n            },\\n            {\\n                \"statement\": \"PCN\\\\uc740 \\\\ub2e4\\\\uc591\\\\ud55c \\\\uae30\\\\uc5c5 \\\\ubc0f \\\\uae30\\\\uc5c5\\\\ub4e4\\\\uc758 \\\\uc628\\\\ub77c\\\\uc778 \\\\ube44\\\\uc988\\\\ub2c8\\\\uc2a4 \\\\ud30c\\\\ud2b8\\\\ub108\\\\ub85c\\\\uc11c, \\\\uace0\\\\uac1d\\\\ub4e4\\\\uacfc \\\\ud568\\\\uaed8 \\\\uafb8\\\\uc900\\\\ud788 \\\\uc131\\\\uc7a5\\\\ud574\\\\uc654\\\\uc2b5\\\\ub2c8\\\\ub2e4.\",\\n                \"verdict\": \"yes\",\\n                \"reason\": null\\n            },\\n            {\\n                \"statement\": \"PCN\\\\uc740 \\\\uae30\\\\uc220\\\\ub825\\\\uacfc \\\\ub178\\\\ud558\\\\uc6b0\\\\ub97c \\\\ub450\\\\ub8e8 \\\\uac16\\\\ucd98 \\\\ubd84\\\\uc57c\\\\ubcc4 \\\\uc2a4\\\\ud398\\\\uc15c\\\\ub9ac\\\\uc2a4\\\\ud2b8\\\\ub4e4\\\\uc774 \\\\uace0\\\\uac1d\\\\uc758 \\\\ube44\\\\uc988\\\\ub2c8\\\\uc2a4 \\\\ud30c\\\\ud2b8\\\\ub108\\\\ub85c\\\\uc11c \\\\uac10\\\\ub3d9\\\\uc758 \\\\uac00\\\\uce58\\\\ub97c \\\\uc2e4\\\\ud604\\\\ud569\\\\ub2c8\\\\ub2e4.\",\\n                \"verdict\": \"yes\",\\n                \"reason\": null\\n            },\\n            {\\n                \"statement\": \"\\\\uc628\\\\ub77c\\\\uc778 \\\\ud658\\\\uacbd\\\\uacfc \\\\ube44\\\\uc988\\\\ub2c8\\\\uc2a4\\\\uc5d0 \\\\ub300\\\\ud55c \\\\uae4a\\\\uc740 \\\\uc774\\\\ud574\\\\ub97c \\\\uac00\\\\uc9c4 \\\\uc911\\\\u00b7\\\\uace0\\\\uae09 \\\\uc778\\\\ub825\\\\uc774 \\\\uc804\\\\uccb4\\\\uc758 60%\\\\ub97c \\\\ucc28\\\\uc9c0\\\\ud558\\\\uace0 \\\\uc788\\\\uc73c\\\\uba70 \\\\ub2e4\\\\uc591\\\\ud55c \\\\uc804\\\\ubb38 \\\\uae30\\\\uc220\\\\uc744 \\\\ubcf4\\\\uc720\\\\ud55c \\\\uc778\\\\uc7ac\\\\ub4e4\\\\ub85c \\\\uad6c\\\\uc131\\\\ub418\\\\uc5b4 \\\\uc788\\\\uc5b4 \\\\uc0ac\\\\uc5c5\\\\uc744 \\\\uc131\\\\uacf5\\\\uc73c\\\\ub85c \\\\uc774\\\\ub04c\\\\uace0 \\\\uc788\\\\uc2b5\\\\ub2c8\\\\ub2e4.\",\\n                \"verdict\": \"yes\",\\n                \"reason\": null\\n            },\\n            {\\n                \"statement\": \"CEO \\\\uba54\\\\uc138\\\\uc9c0\",\\n                \"verdict\": \"yes\",\\n                \"reason\": null\\n            }\\n        ]\\n    },\\n    {\\n        \"verdicts\": [\\n            {\\n                \"statement\": \"PCN E-Search\\\\ub294 Lucene \\\\ub77c\\\\uc774\\\\ube0c\\\\ub7ec\\\\ub9ac \\\\ubc0f Elastic \\\\uc624\\\\ud508\\\\uc18c\\\\uc2a4 \\\\uae30\\\\ubc18\\\\uc73c\\\\ub85c \\\\uc81c\\\\uc791\\\\ub418\\\\uc5c8\\\\uace0 \\\\ub2e4\\\\uc591\\\\ud55c \\\\ud615\\\\ud0dc\\\\uc758 \\\\ub9ac\\\\uc18c\\\\uc2a4 \\\\ub370\\\\uc774\\\\ud130\\\\uc5d0 \\\\ub300\\\\ud55c \\\\ud06c\\\\ub864\\\\ub9c1, \\\\ubd84\\\\uc0b0 \\\\uc800\\\\uc7a5 \\\\ubc0f \\\\uac80\\\\uc0c9\\\\uc744 \\\\uc9c0\\\\uc6d0\\\\ud558\\\\ub294 \\\\ud655\\\\uc7a5\\\\uc131\\\\uc774 \\\\ub6f0\\\\uc5b4\\\\ub09c \\\\uac80\\\\uc0c9 \\\\ud50c\\\\ub7ab\\\\ud3fc\\\\uc785\\\\ub2c8\\\\ub2e4.\",\\n                \"verdict\": \"yes\",\\n                \"reason\": null\\n            },\\n            {\\n                \"statement\": \"PCN \\\\uae30\\\\uc5c5\\\\ubd80\\\\uc124\\\\uc5f0\\\\uad6c\\\\uc18c\\\\ub294 Elastic\\\\uae30\\\\ubc18\\\\uc73c\\\\ub85c \\\\uac80\\\\uc0c9\\\\uc5d4\\\\uc9c4\\\\uc744 \\\\ud655\\\\uc7a5\\\\ud558\\\\uc5ec \\\\uacf5\\\\uacf5 \\\\uae30\\\\uad00\\\\uc5d0 \\\\ub0a9\\\\ud488\\\\ud55c \\\\uc2e4\\\\uc801\\\\uc744 \\\\ubcf4\\\\uc720\\\\ud558\\\\uace0 \\\\uc788\\\\uc2b5\\\\ub2c8\\\\ub2e4.\",\\n                \"verdict\": \"yes\",\\n                \"reason\": null\\n            },\\n            {\\n                \"statement\": \"\\\\uad6c\\\\uc131\\\\ub3c4\",\\n                \"verdict\": \"no\",\\n                \"reason\": \"\\\\uad6c\\\\uc131\\\\ub3c4\\\\ub294 PCN E-Search\\\\uc758 \\\\ud2b9\\\\uc9d5\\\\uc774\\\\ub098 \\\\uae30\\\\ub2a5\\\\uc5d0 \\\\ub300\\\\ud55c \\\\uc124\\\\uba85\\\\uc774 \\\\uc544\\\\ub2d9\\\\ub2c8\\\\ub2e4.\"\\n            },\\n            {\\n                \"statement\": \"\\\\ud2b9\\\\uc7a5\\\\uc810\",\\n                \"verdict\": \"no\",\\n                \"reason\": \"\\\\ud2b9\\\\uc7a5\\\\uc810\\\\uc740 PCN E-Search\\\\uc758 \\\\uae30\\\\ub2a5\\\\uc801 \\\\uc7a5\\\\uc810\\\\uc744 \\\\ub098\\\\uc5f4\\\\ud55c \\\\uac83\\\\uc774\\\\uc9c0\\\\ub9cc, \\\\ud53c\\\\uc528\\\\uc5d4 \\\\ud68c\\\\uc0ac\\\\uc5d0 \\\\ub300\\\\ud55c \\\\uc18c\\\\uac1c\\\\uac00 \\\\uc544\\\\ub2c8\\\\ub77c \\\\ud2b9\\\\uc815 \\\\uae30\\\\ub2a5\\\\uc758 \\\\ubaa9\\\\ub85d\\\\uc785\\\\ub2c8\\\\ub2e4.\"\\n            },\\n            {\\n                \"statement\": \"\\\\uc81c\\\\ud488 \\\\uc18c\\\\uac1c\\\\uc11c \\\\ub2e4\\\\uc6b4\\\\ub85c\\\\ub4dc\",\\n                \"verdict\": \"no\",\\n                \"reason\": \"\\\\uc81c\\\\ud488 \\\\uc18c\\\\uac1c\\\\uc11c \\\\ub2e4\\\\uc6b4\\\\ub85c\\\\ub4dc\\\\ub294 PCN E-Search\\\\uc5d0 \\\\ub300\\\\ud55c \\\\uc815\\\\ubcf4 \\\\uc81c\\\\uacf5\\\\uc774 \\\\uc544\\\\ub2c8\\\\ub77c \\\\uc0ac\\\\uc6a9\\\\uc790 \\\\ud589\\\\ub3d9\\\\uc744 \\\\uc720\\\\ub3c4\\\\ud558\\\\ub294 \\\\ubb38\\\\uad6c\\\\uc785\\\\ub2c8\\\\ub2e4.\"\\n            }\\n        ]\\n    },\\n    {\\n        \"verdicts\": [\\n            {\\n                \"statement\": \"PCN \\\\uc9c1\\\\uc6d0 \\\\ud61c\\\\ud0dd\",\\n                \"verdict\": \"yes\",\\n                \"reason\": null\\n            },\\n            {\\n                \"statement\": \"PCN\\\\uc740 \\\\ub2e4\\\\uc591\\\\ud55c \\\\uc0ac\\\\uc6d0\\\\ubcf5\\\\uc9c0\\\\ub97c \\\\ud1b5\\\\ud574 \\\\uc784\\\\uc9c1\\\\uc6d0\\\\ub4e4\\\\uc774 \\\\uc990\\\\uac81\\\\uace0 \\\\ud589\\\\ubcf5\\\\ud558\\\\uac8c \\\\uc77c \\\\ud560 \\\\uc218 \\\\uc788\\\\ub294 \\\\ud68c\\\\uc0ac\\\\uac00 \\\\ub420 \\\\uc218 \\\\uc788\\\\ub3c4\\\\ub85d \\\\ub178\\\\ub825 \\\\ud569\\\\ub2c8\\\\ub2e4.\",\\n                \"verdict\": \"yes\",\\n                \"reason\": null\\n            },\\n            {\\n                \"statement\": \"\\\\uc81c\\\\uc8fc \\\\uc591\\\\uc591 \\\\ud39c\\\\uc158\",\\n                \"verdict\": \"no\",\\n                \"reason\": null\\n            },\\n            {\\n                \"statement\": \"\\\\uc81c\\\\uc8fc \\\\ud39c\\\\uc158\",\\n                \"verdict\": \"no\",\\n                \"reason\": null\\n            },\\n            {\\n                \"statement\": \"\\\\uc591\\\\uc591 \\\\ud39c\\\\uc158\",\\n                \"verdict\": \"no\",\\n                \"reason\": null\\n            },\\n            {\\n                \"statement\": \"\\\\ud5ec\\\\uc2a4\\\\ud0a4\\\\ud37c\",\\n                \"verdict\": \"yes\",\\n                \"reason\": null\\n            },\\n            {\\n                \"statement\": \"\\\\uc9c1\\\\uc6d0\\\\ub4e4\\\\uc758 \\\\ubb49\\\\uce5c \\\\uadfc\\\\uc721\\\\uc744 \\\\ud480\\\\uc5b4 \\\\ub4dc\\\\ub9bd\\\\ub2c8\\\\ub2e4! \\\\uad6d\\\\uac00\\\\uacf5\\\\uc778 \\\\uc548\\\\ub9c8\\\\uc0ac \\\\uc790\\\\uaca9\\\\uc744 \\\\uac16\\\\ucd98 \\\\ud5ec\\\\uc2a4 \\\\ud0a4\\\\ud37c \\\\ubd84\\\\ub4e4\\\\uc5d0\\\\uac8c \\\\uc8fc 1\\\\ud68c \\\\uc548\\\\ub9c8\\\\ub97c \\\\ubc1b\\\\uc744 \\\\uc218 \\\\uc788\\\\uc2b5\\\\ub2c8\\\\ub2e4.\",\\n                \"verdict\": \"yes\",\\n                \"reason\": null\\n            },\\n            {\\n                \"statement\": \"\\\\ub9de\\\\ucda4\\\\ud615 \\\\ubcf5\\\\uc9c0 \\\\uc81c\\\\ub3c4\",\\n                \"verdict\": \"yes\",\\n                \"reason\": null\\n            },\\n            {\\n                \"statement\": \"\\\\uc5ec\\\\ud589, \\\\uac74\\\\uac15, \\\\uad50\\\\uc721, \\\\ucde8\\\\ubbf8 1\\\\ud68c\\\\uc5d0 \\\\ud55c\\\\ud558\\\\uc5ec \\\\ud604\\\\uae08\\\\uc744 \\\\uc9c0\\\\uae09\\\\ud569\\\\ub2c8\\\\ub2e4.\",\\n                \"verdict\": \"yes\",\\n                \"reason\": null\\n            },\\n            {\\n                \"statement\": \"\\\\uc7a5\\\\uae30\\\\uadfc\\\\uc18d\\\\uc790 \\\\ud3ec\\\\uc0c1\",\\n                \"verdict\": \"yes\",\\n                \"reason\": null\\n            },\\n            {\\n                \"statement\": \"PCN\\\\uacfc \\\\ud568\\\\uaed8 \\\\uafb8\\\\uc900\\\\ud788 \\\\uc131\\\\uc7a5\\\\ud574\\\\uc900 \\\\uc9c1\\\\uc6d0\\\\ub4e4\\\\uc5d0\\\\uac8c 3/5/7/10/15/20/25\\\\uc8fc\\\\ub144 \\\\uc120\\\\ubb3c\\\\uc744 \\\\uc9c0\\\\uae09 \\\\ud569\\\\ub2c8\\\\ub2e4.\",\\n                \"verdict\": \"yes\",\\n                \"reason\": null\\n            },\\n            {\\n                \"statement\": \"\\\\uad50\\\\uc721\\\\ud6c8\\\\ub828\\\\ube44 \\\\uc9c0\\\\uc6d0\",\\n                \"verdict\": \"yes\",\\n                \"reason\": null\\n            },\\n            {\\n                \"statement\": \"\\\\uc0ac\\\\uc678\\\\uad50\\\\uc721 50% \\\\uc9c0\\\\uc6d0 \\\\ubc0f \\\\uc9c1\\\\uc6d0 \\\\ubcf8\\\\uc778 \\\\ub300\\\\ud559/\\\\ub300\\\\ud559\\\\uc6d0 \\\\ub4f1\\\\ub85d\\\\uae08 50% \\\\uc9c0\\\\uc6d0 \\\\ud569\\\\ub2c8\\\\ub2e4.\",\\n                \"verdict\": \"yes\",\\n                \"reason\": null\\n            },\\n            {\\n                \"statement\": \"\\\\ud328\\\\ubc00\\\\ub9ac \\\\ub370\\\\uc774\",\\n                \"verdict\": \"yes\",\\n                \"reason\": null\\n            },\\n            {\\n                \"statement\": \"\\\\ub9e4\\\\uc6d4 1\\\\uc77c 2\\\\uc2dc\\\\uac04 \\\\uc870\\\\uae30 \\\\ud1f4\\\\uadfc\",\\n                \"verdict\": \"yes\",\\n                \"reason\": null\\n            },\\n            {\\n                \"statement\": \"\\\\uba85\\\\uc808 \\\\uc120\\\\ubb3c \\\\uc9c0\\\\uae09\",\\n                \"verdict\": \"yes\",\\n                \"reason\": null\\n            },\\n            {\\n                \"statement\": \"\\\\uc124\\\\uacfc \\\\ucd94\\\\uc11d \\\\uba85\\\\uc808\\\\uc5d0 \\\\uac10\\\\uc0ac\\\\uc758 \\\\ub9c8\\\\uc74c\\\\uc744 \\\\uc804\\\\ud558\\\\uae30 \\\\uc704\\\\ud574 \\\\uc120\\\\ubb3c\\\\uc744 \\\\uc9c0\\\\uae09\\\\ud569\\\\ub2c8\\\\ub2e4.\",\\n                \"verdict\": \"yes\",\\n                \"reason\": null\\n            },\\n            {\\n                \"statement\": \"\\\\ub3c4\\\\uc11c\\\\ube44 \\\\uc9c0\\\\uc6d0\",\\n                \"verdict\": \"yes\",\\n                \"reason\": null\\n            },\\n            {\\n                \"statement\": \"\\\\uc9c1\\\\uc6d0\\\\ub4e4\\\\uc758 \\\\uc131\\\\uc7a5\\\\uacfc \\\\uc5ed\\\\ub7c9 \\\\ud5a5\\\\uc0c1\\\\uc744 \\\\uc704\\\\ud574 \\\\uc5c5\\\\ubb34 \\\\uad00\\\\ub828 \\\\ub3c4\\\\uc11c\\\\ube44\\\\ub97c \\\\uc9c0\\\\uc6d0\\\\ud569\\\\ub2c8\\\\ub2e4.\",\\n                \"verdict\": \"yes\",\\n                \"reason\": null\\n            },\\n            {\\n                \"statement\": \"\\\\uc0dd\\\\uc77c\\\\uc790 \\\\uc120\\\\ubb3c\",\\n                \"verdict\": \"yes\",\\n                \"reason\": null\\n            },\\n            {\\n                \"statement\": \"\\\\uc0dd\\\\uc77c \\\\ud30c\\\\ud2f0 \\\\ub610\\\\ub294 \\\\ubcf8\\\\uc778 \\\\uc120\\\\ubb3c \\\\uad6c\\\\ub9e4\\\\ub97c \\\\uc704\\\\ud574 \\\\ud604\\\\uae08\\\\uc744 \\\\uc9c0\\\\uae09\\\\ud569\\\\ub2c8\\\\ub2e4.\",\\n                \"verdict\": \"yes\",\\n                \"reason\": null\\n            },\\n            {\\n                \"statement\": \"\\\\ud734\\\\uc2dd\\\\uacf5\\\\uac04\",\\n                \"verdict\": \"yes\",\\n                \"reason\": null\\n            },\\n            {\\n                \"statement\": \"\\\\uc5c5\\\\ubb34 \\\\uc911\\\\uc5d0 \\\\uc7a0\\\\uc2dc \\\\ud734\\\\uc2dd\\\\uc744 \\\\uc704\\\\ud574 \\\\uc0ac\\\\ub0b4 \\\\uce74\\\\ud398\\\\uc5d0\\\\uc11c \\\\ucee4\\\\ud53c\\\\ud55c\\\\uc794\\\\uc758 \\\\uc5ec\\\\uc720\\\\uc640 \\\\ud734\\\\uac8c\\\\uacf5\\\\uac04\\\\uc5d0\\\\uc11c \\\\uc548\\\\ub9c8\\\\uc758\\\\uc790 \\\\ub4f1\\\\uc744 \\\\ud1b5\\\\ud574 \\\\uc7a0\\\\uc2dc \\\\ud734\\\\uc2dd\\\\uc744 \\\\uac00\\\\uc9c8 \\\\uc218 \\\\uc788\\\\uc2b5\\\\ub2c8\\\\ub2e4.\",\\n                \"verdict\": \"yes\",\\n                \"reason\": null\\n            },\\n            {\\n                \"statement\": \"\\\\uacbd\\\\uc870\\\\ud654\\\\ud658\",\\n                \"verdict\": \"yes\",\\n                \"reason\": null\\n            },\\n            {\\n                \"statement\": \"\\\\uacbd\\\\uc870\\\\uc0ac \\\\ubc1c\\\\uc0dd\\\\uc2dc \\\\uc870\\\\uc758\\\\uc758 \\\\ub9c8\\\\uc74c\\\\uc744 \\\\uc804\\\\ud558\\\\uace0\\\\uc790 \\\\ud654\\\\ud658\\\\uc744 \\\\uc81c\\\\uacf5\\\\ud569\\\\ub2c8\\\\ub2e4.\",\\n                \"verdict\": \"yes\",\\n                \"reason\": null\\n            }\\n        ]\\n    },\\n    {\\n        \"verdicts\": [\\n            {\\n                \"statement\": \"PCN\\\\uc740 \\\\uac15\\\\ub0a8\\\\uad6c \\\\ud559\\\\ub3d9\\\\uc5ed/\\\\ub17c\\\\ud604\\\\uc5ed \\\\ubd80\\\\uadfc\\\\uc5d0 \\\\uc704\\\\uce58\\\\ud558\\\\uace0 \\\\uc788\\\\uc2b5\\\\ub2c8\\\\ub2e4.\",\\n                \"verdict\": \"yes\",\\n                \"reason\": null\\n            },\\n            {\\n                \"statement\": \"\\\\ubb38\\\\uc758\\\\ub294 \\\\uc5b8\\\\uc81c\\\\ub098 \\\\uc5f4\\\\ub824\\\\uc788\\\\uc2b5\\\\ub2c8\\\\ub2e4.\",\\n                \"verdict\": \"no\",\\n                \"reason\": \"The retrieval context contained the information \\'\\\\ubb38\\\\uc758\\\\ub294 \\\\uc5b8\\\\uc81c\\\\ub098 \\\\uc5f4\\\\ub824\\\\uc788\\\\uc2b5\\\\ub2c8\\\\ub2e4.\\' when it has nothing to do with introducing PCN.\"\\n            },\\n            {\\n                \"statement\": \"\\\\uc11c\\\\uc6b8\\\\ud2b9\\\\ubcc4\\\\uc2dc \\\\uac15\\\\ub0a8\\\\uad6c \\\\ud559\\\\ub3d9\\\\ub85c 146 PCN\\\\ube4c\\\\ub529\",\\n                \"verdict\": \"yes\",\\n                \"reason\": null\\n            },\\n            {\\n                \"statement\": \"E.master@pcninc.co.kr\",\\n                \"verdict\": \"no\",\\n                \"reason\": \"The retrieval context contained the email address \\'E.master@pcninc.co.kr\\' when it has nothing to do with introducing PCN.\"\\n            },\\n            {\\n                \"statement\": \"T.02 - 565 - 7740\",\\n                \"verdict\": \"yes\",\\n                \"reason\": null\\n            },\\n            {\\n                \"statement\": \"\\\\uc601\\\\uc5c5\\\\ubb38\\\\uc758 E.master@pcninc.co.kr T.02 - 6027 - 5870\",\\n                \"verdict\": \"no\",\\n                \"reason\": \"The retrieval context contained the contact information for business inquiries when it has nothing to do with introducing PCN.\"\\n            },\\n            {\\n                \"statement\": \"\\\\ud559\\\\ub3d9\\\\uc5ed\\\\uc5d0\\\\uc11c \\\\ud558\\\\ucc28 (5\\\\ubc88 \\\\ucd9c\\\\uad6c\\\\uc5d0\\\\uc11c 300m \\\\ub3c4\\\\ubcf4 5\\\\ubd84\\\\uac70\\\\ub9ac)\",\\n                \"verdict\": \"yes\",\\n                \"reason\": null\\n            },\\n            {\\n                \"statement\": \"\\\\ub17c\\\\ud604\\\\uc5ed\\\\uc5d0\\\\uc11c \\\\ud558\\\\ucc28 (1\\\\ubc88 \\\\ucd9c\\\\uad6c\\\\uc5d0\\\\uc11c 450m \\\\ub3c4\\\\ubcf4 8\\\\ubd84\\\\uac70\\\\ub9ac)\",\\n                \"verdict\": \"yes\",\\n                \"reason\": null\\n            },\\n            {\\n                \"statement\": \"240, 401, 3412, 6411\",\\n                \"verdict\": \"yes\",\\n                \"reason\": null\\n            },\\n            {\\n                \"statement\": \"PCN \\\\ube4c\\\\ub529 \\\\uc8fc\\\\ucc28\\\\uc7a5 \\\\uc720\\\\ub8cc \\\\uc2dc\\\\uc124\\\\ub85c \\\\ub300\\\\uc911\\\\uad50\\\\ud1b5 \\\\uc774\\\\uc6a9\\\\uc744 \\\\uad8c\\\\uc7a5\",\\n                \"verdict\": \"no\",\\n                \"reason\": \"The retrieval context contained the information about parking facilities when it has nothing to do with introducing PCN.\"\\n            }\\n        ]\\n    },\\n    {\\n        \"verdicts\": [\\n            {\\n                \"statement\": \"\\\\uac24\\\\ub7ec\\\\ub9ac \\\\uc544\\\\ud2b8\\\\uc778\\\\uc0ac\\\\uc774\\\\ud2b8 \\\\uac1c\\\\uad00\",\\n                \"verdict\": \"no\",\\n                \"reason\": null\\n            },\\n            {\\n                \"statement\": \"2016\\\\ub144 09\\\\uc6d4 \\\\uc77c\\\\ud559\\\\uc2b5\\\\ubcd1\\\\ud589\\\\uc81c \\\\uacbd\\\\uc9c4\\\\ub300\\\\ud68c \\\\uc7a5\\\\ub824\\\\uc0c1(\\\\ud55c\\\\uad6d\\\\uc0b0\\\\uc5c5\\\\uc778\\\\ub825\\\\uacf5\\\\ub2e8)\",\\n                \"verdict\": \"yes\",\\n                \"reason\": null\\n            },\\n            {\\n                \"statement\": \"2015\\\\ub144 11\\\\uc6d4 \\\\ubbf8\\\\ub798\\\\ucc3d\\\\uc870\\\\uacfc\\\\ud559\\\\ubd80 \\\\uc7a5\\\\uad00 \\\\ud45c\\\\ucc3d\",\\n                \"verdict\": \"yes\",\\n                \"reason\": null\\n            },\\n            {\\n                \"statement\": \"2013\\\\ub144 08\\\\uc6d4 \\\\uc815\\\\ubcf4\\\\ud1b5\\\\uc2e0 \\\\uacf5\\\\uc0ac\\\\uc5c5 \\\\ucde8\\\\ub4dd\",\\n                \"verdict\": \"yes\",\\n                \"reason\": null\\n            },\\n            {\\n                \"statement\": \"2011\\\\ub144 08\\\\uc6d4 \\\\ud55c\\\\uad6d\\\\uc815\\\\ubcf4\\\\uc0b0\\\\uc5c5\\\\ud611\\\\ub3d9\\\\uc870\\\\ud569 \\\\uc870\\\\ud569\\\\uc6d0 \\\\uac00\\\\uc785\",\\n                \"verdict\": \"yes\",\\n                \"reason\": null\\n            },\\n            {\\n                \"statement\": \"2008\\\\ub144 04\\\\uc6d4 \\\\uc18c\\\\ud504\\\\ud2b8\\\\uc6e8\\\\uc5b4 \\\\uc0ac\\\\uc5c5\\\\uc790 \\\\uc2e0\\\\uace0\",\\n                \"verdict\": \"yes\",\\n                \"reason\": null\\n            },\\n            {\\n                \"statement\": \"2004\\\\ub144 10\\\\uc6d4 \\\\uc628\\\\ub77c\\\\uc778\\\\uc1fc\\\\ud551\\\\ubab0 \\\\uc194\\\\ub8e8\\\\uc158 PCNShop V 1.0 \\\\uac1c\\\\ubc1c\",\\n                \"verdict\": \"yes\",\\n                \"reason\": null\\n            },\\n            {\\n                \"statement\": \"2002\\\\ub144 04\\\\uc6d4 \\'\\\\uc628\\\\ub77c\\\\uc778\\\\uc744 \\\\uc774\\\\uc6a9\\\\ud55c \\\\ubcd1\\\\uc6d0 \\\\uc790\\\\ub3d9\\\\ud654 \\\\uc11c\\\\ube44\\\\uc2a4 \\\\uc2dc\\\\uc2a4\\\\ud15c\\' \\\\ud2b9\\\\ud5c8\\\\ucd9c\\\\uc6d0 (\\\\ucd9c\\\\uc6d0\\\\ubc88\\\\ud638 10-2004-0051772)\",\\n                \"verdict\": \"yes\",\\n                \"reason\": null\\n            },\\n            {\\n                \"statement\": \"1999\\\\ub144 12\\\\uc6d4 \\\\ucf54\\\\ub9ac\\\\uc544\\\\ub137 \\\\uc124\\\\ub9bd\",\\n                \"verdict\": \"yes\",\\n                \"reason\": null\\n            }\\n        ]\\n    },\\n    {\\n        \"verdicts\": [\\n            {\\n                \"statement\": \"\\'\\\\ub514\\\\uc9c0\\\\ud138 \\\\uc138\\\\uc0c1\\\\uc5d0\\\\uc11c\\\\uc758 \\\\uac00\\\\uce58 \\\\ucc3d\\\\uc870\\'\\\\ub77c\\\\ub294 \\\\ube44\\\\uc804 \\\\uc544\\\\ub798 20\\\\ub144\\\\uac04 \\\\ub04a\\\\uc784 \\\\uc5c6\\\\uc774 \\\\ub2ec\\\\ub824\\\\uc654\\\\uc2b5\\\\ub2c8\\\\ub2e4.\",\\n                \"verdict\": \"yes\",\\n                \"reason\": \"\"\\n            },\\n            {\\n                \"statement\": \"1999\\\\ub144 PCN\\\\uc758 \\\\uc804\\\\uc2e0\\\\uc778 \\\\ucf54\\\\ub9ac\\\\uc544\\\\ub137\\\\uc774 \\\\uc124\\\\ub9bd\\\\ub41c \\\\uc774\\\\ud6c4\\\\ubd80\\\\ud130 \\\\uc9c0\\\\uae08\\\\uc5d0 \\\\uc774\\\\ub974\\\\uae30\\\\uae4c\\\\uc9c0 \\\\ub2e4\\\\uc591\\\\ud55c \\\\ud2b9\\\\ud5c8\\\\uc640 \\\\uc778\\\\uc99d\\\\uc744 \\\\ud68d\\\\ub4dd\\\\ud558\\\\uba70 \\\\ud574\\\\ub2f9 \\\\ubd84\\\\uc57c\\\\uc5d0\\\\uc11c \\\\uacf5\\\\uace0\\\\ud788 \\\\uc790\\\\ub9ac\\\\ub9e4\\\\uae40\\\\ud574\\\\uc654\\\\uc2b5\\\\ub2c8\\\\ub2e4.\",\\n                \"verdict\": \"yes\",\\n                \"reason\": \"\"\\n            },\\n            {\\n                \"statement\": \"2022\\\\ub144 12\\\\uc6d4 \\\\ub300\\\\ud55c\\\\ubbfc\\\\uad6d\\\\ub514\\\\uc9c0\\\\ud138\\\\uacbd\\\\uc601\\\\ud601\\\\uc2e0\\\\ub300\\\\uc0c1 \\\\ubb38\\\\ud654\\\\uccb4\\\\uc721\\\\uad00\\\\uad11\\\\ubd80 \\\\uc7a5\\\\uad00\\\\uc0c1 \\\\uc218\\\\uc0c1\",\\n                \"verdict\": \"yes\",\\n                \"reason\": \"\"\\n            },\\n            {\\n                \"statement\": \"10\\\\uc6d4 \\\\ub808\\\\ub4dc\\\\ub2f7 \\\\ub514\\\\uc790\\\\uc778 \\\\uc5b4\\\\uc6cc\\\\ub4dc \\\\ube0c\\\\ub79c\\\\ub4dc \\\\ucee4\\\\ubba4\\\\ub2c8\\\\ucf00\\\\uc774\\\\uc158\\\\ubd80\\\\ubb38\\\\uc0c1 \\\\uc218\\\\uc0c1\",\\n                \"verdict\": \"yes\",\\n                \"reason\": \"\"\\n            },\\n            {\\n                \"statement\": \"08\\\\uc6d4 PCN \\\\uc2e0\\\\uc0ac\\\\uc625 \\\\uc774\\\\uc804(\\\\ud559\\\\ub3d9\\\\ub85c 146 PCN\\\\ube4c\\\\ub529)\",\\n                \"verdict\": \"yes\",\\n                \"reason\": \"\"\\n            },\\n            {\\n                \"statement\": \"01\\\\uc6d4 \\\\uac24\\\\ub7ec\\\\ub9ac \\\\uc544\\\\ud2b8\\\\uc778\\\\uc0ac\\\\uc774\\\\ud2b8 \\\\uac1c\\\\uad00\",\\n                \"verdict\": \"yes\",\\n                \"reason\": \"\"\\n            },\\n            {\\n                \"statement\": \"2021\\\\ub144 12\\\\uc6d4 \\\\uad6d\\\\ubb34\\\\ucd1d\\\\ub9ac \\\\ud45c\\\\ucc3d (\\\\uc18c\\\\ud504\\\\ud2b8\\\\uc6e8\\\\uc5b4\\\\uc0b0\\\\uc5c5\\\\uc9c4\\\\ud765 \\\\ubc1c\\\\uc804)\",\\n                \"verdict\": \"yes\",\\n                \"reason\": \"\"\\n            },\\n            {\\n                \"statement\": \"11\\\\uc6d4 \\\\uc81c6\\\\ud68c 3D \\\\ud504\\\\ub9b0\\\\ud305 BIZCON \\\\uacbd\\\\uc9c4\\\\ub300\\\\ud68c \\\\ucd5c\\\\uc6b0\\\\uc218\\\\uc0c1(\\\\ubb38\\\\ud654\\\\uc7ac\\\\uccad)\",\\n                \"verdict\": \"yes\",\\n                \"reason\": \"\"\\n            },\\n            {\\n                \"statement\": \"09\\\\uc6d4 PCN \\\\uc0ac\\\\uc625 \\\\uc774\\\\uc804 PCN \\\\ube4c\\\\ub529(\\\\uc5b8\\\\uc8fc\\\\ub85c135\\\\uae38 33)\",\\n                \"verdict\": \"yes\",\\n                \"reason\": \"\"\\n            },\\n            {\\n                \"statement\": \"01\\\\uc6d4 PCN E-SEARCH v1.0 GS\\\\uc778\\\\uc99d 1\\\\ub4f1\\\\uae09 \\\\ucde8\\\\ub4dd\",\\n                \"verdict\": \"yes\",\\n                \"reason\": \"\"\\n            },\\n            {\\n                \"statement\": \"2020\\\\ub144 06\\\\uc6d4 \\\\uc5ec\\\\uc131\\\\uac00\\\\uc871\\\\ubd80 \\\\uac00\\\\uc871\\\\uce5c\\\\ud654\\\\uae30\\\\uc5c5 \\\\uc778\\\\uc99d\",\\n                \"verdict\": \"yes\",\\n                \"reason\": \"\"\\n            },\\n            {\\n                \"statement\": \"02\\\\uc6d4 Kiss OASIS v1.2 GS \\\\uc778\\\\uc99d 1\\\\ub4f1\\\\uae09 \\\\ucde8\\\\ub4dd\",\\n                \"verdict\": \"yes\",\\n                \"reason\": \"\"\\n            },\\n            {\\n                \"statement\": \"2019\\\\ub144 04\\\\uc6d4 RDF \\\\ud2b8\\\\ub9ac\\\\ud50c \\\\ub370\\\\uc774\\\\ud130 \\\\uae30\\\\ubc18\\\\uc758 \\\\uc9c0\\\\ub2a5\\\\ud615 \\\\uac80\\\\uc0c9 \\\\uc2dc\\\\uc2a4\\\\ud15c \\\\ubc0f \\\\ubc29\\\\ubc95 \\\\ud2b9\\\\ud5c8 \\\\ucd9c\\\\uc6d0\",\\n                \"verdict\": \"yes\",\\n                \"reason\": \"\"\\n            },\\n            {\\n                \"statement\": \"03\\\\uc6d4 \\\\uc628\\\\ud1a8\\\\ub9ac\\\\uc9c0 \\\\uae30\\\\ubc18\\\\uc758 \\\\uac80\\\\uc0c9 \\\\uc11c\\\\ube44\\\\uc2a4 \\\\uc2dc\\\\uc2a4\\\\ud15c \\\\ubc0f \\\\ubc29\\\\ubc95 \\\\ud2b9\\\\ud5c8 \\\\ucd9c\\\\uc6d0\",\\n                \"verdict\": \"yes\",\\n                \"reason\": \"\"\\n            },\\n            {\\n                \"statement\": \"2022\\\\ub144 \\\\ub808\\\\ub4dc\\\\ub2f7 \\\\ub514\\\\uc790\\\\uc778 \\\\uc5b4\\\\uc6cc\\\\ub4dc \\\\uc218\\\\uc0c1\",\\n                \"verdict\": \"yes\",\\n                \"reason\": \"\"\\n            },\\n            {\\n                \"statement\": \"2018\\\\ub144 07\\\\uc6d4 \\\\uc7ac\\\\ub09c\\\\uc7ac\\\\ud574 \\\\ubcf5\\\\uad6c\\\\ub97c \\\\uc704\\\\ud55c \\\\uc790\\\\uc6d0\\\\uad00\\\\ub9ac \\\\ubc29\\\\ubc95 \\\\ubc0f \\\\uc2dc\\\\uc2a4\\\\ud15c \\\\ud2b9\\\\ud5c8 \\\\ucd9c\\\\uc6d0\",\\n                \"verdict\": \"yes\",\\n                \"reason\": \"\"\\n            },\\n            {\\n                \"statement\": \"05\\\\uc6d4 \\\\uc804\\\\ud1b5\\\\ubb38\\\\ud654 \\\\uc735\\\\ubcf5\\\\ud569 \\\\uc9c0\\\\uc6d0\\\\uc744 \\\\uc704\\\\ud55c \\\\ub514\\\\uc9c0\\\\ud138 \\\\uc5f0\\\\ud45c \\\\ud45c\\\\ucd9c\\\\uc2dc\\\\uc2a4\\\\ud15c \\\\ud2b9\\\\ud5c8 \\\\ucd9c\\\\uc6d0\",\\n                \"verdict\": \"yes\",\\n                \"reason\": \"\"\\n            },\\n            {\\n                \"statement\": \"08\\\\uc6d4 PCN \\\\uc2e0\\\\uc0ac\\\\uc625 \\\\uc774\\\\uc804(\\\\ud559\\\\ub3d9\\\\ub85c 146 PCN\\\\ube4c\\\\ub529)\",\\n                \"verdict\": \"yes\",\\n                \"reason\": \"\"\\n            },\\n            {\\n                \"statement\": \"01\\\\uc6d4 \\\\uac24\\\\ub7ec\\\\ub9ac \\\\uc544\\\\ud2b8\\\\uc778\\\\uc0ac\\\\uc774\\\\ud2b8 \\\\uac1c\\\\uad00\",\\n                \"verdict\": \"yes\",\\n                \"reason\": \"\"\\n            },\\n            {\\n                \"statement\": \"2016\\\\ub144 09\\\\uc6d4 \\\\uc77c\\\\ud559\\\\uc2b5\\\\ubcd1\\\\ud589\\\\uc81c \\\\uacbd\\\\uc9c4\\\\ub300\\\\ud68c \\\\uc7a5\\\\ub824\\\\uc0c1(\\\\ud55c\\\\uad6d\\\\uc0b0\\\\uc5c5\\\\uc778\\\\ub825\\\\uacf5\\\\ub2e8)\",\\n                \"verdict\": \"yes\",\\n                \"reason\": \"\"\\n            },\\n            {\\n                \"statement\": \"11\\\\uc6d4 \\\\ubbf8\\\\ub798\\\\ucc3d\\\\uc870\\\\uacfc\\\\ud559\\\\ubd80 \\\\uc7a5\\\\uad00 \\\\ud45c\\\\ucc3d\",\\n                \"verdict\": \"yes\",\\n                \"reason\": \"\"\\n            },\\n            {\\n                \"statement\": \"08\\\\uc6d4 JSON\",\\n                \"verdict\": \"no\",\\n                \"reason\": \"The retrieval context contained the information \\'JSON\\' when it has nothing to do with introducing a company.\"\\n            }\\n        ]\\n    },\\n    {\\n        \"verdicts\": [\\n            {\\n                \"statement\": \"PCN \\\\uc81c24\\\\uae30 \\\\uacb0\\\\uc0b0\\\\uacf5\\\\uace0\",\\n                \"verdict\": \"yes\",\\n                \"reason\": null\\n            },\\n            {\\n                \"statement\": \"2025-03-31\",\\n                \"verdict\": \"yes\",\\n                \"reason\": null\\n            },\\n            {\\n                \"statement\": \"PCN \\\\uc81c24\\\\uae30 \\\\uc815\\\\uae30\\\\uc8fc\\\\uc8fc\\\\ucd1d\\\\ud68c \\\\uc18c\\\\uc9d1 \\\\uacf5\\\\uace0\",\\n                \"verdict\": \"yes\",\\n                \"reason\": null\\n            },\\n            {\\n                \"statement\": \"2025-02-28\",\\n                \"verdict\": \"yes\",\\n                \"reason\": null\\n            },\\n            {\\n                \"statement\": \"PCN, 2024\\\\ub144 \\\\uc8fc\\\\uc8fc\\\\uba85\\\\ubd80 \\\\ud3d0\\\\uc1c4\\\\uae30\\\\uac04 \\\\ubc0f \\\\uae30\\\\uc900\\\\uc77c \\\\uc124\\\\uc815 \\\\uacf5\\\\uace0\",\\n                \"verdict\": \"yes\",\\n                \"reason\": null\\n            },\\n            {\\n                \"statement\": \"2024-12-12\",\\n                \"verdict\": \"yes\",\\n                \"reason\": null\\n            },\\n            {\\n                \"statement\": \"PCN, \\\\uc784\\\\uc2dc\\\\uc8fc\\\\uc8fc\\\\ucd1d\\\\ud68c \\\\uc18c\\\\uc9d1\\\\uacf5\\\\uace0\",\\n                \"verdict\": \"yes\",\\n                \"reason\": null\\n            },\\n            {\\n                \"statement\": \"2024-05-08\",\\n                \"verdict\": \"yes\",\\n                \"reason\": null\\n            },\\n            {\\n                \"statement\": \"PCN, \\\\uc784\\\\uc2dc\\\\uc8fc\\\\uc8fc\\\\ucd1d\\\\ud68c \\\\uae30\\\\uc900\\\\uc77c \\\\uc124\\\\uc815\\\\uacf5\\\\uace0\",\\n                \"verdict\": \"yes\",\\n                \"reason\": null\\n            },\\n            {\\n                \"statement\": \"2024-04-08\",\\n                \"verdict\": \"yes\",\\n                \"reason\": null\\n            },\\n            {\\n                \"statement\": \"PCN, \\\\uc81c23\\\\uae30 \\\\uacb0\\\\uc0b0\\\\uacf5\\\\uace0\",\\n                \"verdict\": \"yes\",\\n                \"reason\": null\\n            },\\n            {\\n                \"statement\": \"2024-04-02\",\\n                \"verdict\": \"yes\",\\n                \"reason\": null\\n            }\\n        ]\\n    },\\n    {\\n        \"verdicts\": [\\n            {\\n                \"statement\": \"OASIS-X\",\\n                \"verdict\": \"yes\",\\n                \"reason\": null\\n            },\\n            {\\n                \"statement\": \"\\\\ube45\\\\ub370\\\\uc774\\\\ud130 \\\\uc218\\\\uc9d1 \\\\uc194\\\\ub8e8\\\\uc158\",\\n                \"verdict\": \"yes\",\\n                \"reason\": null\\n            },\\n            {\\n                \"statement\": \"\\\\ubb34\\\\ub8cc \\\\uc624\\\\ud508 \\\\uc18c\\\\uc2a4 \\\\uc11c\\\\ubc84\\\\uc758 \\\\ub370\\\\uc774\\\\ud130 \\\\ucc98\\\\ub9ac \\\\ud30c\\\\uc774\\\\ud504\\\\ub77c\\\\uc778\\\\uc778 Logstash\\\\ub294 \\\\ub2e4\\\\uc591\\\\ud55c \\\\uc18c\\\\uc2a4\\\\uc5d0\\\\uc11c \\\\ub370\\\\uc774\\\\ud130\\\\ub97c \\\\uc218\\\\uc9d1\\\\ud558\\\\uc5ec \\\\ubcc0\\\\ud658\\\\ud55c \\\\ud6c4 \\\\uc790\\\\uc8fc \\\\uc0ac\\\\uc6a9\\\\ud558\\\\ub294 \\\\uc800\\\\uc7a5\\\\uc18c\\\\ub85c \\\\uc804\\\\ub2ec\\\\ud569\\\\ub2c8\\\\ub2e4.\",\\n                \"verdict\": \"yes\",\\n                \"reason\": null\\n            },\\n            {\\n                \"statement\": \"PCN \\\\uae30\\\\uc5c5\\\\ubd80\\\\uc124\\\\uc5f0\\\\uad6c\\\\uc18c\\\\ub294 Logstash \\\\uae30\\\\ubc18\\\\uc758 \\\\ub370\\\\uc774\\\\ud130 \\\\uc218\\\\uc9d1/\\\\uc800\\\\uc7a5 \\\\ud504\\\\ub85c\\\\uc138\\\\uc2a4\\\\ub97c \\\\uc27d\\\\uac8c \\\\uad6c\\\\uc131 \\\\ud560 \\\\uc218 \\\\uc788\\\\ub3c4\\\\ub85d Web \\\\uae30\\\\ubc18\\\\uc758 \\\\uc194\\\\ub8e8\\\\uc158\\\\uc744 \\\\uac1c\\\\ubc1c \\\\ud558\\\\uc600\\\\uc73c\\\\uba70 \\\\ub2e4\\\\uc591\\\\ud55c \\\\ud50c\\\\ub7ec\\\\uadf8\\\\uc778\\\\uc744 \\\\ucd94\\\\uac00\\\\ud558\\\\uc5ec \\\\uae30\\\\ub2a5\\\\uc744 \\\\ud655\\\\uc7a5 \\\\ud558\\\\uc600\\\\uc2b5\\\\ub2c8\\\\ub2e4.\",\\n                \"verdict\": \"yes\",\\n                \"reason\": null\\n            },\\n            {\\n                \"statement\": \"\\\\uad6c\\\\uc131\\\\ub3c4\",\\n                \"verdict\": \"no\",\\n                \"reason\": \"The retrieval context contained the information \\'\\\\uad6c\\\\uc131\\\\ub3c4\\' when it has nothing to do with introducing a company.\"\\n            },\\n            {\\n                \"statement\": \"\\\\ud2b9\\\\uc7a5\\\\uc810\",\\n                \"verdict\": \"yes\",\\n                \"reason\": null\\n            },\\n            {\\n                \"statement\": \"1. \\\\ub2e4\\\\uc591\\\\ud55c \\\\ud615\\\\ud0dc\\\\uc758 \\\\ub370\\\\uc774\\\\ud130 \\\\uc18c\\\\uc2a4 \\\\uc9c0\\\\uc6d0\",\\n                \"verdict\": \"yes\",\\n                \"reason\": null\\n            },\\n            {\\n                \"statement\": \"2. \\\\ub2e4\\\\uc591\\\\ud55c \\\\ud615\\\\ud0dc\\\\uc758 \\\\ub370\\\\uc774\\\\ud130 \\\\uc800\\\\uc7a5\\\\uc18c \\\\uc9c0\\\\uc6d0\",\\n                \"verdict\": \"yes\",\\n                \"reason\": null\\n            },\\n            {\\n                \"statement\": \"3. \\\\ud544\\\\ud130\\\\ub97c \\\\uc81c\\\\uacf5\\\\ud558\\\\uc5ec \\\\ub2e4\\\\uc591\\\\ud55c \\\\ud615\\\\ud0dc\\\\ub85c\\\\uc758 \\\\ub370\\\\uc774\\\\ud130 \\\\uac00\\\\uacf5\",\\n                \"verdict\": \"yes\",\\n                \"reason\": null\\n            },\\n            {\\n                \"statement\": \"4. \\\\ud50c\\\\ub7ec\\\\uadf8\\\\uc778 \\\\uc9c0\\\\uc6d0\\\\uc73c\\\\ub85c \\\\ud655\\\\uc7a5\\\\uc131 \\\\ubcf4\\\\uc7a5\",\\n                \"verdict\": \"yes\",\\n                \"reason\": null\\n            },\\n            {\\n                \"statement\": \"5. Web UI \\\\uc9c0\\\\uc6d0\\\\uc73c\\\\ub85c \\\\uc190\\\\uc26c\\\\uc6b4 \\\\uad6c\\\\uc131\",\\n                \"verdict\": \"yes\",\\n                \"reason\": null\\n            },\\n            {\\n                \"statement\": \"6. \\\\uc218\\\\uc9d1/\\\\uc800\\\\uc7a5 \\\\ud604\\\\ud669\\\\uc758 \\\\ubaa8\\\\ub2c8\\\\ud130\\\\ub9c1\",\\n                \"verdict\": \"yes\",\\n                \"reason\": null\\n            },\\n            {\\n                \"statement\": \"7. \\\\uc2a4\\\\ucf00\\\\uc904\\\\ub7ec \\\\uc9c0\\\\uc6d0\\\\uc73c\\\\ub85c \\\\ubc30\\\\uce58 \\\\uc791\\\\uc5c5 \\\\uc218\\\\ud589\",\\n                \"verdict\": \"yes\",\\n                \"reason\": null\\n            },\\n            {\\n                \"statement\": \"\\\\uc81c\\\\ud488 \\\\uc18c\\\\uac1c\\\\uc11c \\\\ub2e4\\\\uc6b4\\\\ub85c\\\\ub4dc\",\\n                \"verdict\": \"no\",\\n                \"reason\": \"The retrieval context contained the information \\'\\\\uc81c\\\\ud488 \\\\uc18c\\\\uac1c\\\\uc11c \\\\ub2e4\\\\uc6b4\\\\ub85c\\\\ub4dc\\' when it has nothing to do with introducing a company.\"\\n            }\\n        ]\\n    },\\n    {\\n        \"verdicts\": [\\n            {\\n                \"statement\": \"\\\\uacf5\\\\uacf5 \\\\u00b7 \\\\ubbfc\\\\uac04 \\\\ub370\\\\uc774\\\\ud130 \\\\uac80\\\\uc0c9 \\\\ubc0f \\\\ud65c\\\\uc6a9\",\\n                \"verdict\": \"yes\",\\n                \"reason\": null\\n            },\\n            {\\n                \"statement\": \"\\\\ud55c\\\\uc591\\\\ub3c4\\\\uc131 \\\\ud0c0\\\\uc784\\\\uba38\\\\uc2e0\",\\n                \"verdict\": \"yes\",\\n                \"reason\": null\\n            },\\n            {\\n                \"statement\": \"\\\\ud654\\\\uc131\\\\uc2dc \\\\ubb38\\\\ud654\\\\uc720\\\\uc0b0\\\\uc5d0 \\\\ub300\\\\ud55c 3\\\\ucc28\\\\uc6d0 \\\\ub514\\\\uc9c0\\\\ud138 \\\\ub370\\\\uc774\\\\ud130\",\\n                \"verdict\": \"yes\",\\n                \"reason\": null\\n            },\\n            {\\n                \"statement\": \"\\\\ud654\\\\uc131\\\\uc2dc \\\\ubb38\\\\ud654\\\\uc720\\\\uc0b0 3D \\\\uc2a4\\\\uce90\\\\ub2dd \\\\ubc0f VR \\\\uc81c\\\\uc791\",\\n                \"verdict\": \"yes\",\\n                \"reason\": null\\n            },\\n            {\\n                \"statement\": \"\\\\ub300\\\\uc6a9\\\\ub7c9 \\\\ub274\\\\uc2a4 \\\\uae30\\\\ubc18 \\\\uc0ac\\\\uac74 \\\\u00b7 \\\\uc0ac\\\\uace0 \\\\uc9c0\\\\uc2dd \\\\ube45\\\\ub370\\\\uc774\\\\ud130 \\\\uc13c\\\\ud130 \\\\uad6c\\\\ucd95\",\\n                \"verdict\": \"yes\",\\n                \"reason\": null\\n            },\\n            {\\n                \"statement\": \"\\\\uc2a4\\\\ub9c8\\\\ud2b8\\\\uce58\\\\uc548 \\\\ube45\\\\ub370\\\\uc774\\\\ud130 \\\\uc13c\\\\ud130\",\\n                \"verdict\": \"yes\",\\n                \"reason\": null\\n            },\\n            {\\n                \"statement\": \"\\\\ub300\\\\uc2dc\\\\ubbfc \\\\uc18c\\\\ud1b5\\\\uc758 \\\\uc811\\\\uc810 \\\\uc5ed\\\\ud560\",\\n                \"verdict\": \"yes\",\\n                \"reason\": null\\n            },\\n            {\\n                \"statement\": \"\\\\uc11c\\\\uc6b8\\\\uc2dc \\\\ud648\\\\ud398\\\\uc774\\\\uc9c0 \\\\uc6b4\\\\uc601 \\\\ubc0f \\\\uc720\\\\uc9c0\\\\uad00\\\\ub9ac\",\\n                \"verdict\": \"yes\",\\n                \"reason\": null\\n            },\\n            {\\n                \"statement\": \"01Big Data\",\\n                \"verdict\": \"no\",\\n                \"reason\": null\\n            },\\n            {\\n                \"statement\": \"02XR Contents\",\\n                \"verdict\": \"no\",\\n                \"reason\": null\\n            },\\n            {\\n                \"statement\": \"03AI\",\\n                \"verdict\": \"no\",\\n                \"reason\": null\\n            },\\n            {\\n                \"statement\": \"04SI/UX\",\\n                \"verdict\": \"no\",\\n                \"reason\": null\\n            },\\n            {\\n                \"statement\": \"ProjectsView More\",\\n                \"verdict\": \"no\",\\n                \"reason\": null\\n            },\\n            {\\n                \"statement\": \"\\\\ud589\\\\uc815\\\\uc548\\\\uc804\\\\ubd80\",\\n                \"verdict\": \"no\",\\n                \"reason\": null\\n            },\\n            {\\n                \"statement\": \"2022\\\\ub144 \\\\uc815\\\\ubd8024 \\\\uad6d\\\\uac00\\\\ubcf4\\\\uc870\\\\uae08 \\\\ub9de\\\\ucda4\\\\ud615\\\\uc11c\\\\ube44\\\\uc2a4 \\\\uad6c\\\\ucd95\",\\n                \"verdict\": \"no\",\\n                \"reason\": null\\n            },\\n            {\\n                \"statement\": \"\\\\ud55c\\\\uad6d\\\\uc9c0\\\\ub2a5\\\\uc815\\\\ubcf4\\\\uc0ac\\\\ud68c\\\\uc9c4\\\\ud765\\\\uc6d0\",\\n                \"verdict\": \"no\",\\n                \"reason\": null\\n            },\\n            {\\n                \"statement\": \"\\\\ub514\\\\uc2a4\\\\ud50c\\\\ub808\\\\uc774 \\\\uc911\\\\uc2ec \\\\uc548\\\\uad6c \\\\uc6c0\\\\uc9c1\\\\uc784 \\\\uc601\\\\uc0c1 \\\\ub370\\\\uc774\\\\ud130\",\\n                \"verdict\": \"no\",\\n                \"reason\": null\\n            },\\n            {\\n                \"statement\": \"\\\\uc11c\\\\uc6b8\\\\ud2b9\\\\ubcc4\\\\uc2dc\",\\n                \"verdict\": \"no\",\\n                \"reason\": null\\n            },\\n            {\\n                \"statement\": \"2022\\\\ub144 \\\\uc11c\\\\uc6b8\\\\uc2dc \\\\ud648\\\\ud398\\\\uc774\\\\uc9c0 \\\\uc6b4\\\\uc601 \\\\ubc0f \\\\uc720\\\\uc9c0\\\\uad00\\\\ub9ac\",\\n                \"verdict\": \"no\",\\n                \"reason\": null\\n            },\\n            {\\n                \"statement\": \"\\\\ubb38\\\\ud654\\\\uc7ac\\\\uccad\",\\n                \"verdict\": \"no\",\\n                \"reason\": null\\n            },\\n            {\\n                \"statement\": \"2022\\\\ub144 \\\\ud55c\\\\uc591\\\\ub3c4\\\\uc131 \\\\ud0c0\\\\uc784\\\\uba38\\\\uc2e0\",\\n                \"verdict\": \"no\",\\n                \"reason\": null\\n            },\\n            {\\n                \"statement\": \"\\\\ud55c\\\\uad6d\\\\uc9c0\\\\ub2a5\\\\uc815\\\\ubcf4\\\\uc0ac\\\\ud68c\\\\uc9c4\\\\ud765\\\\uc6d0\",\\n                \"verdict\": \"no\",\\n                \"reason\": null\\n            },\\n            {\\n                \"statement\": \"\\\\ub300\\\\uc6a9\\\\ub7c9 \\\\ub274\\\\uc2a4 \\\\uae30\\\\ubc18 \\\\uc0ac\\\\uac74 \\\\u00b7 \\\\uc0ac\\\\uace0 \\\\uc9c0\\\\uc2dd \\\\ube45\\\\ub370\\\\uc774\\\\ud130 \\\\uc13c\\\\ud130 \\\\uad6c\\\\ucd95\",\\n                \"verdict\": \"yes\",\\n                \"reason\": null\\n            },\\n            {\\n                \"statement\": \"\\\\uc11c\\\\uc6b8\\\\ud2b9\\\\ubcc4\\\\uc2dc\",\\n                \"verdict\": \"no\",\\n                \"reason\": null\\n            },\\n            {\\n                \"statement\": \"2022\\\\ub144 \\\\uc5f4\\\\ub9b0\\\\ub370\\\\uc774\\\\ud130\\\\uad11\\\\uc7a5 \\\\uc6b4\\\\uc601 \\\\ubc0f \\\\uc720\\\\uc9c0\\\\uad00\\\\ub9ac \\\\uc6a9\\\\uc5ed\",\\n                \"verdict\": \"no\",\\n                \"reason\": null\\n            },\\n            {\\n                \"statement\": \"We Are\",\\n                \"verdict\": \"no\",\\n                \"reason\": null\\n            },\\n            {\\n                \"statement\": \"PCN\\\\uc774 \\\\uac00\\\\uc9c4 \\\\uace0\\\\uc720\\\\ud55c \\\\uae30\\\\uc220\\\\uc758 \\\\uc735\\\\ud569\\\\uc744 \\\\ud1b5\\\\ud574 \\\\uac00\\\\uce58 \\\\uc788\\\\ub294 \\\\ub514\\\\uc9c0\\\\ud138 \\\\ud50c\\\\ub7ab\\\\ud3fc\\\\uc744 \\\\ub9cc\\\\ub4e4\\\\uc5b4 \\\\ub098\\\\uac11\\\\ub2c8\\\\ub2e4.\",\\n                \"verdict\": \"no\",\\n                \"reason\": null\\n            },\\n            {\\n                \"statement\": \"EXPERTISE\",\\n                \"verdict\": \"no\",\\n                \"reason\": null\\n            },\\n            {\\n                \"statement\": \"\\\\uae30\\\\uc5c5\\\\uc758 \\\\ud48d\\\\ubd80\\\\ud55c \\\\uacbd\\\\ud5d8\\\\uacfc \\\\uc778\\\\uc7ac\\\\uc758 \\\\uc5f4\\\\uc815\\\\uc744 \\\\ud1b5\\\\ud55c \\\\uc2e4\\\\uc9c8\\\\uc801\\\\uc774\\\\uace0 \\\\uc2e4\\\\uc81c\\\\uc801\\\\uc778 \\\\uc804\\\\ubb38\\\\uc131\\\\uc744 \\\\ubcf4\\\\uc5ec\\\\ub4dc\\\\ub9bd\\\\ub2c8\\\\ub2e4.\",\\n                \"verdict\": \"no\",\\n                \"reason\": null\\n            },\\n            {\\n                \"statement\": \"SUCCESS\",\\n                \"verdict\": \"no\",\\n                \"reason\": null\\n            },\\n            {\\n                \"statement\": \"\\\\uc6b0\\\\ub9ac\\\\uc758 \\\\uc804\\\\ubb38\\\\uc131\\\\uc744 \\\\ud1b5\\\\ud574 \\\\uace0\\\\uac1d\\\\uc758 \\\\uc131\\\\uacf5\\\\uc744 \\\\ub3d5\\\\ub294 \\\\uc77c\\\\uc774 PCN\\\\uc758 \\\\uba85\\\\ud655\\\\ud55c \\\\ubaa9\\\\ud45c\\\\uc785\\\\ub2c8\\\\ub2e4.\",\\n                \"verdict\": \"no\",\\n                \"reason\": null\\n            },\\n            {\\n                \"statement\": \"VALUE\",\\n                \"verdict\": \"no\",\\n                \"reason\": null\\n            },\\n            {\\n                \"statement\": \"\\\\uc6b0\\\\ub9ac\\\\uac00 \\\\ub9cc\\\\ub4e4\\\\uc5b4\\\\uac00\\\\ub294 \\\\ub514\\\\uc9c0\\\\ud138 \\\\uc11c\\\\ube44\\\\uc2a4\\\\ub294 \\\\ucd5c\\\\uace0\\\\uc758 \\\\uc804\\\\ubb38\\\\uc131\\\\uc744 \\\\uac16\\\\ucd94\\\\uace0 \\\\uac00\\\\uce58 \\\\uc99d\\\\ub300\\\\uc5d0 \\\\uae30\\\\uc5ec\\\\ud569\\\\ub2c8\\\\ub2e4.\",\\n                \"verdict\": \"no\",\\n                \"reason\": null\\n            },\\n            {\\n                \"statement\": \"PRIDE\",\\n                \"verdict\": \"no\",\\n                \"reason\": null\\n            },\\n            {\\n                \"statement\": \"\\\\uc6b0\\\\ub9ac\\\\ub294 \\\\uace0\\\\uac1d\\\\uc758 \\\\uc131\\\\uacf5\\\\uc744 \\\\uc704\\\\ud574 \\\\uc138\\\\uc0c1\\\\uc758 \\\\uac00\\\\uce58\\\\uc99d\\\\ub300\\\\ub97c \\\\uc2e4\\\\ud604\\\\ud558\\\\uc5ec \\\\uac10\\\\ub3d9\\\\uacfc \\\\uc790\\\\uae0d\\\\uc2ec\\\\uc744 \\\\ub290\\\\ub08d\\\\ub2c8\\\\ub2e4.\",\\n                \"verdict\": \"no\",\\n                \"reason\": null\\n            }\\n        ]\\n    },\\n    {\\n        \"verdicts\": [\\n            {\\n                \"statement\": \"\\\\ud53c\\\\uc528\\\\uc5d4 \\\\ud68c\\\\uc0ac\\\\uc5d0 \\\\ub300\\\\ud574 \\\\uc18c\\\\uac1c\\\\ud574 \\\\uc8fc\\\\uc138\\\\uc694\",\\n                \"verdict\": \"yes\",\\n                \"reason\": null\\n            }\\n        ]\\n    },\\n    {\\n        \"verdicts\": [\\n            {\\n                \"statement\": \"PCN\\\\uc758 Digital Platform \\\\uc8fc\\\\uc694 \\\\uc0ac\\\\uc5c5\\\\uc744 \\\\uc18c\\\\uac1c\\\\ud569\\\\ub2c8\\\\ub2e4.\",\\n                \"verdict\": \"yes\",\\n                \"reason\": null\\n            },\\n            {\\n                \"statement\": \"Metaverse\",\\n                \"verdict\": \"no\",\\n                \"reason\": \"The retrieval context contained the information \\'Metaverse\\' which is not directly related to introducing PCN\\'s Digital Platform.\"\\n            },\\n            {\\n                \"statement\": \"Ai\",\\n                \"verdict\": \"no\",\\n                \"reason\": \"The retrieval context contained the information \\'Ai\\' which is not directly related to introducing PCN\\'s Digital Platform.\"\\n            },\\n            {\\n                \"statement\": \"Big data\",\\n                \"verdict\": \"no\",\\n                \"reason\": \"The retrieval context contained the information \\'Big data\\' which is not directly related to introducing PCN\\'s Digital Platform.\"\\n            },\\n            {\\n                \"statement\": \"XR Contents\",\\n                \"verdict\": \"no\",\\n                \"reason\": \"The retrieval context contained the information \\'XR Contents\\' which is not directly related to introducing PCN\\'s Digital Platform.\"\\n            }\\n        ]\\n    },\\n    {\\n        \"verdicts\": [\\n            {\\n                \"statement\": \"\\\\uacf5\\\\uacf5\\\\u2219\\\\ubbfc\\\\uac04 \\\\ub370\\\\uc774\\\\ud130 \\\\uac80\\\\uc0c9 \\\\ubc0f \\\\ud65c\\\\uc6a9\",\\n                \"verdict\": \"yes\",\\n                \"reason\": null\\n            },\\n            {\\n                \"statement\": \"\\\\ud1b5\\\\ud569 \\\\ub370\\\\uc774\\\\ud130\\\\uc9c0\\\\ub3c4 \\\\uad6c\\\\ucd95\",\\n                \"verdict\": \"yes\",\\n                \"reason\": null\\n            },\\n            {\\n                \"statement\": \"\\\\uacf5\\\\uacf5\\\\uacfc \\\\ubbfc\\\\uac04 \\\\ub370\\\\uc774\\\\ud130\\\\ub97c \\\\uc27d\\\\uac8c \\\\uac80\\\\uc0c9 \\\\ubc0f \\\\ud65c\\\\uc6a9\\\\ud560 \\\\uc218 \\\\uc788\\\\ub3c4\\\\ub85d \\\\uc9c0\\\\uc6d0\\\\ud558\\\\uae30 \\\\uc704\\\\ud55c \\\\ube45\\\\ub370\\\\uc774\\\\ud130 \\\\uc218\\\\uc9d1\\\\u2219\\\\uac00\\\\uacf5\\\\u2219\\\\uc720\\\\ud1b5 \\\\uccb4\\\\uacc4 \\\\uad6c\\\\ucd95\",\\n                \"verdict\": \"yes\",\\n                \"reason\": null\\n            },\\n            {\\n                \"statement\": \"\\\\ud45c\\\\uc900\\\\ud654\\\\ub41c \\\\uba54\\\\ud0c0\\\\ub370\\\\uc774\\\\ud130\\\\uc5f0\\\\uacc4 \\\\uc2dc\\\\uc2a4\\\\ud15c\",\\n                \"verdict\": \"yes\",\\n                \"reason\": null\\n            },\\n            {\\n                \"statement\": \"\\\\uc624\\\\ud508\\\\uc18c\\\\uc2a4 \\\\uae30\\\\ubc18\\\\uc758 \\\\ub370\\\\uc774\\\\ud130 \\\\uacf5\\\\uc720 \\\\ud658\\\\uacbd\",\\n                \"verdict\": \"yes\",\\n                \"reason\": null\\n            },\\n            {\\n                \"statement\": \"\\\\ub525\\\\ub7ec\\\\ub2dd \\\\uae30\\\\ubc18 \\\\uc790\\\\uc5f0\\\\uc5b4 \\\\ucc98\\\\ub9ac \\\\uc194\\\\ub8e8\\\\uc158\",\\n                \"verdict\": \"yes\",\\n                \"reason\": null\\n            },\\n            {\\n                \"statement\": \"\\\\ud6a8\\\\uc728\\\\uc801\\\\uc774\\\\uace0 \\\\uc9c0\\\\ub2a5\\\\ud654\\\\ub41c \\\\uac80\\\\uc0c9 \\\\uc2dc\\\\uc2a4\\\\ud15c\",\\n                \"verdict\": \"yes\",\\n                \"reason\": null\\n            },\\n            {\\n                \"statement\": \"\\\\uc774\\\\uc6a9\\\\uc790 \\\\uc911\\\\uc2ec\\\\uc758 UI/UX\",\\n                \"verdict\": \"yes\",\\n                \"reason\": null\\n            },\\n            {\\n                \"statement\": \"\\\\ubbfc\\\\uac04 \\\\ud06c\\\\ub77c\\\\uc6b0\\\\ub4dc \\\\uae30\\\\ubc18 \\\\uc6b4\\\\uc601\",\\n                \"verdict\": \"yes\",\\n                \"reason\": null\\n            },\\n            {\\n                \"statement\": \"\\\\ub370\\\\uc774\\\\ud130 \\\\uc5f0\\\\uacc4 \\\\ud655\\\\uc7a5\\\\uc131 \\\\ud655\\\\ubcf4\\\\ub97c \\\\uc704\\\\ud55c \\\\uba54\\\\ud0c0\\\\ub370\\\\uc774\\\\ud130 \\\\ud45c\\\\uc900\\\\ud654\",\\n                \"verdict\": \"yes\",\\n                \"reason\": null\\n            },\\n            {\\n                \"statement\": \"\\\\uc0c1\\\\uc138 \\\\uac80\\\\uc0c9 \\\\ubc0f \\\\uc2e0\\\\uaddc\\\\u00b7\\\\ubcf5\\\\ud569 \\\\ub2e8\\\\uc5b4 \\\\ub4f1 \\\\uace0\\\\ub3c4\\\\ud654\\\\ub41c \\\\uac80\\\\uc0c9\\\\uc744 \\\\uc704\\\\ud55c \\\\uace0\\\\uc18d \\\\uac80\\\\uc0c9 \\\\uc5d4\\\\uc9c4\",\\n                \"verdict\": \"yes\",\\n                \"reason\": null\\n            },\\n            {\\n                \"statement\": \"AI \\\\uae30\\\\ubc18 \\\\ub370\\\\uc774\\\\ud130 \\\\uc790\\\\ub3d9 \\\\ubd84\\\\ub958 \\\\uae30\\\\uc220\",\\n                \"verdict\": \"yes\",\\n                \"reason\": null\\n            },\\n            {\\n                \"statement\": \"AI \\\\uae30\\\\ubc18 \\\\ub370\\\\uc774\\\\ud130 \\\\uac04 \\\\uc5f0\\\\uad00\\\\ub3c4 \\\\ubd84\\\\uc11d \\\\ubc0f \\\\ub370\\\\uc774\\\\ud130 \\\\ub9f5 \\\\uc2dc\\\\uac01\\\\ud654 \\\\uae30\\\\uc220\",\\n                \"verdict\": \"yes\",\\n                \"reason\": null\\n            },\\n            {\\n                \"statement\": \"AI \\\\uae30\\\\ubc18 \\\\ud575\\\\uc2ec \\\\ud0a4\\\\uc6cc\\\\ub4dc \\\\uc790\\\\ub3d9 \\\\ucd94\\\\ucd9c \\\\uae30\\\\uc220\",\\n                \"verdict\": \"yes\",\\n                \"reason\": null\\n            },\\n            {\\n                \"statement\": \"\\\\uacf5\\\\uacf5 \\\\ubbfc\\\\uac04 \\\\ub370\\\\uc774\\\\ud130 \\\\uc5f0\\\\uacc4\",\\n                \"verdict\": \"yes\",\\n                \"reason\": null\\n            },\\n            {\\n                \"statement\": \"\\\\uace0\\\\uc18d \\\\uac80\\\\uc0c9 \\\\uc5d4\\\\uc9c4\",\\n                \"verdict\": \"yes\",\\n                \"reason\": null\\n            },\\n            {\\n                \"statement\": \"\\\\uc2e4\\\\uc2dc\\\\uac04 \\\\ub370\\\\uc774\\\\ud130 \\\\uad00\\\\ub9ac \\\\uc2dc\\\\uc2a4\\\\ud15c\",\\n                \"verdict\": \"yes\",\\n                \"reason\": null\\n            },\\n            {\\n                \"statement\": \"AI \\\\ub370\\\\uc774\\\\ud130 \\\\ubd84\\\\uc11d\",\\n                \"verdict\": \"yes\",\\n                \"reason\": null\\n            },\\n            {\\n                \"statement\": \"\\\\ud45c\\\\uc900 \\\\uba54\\\\ud0c0\\\\ub370\\\\uc774\\\\ud130 \\\\uc5f0\\\\uacc4\\\\ubd80\\\\ud130 AI \\\\uc790\\\\uc5f0\\\\uc5b4 \\\\ucc98\\\\ub9ac \\\\uae30\\\\ubc18 \\\\uc2e4\\\\uc2dc\\\\uac04 \\\\uc790\\\\ub3d9 \\\\ubd84\\\\ub958, \\\\ud575\\\\uc2ec \\\\ud0a4\\\\uc6cc\\\\ub4dc \\\\uc790\\\\ub3d9 \\\\ucd94\\\\ucd9c, \\\\ub370\\\\uc774\\\\ud130 \\\\ub9f5 \\\\uc2dc\\\\uac01\\\\ud654\\\\uae4c\\\\uc9c0 \\\\ucc98\\\\ub9ac\\\\ub418\\\\ub294 \\\\uace0\\\\uc18d \\\\uac80\\\\uc0c9 \\\\uc5d4\\\\uc9c4 \\\\uad6c\\\\ucd95\",\\n                \"verdict\": \"yes\",\\n                \"reason\": null\\n            },\\n            {\\n                \"statement\": \"1. \\\\uba54\\\\ud0c0\\\\ub370\\\\uc774\\\\ud130\\\\uc5f0\\\\uacc4 API \\\\uc11c\\\\ubc84\",\\n                \"verdict\": \"no\",\\n                \"reason\": \"This is a specific technical detail and not relevant to the overall introduction of PCN\\'s capabilities.\"\\n            },\\n            {\\n                \"statement\": \"2. \\\\ub370\\\\uc774\\\\ud130\\\\uc815\\\\uccb4\\\\ubaa8\\\\ub378\",\\n                \"verdict\": \"no\",\\n                \"reason\": \"This is a specific technical detail and not relevant to the overall introduction of PCN\\'s capabilities.\"\\n            },\\n            {\\n                \"statement\": \"3. \\\\uac80\\\\uc0c9\\\\uc5d4\\\\uc9c4\\\\uc11c\\\\ubc84\",\\n                \"verdict\": \"no\",\\n                \"reason\": \"This is a specific technical detail and not relevant to the overall introduction of PCN\\'s capabilities.\"\\n            },\\n            {\\n                \"statement\": \"4. \\\\uc5f0\\\\uad00\\\\ubd84\\\\uc11d\\\\ubaa8\\\\ub378\",\\n                \"verdict\": \"no\",\\n                \"reason\": \"This is a specific technical detail and not relevant to the overall introduction of PCN\\'s capabilities.\"\\n            },\\n            {\\n                \"statement\": \"PCN\\\\uc774 \\\\ubcf4\\\\uc720\\\\ud55c \\\\uae30\\\\uc220\\\\uc744 \\\\ud65c\\\\uc6a9\\\\ud558\\\\uc5ec \\\\ub2e4\\\\uc591\\\\ud55c \\\\ud504\\\\ub85c\\\\uc81d\\\\ud2b8\\\\ub97c \\\\uc9c4\\\\ud589\\\\ud558\\\\uace0 \\\\uc788\\\\uc2b5\\\\ub2c8\\\\ub2e4.\",\\n                \"verdict\": \"yes\",\\n                \"reason\": null\\n            },\\n            {\\n                \"statement\": \"OASIS DataMap\",\\n                \"verdict\": \"no\",\\n                \"reason\": \"This is a specific project name and not relevant to the overall introduction of PCN\\'s capabilities.\"\\n            }\\n        ]\\n    },\\n    {\\n        \"verdicts\": [\\n            {\\n                \"statement\": \"OASIS-APIM\",\\n                \"verdict\": \"yes\",\\n                \"reason\": null\\n            },\\n            {\\n                \"statement\": \"API \\\\uad00\\\\ub9ac\\\\uc11c\\\\ubc84 \\\\uc194\\\\ub8e8\\\\uc158\",\\n                \"verdict\": \"yes\",\\n                \"reason\": null\\n            },\\n            {\\n                \"statement\": \"\\\\uc11c\\\\ubc84\\\\ub85c \\\\uc694\\\\uccad\\\\ub418\\\\ub294 \\\\ubaa8\\\\ub4e0 API\\\\uc758 \\\\uc811\\\\uc810 \\\\uc5ed\\\\ud560\\\\uc744 \\\\ud558\\\\ub294 API \\\\uad00\\\\ub9ac \\\\uc11c\\\\ubc84(API Management System: APIM)\\\\ub85c\\\\uc368 \\\\uc678\\\\ubd80\\\\uc5d0\\\\uc11c\\\\uc758 API \\\\uc694\\\\uccad \\\\uc2dc \\\\ub0b4\\\\ubd80\\\\uc758 \\\\uc2dc\\\\uc2a4\\\\ud15c\\\\uacfc \\\\uc0c1\\\\uad00 \\\\uc5c6\\\\uc774 \\\\uc57d\\\\uc18d\\\\ub41c \\\\ud615\\\\ud0dc\\\\uc758 API \\\\uc694\\\\uccad\\\\uc744 \\\\ud560 \\\\uc218 \\\\uc788\\\\ub3c4\\\\ub85d \\\\uc9c0\\\\uc6d0\\\\ud569\\\\ub2c8\\\\ub2e4.\",\\n                \"verdict\": \"yes\",\\n                \"reason\": null\\n            },\\n            {\\n                \"statement\": \"\\\\uad6c\\\\uc131\\\\ub3c4\",\\n                \"verdict\": \"no\",\\n                \"reason\": \"The retrieval context contained the information \\'\\\\uad6c\\\\uc131\\\\ub3c4\\' when it has nothing to do with introducing a company.\"\\n            },\\n            {\\n                \"statement\": \"\\\\ud2b9\\\\uc7a5\\\\uc810\",\\n                \"verdict\": \"yes\",\\n                \"reason\": null\\n            },\\n            {\\n                \"statement\": \"1. \\\\ub2e4\\\\uc591\\\\ud55c API\\\\uc758 \\\\ub77c\\\\uc6b0\\\\ud305 \\\\ucc98\\\\ub9ac\",\\n                \"verdict\": \"yes\",\\n                \"reason\": null\\n            },\\n            {\\n                \"statement\": \"2. \\\\ud50c\\\\ub7ec\\\\uadf8\\\\uc778 \\\\uc9c0\\\\uc6d0\\\\uc73c\\\\ub85c \\\\ud655\\\\uc7a5\\\\uc131 \\\\ubcf4\\\\uc7a5\",\\n                \"verdict\": \"yes\",\\n                \"reason\": null\\n            },\\n            {\\n                \"statement\": \"3. \\\\uc694\\\\uccad \\\\ud604\\\\ud669\\\\uc5d0 \\\\ub300\\\\ud55c \\\\ubaa8\\\\ub2c8\\\\ud130\\\\ub9c1\",\\n                \"verdict\": \"yes\",\\n                \"reason\": null\\n            },\\n            {\\n                \"statement\": \"4. Web UI \\\\uc9c0\\\\uc6d0\\\\uc73c\\\\ub85c \\\\uc190\\\\uc26c\\\\uc6b4 \\\\uad6c\\\\uc131\",\\n                \"verdict\": \"yes\",\\n                \"reason\": null\\n            },\\n            {\\n                \"statement\": \"5. \\\\ud2b8\\\\ub798\\\\ud53d \\\\ubc0f \\\\uc694\\\\uccad \\\\ud69f\\\\uc218 \\\\uc81c\\\\ud55c\",\\n                \"verdict\": \"yes\",\\n                \"reason\": null\\n            },\\n            {\\n                \"statement\": \"6. \\\\uc0ac\\\\uc6a9\\\\uc790\\\\uc5d0 \\\\ub300\\\\ud55c \\\\uc778\\\\uc99d \\\\ubc0f \\\\uc778\\\\uac00 \\\\ucc98\\\\ub9ac\",\\n                \"verdict\": \"yes\",\\n                \"reason\": null\\n            },\\n            {\\n                \"statement\": \"7. \\\\ubcc0\\\\uacbd\\\\uc0ac\\\\ud56d\\\\uc758 \\\\uc2e4\\\\uc2dc\\\\uac04 \\\\ubc18\\\\uc601\",\\n                \"verdict\": \"yes\",\\n                \"reason\": null\\n            },\\n            {\\n                \"statement\": \"8. \\\\uce90\\\\uc2dc \\\\uc0ac\\\\uc6a9\\\\uc5d0 \\\\uc758\\\\ud55c \\\\uc131\\\\ub2a5 \\\\ubcf4\\\\uc7a5\",\\n                \"verdict\": \"yes\",\\n                \"reason\": null\\n            },\\n            {\\n                \"statement\": \"\\\\uc81c\\\\ud488 \\\\uc18c\\\\uac1c\\\\uc11c \\\\ub2e4\\\\uc6b4\\\\ub85c\\\\ub4dc\",\\n                \"verdict\": \"no\",\\n                \"reason\": \"The retrieval context contained the information \\'\\\\uc81c\\\\ud488 \\\\uc18c\\\\uac1c\\\\uc11c \\\\ub2e4\\\\uc6b4\\\\ub85c\\\\ub4dc\\' when it has nothing to do with introducing a company.\"\\n            }\\n        ]\\n    },\\n    {\\n        \"verdicts\": [\\n            {\\n                \"statement\": \"\\\\ub300\\\\uc6a9\\\\ub7c9 \\\\ub274\\\\uc2a4 \\\\uae30\\\\ubc18 \\\\uc0ac\\\\uac74\\\\uc0ac\\\\uace0 \\\\uc9c0\\\\uc2dd \\\\ube45\\\\ub370\\\\uc774\\\\ud130 \\\\uc13c\\\\ud130 \\\\uad6c\\\\ucd95\",\\n                \"verdict\": \"yes\",\\n                \"reason\": null\\n            },\\n            {\\n                \"statement\": \"\\\\uc2a4\\\\ub9c8\\\\ud2b8 \\\\uce58\\\\uc548 \\\\ube45\\\\ub370\\\\uc774\\\\ud130 \\\\uc13c\\\\ud130\",\\n                \"verdict\": \"yes\",\\n                \"reason\": null\\n            },\\n            {\\n                \"statement\": \"\\\\ud6a8\\\\uacfc\\\\uc801\\\\uc778 \\\\uc2a4\\\\ub9c8\\\\ud2b8\\\\uce58\\\\uc548 \\\\ud65c\\\\ub3d9\\\\uc744 \\\\uc704\\\\ud55c \\\\uace0\\\\ud488\\\\uc9c8 \\\\uc0ac\\\\uac74\\\\u00b7\\\\uc0ac\\\\uace0 \\\\uc6d0\\\\ubb38 \\\\ub274\\\\uc2a4 \\\\ub370\\\\uc774\\\\ud130\\\\ub97c \\\\uc0dd\\\\uc0b0\\\\u00b7\\\\uad00\\\\ub9ac\\\\u00b7\\\\uc720\\\\ud1b5\\\\ud558\\\\ub294 \\\\ube45\\\\ub370\\\\uc774\\\\ud130 \\\\uc13c\\\\ud130\",\\n                \"verdict\": \"yes\",\\n                \"reason\": null\\n            },\\n            {\\n                \"statement\": \"\\\\uc6d0\\\\ubb38 \\\\ub274\\\\uc2a4\\\\uae30\\\\ubc18\\\\uace0\\\\ud488\\\\uc9c8 \\\\uba54\\\\ud0c0\\\\ub370\\\\uc774\\\\ud130\",\\n                \"verdict\": \"yes\",\\n                \"reason\": null\\n            },\\n            {\\n                \"statement\": \"\\\\ub274\\\\uc2a4 \\\\ub370\\\\uc774\\\\ud130 \\\\ud1b5\\\\ud569 \\\\ubc0f\\\\ubd84\\\\ub958 \\\\uccb4\\\\uacc4 \\\\ud45c\\\\uc900\\\\ud654\",\\n                \"verdict\": \"yes\",\\n                \"reason\": null\\n            },\\n            {\\n                \"statement\": \"\\\\uc790\\\\uc5f0\\\\uc5b4 \\\\ucc98\\\\ub9ac\\\\ub97c \\\\ud1b5\\\\ud55c\\\\ud2b9\\\\uc9d5 \\\\ucd94\\\\ucd9c\",\\n                \"verdict\": \"yes\",\\n                \"reason\": null\\n            },\\n            {\\n                \"statement\": \"\\\\ub274\\\\uc2a4 \\\\ud2b9\\\\uc9d5 \\\\uae30\\\\ubc18\\\\uc790\\\\ub3d9 \\\\ubb38\\\\ub958\",\\n                \"verdict\": \"yes\",\\n                \"reason\": null\\n            },\\n            {\\n                \"statement\": \"\\\\ub370\\\\uc774\\\\ud130 \\\\ud488\\\\uc9c8 \\\\uad00\\\\ub9ac\",\\n                \"verdict\": \"yes\",\\n                \"reason\": null\\n            },\\n            {\\n                \"statement\": \"\\\\ud074\\\\ub77c\\\\uc6b0\\\\ub4dc \\\\ucef4\\\\ud4e8\\\\ud305\\\\uae30\\\\ubc18 \\\\uc778\\\\ud504\\\\ub77c \\\\uad6c\\\\ucd95\",\\n                \"verdict\": \"yes\",\\n                \"reason\": null\\n            },\\n            {\\n                \"statement\": \"\\\\ud1b5\\\\uacc4 \\\\ubd84\\\\uc11d \\\\ubc0f \\\\uc2dc\\\\uac01\\\\ud654\",\\n                \"verdict\": \"yes\",\\n                \"reason\": null\\n            },\\n            {\\n                \"statement\": \"\\\\ub124\\\\ud2b8\\\\uc6cc\\\\ud0b9 \\\\uae30\\\\uc220\",\\n                \"verdict\": \"yes\",\\n                \"reason\": null\\n            },\\n            {\\n                \"statement\": \"\\\\uc0dd\\\\uc0b0 \\\\ub370\\\\uc774\\\\ud130\\\\uc758 \\\\ud1b5\\\\uacc4 \\\\ubd84\\\\uc11d \\\\ubc0f \\\\uc2dc\\\\uac01\\\\ud654 \\\\ubaa8\\\\ub378\",\\n                \"verdict\": \"yes\",\\n                \"reason\": null\\n            },\\n            {\\n                \"statement\": \"OS\\\\ub97c \\\\uac00\\\\ub9ac\\\\uc9c0 \\\\uc54a\\\\ub294 \\\\ud50c\\\\ub7ab\\\\ud3fc \\\\uc11c\\\\ubc84 \\\\ubc30\\\\ud3ec \\\\ud658\\\\uacbd\",\\n                \"verdict\": \"yes\",\\n                \"reason\": null\\n            },\\n            {\\n                \"statement\": \"\\\\uc11c\\\\ubc84 \\\\ub0b4 \\\\ubcc4\\\\ub3c4\\\\uc758 \\\\ucf58\\\\ud150\\\\uce20 \\\\uad00\\\\ub9ac\",\\n                \"verdict\": \"yes\",\\n                \"reason\": null\\n            },\\n            {\\n                \"statement\": \"Real Time \\\\uba54\\\\ud0c0\\\\ubc84\\\\uc2a4 \\\\ud658\\\\uacbd\\\\uc744 \\\\uc704\\\\ud55c \\\\uac8c\\\\uc784 \\\\uc11c\\\\ubc84 \\\\uc544\\\\ud0a4\\\\ud14d\\\\ucc98\",\\n                \"verdict\": \"yes\",\\n                \"reason\": null\\n            },\\n            {\\n                \"statement\": \"\\\\ud6a8\\\\uc728\\\\uc801 \\\\uad00\\\\ub9ac\\\\ub97c \\\\uc704\\\\ud55c \\\\uc9c0\\\\uc2dd \\\\ubca0\\\\uc774\\\\uc2a4 \\\\uad6c\\\\ucd95\",\\n                \"verdict\": \"yes\",\\n                \"reason\": null\\n            },\\n            {\\n                \"statement\": \"\\\\uc785\\\\ub825\\\\ub41c \\\\uba54\\\\ud0c0\\\\ub370\\\\uc774\\\\ud130 \\\\uae30\\\\ubc18 \\\\uac1c\\\\uccb4 \\\\ucd94\\\\ucd9c \\\\ubc0f \\\\uc2dc\\\\uacc4\\\\uc5f4 \\\\uae30\\\\ubc18 \\\\uad6c\\\\ucd95\",\\n                \"verdict\": \"yes\",\\n                \"reason\": null\\n            },\\n            {\\n                \"statement\": \"\\\\uc2dc\\\\uac01\\\\uc801 \\\\ubd84\\\\uc11d \\\\ubc0f \\\\ub370\\\\uc774\\\\ud130 \\\\uc735\\\\ud569 \\\\uae30\\\\uc220 \\\\uc801\\\\uc6a9\",\\n                \"verdict\": \"yes\",\\n                \"reason\": null\\n            },\\n            {\\n                \"statement\": \"\\\\ub370\\\\uc774\\\\ud130 \\\\uc735\\\\ud569 \\\\ub124\\\\ud2b8\\\\uc6cc\\\\ud0b9 \\\\uae30\\\\uc220\",\\n                \"verdict\": \"yes\",\\n                \"reason\": null\\n            },\\n            {\\n                \"statement\": \"\\\\uc790\\\\uc5f0\\\\uc5b4 \\\\ucc98\\\\ub9ac\\\\ub97c \\\\ud1b5\\\\ud55c \\\\uc778\\\\ubb3c,\\\\uc7a5\\\\uc18c,\\\\uc2dc\\\\uac04 \\\\uac1c\\\\uccb4\\\\ub97c \\\\ucd94\\\\ucd9c\",\\n                \"verdict\": \"yes\",\\n                \"reason\": null\\n            },\\n            {\\n                \"statement\": \"\\\\uc0dd\\\\uc0b0\\\\ub41c \\\\uc2dc\\\\uba58\\\\ud2f1 \\\\ub370\\\\uc774\\\\ud130\\\\uc758 \\\\uad00\\\\uacc4 \\\\uadf8\\\\ub798\\\\ud504 \\\\uc0dd\\\\uc131 \\\\ubc0f \\\\uc2dc\\\\uac01\\\\ud654\",\\n                \"verdict\": \"yes\",\\n                \"reason\": null\\n            },\\n            {\\n                \"statement\": \"\\\\uc11c\\\\uc6b8\\\\ub300\\\\ud559\\\\uad50 \\\\uc0b0\\\\ud559\\\\ud611\\\\ub825\\\\ub2e8\",\\n                \"verdict\": \"no\",\\n                \"reason\": \"\\\\uc11c\\\\uc6b8\\\\ub300\\\\ud559\\\\uad50 \\\\uc0b0\\\\ud559\\\\ud611\\\\ub825\\\\ub2e8\\\\uc740 \\\\ud53c\\\\uc528\\\\uc5d4 \\\\ud68c\\\\uc0ac\\\\uc5d0 \\\\ub300\\\\ud55c \\\\uc815\\\\ubcf4\\\\uac00 \\\\uc544\\\\ub2d9\\\\ub2c8\\\\ub2e4.\"\\n            },\\n            {\\n                \"statement\": \"AI \\\\uae30\\\\ubc18 \\\\ud329\\\\ud2b8\\\\uccb4\\\\ud06c \\\\uc790\\\\ub3d9\\\\ud654 \\\\uc11c\\\\ube44\\\\uc2a4(\\\\ub370\\\\uc774\\\\ud130 \\\\uc81c\\\\uacf5)\",\\n                \"verdict\": \"no\",\\n                \"reason\": \"\\\\uc11c\\\\uc6b8\\\\ub300\\\\ud559\\\\uad50 \\\\uc0b0\\\\ud559\\\\ud611\\\\ub825\\\\ub2e8\\\\uc758 AI \\\\uae30\\\\ubc18 \\\\ud329\\\\ud2b8\\\\uccb4\\\\ud06c \\\\uc790\\\\ub3d9\\\\ud654 \\\\uc11c\\\\ube44\\\\uc2a4\\\\ub294 \\\\ud53c\\\\uc528\\\\uc5d4 \\\\ud68c\\\\uc0ac\\\\uc5d0 \\\\ub300\\\\ud55c \\\\uc815\\\\ubcf4\\\\uac00 \\\\uc544\\\\ub2d9\\\\ub2c8\\\\ub2e4.\"\\n            },\\n            {\\n                \"statement\": \"\\\\ubbf8\\\\ub514\\\\uc5b4\\\\uc628\",\\n                \"verdict\": \"no\",\\n                \"reason\": \"\\\\ubbf8\\\\ub514\\\\uc5b4\\\\uc628\\\\uc740 \\\\ud53c\\\\uc528\\\\uc5d4 \\\\ud68c\\\\uc0ac\\\\uc5d0 \\\\ub300\\\\ud55c \\\\uc815\\\\ubcf4\\\\uac00 \\\\uc544\\\\ub2d9\\\\ub2c8\\\\ub2e4.\"\\n            },\\n            {\\n                \"statement\": \"\\\\ubbf8\\\\ub514\\\\uc5b4 \\\\uae30\\\\ubc18 \\\\ud329\\\\ud2b8 \\\\uccb4\\\\ud06c \\\\uc11c\\\\ube44\\\\uc2a4(\\\\ub370\\\\uc774\\\\ud130 \\\\uc81c\\\\uacf5)\",\\n                \"verdict\": \"no\",\\n                \"reason\": \"\\\\ubbf8\\\\ub514\\\\uc5b4\\\\uc628\\\\uc758 \\\\ubbf8\\\\ub514\\\\uc5b4 \\\\uae30\\\\ubc18 \\\\ud329\\\\ud2b8 \\\\uccb4\\\\ud06c \\\\uc11c\\\\ube44\\\\uc2a4\\\\ub294 \\\\ud53c\\\\uc528\\\\uc5d4 \\\\ud68c\\\\uc0ac\\\\uc5d0 \\\\ub300\\\\ud55c \\\\uc815\\\\ubcf4\\\\uac00 \\\\uc544\\\\ub2d9\\\\ub2c8\\\\ub2e4.\"\\n            }\\n        ]\\n    },\\n    {\\n        \"verdicts\": [\\n            {\\n                \"statement\": \"\\\\ud504\\\\ub85c\\\\uc81d\\\\ud2b8\\\\uba85\",\\n                \"verdict\": \"no\",\\n                \"reason\": null\\n            },\\n            {\\n                \"statement\": \"\\\\ud504\\\\ub85c\\\\uc81d\\\\ud2b8 \\\\uc131\\\\uaca9\",\\n                \"verdict\": \"no\",\\n                \"reason\": null\\n            },\\n            {\\n                \"statement\": \"\\\\ub3c4\\\\uba54\\\\uc778\",\\n                \"verdict\": \"no\",\\n                \"reason\": null\\n            },\\n            {\\n                \"statement\": \"\\\\ubc1c\\\\uc8fc\\\\uae30\\\\uad00\",\\n                \"verdict\": \"no\",\\n                \"reason\": null\\n            },\\n            {\\n                \"statement\": \"\\\\uc801\\\\uc6a9 \\\\uae30\\\\uc220\",\\n                \"verdict\": \"no\",\\n                \"reason\": null\\n            },\\n            {\\n                \"statement\": \"\\\\uc8fc\\\\uc694 \\\\ubaa9\\\\uc801\",\\n                \"verdict\": \"no\",\\n                \"reason\": null\\n            }\\n        ]\\n    },\\n    {\\n        \"verdicts\": [\\n            {\\n                \"statement\": \"\\\\ud504\\\\ub85c\\\\uc81d\\\\ud2b8\\\\uba85\",\\n                \"verdict\": \"no\",\\n                \"reason\": null\\n            },\\n            {\\n                \"statement\": \"\\\\ud504\\\\ub85c\\\\uc81d\\\\ud2b8 \\\\uc131\\\\uaca9\",\\n                \"verdict\": \"no\",\\n                \"reason\": null\\n            },\\n            {\\n                \"statement\": \"\\\\ub3c4\\\\uba54\\\\uc778\",\\n                \"verdict\": \"no\",\\n                \"reason\": null\\n            },\\n            {\\n                \"statement\": \"\\\\ubc1c\\\\uc8fc\\\\uae30\\\\uad00\",\\n                \"verdict\": \"no\",\\n                \"reason\": null\\n            },\\n            {\\n                \"statement\": \"\\\\uc801\\\\uc6a9 \\\\uae30\\\\uc220\",\\n                \"verdict\": \"no\",\\n                \"reason\": null\\n            },\\n            {\\n                \"statement\": \"\\\\uc8fc\\\\uc694 \\\\ubaa9\\\\uc801\",\\n                \"verdict\": \"yes\",\\n                \"reason\": null\\n            }\\n        ]\\n    },\\n    {\\n        \"verdicts\": [\\n            {\\n                \"statement\": \"\\\\ud504\\\\ub85c\\\\uc81d\\\\ud2b8\\\\uba85\",\\n                \"verdict\": \"no\",\\n                \"reason\": null\\n            },\\n            {\\n                \"statement\": \"\\\\ud504\\\\ub85c\\\\uc81d\\\\ud2b8 \\\\uc131\\\\uaca9\",\\n                \"verdict\": \"no\",\\n                \"reason\": null\\n            },\\n            {\\n                \"statement\": \"\\\\ub3c4\\\\uba54\\\\uc778\",\\n                \"verdict\": \"no\",\\n                \"reason\": null\\n            },\\n            {\\n                \"statement\": \"\\\\ubc1c\\\\uc8fc\\\\uae30\\\\uad00\",\\n                \"verdict\": \"no\",\\n                \"reason\": null\\n            },\\n            {\\n                \"statement\": \"\\\\uc801\\\\uc6a9 \\\\uae30\\\\uc220\",\\n                \"verdict\": \"no\",\\n                \"reason\": null\\n            },\\n            {\\n                \"statement\": \"\\\\uc8fc\\\\uc694 \\\\ubaa9\\\\uc801\",\\n                \"verdict\": \"yes\",\\n                \"reason\": null\\n            }\\n        ]\\n    }\\n]'},\n",
       "    {'name': 'Contextual Recall',\n",
       "     'threshold': 0.5,\n",
       "     'success': False,\n",
       "     'score': 0.0,\n",
       "     'reason': 'The score is 0.00 because the provided output lacks sufficient context to accurately support the expected response.',\n",
       "     'strict_mode': False,\n",
       "     'evaluation_model': 'ko-llama-8B (Ollama)',\n",
       "     'error': None,\n",
       "     'evaluation_cost': 0.0,\n",
       "     'verbose_logs': 'Verdicts:\\n[\\n    {\\n        \"verdict\": \"\\\\uc815\\\\ud655\\\\ud55c \\\\uc815\\\\ubcf4\\\\ub97c \\\\uc81c\\\\uacf5\\\\ud558\\\\uae30 \\\\uc704\\\\ud574 \\\\ucd94\\\\uac00\\\\uc801\\\\uc778 \\\\uc815\\\\ubcf4\\\\uac00 \\\\ud544\\\\uc694\\\\ud569\\\\ub2c8\\\\ub2e4.\",\\n        \"reason\": \"\\\\ubb38\\\\uc7a5\\\\uc758 \\\\uc758\\\\ubbf8\\\\ub97c \\\\ud30c\\\\uc545\\\\ud558\\\\uace0 \\\\uc801\\\\uc808\\\\ud55c \\\\ub2f5\\\\ubcc0\\\\uc744 \\\\uc81c\\\\uacf5\\\\ud558\\\\uae30 \\\\uc704\\\\ud574\\\\uc11c\\\\ub294 \\\\ub354 \\\\ub9ce\\\\uc740 \\\\ubb38\\\\ub9e5\\\\uc774 \\\\ud544\\\\uc694\\\\ud569\\\\ub2c8\\\\ub2e4.\"\\n    },\\n    {\\n        \"verdict\": \"\\\\ub2e4\\\\uc591\\\\ud55c \\\\uc720\\\\ud615\\\\uc758 \\\\ub370\\\\uc774\\\\ud130\\\\uc640 \\\\uae30\\\\uc220\\\\uc801 \\\\uc694\\\\uc18c\\\\ub97c \\\\ud3ec\\\\ud568\\\\ud558\\\\ub294 \\\\ubcf5\\\\uc7a1\\\\ud55c \\\\uc9c8\\\\ubb38\\\\uc785\\\\ub2c8\\\\ub2e4.\",\\n        \"reason\": \"\\\\uc9c8\\\\ubb38\\\\uc5d0 \\\\ub300\\\\ud55c \\\\uad6c\\\\uccb4\\\\uc801\\\\uc778 \\\\ub2f5\\\\ubcc0\\\\uc744 \\\\uc81c\\\\uacf5\\\\ud558\\\\uae30 \\\\uc704\\\\ud574 \\\\ucd94\\\\uac00\\\\uc801\\\\uc778 \\\\uc815\\\\ubcf4\\\\uac00 \\\\ud544\\\\uc694\\\\ud569\\\\ub2c8\\\\ub2e4.\"\\n    }\\n]'}],\n",
       "   'conversational': False,\n",
       "   'multimodal': False,\n",
       "   'input': '피씨엔 회사에 대해 소개해 주세요',\n",
       "   'actual_output': \"피씨엔(PCN)은 기술 회사로서 다양한 분야에서 혁신적인 솔루션을 제공하는 기업입니다. 주요 서비스로는 빅데이터, 확장 현실(XR), 인공지능(AI), 시스템 통합(SI) 등이 있습니다.\\n\\n### 회사 개요\\n피씨엔은 cutting-edge 기술을 활용하여 고객의 요구에 맞춘 솔루션을 개발하고 제공합니다. 이를 통해 다양한 산업 분야에서 혁신적인 변화를 이끌어내고 있습니다.\\n\\n### 프로젝트\\n피씨엔은 여러 가지 프로젝트를 진행하고 있습니다. 예를 들어, '스마트 시티' 프로젝트는 도시의 효율성을 높이기 위해 빅데이터와 AI 기술을 활용한 솔루션을 제공합니다. 이 프로젝트는 교통 관리, 에너지 효율성, 공공 안전 등 다양한 측면에서 긍정적인 영향을 미쳤습니다.\\n\\n### 주요 솔루션\\n1. **빅데이터 분석**: 대량의 데이터를 효과적으로 분석하여 고객에게 유용한 정보를 제공합니다.\\n2. **확장 현실(XR)**: 가상 현실(VR)과 증강 현실(AR)을 활용하여 교육, 마케팅, 의료 등 다양한 분야에서 혁신적인 경험을 제공합니다.\\n3. **인공지능(AI)**: 머신 러닝 기술을 적용하여 자동화와 예측 분석을 통해 고객의 비즈니스 효율성을 높입니다.\\n4. **시스템 통합(SI)**: IT 인프라를 통합하여 기업의 운영 효율성을 극대화합니다.\\n\\n### 조직 규모\\n피씨엔은 다양한 분야의 전문가들로 구성된 강력한 팀을 보유하고 있습니다. 이를 통해 고객에게 최상의 서비스를 제공할 수 있습니다.\\n\\n### 주요 고객\\n피씨엔의 주요 고객은 다양한 산업 분야에서 활동하는 기업들이며, 특히 금융, 제조, 유통, 교육 등이 포함됩니다.\\n\\n### 연혁\\n피씨엔은 2010년에 설립되었으며, 이후 꾸준히 기술 혁신을 추구하며 성장해왔습니다. 주요 프로젝트와 솔루션의 성공적인 적용으로 인해 글로벌 시장에서도 주목받고 있습니다.\\n\\n이러한 강점과 경험을 바탕으로 피씨엔은 앞으로도 지속적으로 발전하고 고객에게 최상의 서비스를 제공할 것입니다.\",\n",
       "   'expected_output': '피씨엔은 디지털 환경에서 고객 비즈니스 성공을 지원하는 Digital Value Service 기업입니다.',\n",
       "   'context': None,\n",
       "   'retrieval_context': ['More NewsView More\\n\\n\\n\\n\\n\\n\\n\\nPCN, 2024년 주주명부 폐쇄기간 및 기준일 설정 공고\\n상법 제354조 및 당사 정관 제17조에 의거 제24기 정기주주총회에서 의결권을 행사할 주주확정을 위하여 다음과 같이 공고합니다.\\xa0기준일 : 2024년 12월 31일명의개서정지기간 : 2025년 1월 1일 ~ 2025년 1월 31일설정사유 :\\xa0제24기 정기주주총회 개최를 위한 권리주주 확정기타사항 :\\xa0당사 정관 제17조 [주주명부의 폐쇄 및 기준일]에 의거함2024년 12월 12일\\xa0주식회사 피씨엔서울특별시 강남구 학동로 146 PCN빌딩대표이사 송광헌\\xa0명의개서대리인 한국예탁결제원 사장 이순호\\n12월 12, 2024\\n\\n\\n\\n\\n\\n\\n\\n\\n\\n피씨엔, ‘2023 K-ICT 위크 인 부산’ 참가\\n\\n 9월 22, 2023\\n\\n\\n\\n\\n\\n\\n\\n\\n\\nPCN 2023 하반기 사업부 워크숍\\n\\xa0PCN이 2023년 7월 31일 하반기 사업부장 워크숍을 진행했습니다.\\xa0본부, 그룹, 실, 일반사업부까지 피씨엔 내 20여 개 전체 사업 관련 인원이 참석했으며, 각 사업부장이 발표한 내용을 토론을 통해 사업부 계획서에 반영했습니다.토론에는 제한 시간을 두지 않고 모든 사업부가 이해할 만한 답을 찾을 때까지 계속 토론 형식으로 진행되었습니다.\\xa0\\n 9월 22, 2023\\n\\n\\n\\n\\n\\n\\nOur Clients',\n",
       "    \"인재들이 자신이 원하는 리더와 함께, 혹은 자신이 리더가 되어서 원하는 꿈에 도전할 수 있는 회사를 만들고자 합니다.\\n                    이를 위한 공정한 룰, 객관적인 평가, 합리적인 보상을 바탕으로 인재가 중심인 회사를 만들겠습니다.\\n                    그러한 노력들의 결과로 매년 동종업계 대비 놀라운 실적의 영업이익과 성장률을 보이고 강남에 사옥을 마련하고\\n                    사내 안마사인 헬스키퍼, PCN 제주 펜션, PCN 양양 등의 직원 복지를 늘리고 함께 성장하고 있습니다.\\n                    PCN은 이에 만족하지 않고 좋은 회사를 넘어서는 위대한 기업 PCN을 만들겠습니다.\\n                    고객감동, 인재행복, 가치창조를 핵심 가치를 바탕으로 ‘디지털 세계에서의 가치 창조'를 실현하여 NO.1 Digital Flatform Company로 더욱 정진하겠습니다.\\n                \\n감사합니다.\\n\\n\\n\\n기업 정보\\n\\n\\n\\n설립 연도\\n1999년 12월\\n\\n\\n\\n사업 분야\\nSI(시스템 통합),\\n                        SM(시스템 관리)\\n                        컨설팅, 솔루션 Bix, 모바일 등\\n                    \\n\\n\\n\\n매출액\\n264억\\n*2022년 기준\\n\\n\\n\\n임직원\\n180명\\n*2022년 기준\\n\\n\\n\\n\\n비전\\n디지털 세상에서의 가치창조라는 Vision을 토대로 고객이 아닌 파트너가 많은 기업으로 계속 성장하겠습니다.\\n\\n\\nMISSION\\n우리는 고객의 성공을 도와 세상의 가치를\\n                        증대 시키며 행복과 긍지를 느낀다.\\n\\n\\n\\nVALUE\\n고객 감동, 인재 행복, 가치 창조\\n\\n\\n\\nVISION\\nNO.1 DIGITAL VALUE SERVICE COMPANY\\n\\n\\n\\n\\n\\n회사 소개서 PDF\",\n",
       "    \"검색\\n\\n전체\\n제목\\n\\n\\n\\n\\n검색\\n\\n\\n\\n\\n\\n\\n                전체\\n                66 \\n                건\\n            \\n\\n\\n\\n\\n\\n\\n\\n\\n\\n\\n\\n\\n\\n피씨엔, AI 플랫폼 '오즈아이' 앞세워 피지컬 AI 시장 진출\\n2025-07-28\\n\\n\\n\\n\\n\\n\\n\\n피씨엔(PCN), 민관 디지털 혁신 플랫폼 'DPG 통합테스트베드' 운영 맡는다\\n2025-06-11\\n\\n\\n\\n\\n\\n\\n\\nPCN, 제4기 정기 주총 성료···재무제표 등 승인\\n2025-03-31\\n\\n\\n\\n\\n\\n\\n\\n피씨엔, XR 콘텐츠서 상호작용 가능성 열었다\\n2025-02-19\\n\\n\\n\\n\\n\\n\\n\\n피씨엔-메디트릭스, 디지털 헬스케어 사업 협력\\n2025-02-19\\n\\n\\n\\n\\n\\n\\n\\n과기정통부, 산업기술연구조합 기술교류회 개최\\n2025-02-13\\n\\n\\n\\n\\n\\n\\n\\n\\n\\n\\n\\n\\n\\n \\n \\n\\n1\\n2\\n3\\n4\\n5\\n6\\n7\\n8\\n9\\n10\",\n",
       "    '디지털 가치를 만드는 기업\\nPCN은 지식, 경험, 네트워크를 바탕으로 디지털 환경에서의 고객 비즈니스 성공을 지원하는 Digital Value Service 기업입니다.\\n\\n\\n\\n                        PCN은 다양한 기업 및 기업들의 온라인 비즈니스 파트너로서,\\n                        고객들과 함께 꾸준히 성장해왔습니다. PCN은 기술력과 노하우를 두루 갖춘\\n                        분야별 스페셜리스트들이 고객의 비즈니스 파트너로서 감동의 가치를 실현합니다.\\n                        온라인 환경과 비즈니스에 대한 깊은 이해를 가진 중·고급 인력이 전체의 60%를\\n                        차지하고 있으며 다양한 전문 기술을 보유한 인재들로 구성되어 있어 사업을 성공으로\\n                        이끌고 있습니다.\\n                    \\n\\n\\n\\n\\n\\n\\n\\nCEO 메세지\\n\\n\\n                    안녕하세요? PCN의 송광헌 대표입니다.\\n                    (주)PCN은 1999년 설립되고 2001년 법인전환 이후 20년 넘게 IT전문기업으로서 매진해 왔습니다.\\n                    그 결과 Bigdata, AI, XR 콘텐츠 기술과 이를 바탕으로 최근 메타버스 플랫폼까지 다양한 사업에서 최고의 기술과 실적을 만들고 있습니다.\\n                    그 바탕에는 PCN 3.0으로 시작한 ‘Flat stage’ 즉, 공정한 무대에서 인재들이 마음껏 본인의 역량을 펼칠 수 있는 문화의 힘이 있다고 생각합니다.',\n",
       "    'PCN E-Search\\nPCN 통합검색 솔루션\\nPCN E-Search는 Lucene 라이브러리 및 Elastic 오픈소스 기반으로 제작되었고 다양한 형태의 리소스 데이터에 대한 크롤링,\\n                    분산 저장 및 검색을 지원하는 확장성이 뛰어난 검색 플랫폼입니다. PCN 기업부설연구소는 Elastic기반으로 검색엔진을 확장하여 공공 기관에 납품한 실적을 보유하고 있습니다.\\n\\n\\n\\n구성도\\n\\n\\n\\n특장점\\n\\n1. 다양한 형태의 데이터 수집 및 색인 지원\\n2. 멀티 노드 기반의 고가용성 지원\\n3. 다수의 클러스터링 구성 가능\\n4. 독립된 모듈 형태의 기능 분할\\n5. 빅데이터 분산 저장소 및 분석도구 지원\\n6. 플러그인 지원으로 확장성 보장\\n7. 자연어 검색, 복합명사 붙용어 필터 지원\\n8. 검색어 자동완성, 트랜드 분석 및 연관검색어 지원\\n\\n\\n\\n\\n\\n\\n제품 소개서 다운로드',\n",
       "    'PCN 직원 혜택\\nPCN은 다양한 사원복지를 통해 임직원들이 즐겁고 행복하게 일 할 수 있는 회사가 될 수 있도록 노력 합니다.\\n\\n\\n\\n\\n\\n\\n제주 양양 펜션\\n직원들이 휴식 및 숙박을 할 수 있는 임직원 전용 공간입니다.\\n\\n제주 펜션\\n양양 펜션\\n\\n\\n\\n\\n\\n\\n헬스키퍼\\n직원들의 뭉친 근육을 풀어 드립니다! 국가공인 안마사 자격을\\n                            갖춘 헬스 키퍼 분들에게 주 1회 안마를 받을 수 있습니다\\n\\n\\n\\n\\n\\n맞춤형 복지 제도\\n여행, 건강, 교육, 취미 1회에 한하여 현금을 지급합니다.\\n\\n\\n\\n\\n\\n장기근속자 포상\\nPCN과 함께 꾸준히 성장해준 직원들에게 3/5/7/10/15/20/25주년\\n                            선물을 지급 합니다.\\n\\n\\n\\n\\n\\n교육훈련비 지원\\n사외교육 50% 지원 및 직원 본인 대학/대학원 등록금 50%\\n                            지원 합니다.\\n\\n\\n\\n\\n\\n패밀리 데이\\n매월 1일 2시간 조기 퇴근\\n\\n\\n\\n\\n\\n명절 선물 지급\\n설과 추석 명절에 감사의 마음을 전하기 위해 선물을 지급합니다.\\n\\n\\n\\n\\n\\n도서비 지원\\n직원들의 성장과 역량 향상을 위해  업무 관련 도서비를 지원합니다.\\n\\n\\n\\n\\n\\n생일자 선물\\n생일 파티 또는 본인 선물 구매를 위해 현금을 지급합니다.\\n\\n\\n\\n\\n\\n휴식공간\\n업무 중에 잠시 휴식을 위해 사내 카페에서 커피한잔의 여유와\\n                            휴게공간에서 안마의자 등을 통해 잠시 휴식을 가질 수 있습니다.\\n\\n\\n\\n\\n\\n경조화환\\n경조사 발생시 조의의 마음을 전하고자 화환을 제공합니다.',\n",
       "    'PCN에 오시는 길\\nPCN은 강남구 학동역/논현역 부근에 위치하고 있습니다. 문의는 언제나 열려있습니다.\\n\\n\\n\\n\\n\\n\\n주소\\n서울특별시 강남구 학동로 146 PCN빌딩\\n\\n\\n문의\\n\\n\\n채용‧프로젝트‧홍보문의\\nE.master@pcninc.co.kr\\nT.02 - 565 - 7740\\n\\n\\n영업문의\\nE.master@pcninc.co.kr\\nT.02 - 6027 - 5870\\n\\n\\n\\n\\n\\n\\n지하철\\n\\n학동역에서 하차\\n(5번 출구에서 300m 도보 5분거리)\\n\\n\\n논현역에서 하차\\n(1번 출구에서 450m 도보 8분거리)\\n\\n\\n\\n버스\\n\\n논현사거리, 학동역\\n240, 401, 3412, 6411\\n\\n\\n\\n자가용\\n\\nPCN 빌딩 주차장\\n유료 시설로 대중교통 이용을 권장',\n",
       "    \"갤러리 아트인사이트 개관\\n\\n\\n\\n\\n\\n\\n2016\\n\\n\\n\\n09월\\n\\n일학습병행제 경진대회 장려상(한국산업인력공단)\\n\\n\\n\\n\\n\\n\\n2015\\n\\n\\n\\n11월\\n\\n미래창조과학부 장관 표창\\n\\n\\n\\n08월\\n\\n정보통신 공사업 취득\\n\\n\\n\\n\\n\\n\\n2013\\n\\n\\n\\n11월\\n\\n오픈 API 기반 콘텐츠 서비스 인터페이스 제공시스템 및 방법 특허 출원\\n\\n\\n\\n08월\\n\\n포렌식기반 이미지 위변조방지 시스템 invisibleCode, GS인증\\n\\n\\n\\n\\n\\n\\n2011\\n\\n\\n\\n08월\\n한국정보산업협동조합 조합원 가입\\n\\n\\n07월\\n기술혁신형 중소기업(INNO-BIZ) 확인\\n\\n\\n06월\\n㈜피씨엔으로 상호변경\\n\\n\\n04월\\n포스트코리아넷 부설 연구소 ISO 9001:2008 인증 획득\\n\\n\\n\\n\\n\\n\\n\\n\\n\\n\\n\\n행정안전부 장관상 수상\\n\\n\\n\\n\\n\\n\\n\\n\\n\\n\\n\\n2010\\n\\n\\n\\n11월\\n\\n㈜포스트코리아넷 부설연구소 설립\\n\\n\\n\\n08월\\n\\n소프트웨어공제조합 가입(출자)\\n\\n\\n\\n06월\\n\\n벤처기업확인 인증\\n\\n\\n\\n\\n\\n\\n2008\\n\\n\\n\\n04월\\n\\n소프트웨어 사업자 신고\\n\\n\\n\\n03월\\n\\n2008 웹어워드 위원회 최우수 디지털에이전시 인증\\n\\n\\n\\n\\n\\n\\n2004\\n\\n\\n\\n10월\\n\\n온라인쇼핑몰 솔루션 PCNShop V 1.0 개발\\n\\n\\n\\n\\n\\n\\n2002\\n\\n\\n\\n04월\\n\\n'온라인을 이용한 병원 자동화 서비스 시스템' 특허출원 (출원번호 10-2004-0051772)\\n\\n\\n\\n\\n\\n\\n2001\\n\\n\\n\\n05월\\n\\n㈜포스트코리아넷 법인전환\\n\\n\\n\\n\\n\\n\\n1999\\n\\n\\n\\n12월\\n\\n코리아넷 설립\\n\\n\\n\\n\\n\\n\\n\\n\\n\\n\\n\\n\\n웹어워드 코리아 공공ㆍ의료 통합대상 수상\",\n",
       "    '23년간 남긴 기록들\\n\\n                ‘디지털 세상에서의 가치 창조’라는 비전 아래 20년간 끊임 없이 달려왔습니다.\\n                1999년 PCN의 전신인 코리아넷이 설립된 이후부터 지금에 이르기까지 다양한 특허와 인증을 획득하며 해당 분야에서 공고히 자리매김해왔습니다.\\n            \\n\\n\\n\\n\\n2022\\n\\n\\n\\n12월\\n\\n대한민국디지털경영혁신대상 문화체육관광부 장관상\\n\\n\\n\\n10월\\n\\n레드닷 디자인 어워드 브랜드 커뮤니케이션부문상\\n\\n\\n\\n08월\\n\\nPCN 신사옥 이전(학동로 146 PCN빌딩)\\n\\n\\n\\n01월\\n\\n갤러리 아트인사이트 개관\\n\\n\\n\\n\\n\\n\\n2021\\n\\n\\n\\n12월\\n\\n국무총리 표창 (소프트웨어산업진흥 발전)\\n행정안전부 장관 표창 (정보화 발전)\\n\\n\\n\\n11월\\n\\n제6회 3D 프린팅 BIZCON 경진대회 최우수상(문화재청)\\n행정안전부 장관 표창 (정부혁신 추진)\\n\\n\\n\\n09월\\n\\nPCN 사옥 이전 PCN 빌딩(언주로135길 33)\\n\\n\\n\\n01월\\n\\nPCN E-SEARCH v1.0 GS인증 1등급 취득\\n\\n\\n\\n\\n\\n\\n2020\\n\\n\\n\\n06월\\n\\n여성가족부 가족친화기업 인증\\n대한상공회의소 일하기 좋은 중소기업 선정\\n\\n\\n\\n02월\\n\\nKiss OASIS v1.2 GS 인증 1등급 취득\\n\\n\\n\\n\\n\\n\\n2019\\n\\n\\n\\n04월\\n\\nRDF 트리플 데이터 기반의 지능형 검색 시스템 및 방법 특허 출원\\n\\n\\n\\n03월\\n\\n온톨리지 기반의 검색 서비스 시스템 및 방법 특허 출원\\n\\n\\n\\n\\n\\n\\n\\n\\n\\n\\n\\n\\n2022 레드닷 디자인 어워드 수상\\n\\n\\n\\n\\n\\n\\n\\n\\n\\n\\n\\n2018\\n\\n\\n\\n07월\\n\\n재난재해 복구를 위한 자원관리 방법 및 시스템 특허 출원\\n\\n\\n\\n05월\\n\\n전통문화 융복합 지원을 위한 디지털 연표 표출시스템 특허 출원\\n\\n\\n\\n08월\\n\\nPCN 신사옥 이전(학동로 146 PCN빌딩)\\n\\n\\n\\n01월\\n\\n갤러리 아트인사이트 개관\\n\\n\\n\\n\\n\\n\\n2016\\n\\n\\n\\n09월\\n\\n일학습병행제 경진대회 장려상(한국산업인력공단)\\n\\n\\n\\n\\n\\n\\n2015\\n\\n\\n\\n11월\\n\\n미래창조과학부 장관 표창\\n\\n\\n\\n08월',\n",
       "    '검색\\n\\n전체\\n제목\\n내용\\n\\n\\n\\n\\n검색\\n\\n\\n\\n\\n\\n\\n                전체\\n                98 \\n                건\\n            \\n\\n\\n\\n\\n\\n\\n\\n\\n\\n\\n\\n\\nPCN 제24기 결산공고\\n2025-03-31\\n\\n\\n\\n\\n\\n\\n\\nPCN 제24기 정기주주총회 소집 공고\\n2025-02-28\\n\\n\\n\\n\\n\\n\\n\\nPCN, 2024년 주주명부 폐쇄기간 및 기준일 설정 공고\\n2024-12-12\\n\\n\\n\\n\\n\\n\\n\\nPCN, 임시주주총회 소집공고\\n2024-05-08\\n\\n\\n\\n\\n\\n\\n\\nPCN, 임시주주총회 기준일 설정공고\\n2024-04-08\\n\\n\\n\\n\\n\\n\\n\\nPCN, 제23기 결산공고\\n2024-04-02\\n\\n\\n\\n\\n\\n\\n\\n\\n\\n\\n\\n\\n\\n\\n \\n \\n\\n1\\n2\\n3\\n4\\n5\\n6\\n7\\n8\\n9\\n10',\n",
       "    'OASIS-X\\n빅데이터 수집 솔루션\\n무료 오픈 소스 서버의 데이터 처리 파이프라인인 Logstash는 다양한 소스에서 데이터를 수집하여 변환한 후 자주 사용하는 저장소로 전달합니다. PCN 기업부설연구소는 Logstash 기반의 데이터 수집/저장 프로세스를 쉽게 구성 할 수 있도록 Web 기반의 솔루션을 개발 하였으며 다양한\\n                    플러그인을 추가하여 기능을 확장 하였습니다.\\n\\n\\n\\n구성도\\n\\n\\n\\n특장점\\n\\n1. 다양한 형태의 데이터 소스 지원\\n2. 다양한 형태의 데이터 저장소 지원\\n3. 필터를 제공하여 다양한 형태로의 데이터 가공\\n4. 플러그인 지원으로 확장성 보장\\n5. Web UI 지원으로 손쉬운 구성\\n6. 수집/저장 현황의 모니터링\\n7. 스케줄러 지원으로 배치 작업 수행\\n\\n\\n\\n\\n\\n\\n제품 소개서 다운로드',\n",
       "    '공공 · 민간 데이터 검색 및 활용\\n한양도성 타임머신\\nView More\\n\\n\\n\\n\\n\\n\\n\\n화성시 문화유산에 대한 3차원 디지털 데이터\\n화성시 문화유산 3D 스캐닝 및 VR 제작\\nView More\\n\\n\\n\\n\\n\\n\\n\\n대용량 뉴스 기반 사건 · 사고 지식 빅데이터 센터 구축\\n스마트치안 빅데이터 센터\\nView More\\n\\n\\n\\n\\n\\n\\n\\n대시민 소통의 접점 역할\\n서울시 홈페이지 운영 및 유지관리\\nView More\\n\\n\\n\\n\\n\\n\\n\\n\\n01Big Data\\n02XR Contents\\n03AI\\n04SI/UX\\n\\n\\n\\n\\n\\n\\n\\n\\n\\n\\n\\n\\n\\n\\n\\n\\n\\n\\n\\n\\n\\n\\n\\n\\n\\nProjectsView More\\n\\n\\n\\n\\n\\n행정안전부\\n2022년 정부24 국가보조금 맞춤형서비스 구축\\n\\n\\n\\n\\n\\n\\n한국지능정보사회진흥원\\n디스플레이 중심 안구 움직임 영상 데이터\\n\\n\\n\\n\\n\\n\\n서울특별시\\n2022년 서울시 홈페이지 운영 및 유지관리\\n\\n\\n\\n\\n\\n\\n문화재청\\n2022년 한양도성 타임머신\\n\\n\\n\\n\\n\\n한국지능정보사회진흥원\\n대용량 뉴스 기반 사건.사고 지식 빅데이터 센터 구축\\n\\n\\n\\n\\n\\n\\n서울특별시\\n2022년 열린데이터광장 운영 및 유지관리 용역\\n\\n\\n\\n\\n\\n\\nWe Are\\nPCN이 가진 고유한 기술의 융합을 통해 가치 있는 디지털 플랫폼을 만들어 나갑니다.\\n\\n\\n\\n\\nEXPERTISE\\n기업의 풍부한 경험과 인재의 열정을 통한\\n                        실질적이고 실제적인 전문성을 보여드립니다.\\n\\n\\n\\n\\n\\nSUCCESS\\n우리의 전문성을 통해 고객의 성공을 돕는\\n                        일이 PCN의 명확한 목표입니다.\\n\\n\\n\\n\\n\\nVALUE\\n우리가 만들어가는 디지털 서비스는 최고의\\n                        전문성을 갖추고 가치 증대에 기여합니다.\\n\\n\\n\\n\\n\\nPRIDE\\n우리는 고객의 성공을 위해 세상의 가치증대를\\n                        실현하여 감동과 자긍심을 느낍니다.\\n\\n\\n\\n\\n\\nMore NewsView More',\n",
       "    '검색\\n\\n전체\\n제목\\n내용\\n\\n\\n\\n\\n검색\\n\\n\\n\\n\\n\\n\\n                전체\\n                24 \\n                건\\n            \\n\\n\\n\\n\\n\\n\\n\\n\\n\\n\\n\\n\\n\\n2025년도 AI툴 활용 아이디어 공모전\\n2025-07-23\\n\\n\\n\\n\\n\\n\\n\\n2024 PCN 맥주파티\\n2024-06-10\\n\\n\\n\\n\\n\\n\\n\\n2023 PCN AWARDS\\n2024-06-10\\n\\n\\n\\n\\n\\n\\n\\n2023 피플 10기 워크숍\\n2024-06-07\\n\\n\\n\\n\\n\\n\\n\\n2023 PCN 맥주파티\\n2023-09-26\\n\\n\\n\\n\\n\\n\\n\\nPCN 2023 하반기 사업부 워크숍\\n2023-09-22\\n\\n\\n\\n\\n\\n\\n\\n\\n\\n\\n\\n\\n \\n \\n\\n1\\n2\\n3\\n4',\n",
       "    'Portfolio\\nPCN의 Digital Platform 주요 사업을 소개합니다.\\n\\n\\n\\n전체\\nMetaverse\\nAi\\nBig data\\nXR Contents\\n\\n\\n\\n\\n\\n\\n\\n\\nMore',\n",
       "    '공공∙민간 데이터 검색 및 활용\\n통합 데이터지도 구축\\n공공과 민간 데이터를 쉽게 검색 및 활용할 수 있도록 지원하기 위한 빅데이터 수집∙가공∙유통 체계 구축\\n\\n\\n\\n\\n\\n\\n\\n\\n표준화된 메타데이터연계 시스템\\n\\n\\n\\n\\n\\n오픈소스 기반의데이터 공유 환경\\n\\n\\n\\n\\n\\n딥러닝 기반자연어처리 솔루션\\n\\n\\n\\n\\n\\n\\n\\n효율적이고지능화된 검색 시스템\\n\\n\\n\\n\\n\\n이용자 중심의UI/UX\\n\\n\\n\\n\\n\\n민간 크라우드기반 운영\\n\\n\\n\\n\\n\\n\\nFeatures\\n\\n\\n\\n\\n데이터 연계 확장성 확보를 위한 메타데이터 표준화\\n상세 검색 및 신규·복합 단어 등 고도화된 검색을 위한 고속 검색 엔진\\nAI 기반 데이터 자동 분류 기술\\nAI 기반 데이터 간 연관도 분석 및 데이터 맵 시각화 기술\\nAI 기반 핵심 키워드 자동 추출 기술\\n\\n\\n\\n\\n공공민간 데이터 연계\\n\\n\\n\\n고속 검색 엔진\\n\\n\\n\\n실시간 데이터 관리 시스템\\n\\n\\n\\nAI 데이터 분석\\n\\n\\n\\n\\n\\n\\n\\nTech\\n표준 메타데이터 연계부터 AI 자연어처리 기반 실시간 자동 분류, 핵심 키워드 자동 추출, 데이터맵 시각화까지 처리되는 고속 검색 엔진 구축\\n\\n\\n\\n\\n\\n1메타데이터연계 API 서버\\n\\n연계 API 개선으로 메타데이터 항목 실시간 동기화 구현\\n\\n\\n\\n2데이터정체모델\\n\\n한국어에 특화된 언어 모델 BERT를 활용하여 자동 분류 및 임베딩 정확도 향상\\n\\n\\n\\n3검색엔진서버\\n\\n한국어 형태소 분석 및 연관 검색이 가능한 고속 검색엔진 탑재\\n\\n\\n\\n4연관분석모델\\n\\n고도화된 언어 모델 기반으로 연관도 분석 성능 개선\\n\\n\\n\\n\\n\\n\\n\\nApplied Solutions\\nPCN이 보유한 기술을 활용하여 다양한 프로젝트를 진행하고 있습니다.\\n\\n\\n\\n\\n\\n\\nOASIS DataMap\\nView More',\n",
       "    'OASIS-APIM\\nAPI 관리서버 솔루션\\n서버로 요청되는 모든 API의 접점 역할을 하는 API 관리 서버(API Management System: APIM)로써 외부에서의 API 요청 시 내부의 시스템과 상관 없이\\n                    약속된 형태의 API 요청을 할 수 있도록 지원합니다.\\n\\n\\n\\n구성도\\n\\n\\n\\n특장점\\n\\n1. 다양한 API의 라우팅 처리\\n2. 플러그인 지원으로 확장성 보장\\n3. 요청 현황에 대한 모니터링\\n4. Web UI 지원으로 손쉬운 구성\\n5. 트래픽 및 요청 횟수 제한\\n6. 사용자에 대한 인증 및 인가 처리\\n7. 변경사항의 실시간 반영\\n8. 캐시 사용에 의한 성능 보장\\n\\n\\n\\n\\n\\n\\n제품 소개서 다운로드',\n",
       "    '대용량 뉴스 기반 사건사고 지식 빅데이터 센터 구축\\n스마트 치안 빅데이터 센터\\n효과적인 스마트치안 활동을 위한 고품질 사건·사고 원문 뉴스 데이터를 생산·관리·유통하는 빅데이터 센터\\n\\n\\n\\n\\n\\n\\n\\n\\n원문 뉴스기반고품질 메타데이터\\n\\n\\n\\n\\n\\n뉴스 데이터 통합 및분류 체계 표준화\\n\\n\\n\\n\\n\\n자연어 처리를 통한특징 추출\\n\\n\\n\\n\\n\\n\\n\\n뉴스 특징 기반자동 문류\\n\\n\\n\\n\\n\\n데이터 품질 관리\\n\\n\\n\\n\\n\\n클라우드 컴퓨팅기반 인프라 구축\\n\\n\\n\\n\\n\\n\\nFeatures\\n\\n\\n\\n\\n통계 분석 및 시각화\\n\\n\\n\\n네트워킹 기술\\n\\n\\n\\n\\n\\n생산 데이터의 통계 분석 및 시각화 모델\\n\\nOS를 가리지 않는 플랫폼 서버 배포 환경\\n서버 내 별도의 콘텐츠 관리\\nReal Time 메타버스 환경을 위한 게임 서버 아키텍처\\n\\n\\n\\n효율적 관리를 위한 지식 베이스 구축\\n\\n입력된 메타데이터 기반 개체 추출 및 시계열 기반 구축\\n시각적 분석 및 데이터 융합 기술 적용\\n\\n\\n\\n데이터 융합 네트워킹 기술\\n\\n자연어 처리를 통한 인물,장소,시간 개체를 추출\\n생산된 시멘틱 데이터의 관계 그래프 생성 및 시각화\\n\\n\\n\\n\\n\\n\\n\\nTech\\n\\n\\n\\n\\n\\n\\n\\nRelated Business\\n\\n\\n\\n\\n\\n\\n미디어온\\n미디어 기반 팩트 체크 서비스(데이터 제공)\\nView More\\n\\n\\n\\n\\n\\n서울대학교 산학협력단\\nAI 기반 팩트체크 자동화 서비스(데이터 제공)\\nView More',\n",
       "    '프로젝트명\\n\\n\\n\\n프로젝트 성격\\n\\n\\n\\n도메인\\n\\n\\n\\n발주기관\\n\\n\\n\\n적용 기술\\n\\n\\n\\n주요 목적',\n",
       "    '프로젝트명\\n\\n\\n\\n프로젝트 성격\\n\\n\\n\\n도메인\\n\\n\\n\\n발주기관\\n\\n\\n\\n적용 기술\\n\\n\\n\\n주요 목적',\n",
       "    '프로젝트명\\n\\n\\n\\n프로젝트 성격\\n\\n\\n\\n도메인\\n\\n\\n\\n발주기관\\n\\n\\n\\n적용 기술\\n\\n\\n\\n주요 목적'],\n",
       "   'additional_metadata': None}],\n",
       " 'confident_link': None}"
      ]
     },
     "execution_count": 16,
     "metadata": {},
     "output_type": "execute_result"
    }
   ],
   "source": [
    "result.dict()"
   ]
  },
  {
   "cell_type": "code",
   "execution_count": null,
   "id": "e0377643",
   "metadata": {},
   "outputs": [],
   "source": []
  },
  {
   "cell_type": "code",
   "execution_count": null,
   "id": "f396812f",
   "metadata": {},
   "outputs": [],
   "source": [
    "from deepeval import evaluate\n",
    "\n",
    "generator_metrics = [answer_correctness, citation_accuracy]\n",
    "\n",
    "evaluate(test_case, generator_metrics)"
   ]
  },
  {
   "cell_type": "code",
   "execution_count": null,
   "id": "b0a2b405",
   "metadata": {},
   "outputs": [],
   "source": [
    "# from deepeval import evaluate\n",
    "# from deepeval.metrics import ContextualRecallMetric, ContextualRelevancyMetric\n"
   ]
  },
  {
   "cell_type": "code",
   "execution_count": null,
   "metadata": {},
   "outputs": [
    {
     "data": {
      "application/vnd.jupyter.widget-view+json": {
       "model_id": "f2443b4b625149499315ee57c09720c4",
       "version_major": 2,
       "version_minor": 0
      },
      "text/plain": [
       "Output()"
      ]
     },
     "metadata": {},
     "output_type": "display_data"
    }
   ],
   "source": [
    "answer_relevancy_metric = AnswerRelevancyMetric(model=ollama_llm)\n",
    "\n",
    "# Evaluate\n",
    "answer_relevancy_metric.measure(test_case)\n",
    "print(answer_relevancy_metric.score)\n",
    "print(answer_relevancy_metric.reason)"
   ]
  },
  {
   "cell_type": "code",
   "execution_count": 2,
   "id": "7348fa51",
   "metadata": {},
   "outputs": [
    {
     "ename": "NameError",
     "evalue": "name 'relevancy' is not defined",
     "output_type": "error",
     "traceback": [
      "\u001b[1;31m---------------------------------------------------------------------------\u001b[0m",
      "\u001b[1;31mNameError\u001b[0m                                 Traceback (most recent call last)",
      "Cell \u001b[1;32mIn[2], line 3\u001b[0m\n\u001b[0;32m      1\u001b[0m \u001b[38;5;28;01mfrom\u001b[39;00m\u001b[38;5;250m \u001b[39m\u001b[38;5;21;01mdeepeval\u001b[39;00m\u001b[38;5;21;01m.\u001b[39;00m\u001b[38;5;21;01mevaluate\u001b[39;00m\u001b[38;5;250m \u001b[39m\u001b[38;5;28;01mimport\u001b[39;00m evaluate, AsyncConfig\n\u001b[1;32m----> 3\u001b[0m retriever_metrics \u001b[38;5;241m=\u001b[39m [\u001b[43mrelevancy\u001b[49m, recall] \u001b[38;5;66;03m# precision\u001b[39;00m\n\u001b[0;32m      5\u001b[0m result \u001b[38;5;241m=\u001b[39m evaluate(\n\u001b[0;32m      6\u001b[0m     [test_case],\n\u001b[0;32m      7\u001b[0m     retriever_metrics,\n\u001b[0;32m      8\u001b[0m     async_config\u001b[38;5;241m=\u001b[39mAsyncConfig(run_async\u001b[38;5;241m=\u001b[39m\u001b[38;5;28;01mFalse\u001b[39;00m)\n\u001b[0;32m      9\u001b[0m )\n\u001b[0;32m     10\u001b[0m \u001b[38;5;28mprint\u001b[39m(result\u001b[38;5;241m.\u001b[39msummary())\n",
      "\u001b[1;31mNameError\u001b[0m: name 'relevancy' is not defined"
     ]
    }
   ],
   "source": [
    "from deepeval.evaluate import evaluate, AsyncConfig\n",
    "\n",
    "retriever_metrics = [relevancy, recall] # precision\n",
    "\n",
    "result = evaluate(\n",
    "    [test_case],\n",
    "    retriever_metrics,\n",
    "    async_config=AsyncConfig(run_async=False)\n",
    ")\n",
    "print(result.summary())\n"
   ]
  },
  {
   "cell_type": "code",
   "execution_count": null,
   "id": "7afb7a1a",
   "metadata": {},
   "outputs": [
    {
     "data": {
      "text/html": [
       "<pre style=\"white-space:pre;overflow-x:auto;line-height:normal;font-family:Menlo,'DejaVu Sans Mono',consolas,'Courier New',monospace\">✨ You're running DeepEval's latest <span style=\"color: #6a00ff; text-decoration-color: #6a00ff\">Contextual Relevancy Metric</span>! <span style=\"color: #374151; text-decoration-color: #374151; font-weight: bold\">(</span><span style=\"color: #374151; text-decoration-color: #374151\">using ko-llama-8B </span><span style=\"color: #374151; text-decoration-color: #374151; font-weight: bold\">(</span><span style=\"color: #374151; text-decoration-color: #374151\">Ollama</span><span style=\"color: #374151; text-decoration-color: #374151; font-weight: bold\">)</span><span style=\"color: #374151; text-decoration-color: #374151\">, </span><span style=\"color: #374151; text-decoration-color: #374151\">strict</span><span style=\"color: #374151; text-decoration-color: #374151\">=</span><span style=\"color: #374151; text-decoration-color: #374151; font-style: italic\">False</span><span style=\"color: #374151; text-decoration-color: #374151\">, </span>\n",
       "<span style=\"color: #374151; text-decoration-color: #374151\">async_mode</span><span style=\"color: #374151; text-decoration-color: #374151\">=</span><span style=\"color: #374151; text-decoration-color: #374151; font-style: italic\">True</span><span style=\"color: #374151; text-decoration-color: #374151; font-weight: bold\">)</span><span style=\"color: #374151; text-decoration-color: #374151\">...</span>\n",
       "</pre>\n"
      ],
      "text/plain": [
       "✨ You're running DeepEval's latest \u001b[38;2;106;0;255mContextual Relevancy Metric\u001b[0m! \u001b[1;38;2;55;65;81m(\u001b[0m\u001b[38;2;55;65;81musing ko-llama-8B \u001b[0m\u001b[1;38;2;55;65;81m(\u001b[0m\u001b[38;2;55;65;81mOllama\u001b[0m\u001b[1;38;2;55;65;81m)\u001b[0m\u001b[38;2;55;65;81m, \u001b[0m\u001b[38;2;55;65;81mstrict\u001b[0m\u001b[38;2;55;65;81m=\u001b[0m\u001b[3;38;2;55;65;81mFalse\u001b[0m\u001b[38;2;55;65;81m, \u001b[0m\n",
       "\u001b[38;2;55;65;81masync_mode\u001b[0m\u001b[38;2;55;65;81m=\u001b[0m\u001b[3;38;2;55;65;81mTrue\u001b[0m\u001b[1;38;2;55;65;81m)\u001b[0m\u001b[38;2;55;65;81m...\u001b[0m\n"
      ]
     },
     "metadata": {},
     "output_type": "display_data"
    },
    {
     "data": {
      "text/html": [
       "<pre style=\"white-space:pre;overflow-x:auto;line-height:normal;font-family:Menlo,'DejaVu Sans Mono',consolas,'Courier New',monospace\">✨ You're running DeepEval's latest <span style=\"color: #6a00ff; text-decoration-color: #6a00ff\">Contextual Recall Metric</span>! <span style=\"color: #374151; text-decoration-color: #374151; font-weight: bold\">(</span><span style=\"color: #374151; text-decoration-color: #374151\">using ko-llama-8B </span><span style=\"color: #374151; text-decoration-color: #374151; font-weight: bold\">(</span><span style=\"color: #374151; text-decoration-color: #374151\">Ollama</span><span style=\"color: #374151; text-decoration-color: #374151; font-weight: bold\">)</span><span style=\"color: #374151; text-decoration-color: #374151\">, </span><span style=\"color: #374151; text-decoration-color: #374151\">strict</span><span style=\"color: #374151; text-decoration-color: #374151\">=</span><span style=\"color: #374151; text-decoration-color: #374151; font-style: italic\">False</span><span style=\"color: #374151; text-decoration-color: #374151\">, </span>\n",
       "<span style=\"color: #374151; text-decoration-color: #374151\">async_mode</span><span style=\"color: #374151; text-decoration-color: #374151\">=</span><span style=\"color: #374151; text-decoration-color: #374151; font-style: italic\">True</span><span style=\"color: #374151; text-decoration-color: #374151; font-weight: bold\">)</span><span style=\"color: #374151; text-decoration-color: #374151\">...</span>\n",
       "</pre>\n"
      ],
      "text/plain": [
       "✨ You're running DeepEval's latest \u001b[38;2;106;0;255mContextual Recall Metric\u001b[0m! \u001b[1;38;2;55;65;81m(\u001b[0m\u001b[38;2;55;65;81musing ko-llama-8B \u001b[0m\u001b[1;38;2;55;65;81m(\u001b[0m\u001b[38;2;55;65;81mOllama\u001b[0m\u001b[1;38;2;55;65;81m)\u001b[0m\u001b[38;2;55;65;81m, \u001b[0m\u001b[38;2;55;65;81mstrict\u001b[0m\u001b[38;2;55;65;81m=\u001b[0m\u001b[3;38;2;55;65;81mFalse\u001b[0m\u001b[38;2;55;65;81m, \u001b[0m\n",
       "\u001b[38;2;55;65;81masync_mode\u001b[0m\u001b[38;2;55;65;81m=\u001b[0m\u001b[3;38;2;55;65;81mTrue\u001b[0m\u001b[1;38;2;55;65;81m)\u001b[0m\u001b[38;2;55;65;81m...\u001b[0m\n"
      ]
     },
     "metadata": {},
     "output_type": "display_data"
    },
    {
     "data": {
      "text/html": [
       "<pre style=\"white-space:pre;overflow-x:auto;line-height:normal;font-family:Menlo,'DejaVu Sans Mono',consolas,'Courier New',monospace\">✨ You're running DeepEval's latest <span style=\"color: #6a00ff; text-decoration-color: #6a00ff\">Contextual Precision Metric</span>! <span style=\"color: #374151; text-decoration-color: #374151; font-weight: bold\">(</span><span style=\"color: #374151; text-decoration-color: #374151\">using ko-llama-8B </span><span style=\"color: #374151; text-decoration-color: #374151; font-weight: bold\">(</span><span style=\"color: #374151; text-decoration-color: #374151\">Ollama</span><span style=\"color: #374151; text-decoration-color: #374151; font-weight: bold\">)</span><span style=\"color: #374151; text-decoration-color: #374151\">, </span><span style=\"color: #374151; text-decoration-color: #374151\">strict</span><span style=\"color: #374151; text-decoration-color: #374151\">=</span><span style=\"color: #374151; text-decoration-color: #374151; font-style: italic\">False</span><span style=\"color: #374151; text-decoration-color: #374151\">, </span>\n",
       "<span style=\"color: #374151; text-decoration-color: #374151\">async_mode</span><span style=\"color: #374151; text-decoration-color: #374151\">=</span><span style=\"color: #374151; text-decoration-color: #374151; font-style: italic\">True</span><span style=\"color: #374151; text-decoration-color: #374151; font-weight: bold\">)</span><span style=\"color: #374151; text-decoration-color: #374151\">...</span>\n",
       "</pre>\n"
      ],
      "text/plain": [
       "✨ You're running DeepEval's latest \u001b[38;2;106;0;255mContextual Precision Metric\u001b[0m! \u001b[1;38;2;55;65;81m(\u001b[0m\u001b[38;2;55;65;81musing ko-llama-8B \u001b[0m\u001b[1;38;2;55;65;81m(\u001b[0m\u001b[38;2;55;65;81mOllama\u001b[0m\u001b[1;38;2;55;65;81m)\u001b[0m\u001b[38;2;55;65;81m, \u001b[0m\u001b[38;2;55;65;81mstrict\u001b[0m\u001b[38;2;55;65;81m=\u001b[0m\u001b[3;38;2;55;65;81mFalse\u001b[0m\u001b[38;2;55;65;81m, \u001b[0m\n",
       "\u001b[38;2;55;65;81masync_mode\u001b[0m\u001b[38;2;55;65;81m=\u001b[0m\u001b[3;38;2;55;65;81mTrue\u001b[0m\u001b[1;38;2;55;65;81m)\u001b[0m\u001b[38;2;55;65;81m...\u001b[0m\n"
      ]
     },
     "metadata": {},
     "output_type": "display_data"
    },
    {
     "data": {
      "application/vnd.jupyter.widget-view+json": {
       "model_id": "01b55197c03a475abc6592a899ef3ce9",
       "version_major": 2,
       "version_minor": 0
      },
      "text/plain": [
       "Output()"
      ]
     },
     "metadata": {},
     "output_type": "display_data"
    }
   ],
   "source": [
    "from deepeval.evaluate import evaluate\n",
    "\n",
    "retriever_metrics = [relevancy, recall, precision]\n",
    "\n",
    "# test_case 하나라도 리스트에 담아 호출\n",
    "result = evaluate([test_case], retriever_metrics)\n",
    "print(result.summary())\n"
   ]
  },
  {
   "cell_type": "code",
   "execution_count": null,
   "id": "17a92f76",
   "metadata": {},
   "outputs": [],
   "source": [
    "from deepeval import evaluate\n",
    "\n",
    "retriever_metrics = [relevancy, recall, precision]\n",
    "\n",
    "evaluate(test_case, retriever_metrics)"
   ]
  },
  {
   "cell_type": "code",
   "execution_count": null,
   "id": "6e97e262",
   "metadata": {},
   "outputs": [],
   "source": []
  },
  {
   "cell_type": "code",
   "execution_count": 17,
   "id": "6a2d37cd",
   "metadata": {},
   "outputs": [
    {
     "ename": "TypeError",
     "evalue": "'LLMTestCase' object is not iterable",
     "output_type": "error",
     "traceback": [
      "\u001b[1;31m---------------------------------------------------------------------------\u001b[0m",
      "\u001b[1;31mTypeError\u001b[0m                                 Traceback (most recent call last)",
      "Cell \u001b[1;32mIn[17], line 3\u001b[0m\n\u001b[0;32m      1\u001b[0m \u001b[38;5;28;01mfrom\u001b[39;00m\u001b[38;5;250m \u001b[39m\u001b[38;5;21;01mdeepeval\u001b[39;00m\u001b[38;5;250m \u001b[39m\u001b[38;5;28;01mimport\u001b[39;00m evaluate\n\u001b[1;32m----> 3\u001b[0m \u001b[43mevaluate\u001b[49m\u001b[43m(\u001b[49m\n\u001b[0;32m      4\u001b[0m \u001b[43m    \u001b[49m\u001b[43mtest_cases\u001b[49m\u001b[38;5;241;43m=\u001b[39;49m\u001b[43mtest_case\u001b[49m\u001b[43m,\u001b[49m\u001b[43m \u001b[49m\n\u001b[0;32m      5\u001b[0m \u001b[43m    \u001b[49m\u001b[43mmetrics\u001b[49m\u001b[38;5;241;43m=\u001b[39;49m\u001b[43m[\u001b[49m\u001b[43manswer_relevancy\u001b[49m\u001b[43m]\u001b[49m\n\u001b[0;32m      6\u001b[0m \u001b[43m)\u001b[49m\n",
      "File \u001b[1;32mf:\\project_test\\solutions\\chat\\.venv_chat\\lib\\site-packages\\deepeval\\evaluate\\evaluate.py:202\u001b[0m, in \u001b[0;36mevaluate\u001b[1;34m(test_cases, metrics, hyperparameters, identifier, async_config, display_config, cache_config, error_config)\u001b[0m\n\u001b[0;32m    180\u001b[0m \u001b[38;5;28;01mdef\u001b[39;00m\u001b[38;5;250m \u001b[39m\u001b[38;5;21mevaluate\u001b[39m(\n\u001b[0;32m    181\u001b[0m     test_cases: Optional[\n\u001b[0;32m    182\u001b[0m         Union[\n\u001b[1;32m   (...)\u001b[0m\n\u001b[0;32m    200\u001b[0m     error_config: Optional[ErrorConfig] \u001b[38;5;241m=\u001b[39m ErrorConfig(),\n\u001b[0;32m    201\u001b[0m ) \u001b[38;5;241m-\u001b[39m\u001b[38;5;241m>\u001b[39m EvaluationResult:\n\u001b[1;32m--> 202\u001b[0m     \u001b[43mvalidate_evaluate_inputs\u001b[49m\u001b[43m(\u001b[49m\n\u001b[0;32m    203\u001b[0m \u001b[43m        \u001b[49m\u001b[43mtest_cases\u001b[49m\u001b[38;5;241;43m=\u001b[39;49m\u001b[43mtest_cases\u001b[49m\u001b[43m,\u001b[49m\n\u001b[0;32m    204\u001b[0m \u001b[43m        \u001b[49m\u001b[43mmetrics\u001b[49m\u001b[38;5;241;43m=\u001b[39;49m\u001b[43mmetrics\u001b[49m\u001b[43m,\u001b[49m\n\u001b[0;32m    205\u001b[0m \u001b[43m    \u001b[49m\u001b[43m)\u001b[49m\n\u001b[0;32m    206\u001b[0m     check_valid_test_cases_type(test_cases)\n\u001b[0;32m    208\u001b[0m     global_test_run_manager\u001b[38;5;241m.\u001b[39mreset()\n",
      "File \u001b[1;32mf:\\project_test\\solutions\\chat\\.venv_chat\\lib\\site-packages\\deepeval\\evaluate\\utils.py:293\u001b[0m, in \u001b[0;36mvalidate_evaluate_inputs\u001b[1;34m(goldens, observed_callback, test_cases, metrics)\u001b[0m\n\u001b[0;32m    288\u001b[0m     \u001b[38;5;28;01mraise\u001b[39;00m \u001b[38;5;167;01mValueError\u001b[39;00m(\n\u001b[0;32m    289\u001b[0m         \u001b[38;5;124m\"\u001b[39m\u001b[38;5;124mYou must provide either goldens with a \u001b[39m\u001b[38;5;124m'\u001b[39m\u001b[38;5;124mobserved_callback\u001b[39m\u001b[38;5;124m'\u001b[39m\u001b[38;5;124m, or test_cases with \u001b[39m\u001b[38;5;124m'\u001b[39m\u001b[38;5;124mmetrics\u001b[39m\u001b[38;5;124m'\u001b[39m\u001b[38;5;124m.\u001b[39m\u001b[38;5;124m\"\u001b[39m\n\u001b[0;32m    290\u001b[0m     )\n\u001b[0;32m    292\u001b[0m \u001b[38;5;28;01mif\u001b[39;00m test_cases \u001b[38;5;129;01mand\u001b[39;00m metrics:\n\u001b[1;32m--> 293\u001b[0m     \u001b[38;5;28;01mfor\u001b[39;00m test_case \u001b[38;5;129;01min\u001b[39;00m test_cases:\n\u001b[0;32m    294\u001b[0m         \u001b[38;5;28;01mfor\u001b[39;00m metric \u001b[38;5;129;01min\u001b[39;00m metrics:\n\u001b[0;32m    295\u001b[0m             \u001b[38;5;28;01mif\u001b[39;00m \u001b[38;5;28misinstance\u001b[39m(test_case, LLMTestCase) \u001b[38;5;129;01mand\u001b[39;00m \u001b[38;5;129;01mnot\u001b[39;00m \u001b[38;5;28misinstance\u001b[39m(\n\u001b[0;32m    296\u001b[0m                 metric, BaseMetric\n\u001b[0;32m    297\u001b[0m             ):\n",
      "\u001b[1;31mTypeError\u001b[0m: 'LLMTestCase' object is not iterable"
     ]
    }
   ],
   "source": [
    "from deepeval import evaluate\n",
    "\n",
    "evaluate(\n",
    "    test_cases=test_case, \n",
    "    metrics=[answer_relevancy]\n",
    ")"
   ]
  },
  {
   "cell_type": "code",
   "execution_count": null,
   "id": "240bce55",
   "metadata": {},
   "outputs": [
    {
     "data": {
      "application/vnd.jupyter.widget-view+json": {
       "model_id": "3773b7e41cc944faa2e1cb61020489d1",
       "version_major": 2,
       "version_minor": 0
      },
      "text/plain": [
       "Output()"
      ]
     },
     "metadata": {},
     "output_type": "display_data"
    }
   ],
   "source": [
    "\n",
    "# Evaluate\n",
    "answer_relevancy.measure(test_case)\n",
    "print(answer_relevancy.score)\n",
    "print(answer_relevancy.reason)"
   ]
  },
  {
   "cell_type": "code",
   "execution_count": null,
   "id": "3c5e5f37",
   "metadata": {},
   "outputs": [],
   "source": []
  },
  {
   "cell_type": "code",
   "execution_count": 31,
   "id": "33e5a5d3",
   "metadata": {},
   "outputs": [
    {
     "ename": "ImportError",
     "evalue": "cannot import name 'ContextualRecall' from 'deepeval.metrics' (f:\\project_test\\solutions\\chat\\.venv_chat\\lib\\site-packages\\deepeval\\metrics\\__init__.py)",
     "output_type": "error",
     "traceback": [
      "\u001b[1;31m---------------------------------------------------------------------------\u001b[0m",
      "\u001b[1;31mImportError\u001b[0m                               Traceback (most recent call last)",
      "Cell \u001b[1;32mIn[31], line 3\u001b[0m\n\u001b[0;32m      1\u001b[0m \u001b[38;5;66;03m# from deepeval import DeepEval\u001b[39;00m\n\u001b[0;32m      2\u001b[0m \u001b[38;5;28;01mfrom\u001b[39;00m\u001b[38;5;250m \u001b[39m\u001b[38;5;21;01mdeepeval\u001b[39;00m\u001b[38;5;250m \u001b[39m\u001b[38;5;28;01mimport\u001b[39;00m evaluate\n\u001b[1;32m----> 3\u001b[0m \u001b[38;5;28;01mfrom\u001b[39;00m\u001b[38;5;250m \u001b[39m\u001b[38;5;21;01mdeepeval\u001b[39;00m\u001b[38;5;21;01m.\u001b[39;00m\u001b[38;5;21;01mmetrics\u001b[39;00m\u001b[38;5;250m \u001b[39m\u001b[38;5;28;01mimport\u001b[39;00m ContextualRecall, Faithfulness\n\u001b[0;32m      5\u001b[0m \u001b[38;5;66;03m# 예시: 로컬 llama-cpp 모델 호출 함수\u001b[39;00m\n\u001b[0;32m      6\u001b[0m \u001b[38;5;28;01mdef\u001b[39;00m\u001b[38;5;250m \u001b[39m\u001b[38;5;21mrag_fn\u001b[39m(query):\n",
      "\u001b[1;31mImportError\u001b[0m: cannot import name 'ContextualRecall' from 'deepeval.metrics' (f:\\project_test\\solutions\\chat\\.venv_chat\\lib\\site-packages\\deepeval\\metrics\\__init__.py)"
     ]
    }
   ],
   "source": [
    "# from deepeval import DeepEval\n",
    "from deepeval import evaluate\n",
    "from deepeval.metrics import ContextualRecall, Faithfulness\n",
    "\n",
    "# 예시: 로컬 llama-cpp 모델 호출 함수\n",
    "def rag_fn(query):\n",
    "    return chain.invoke({\"question\": query})\n",
    "\n",
    "evaluator = evaluate(rag_fn)\n",
    "evaluator.add_test_case(\n",
    "    name=\"간단 설명\",\n",
    "    query=\"피씨엔 회사에 대해 소개해 주세요\",\n",
    "    gold_answer=\"피씨엔은 디지털 환경에서 고객 비즈니스 성공을 지원하는 Digital Value Service 기업입니다.\",\n",
    "    metrics=[ContextualRecall(), Faithfulness()]\n",
    ")\n",
    "results = evaluator.run_all()\n",
    "print(results.summary())\n"
   ]
  },
  {
   "cell_type": "code",
   "execution_count": null,
   "id": "89957d25",
   "metadata": {},
   "outputs": [],
   "source": []
  },
  {
   "cell_type": "code",
   "execution_count": 20,
   "id": "b152e0c7",
   "metadata": {},
   "outputs": [
    {
     "ename": "ImportError",
     "evalue": "cannot import name 'DeepEval' from 'deepeval' (f:\\project_test\\solutions\\chat\\.venv_chat\\lib\\site-packages\\deepeval\\__init__.py)",
     "output_type": "error",
     "traceback": [
      "\u001b[1;31m---------------------------------------------------------------------------\u001b[0m",
      "\u001b[1;31mImportError\u001b[0m                               Traceback (most recent call last)",
      "Cell \u001b[1;32mIn[20], line 1\u001b[0m\n\u001b[1;32m----> 1\u001b[0m \u001b[38;5;28;01mfrom\u001b[39;00m\u001b[38;5;250m \u001b[39m\u001b[38;5;21;01mdeepeval\u001b[39;00m\u001b[38;5;250m \u001b[39m\u001b[38;5;28;01mimport\u001b[39;00m DeepEval\n\u001b[0;32m      2\u001b[0m \u001b[38;5;28;01mfrom\u001b[39;00m\u001b[38;5;250m \u001b[39m\u001b[38;5;21;01mdeepeval\u001b[39;00m\u001b[38;5;21;01m.\u001b[39;00m\u001b[38;5;21;01mmetrics\u001b[39;00m\u001b[38;5;250m \u001b[39m\u001b[38;5;28;01mimport\u001b[39;00m ContextualPrecision, AnswerRelevancy\n\u001b[0;32m      4\u001b[0m \u001b[38;5;66;03m# 평가 대상 RAG 함수 정의 (LangChain 예시)\u001b[39;00m\n",
      "\u001b[1;31mImportError\u001b[0m: cannot import name 'DeepEval' from 'deepeval' (f:\\project_test\\solutions\\chat\\.venv_chat\\lib\\site-packages\\deepeval\\__init__.py)"
     ]
    }
   ],
   "source": [
    "from deepeval import DeepEval\n",
    "from deepeval.metrics import ContextualPrecision, AnswerRelevancy\n",
    "\n",
    "# 평가 대상 RAG 함수 정의 (LangChain 예시)\n",
    "def rag_fn(query):\n",
    "    return chain.run(query)\n",
    "\n",
    "# 테스트 케이스 등록\n",
    "evaluator = DeepEval(rag_fn)\n",
    "evaluator.add_test_case(\n",
    "    name=\"피씨엔 회사 소개 FAQ 테스트\",\n",
    "    query=\"피씨엔 회사에 대해 소개해 주세요.\",\n",
    "    gold_answer=\"피씨엔은 디지털 환경에서 고객 비즈니스 성공을 지원하는 Digital Value Service 기업입니다.\",\n",
    "    metrics=[ContextualPrecision(), AnswerRelevancy()]\n",
    ")\n",
    "# 실행 및 리포트 출력\n",
    "results = evaluator.run_all()\n",
    "print(results.summary())\n"
   ]
  },
  {
   "cell_type": "code",
   "execution_count": null,
   "id": "af60acff",
   "metadata": {},
   "outputs": [
    {
     "name": "stdout",
     "output_type": "stream",
     "text": [
      "=== 주요 성능지표 기반 RAG 평가 결과 (evaluate 사용) ===\n",
      "정확도(Accuracy): 0.00\n",
      "정밀도(Precision): 0.00\n",
      "재현율(Recall): 0.00\n",
      "F1 점수(F1 Score): 0.00\n"
     ]
    },
    {
     "name": "stderr",
     "output_type": "stream",
     "text": [
      "f:\\project_test\\solutions\\chat\\.venv_chat\\lib\\site-packages\\sklearn\\metrics\\_classification.py:1731: UndefinedMetricWarning: Precision is ill-defined and being set to 0.0 due to no predicted samples. Use `zero_division` parameter to control this behavior.\n",
      "  _warn_prf(average, modifier, f\"{metric.capitalize()} is\", result.shape[0])\n"
     ]
    }
   ],
   "source": [
    "import evaluate\n",
    "\n",
    "# 정답과 예측이 완전히 일치하면 1, 아니면 0으로 처리\n",
    "references = []\n",
    "preds = []\n",
    "\n",
    "for item, pred in zip(eval_data, predictions):\n",
    "    if item[\"answer\"].strip() == pred.strip():\n",
    "        references.append(1)\n",
    "        preds.append(1)\n",
    "    else:\n",
    "        references.append(1)\n",
    "        preds.append(0)\n",
    "\n",
    "accuracy_metric = evaluate.load(\"accuracy\")\n",
    "precision_metric = evaluate.load(\"precision\")\n",
    "recall_metric = evaluate.load(\"recall\")\n",
    "f1_metric = evaluate.load(\"f1\")\n",
    "\n",
    "# evaluate 라이브러리는 zero_division 매개변수를 지원하지 않으므로 제거\n",
    "accuracy = accuracy_metric.compute(references=references, predictions=preds)\n",
    "precision = precision_metric.compute(references=references, predictions=preds, average=\"binary\")\n",
    "recall = recall_metric.compute(references=references, predictions=preds, average=\"binary\")\n",
    "f1 = f1_metric.compute(references=references, predictions=preds, average=\"binary\")\n",
    "\n",
    "print(\"=== 주요 성능지표 기반 RAG 평가 결과 (evaluate 사용) ===\")\n",
    "print(f\"정확도(Accuracy): {accuracy['accuracy']:.2f}\")\n",
    "print(f\"정밀도(Precision): {precision['precision']:.2f}\")\n",
    "print(f\"재현율(Recall): {recall['recall']:.2f}\")\n",
    "print(f\"F1 점수(F1 Score): {f1['f1']:.2f}\")"
   ]
  },
  {
   "cell_type": "code",
   "execution_count": null,
   "id": "5b13bc6d",
   "metadata": {},
   "outputs": [
    {
     "ename": "ImportError",
     "evalue": "cannot import name 'DeepEval' from 'deepeval' (f:\\project_test\\solutions\\chat\\.venv_chat\\lib\\site-packages\\deepeval\\__init__.py)",
     "output_type": "error",
     "traceback": [
      "\u001b[1;31m---------------------------------------------------------------------------\u001b[0m",
      "\u001b[1;31mImportError\u001b[0m                               Traceback (most recent call last)",
      "Cell \u001b[1;32mIn[109], line 1\u001b[0m\n\u001b[1;32m----> 1\u001b[0m \u001b[38;5;28;01mfrom\u001b[39;00m\u001b[38;5;250m \u001b[39m\u001b[38;5;21;01mdeepeval\u001b[39;00m\u001b[38;5;250m \u001b[39m\u001b[38;5;28;01mimport\u001b[39;00m DeepEval\n\u001b[0;32m      2\u001b[0m \u001b[38;5;28;01mfrom\u001b[39;00m\u001b[38;5;250m \u001b[39m\u001b[38;5;21;01mdeepeval\u001b[39;00m\u001b[38;5;21;01m.\u001b[39;00m\u001b[38;5;21;01mmetrics\u001b[39;00m\u001b[38;5;250m \u001b[39m\u001b[38;5;28;01mimport\u001b[39;00m ContextualPrecision, AnswerRelevancy\n\u001b[0;32m      4\u001b[0m \u001b[38;5;66;03m# 평가 대상 RAG 함수 정의 (LangChain 예시)\u001b[39;00m\n",
      "\u001b[1;31mImportError\u001b[0m: cannot import name 'DeepEval' from 'deepeval' (f:\\project_test\\solutions\\chat\\.venv_chat\\lib\\site-packages\\deepeval\\__init__.py)"
     ]
    }
   ],
   "source": [
    "from deepeval import DeepEval\n",
    "from deepeval.metrics import ContextualPrecision, AnswerRelevancy\n",
    "\n",
    "# 평가 대상 RAG 함수 정의 (LangChain 예시)\n",
    "def rag_fn(query):\n",
    "    return chain.run(query)\n",
    "\n",
    "# 테스트 케이스 등록\n",
    "evaluator = DeepEval(rag_fn)\n",
    "evaluator.add_test_case(\n",
    "    name=\"피씨엔 회사 소개 FAQ 테스트\",\n",
    "    query=\"피씨엔 회사에 대해 소개해 주세요.\",\n",
    "    gold_answer=\"피씨엔은 디지털 환경에서 고객 비즈니스 성공을 지원하는 Digital Value Service 기업입니다.\",\n",
    "    metrics=[ContextualPrecision(), AnswerRelevancy()]\n",
    ")\n",
    "# 실행 및 리포트 출력\n",
    "results = evaluator.run_all()\n",
    "print(results.summary())\n"
   ]
  },
  {
   "cell_type": "code",
   "execution_count": null,
   "id": "9918db1a",
   "metadata": {},
   "outputs": [
    {
     "ename": "AttributeError",
     "evalue": "'ChatOllama' object has no attribute 'set_run_config'",
     "output_type": "error",
     "traceback": [
      "\u001b[1;31m---------------------------------------------------------------------------\u001b[0m",
      "\u001b[1;31mAttributeError\u001b[0m                            Traceback (most recent call last)",
      "Cell \u001b[1;32mIn[107], line 1\u001b[0m\n\u001b[1;32m----> 1\u001b[0m result_test \u001b[38;5;241m=\u001b[39m \u001b[43mevaluate\u001b[49m\u001b[43m(\u001b[49m\n\u001b[0;32m      2\u001b[0m \u001b[43m    \u001b[49m\u001b[43meval_data\u001b[49m\u001b[43m,\u001b[49m\n\u001b[0;32m      3\u001b[0m \u001b[43m    \u001b[49m\u001b[43mmetrics\u001b[49m\u001b[38;5;241;43m=\u001b[39;49m\u001b[43m[\u001b[49m\n\u001b[0;32m      4\u001b[0m \u001b[43m        \u001b[49m\u001b[43mcontext_precision\u001b[49m\u001b[43m,\u001b[49m\n\u001b[0;32m      5\u001b[0m \u001b[43m        \u001b[49m\u001b[43mfaithfulness\u001b[49m\u001b[43m,\u001b[49m\n\u001b[0;32m      6\u001b[0m \u001b[43m        \u001b[49m\u001b[43manswer_relevancy\u001b[49m\u001b[43m,\u001b[49m\n\u001b[0;32m      7\u001b[0m \u001b[43m        \u001b[49m\u001b[43mcontext_recall\u001b[49m\u001b[43m,\u001b[49m\n\u001b[0;32m      8\u001b[0m \u001b[43m    \u001b[49m\u001b[43m]\u001b[49m\u001b[43m,\u001b[49m\n\u001b[0;32m      9\u001b[0m \u001b[43m    \u001b[49m\u001b[43mllm\u001b[49m\u001b[38;5;241;43m=\u001b[39;49m\u001b[43mllm_llama3\u001b[49m\u001b[43m,\u001b[49m\n\u001b[0;32m     10\u001b[0m \u001b[43m    \u001b[49m\u001b[43membeddings\u001b[49m\u001b[38;5;241;43m=\u001b[39;49m\u001b[43membedding_model\u001b[49m\u001b[43m,\u001b[49m\n\u001b[0;32m     11\u001b[0m \u001b[43m    \u001b[49m\u001b[43mrun_config\u001b[49m\u001b[43m \u001b[49m\u001b[38;5;241;43m=\u001b[39;49m\u001b[43mRunConfig\u001b[49m\u001b[43m(\u001b[49m\u001b[43mtimeout\u001b[49m\u001b[38;5;241;43m=\u001b[39;49m\u001b[38;5;241;43m600\u001b[39;49m\u001b[43m,\u001b[49m\u001b[43m \u001b[49m\u001b[43mmax_retries\u001b[49m\u001b[38;5;241;43m=\u001b[39;49m\u001b[38;5;241;43m20\u001b[39;49m\u001b[43m,\u001b[49m\u001b[43m \u001b[49m\u001b[43mmax_wait\u001b[49m\u001b[38;5;241;43m=\u001b[39;49m\u001b[38;5;241;43m50\u001b[39;49m\u001b[43m,\u001b[49m\u001b[43mlog_tenacity\u001b[49m\u001b[38;5;241;43m=\u001b[39;49m\u001b[38;5;28;43;01mFalse\u001b[39;49;00m\u001b[43m)\u001b[49m\u001b[43m,\u001b[49m\n\u001b[0;32m     12\u001b[0m \u001b[43m)\u001b[49m\n",
      "File \u001b[1;32mf:\\project_test\\solutions\\chat\\.venv_chat\\lib\\site-packages\\ragas\\_analytics.py:227\u001b[0m, in \u001b[0;36mtrack_was_completed.<locals>.wrapper\u001b[1;34m(*args, **kwargs)\u001b[0m\n\u001b[0;32m    224\u001b[0m \u001b[38;5;129m@wraps\u001b[39m(func)\n\u001b[0;32m    225\u001b[0m \u001b[38;5;28;01mdef\u001b[39;00m\u001b[38;5;250m \u001b[39m\u001b[38;5;21mwrapper\u001b[39m(\u001b[38;5;241m*\u001b[39margs: P\u001b[38;5;241m.\u001b[39margs, \u001b[38;5;241m*\u001b[39m\u001b[38;5;241m*\u001b[39mkwargs: P\u001b[38;5;241m.\u001b[39mkwargs) \u001b[38;5;241m-\u001b[39m\u001b[38;5;241m>\u001b[39m t\u001b[38;5;241m.\u001b[39mAny:\n\u001b[0;32m    226\u001b[0m     track(IsCompleteEvent(event_type\u001b[38;5;241m=\u001b[39mfunc\u001b[38;5;241m.\u001b[39m\u001b[38;5;18m__name__\u001b[39m, is_completed\u001b[38;5;241m=\u001b[39m\u001b[38;5;28;01mFalse\u001b[39;00m))\n\u001b[1;32m--> 227\u001b[0m     result \u001b[38;5;241m=\u001b[39m func(\u001b[38;5;241m*\u001b[39margs, \u001b[38;5;241m*\u001b[39m\u001b[38;5;241m*\u001b[39mkwargs)\n\u001b[0;32m    228\u001b[0m     track(IsCompleteEvent(event_type\u001b[38;5;241m=\u001b[39mfunc\u001b[38;5;241m.\u001b[39m\u001b[38;5;18m__name__\u001b[39m, is_completed\u001b[38;5;241m=\u001b[39m\u001b[38;5;28;01mTrue\u001b[39;00m))\n\u001b[0;32m    230\u001b[0m     \u001b[38;5;28;01mreturn\u001b[39;00m result\n",
      "File \u001b[1;32mf:\\project_test\\solutions\\chat\\.venv_chat\\lib\\site-packages\\ragas\\evaluation.py:211\u001b[0m, in \u001b[0;36mevaluate\u001b[1;34m(dataset, metrics, llm, embeddings, experiment_name, callbacks, run_config, token_usage_parser, raise_exceptions, column_map, show_progress, batch_size, _run_id, _pbar)\u001b[0m\n\u001b[0;32m    208\u001b[0m             answer_correctness_is_set \u001b[38;5;241m=\u001b[39m i\n\u001b[0;32m    210\u001b[0m     \u001b[38;5;66;03m# init all the models\u001b[39;00m\n\u001b[1;32m--> 211\u001b[0m     \u001b[43mmetric\u001b[49m\u001b[38;5;241;43m.\u001b[39;49m\u001b[43minit\u001b[49m\u001b[43m(\u001b[49m\u001b[43mrun_config\u001b[49m\u001b[43m)\u001b[49m\n\u001b[0;32m    213\u001b[0m executor \u001b[38;5;241m=\u001b[39m Executor(\n\u001b[0;32m    214\u001b[0m     desc\u001b[38;5;241m=\u001b[39m\u001b[38;5;124m\"\u001b[39m\u001b[38;5;124mEvaluating\u001b[39m\u001b[38;5;124m\"\u001b[39m,\n\u001b[0;32m    215\u001b[0m     keep_progress_bar\u001b[38;5;241m=\u001b[39m\u001b[38;5;28;01mTrue\u001b[39;00m,\n\u001b[1;32m   (...)\u001b[0m\n\u001b[0;32m    220\u001b[0m     pbar\u001b[38;5;241m=\u001b[39m_pbar,\n\u001b[0;32m    221\u001b[0m )\n\u001b[0;32m    223\u001b[0m \u001b[38;5;66;03m# Ragas Callbacks\u001b[39;00m\n\u001b[0;32m    224\u001b[0m \u001b[38;5;66;03m# init the callbacks we need for various tasks\u001b[39;00m\n",
      "File \u001b[1;32mf:\\project_test\\solutions\\chat\\.venv_chat\\lib\\site-packages\\ragas\\metrics\\base.py:227\u001b[0m, in \u001b[0;36mMetricWithLLM.init\u001b[1;34m(self, run_config)\u001b[0m\n\u001b[0;32m    223\u001b[0m \u001b[38;5;28;01mif\u001b[39;00m \u001b[38;5;28mself\u001b[39m\u001b[38;5;241m.\u001b[39mllm \u001b[38;5;129;01mis\u001b[39;00m \u001b[38;5;28;01mNone\u001b[39;00m:\n\u001b[0;32m    224\u001b[0m     \u001b[38;5;28;01mraise\u001b[39;00m \u001b[38;5;167;01mValueError\u001b[39;00m(\n\u001b[0;32m    225\u001b[0m         \u001b[38;5;124mf\u001b[39m\u001b[38;5;124m\"\u001b[39m\u001b[38;5;124mMetric \u001b[39m\u001b[38;5;124m'\u001b[39m\u001b[38;5;132;01m{\u001b[39;00m\u001b[38;5;28mself\u001b[39m\u001b[38;5;241m.\u001b[39mname\u001b[38;5;132;01m}\u001b[39;00m\u001b[38;5;124m'\u001b[39m\u001b[38;5;124m has no valid LLM provided (self.llm is None). Please initantiate a the metric with an LLM to run.\u001b[39m\u001b[38;5;124m\"\u001b[39m  \u001b[38;5;66;03m# noqa\u001b[39;00m\n\u001b[0;32m    226\u001b[0m     )\n\u001b[1;32m--> 227\u001b[0m \u001b[38;5;28;43mself\u001b[39;49m\u001b[38;5;241;43m.\u001b[39;49m\u001b[43mllm\u001b[49m\u001b[38;5;241;43m.\u001b[39;49m\u001b[43mset_run_config\u001b[49m(run_config)\n",
      "File \u001b[1;32mf:\\project_test\\solutions\\chat\\.venv_chat\\lib\\site-packages\\pydantic\\main.py:991\u001b[0m, in \u001b[0;36mBaseModel.__getattr__\u001b[1;34m(self, item)\u001b[0m\n\u001b[0;32m    988\u001b[0m     \u001b[38;5;28;01mreturn\u001b[39;00m \u001b[38;5;28msuper\u001b[39m()\u001b[38;5;241m.\u001b[39m\u001b[38;5;21m__getattribute__\u001b[39m(item)  \u001b[38;5;66;03m# Raises AttributeError if appropriate\u001b[39;00m\n\u001b[0;32m    989\u001b[0m \u001b[38;5;28;01melse\u001b[39;00m:\n\u001b[0;32m    990\u001b[0m     \u001b[38;5;66;03m# this is the current error\u001b[39;00m\n\u001b[1;32m--> 991\u001b[0m     \u001b[38;5;28;01mraise\u001b[39;00m \u001b[38;5;167;01mAttributeError\u001b[39;00m(\u001b[38;5;124mf\u001b[39m\u001b[38;5;124m'\u001b[39m\u001b[38;5;132;01m{\u001b[39;00m\u001b[38;5;28mtype\u001b[39m(\u001b[38;5;28mself\u001b[39m)\u001b[38;5;241m.\u001b[39m\u001b[38;5;18m__name__\u001b[39m\u001b[38;5;132;01m!r}\u001b[39;00m\u001b[38;5;124m object has no attribute \u001b[39m\u001b[38;5;132;01m{\u001b[39;00mitem\u001b[38;5;132;01m!r}\u001b[39;00m\u001b[38;5;124m'\u001b[39m)\n",
      "\u001b[1;31mAttributeError\u001b[0m: 'ChatOllama' object has no attribute 'set_run_config'"
     ]
    }
   ],
   "source": [
    "result_test = evaluate(\n",
    "    eval_data,\n",
    "    metrics=[\n",
    "        context_precision,\n",
    "        faithfulness,\n",
    "        answer_relevancy,\n",
    "        context_recall,\n",
    "    ],\n",
    "    llm=llm_llama3,\n",
    "    embeddings=embedding_model,\n",
    "    run_config =RunConfig(timeout=600, max_retries=20, max_wait=50,log_tenacity=False),\n",
    ")"
   ]
  },
  {
   "cell_type": "code",
   "execution_count": null,
   "id": "081aa766",
   "metadata": {},
   "outputs": [
    {
     "ename": "FileNotFoundError",
     "evalue": "Couldn't find any data file at f:\\project_test\\solutions\\chat\\test1_1\\chat-dev\\src\\explodinggradients\\amnesty_qa. Couldn't find 'explodinggradients/amnesty_qa' on the Hugging Face Hub either: FileNotFoundError: [WinError 3] 지정된 경로를 찾을 수 없습니다: 'C:\\\\Users\\\\PCN\\\\.cache\\\\huggingface\\\\hub\\\\datasets--explodinggradients--amnesty_qa'",
     "output_type": "error",
     "traceback": [
      "\u001b[1;31m---------------------------------------------------------------------------\u001b[0m",
      "\u001b[1;31mFileNotFoundError\u001b[0m                         Traceback (most recent call last)",
      "Cell \u001b[1;32mIn[105], line 1\u001b[0m\n\u001b[1;32m----> 1\u001b[0m amnesty_qa \u001b[38;5;241m=\u001b[39m \u001b[43mload_dataset\u001b[49m\u001b[43m(\u001b[49m\u001b[38;5;124;43m\"\u001b[39;49m\u001b[38;5;124;43mexplodinggradients/amnesty_qa\u001b[39;49m\u001b[38;5;124;43m\"\u001b[39;49m\u001b[43m,\u001b[49m\u001b[43m \u001b[49m\u001b[38;5;124;43m\"\u001b[39;49m\u001b[38;5;124;43menglish_v2\u001b[39;49m\u001b[38;5;124;43m\"\u001b[39;49m\u001b[43m)\u001b[49m\n\u001b[0;32m      2\u001b[0m eval_dataset \u001b[38;5;241m=\u001b[39m amnesty_qa[\u001b[38;5;124m\"\u001b[39m\u001b[38;5;124meval\u001b[39m\u001b[38;5;124m\"\u001b[39m]\u001b[38;5;241m.\u001b[39mselect(\u001b[38;5;28mrange\u001b[39m(\u001b[38;5;241m1\u001b[39m,\u001b[38;5;241m3\u001b[39m))\n",
      "File \u001b[1;32mf:\\project_test\\solutions\\chat\\.venv_chat\\lib\\site-packages\\datasets\\load.py:1392\u001b[0m, in \u001b[0;36mload_dataset\u001b[1;34m(path, name, data_dir, data_files, split, cache_dir, features, download_config, download_mode, verification_mode, keep_in_memory, save_infos, revision, token, streaming, num_proc, storage_options, **config_kwargs)\u001b[0m\n\u001b[0;32m   1387\u001b[0m verification_mode \u001b[38;5;241m=\u001b[39m VerificationMode(\n\u001b[0;32m   1388\u001b[0m     (verification_mode \u001b[38;5;129;01mor\u001b[39;00m VerificationMode\u001b[38;5;241m.\u001b[39mBASIC_CHECKS) \u001b[38;5;28;01mif\u001b[39;00m \u001b[38;5;129;01mnot\u001b[39;00m save_infos \u001b[38;5;28;01melse\u001b[39;00m VerificationMode\u001b[38;5;241m.\u001b[39mALL_CHECKS\n\u001b[0;32m   1389\u001b[0m )\n\u001b[0;32m   1391\u001b[0m \u001b[38;5;66;03m# Create a dataset builder\u001b[39;00m\n\u001b[1;32m-> 1392\u001b[0m builder_instance \u001b[38;5;241m=\u001b[39m load_dataset_builder(\n\u001b[0;32m   1393\u001b[0m     path\u001b[38;5;241m=\u001b[39mpath,\n\u001b[0;32m   1394\u001b[0m     name\u001b[38;5;241m=\u001b[39mname,\n\u001b[0;32m   1395\u001b[0m     data_dir\u001b[38;5;241m=\u001b[39mdata_dir,\n\u001b[0;32m   1396\u001b[0m     data_files\u001b[38;5;241m=\u001b[39mdata_files,\n\u001b[0;32m   1397\u001b[0m     cache_dir\u001b[38;5;241m=\u001b[39mcache_dir,\n\u001b[0;32m   1398\u001b[0m     features\u001b[38;5;241m=\u001b[39mfeatures,\n\u001b[0;32m   1399\u001b[0m     download_config\u001b[38;5;241m=\u001b[39mdownload_config,\n\u001b[0;32m   1400\u001b[0m     download_mode\u001b[38;5;241m=\u001b[39mdownload_mode,\n\u001b[0;32m   1401\u001b[0m     revision\u001b[38;5;241m=\u001b[39mrevision,\n\u001b[0;32m   1402\u001b[0m     token\u001b[38;5;241m=\u001b[39mtoken,\n\u001b[0;32m   1403\u001b[0m     storage_options\u001b[38;5;241m=\u001b[39mstorage_options,\n\u001b[0;32m   1404\u001b[0m     \u001b[38;5;241m*\u001b[39m\u001b[38;5;241m*\u001b[39mconfig_kwargs,\n\u001b[0;32m   1405\u001b[0m )\n\u001b[0;32m   1407\u001b[0m \u001b[38;5;66;03m# Return iterable dataset in case of streaming\u001b[39;00m\n\u001b[0;32m   1408\u001b[0m \u001b[38;5;28;01mif\u001b[39;00m streaming:\n",
      "File \u001b[1;32mf:\\project_test\\solutions\\chat\\.venv_chat\\lib\\site-packages\\datasets\\load.py:1132\u001b[0m, in \u001b[0;36mload_dataset_builder\u001b[1;34m(path, name, data_dir, data_files, cache_dir, features, download_config, download_mode, revision, token, storage_options, **config_kwargs)\u001b[0m\n\u001b[0;32m   1130\u001b[0m \u001b[38;5;28;01mif\u001b[39;00m features \u001b[38;5;129;01mis\u001b[39;00m \u001b[38;5;129;01mnot\u001b[39;00m \u001b[38;5;28;01mNone\u001b[39;00m:\n\u001b[0;32m   1131\u001b[0m     features \u001b[38;5;241m=\u001b[39m _fix_for_backward_compatible_features(features)\n\u001b[1;32m-> 1132\u001b[0m dataset_module \u001b[38;5;241m=\u001b[39m \u001b[43mdataset_module_factory\u001b[49m\u001b[43m(\u001b[49m\n\u001b[0;32m   1133\u001b[0m \u001b[43m    \u001b[49m\u001b[43mpath\u001b[49m\u001b[43m,\u001b[49m\n\u001b[0;32m   1134\u001b[0m \u001b[43m    \u001b[49m\u001b[43mrevision\u001b[49m\u001b[38;5;241;43m=\u001b[39;49m\u001b[43mrevision\u001b[49m\u001b[43m,\u001b[49m\n\u001b[0;32m   1135\u001b[0m \u001b[43m    \u001b[49m\u001b[43mdownload_config\u001b[49m\u001b[38;5;241;43m=\u001b[39;49m\u001b[43mdownload_config\u001b[49m\u001b[43m,\u001b[49m\n\u001b[0;32m   1136\u001b[0m \u001b[43m    \u001b[49m\u001b[43mdownload_mode\u001b[49m\u001b[38;5;241;43m=\u001b[39;49m\u001b[43mdownload_mode\u001b[49m\u001b[43m,\u001b[49m\n\u001b[0;32m   1137\u001b[0m \u001b[43m    \u001b[49m\u001b[43mdata_dir\u001b[49m\u001b[38;5;241;43m=\u001b[39;49m\u001b[43mdata_dir\u001b[49m\u001b[43m,\u001b[49m\n\u001b[0;32m   1138\u001b[0m \u001b[43m    \u001b[49m\u001b[43mdata_files\u001b[49m\u001b[38;5;241;43m=\u001b[39;49m\u001b[43mdata_files\u001b[49m\u001b[43m,\u001b[49m\n\u001b[0;32m   1139\u001b[0m \u001b[43m    \u001b[49m\u001b[43mcache_dir\u001b[49m\u001b[38;5;241;43m=\u001b[39;49m\u001b[43mcache_dir\u001b[49m\u001b[43m,\u001b[49m\n\u001b[0;32m   1140\u001b[0m \u001b[43m\u001b[49m\u001b[43m)\u001b[49m\n\u001b[0;32m   1141\u001b[0m \u001b[38;5;66;03m# Get dataset builder class\u001b[39;00m\n\u001b[0;32m   1142\u001b[0m builder_kwargs \u001b[38;5;241m=\u001b[39m dataset_module\u001b[38;5;241m.\u001b[39mbuilder_kwargs\n",
      "File \u001b[1;32mf:\\project_test\\solutions\\chat\\.venv_chat\\lib\\site-packages\\datasets\\load.py:1027\u001b[0m, in \u001b[0;36mdataset_module_factory\u001b[1;34m(path, revision, download_config, download_mode, data_dir, data_files, cache_dir, **download_kwargs)\u001b[0m\n\u001b[0;32m   1025\u001b[0m                 \u001b[38;5;28;01mraise\u001b[39;00m e1 \u001b[38;5;28;01mfrom\u001b[39;00m\u001b[38;5;250m \u001b[39m\u001b[38;5;28;01mNone\u001b[39;00m\n\u001b[0;32m   1026\u001b[0m             \u001b[38;5;28;01mif\u001b[39;00m \u001b[38;5;28misinstance\u001b[39m(e1, \u001b[38;5;167;01mFileNotFoundError\u001b[39;00m):\n\u001b[1;32m-> 1027\u001b[0m                 \u001b[38;5;28;01mraise\u001b[39;00m \u001b[38;5;167;01mFileNotFoundError\u001b[39;00m(\n\u001b[0;32m   1028\u001b[0m                     \u001b[38;5;124mf\u001b[39m\u001b[38;5;124m\"\u001b[39m\u001b[38;5;124mCouldn\u001b[39m\u001b[38;5;124m'\u001b[39m\u001b[38;5;124mt find any data file at \u001b[39m\u001b[38;5;132;01m{\u001b[39;00mrelative_to_absolute_path(path)\u001b[38;5;132;01m}\u001b[39;00m\u001b[38;5;124m. \u001b[39m\u001b[38;5;124m\"\u001b[39m\n\u001b[0;32m   1029\u001b[0m                     \u001b[38;5;124mf\u001b[39m\u001b[38;5;124m\"\u001b[39m\u001b[38;5;124mCouldn\u001b[39m\u001b[38;5;124m'\u001b[39m\u001b[38;5;124mt find \u001b[39m\u001b[38;5;124m'\u001b[39m\u001b[38;5;132;01m{\u001b[39;00mpath\u001b[38;5;132;01m}\u001b[39;00m\u001b[38;5;124m'\u001b[39m\u001b[38;5;124m on the Hugging Face Hub either: \u001b[39m\u001b[38;5;132;01m{\u001b[39;00m\u001b[38;5;28mtype\u001b[39m(e1)\u001b[38;5;241m.\u001b[39m\u001b[38;5;18m__name__\u001b[39m\u001b[38;5;132;01m}\u001b[39;00m\u001b[38;5;124m: \u001b[39m\u001b[38;5;132;01m{\u001b[39;00me1\u001b[38;5;132;01m}\u001b[39;00m\u001b[38;5;124m\"\u001b[39m\n\u001b[0;32m   1030\u001b[0m                 ) \u001b[38;5;28;01mfrom\u001b[39;00m\u001b[38;5;250m \u001b[39m\u001b[38;5;28;01mNone\u001b[39;00m\n\u001b[0;32m   1031\u001b[0m             \u001b[38;5;28;01mraise\u001b[39;00m e1 \u001b[38;5;28;01mfrom\u001b[39;00m\u001b[38;5;250m \u001b[39m\u001b[38;5;28;01mNone\u001b[39;00m\n\u001b[0;32m   1032\u001b[0m \u001b[38;5;28;01melse\u001b[39;00m:\n",
      "\u001b[1;31mFileNotFoundError\u001b[0m: Couldn't find any data file at f:\\project_test\\solutions\\chat\\test1_1\\chat-dev\\src\\explodinggradients\\amnesty_qa. Couldn't find 'explodinggradients/amnesty_qa' on the Hugging Face Hub either: FileNotFoundError: [WinError 3] 지정된 경로를 찾을 수 없습니다: 'C:\\\\Users\\\\PCN\\\\.cache\\\\huggingface\\\\hub\\\\datasets--explodinggradients--amnesty_qa'"
     ]
    }
   ],
   "source": [
    "amnesty_qa = load_dataset(\"explodinggradients/amnesty_qa\", \"english_v2\")\n",
    "eval_dataset = amnesty_qa[\"eval\"].select(range(1,3))"
   ]
  },
  {
   "cell_type": "code",
   "execution_count": null,
   "id": "c91e82da",
   "metadata": {},
   "outputs": [],
   "source": []
  },
  {
   "cell_type": "code",
   "execution_count": null,
   "id": "849070d6",
   "metadata": {},
   "outputs": [],
   "source": []
  },
  {
   "cell_type": "code",
   "execution_count": null,
   "id": "5e50bf1d",
   "metadata": {},
   "outputs": [],
   "source": []
  },
  {
   "cell_type": "code",
   "execution_count": null,
   "id": "df948410",
   "metadata": {},
   "outputs": [],
   "source": []
  },
  {
   "cell_type": "code",
   "execution_count": null,
   "id": "f7288831",
   "metadata": {},
   "outputs": [],
   "source": []
  },
  {
   "cell_type": "code",
   "execution_count": null,
   "id": "6a43b7ff",
   "metadata": {},
   "outputs": [],
   "source": []
  },
  {
   "cell_type": "code",
   "execution_count": null,
   "id": "b6d880be",
   "metadata": {},
   "outputs": [
    {
     "ename": "AttributeError",
     "evalue": "'ChatOllama' object has no attribute 'complete'",
     "output_type": "error",
     "traceback": [
      "\u001b[1;31m---------------------------------------------------------------------------\u001b[0m",
      "\u001b[1;31mAttributeError\u001b[0m                            Traceback (most recent call last)",
      "Cell \u001b[1;32mIn[87], line 14\u001b[0m\n\u001b[0;32m      7\u001b[0m sample \u001b[38;5;241m=\u001b[39m SingleTurnSample(\n\u001b[0;32m      8\u001b[0m     user_input\u001b[38;5;241m=\u001b[39m\u001b[38;5;124m\"\u001b[39m\u001b[38;5;124m피씨엔 회사 소개\u001b[39m\u001b[38;5;124m\"\u001b[39m,\n\u001b[0;32m      9\u001b[0m     response\u001b[38;5;241m=\u001b[39mresult_text,\n\u001b[0;32m     10\u001b[0m     reference\u001b[38;5;241m=\u001b[39m\u001b[38;5;124m\"\u001b[39m\u001b[38;5;124m피씨엔(PCN)은 기술 회사로 Bigdata, XR, AI, SI 등 다양한 서비스를 제공합니다.\u001b[39m\u001b[38;5;124m\"\u001b[39m\n\u001b[0;32m     11\u001b[0m )\n\u001b[0;32m     13\u001b[0m \u001b[38;5;66;03m# ragas의 각종 평가 지표 계산\u001b[39;00m\n\u001b[1;32m---> 14\u001b[0m faithfulness_score \u001b[38;5;241m=\u001b[39m \u001b[43mfaithfulness\u001b[49m\u001b[38;5;241;43m.\u001b[39;49m\u001b[43msingle_turn_score\u001b[49m\u001b[43m(\u001b[49m\u001b[43msample\u001b[49m\u001b[43m)\u001b[49m\n\u001b[0;32m     15\u001b[0m answer_relevancy_score \u001b[38;5;241m=\u001b[39m answer_relevancy\u001b[38;5;241m.\u001b[39msingle_turn_score(sample)\n\u001b[0;32m     17\u001b[0m \u001b[38;5;28mprint\u001b[39m(\u001b[38;5;124m\"\u001b[39m\u001b[38;5;124m=== RAGAS 기반 평가 결과 ===\u001b[39m\u001b[38;5;124m\"\u001b[39m)\n",
      "File \u001b[1;32mf:\\project_test\\solutions\\chat\\.venv_chat\\lib\\site-packages\\ragas\\metrics\\base.py:497\u001b[0m, in \u001b[0;36mSingleTurnMetric.single_turn_score\u001b[1;34m(self, sample, callbacks)\u001b[0m\n\u001b[0;32m    495\u001b[0m     \u001b[38;5;28;01mif\u001b[39;00m \u001b[38;5;129;01mnot\u001b[39;00m group_cm\u001b[38;5;241m.\u001b[39mended:\n\u001b[0;32m    496\u001b[0m         rm\u001b[38;5;241m.\u001b[39mon_chain_error(e)\n\u001b[1;32m--> 497\u001b[0m     \u001b[38;5;28;01mraise\u001b[39;00m e\n\u001b[0;32m    498\u001b[0m \u001b[38;5;28;01melse\u001b[39;00m:\n\u001b[0;32m    499\u001b[0m     \u001b[38;5;28;01mif\u001b[39;00m \u001b[38;5;129;01mnot\u001b[39;00m group_cm\u001b[38;5;241m.\u001b[39mended:\n",
      "File \u001b[1;32mf:\\project_test\\solutions\\chat\\.venv_chat\\lib\\site-packages\\ragas\\metrics\\base.py:491\u001b[0m, in \u001b[0;36mSingleTurnMetric.single_turn_score\u001b[1;34m(self, sample, callbacks)\u001b[0m\n\u001b[0;32m    487\u001b[0m             \u001b[38;5;28;01mraise\u001b[39;00m \u001b[38;5;167;01mImportError\u001b[39;00m(\n\u001b[0;32m    488\u001b[0m                 \u001b[38;5;124m\"\u001b[39m\u001b[38;5;124mIt seems like your running this in a jupyter-like environment. Please install nest_asyncio with `pip install nest_asyncio` to make it work.\u001b[39m\u001b[38;5;124m\"\u001b[39m\n\u001b[0;32m    489\u001b[0m             )\n\u001b[0;32m    490\u001b[0m     loop \u001b[38;5;241m=\u001b[39m asyncio\u001b[38;5;241m.\u001b[39mget_event_loop()\n\u001b[1;32m--> 491\u001b[0m     score \u001b[38;5;241m=\u001b[39m \u001b[43mloop\u001b[49m\u001b[38;5;241;43m.\u001b[39;49m\u001b[43mrun_until_complete\u001b[49m\u001b[43m(\u001b[49m\n\u001b[0;32m    492\u001b[0m \u001b[43m        \u001b[49m\u001b[38;5;28;43mself\u001b[39;49m\u001b[38;5;241;43m.\u001b[39;49m\u001b[43m_single_turn_ascore\u001b[49m\u001b[43m(\u001b[49m\u001b[43msample\u001b[49m\u001b[38;5;241;43m=\u001b[39;49m\u001b[43msample\u001b[49m\u001b[43m,\u001b[49m\u001b[43m \u001b[49m\u001b[43mcallbacks\u001b[49m\u001b[38;5;241;43m=\u001b[39;49m\u001b[43mgroup_cm\u001b[49m\u001b[43m)\u001b[49m\n\u001b[0;32m    493\u001b[0m \u001b[43m    \u001b[49m\u001b[43m)\u001b[49m\n\u001b[0;32m    494\u001b[0m \u001b[38;5;28;01mexcept\u001b[39;00m \u001b[38;5;167;01mException\u001b[39;00m \u001b[38;5;28;01mas\u001b[39;00m e:\n\u001b[0;32m    495\u001b[0m     \u001b[38;5;28;01mif\u001b[39;00m \u001b[38;5;129;01mnot\u001b[39;00m group_cm\u001b[38;5;241m.\u001b[39mended:\n",
      "File \u001b[1;32mf:\\project_test\\solutions\\chat\\.venv_chat\\lib\\site-packages\\nest_asyncio.py:98\u001b[0m, in \u001b[0;36m_patch_loop.<locals>.run_until_complete\u001b[1;34m(self, future)\u001b[0m\n\u001b[0;32m     95\u001b[0m \u001b[38;5;28;01mif\u001b[39;00m \u001b[38;5;129;01mnot\u001b[39;00m f\u001b[38;5;241m.\u001b[39mdone():\n\u001b[0;32m     96\u001b[0m     \u001b[38;5;28;01mraise\u001b[39;00m \u001b[38;5;167;01mRuntimeError\u001b[39;00m(\n\u001b[0;32m     97\u001b[0m         \u001b[38;5;124m'\u001b[39m\u001b[38;5;124mEvent loop stopped before Future completed.\u001b[39m\u001b[38;5;124m'\u001b[39m)\n\u001b[1;32m---> 98\u001b[0m \u001b[38;5;28;01mreturn\u001b[39;00m \u001b[43mf\u001b[49m\u001b[38;5;241;43m.\u001b[39;49m\u001b[43mresult\u001b[49m\u001b[43m(\u001b[49m\u001b[43m)\u001b[49m\n",
      "File \u001b[1;32m~\\AppData\\Local\\Programs\\Python\\Python310\\lib\\asyncio\\futures.py:201\u001b[0m, in \u001b[0;36mFuture.result\u001b[1;34m(self)\u001b[0m\n\u001b[0;32m    199\u001b[0m \u001b[38;5;28mself\u001b[39m\u001b[38;5;241m.\u001b[39m__log_traceback \u001b[38;5;241m=\u001b[39m \u001b[38;5;28;01mFalse\u001b[39;00m\n\u001b[0;32m    200\u001b[0m \u001b[38;5;28;01mif\u001b[39;00m \u001b[38;5;28mself\u001b[39m\u001b[38;5;241m.\u001b[39m_exception \u001b[38;5;129;01mis\u001b[39;00m \u001b[38;5;129;01mnot\u001b[39;00m \u001b[38;5;28;01mNone\u001b[39;00m:\n\u001b[1;32m--> 201\u001b[0m     \u001b[38;5;28;01mraise\u001b[39;00m \u001b[38;5;28mself\u001b[39m\u001b[38;5;241m.\u001b[39m_exception\u001b[38;5;241m.\u001b[39mwith_traceback(\u001b[38;5;28mself\u001b[39m\u001b[38;5;241m.\u001b[39m_exception_tb)\n\u001b[0;32m    202\u001b[0m \u001b[38;5;28;01mreturn\u001b[39;00m \u001b[38;5;28mself\u001b[39m\u001b[38;5;241m.\u001b[39m_result\n",
      "File \u001b[1;32m~\\AppData\\Local\\Programs\\Python\\Python310\\lib\\asyncio\\tasks.py:234\u001b[0m, in \u001b[0;36mTask.__step\u001b[1;34m(***failed resolving arguments***)\u001b[0m\n\u001b[0;32m    232\u001b[0m         result \u001b[38;5;241m=\u001b[39m coro\u001b[38;5;241m.\u001b[39msend(\u001b[38;5;28;01mNone\u001b[39;00m)\n\u001b[0;32m    233\u001b[0m     \u001b[38;5;28;01melse\u001b[39;00m:\n\u001b[1;32m--> 234\u001b[0m         result \u001b[38;5;241m=\u001b[39m \u001b[43mcoro\u001b[49m\u001b[38;5;241;43m.\u001b[39;49m\u001b[43mthrow\u001b[49m\u001b[43m(\u001b[49m\u001b[43mexc\u001b[49m\u001b[43m)\u001b[49m\n\u001b[0;32m    235\u001b[0m \u001b[38;5;28;01mexcept\u001b[39;00m \u001b[38;5;167;01mStopIteration\u001b[39;00m \u001b[38;5;28;01mas\u001b[39;00m exc:\n\u001b[0;32m    236\u001b[0m     \u001b[38;5;28;01mif\u001b[39;00m \u001b[38;5;28mself\u001b[39m\u001b[38;5;241m.\u001b[39m_must_cancel:\n\u001b[0;32m    237\u001b[0m         \u001b[38;5;66;03m# Task is cancelled right before coro stops.\u001b[39;00m\n",
      "File \u001b[1;32mf:\\project_test\\solutions\\chat\\.venv_chat\\lib\\site-packages\\ragas\\metrics\\_faithfulness.py:200\u001b[0m, in \u001b[0;36mFaithfulness._single_turn_ascore\u001b[1;34m(self, sample, callbacks)\u001b[0m\n\u001b[0;32m    196\u001b[0m \u001b[38;5;28;01masync\u001b[39;00m \u001b[38;5;28;01mdef\u001b[39;00m\u001b[38;5;250m \u001b[39m\u001b[38;5;21m_single_turn_ascore\u001b[39m(\n\u001b[0;32m    197\u001b[0m     \u001b[38;5;28mself\u001b[39m, sample: SingleTurnSample, callbacks: Callbacks\n\u001b[0;32m    198\u001b[0m ) \u001b[38;5;241m-\u001b[39m\u001b[38;5;241m>\u001b[39m \u001b[38;5;28mfloat\u001b[39m:\n\u001b[0;32m    199\u001b[0m     row \u001b[38;5;241m=\u001b[39m sample\u001b[38;5;241m.\u001b[39mto_dict()\n\u001b[1;32m--> 200\u001b[0m     \u001b[38;5;28;01mreturn\u001b[39;00m \u001b[38;5;28;01mawait\u001b[39;00m \u001b[38;5;28mself\u001b[39m\u001b[38;5;241m.\u001b[39m_ascore(row, callbacks)\n",
      "File \u001b[1;32mf:\\project_test\\solutions\\chat\\.venv_chat\\lib\\site-packages\\ragas\\metrics\\_faithfulness.py:208\u001b[0m, in \u001b[0;36mFaithfulness._ascore\u001b[1;34m(self, row, callbacks)\u001b[0m\n\u001b[0;32m    203\u001b[0m \u001b[38;5;250m\u001b[39m\u001b[38;5;124;03m\"\"\"\u001b[39;00m\n\u001b[0;32m    204\u001b[0m \u001b[38;5;124;03mreturns the NLI score for each (q, c, a) pair\u001b[39;00m\n\u001b[0;32m    205\u001b[0m \u001b[38;5;124;03m\"\"\"\u001b[39;00m\n\u001b[0;32m    206\u001b[0m \u001b[38;5;28;01massert\u001b[39;00m \u001b[38;5;28mself\u001b[39m\u001b[38;5;241m.\u001b[39mllm \u001b[38;5;129;01mis\u001b[39;00m \u001b[38;5;129;01mnot\u001b[39;00m \u001b[38;5;28;01mNone\u001b[39;00m, \u001b[38;5;124m\"\u001b[39m\u001b[38;5;124mLLM is not set\u001b[39m\u001b[38;5;124m\"\u001b[39m\n\u001b[1;32m--> 208\u001b[0m statements \u001b[38;5;241m=\u001b[39m \u001b[38;5;28;01mawait\u001b[39;00m \u001b[38;5;28mself\u001b[39m\u001b[38;5;241m.\u001b[39m_create_statements(row, callbacks)\n\u001b[0;32m    209\u001b[0m statements \u001b[38;5;241m=\u001b[39m statements\u001b[38;5;241m.\u001b[39mstatements\n\u001b[0;32m    210\u001b[0m \u001b[38;5;28;01mif\u001b[39;00m statements \u001b[38;5;241m==\u001b[39m []:\n",
      "File \u001b[1;32mf:\\project_test\\solutions\\chat\\.venv_chat\\lib\\site-packages\\ragas\\metrics\\_faithfulness.py:174\u001b[0m, in \u001b[0;36mFaithfulness._create_statements\u001b[1;34m(self, row, callbacks)\u001b[0m\n\u001b[0;32m    171\u001b[0m text, question \u001b[38;5;241m=\u001b[39m row[\u001b[38;5;124m\"\u001b[39m\u001b[38;5;124mresponse\u001b[39m\u001b[38;5;124m\"\u001b[39m], row[\u001b[38;5;124m\"\u001b[39m\u001b[38;5;124muser_input\u001b[39m\u001b[38;5;124m\"\u001b[39m]\n\u001b[0;32m    173\u001b[0m prompt_input \u001b[38;5;241m=\u001b[39m StatementGeneratorInput(question\u001b[38;5;241m=\u001b[39mquestion, answer\u001b[38;5;241m=\u001b[39mtext)\n\u001b[1;32m--> 174\u001b[0m statements \u001b[38;5;241m=\u001b[39m \u001b[38;5;28;01mawait\u001b[39;00m \u001b[38;5;28mself\u001b[39m\u001b[38;5;241m.\u001b[39mstatement_generator_prompt\u001b[38;5;241m.\u001b[39mgenerate(\n\u001b[0;32m    175\u001b[0m     llm\u001b[38;5;241m=\u001b[39m\u001b[38;5;28mself\u001b[39m\u001b[38;5;241m.\u001b[39mllm,\n\u001b[0;32m    176\u001b[0m     data\u001b[38;5;241m=\u001b[39mprompt_input,\n\u001b[0;32m    177\u001b[0m     callbacks\u001b[38;5;241m=\u001b[39mcallbacks,\n\u001b[0;32m    178\u001b[0m )\n\u001b[0;32m    180\u001b[0m \u001b[38;5;28;01mreturn\u001b[39;00m statements\n",
      "File \u001b[1;32mf:\\project_test\\solutions\\chat\\.venv_chat\\lib\\site-packages\\ragas\\prompt\\pydantic_prompt.py:129\u001b[0m, in \u001b[0;36mPydanticPrompt.generate\u001b[1;34m(self, llm, data, temperature, stop, callbacks, retries_left)\u001b[0m\n\u001b[0;32m    126\u001b[0m callbacks \u001b[38;5;241m=\u001b[39m callbacks \u001b[38;5;129;01mor\u001b[39;00m []\n\u001b[0;32m    128\u001b[0m \u001b[38;5;66;03m# this is just a special case of generate_multiple\u001b[39;00m\n\u001b[1;32m--> 129\u001b[0m output_single \u001b[38;5;241m=\u001b[39m \u001b[38;5;28;01mawait\u001b[39;00m \u001b[38;5;28mself\u001b[39m\u001b[38;5;241m.\u001b[39mgenerate_multiple(\n\u001b[0;32m    130\u001b[0m     llm\u001b[38;5;241m=\u001b[39mllm,\n\u001b[0;32m    131\u001b[0m     data\u001b[38;5;241m=\u001b[39mdata,\n\u001b[0;32m    132\u001b[0m     n\u001b[38;5;241m=\u001b[39m\u001b[38;5;241m1\u001b[39m,\n\u001b[0;32m    133\u001b[0m     temperature\u001b[38;5;241m=\u001b[39mtemperature,\n\u001b[0;32m    134\u001b[0m     stop\u001b[38;5;241m=\u001b[39mstop,\n\u001b[0;32m    135\u001b[0m     callbacks\u001b[38;5;241m=\u001b[39mcallbacks,\n\u001b[0;32m    136\u001b[0m     retries_left\u001b[38;5;241m=\u001b[39mretries_left,\n\u001b[0;32m    137\u001b[0m )\n\u001b[0;32m    138\u001b[0m \u001b[38;5;28;01mreturn\u001b[39;00m output_single[\u001b[38;5;241m0\u001b[39m]\n",
      "File \u001b[1;32mf:\\project_test\\solutions\\chat\\.venv_chat\\lib\\site-packages\\ragas\\prompt\\pydantic_prompt.py:190\u001b[0m, in \u001b[0;36mPydanticPrompt.generate_multiple\u001b[1;34m(self, llm, data, n, temperature, stop, callbacks, retries_left)\u001b[0m\n\u001b[0;32m    183\u001b[0m prompt_rm, prompt_cb \u001b[38;5;241m=\u001b[39m new_group(\n\u001b[0;32m    184\u001b[0m     name\u001b[38;5;241m=\u001b[39m\u001b[38;5;28mself\u001b[39m\u001b[38;5;241m.\u001b[39mname,\n\u001b[0;32m    185\u001b[0m     inputs\u001b[38;5;241m=\u001b[39m{\u001b[38;5;124m\"\u001b[39m\u001b[38;5;124mdata\u001b[39m\u001b[38;5;124m\"\u001b[39m: processed_data},\n\u001b[0;32m    186\u001b[0m     callbacks\u001b[38;5;241m=\u001b[39mcallbacks,\n\u001b[0;32m    187\u001b[0m     metadata\u001b[38;5;241m=\u001b[39m{\u001b[38;5;124m\"\u001b[39m\u001b[38;5;124mtype\u001b[39m\u001b[38;5;124m\"\u001b[39m: ChainType\u001b[38;5;241m.\u001b[39mRAGAS_PROMPT},\n\u001b[0;32m    188\u001b[0m )\n\u001b[0;32m    189\u001b[0m prompt_value \u001b[38;5;241m=\u001b[39m PromptValue(text\u001b[38;5;241m=\u001b[39m\u001b[38;5;28mself\u001b[39m\u001b[38;5;241m.\u001b[39mto_string(processed_data))\n\u001b[1;32m--> 190\u001b[0m resp \u001b[38;5;241m=\u001b[39m \u001b[38;5;28;01mawait\u001b[39;00m llm\u001b[38;5;241m.\u001b[39mgenerate(\n\u001b[0;32m    191\u001b[0m     prompt_value,\n\u001b[0;32m    192\u001b[0m     n\u001b[38;5;241m=\u001b[39mn,\n\u001b[0;32m    193\u001b[0m     temperature\u001b[38;5;241m=\u001b[39mtemperature,\n\u001b[0;32m    194\u001b[0m     stop\u001b[38;5;241m=\u001b[39mstop,\n\u001b[0;32m    195\u001b[0m     callbacks\u001b[38;5;241m=\u001b[39mprompt_cb,\n\u001b[0;32m    196\u001b[0m )\n\u001b[0;32m    198\u001b[0m output_models \u001b[38;5;241m=\u001b[39m []\n\u001b[0;32m    199\u001b[0m parser \u001b[38;5;241m=\u001b[39m RagasOutputParser(pydantic_object\u001b[38;5;241m=\u001b[39m\u001b[38;5;28mself\u001b[39m\u001b[38;5;241m.\u001b[39moutput_model)\n",
      "File \u001b[1;32mf:\\project_test\\solutions\\chat\\.venv_chat\\lib\\site-packages\\ragas\\llms\\base.py:109\u001b[0m, in \u001b[0;36mBaseRagasLLM.generate\u001b[1;34m(self, prompt, n, temperature, stop, callbacks)\u001b[0m\n\u001b[0;32m    104\u001b[0m     temperature \u001b[38;5;241m=\u001b[39m \u001b[38;5;28mself\u001b[39m\u001b[38;5;241m.\u001b[39mget_temperature(n)\n\u001b[0;32m    106\u001b[0m agenerate_text_with_retry \u001b[38;5;241m=\u001b[39m add_async_retry(\n\u001b[0;32m    107\u001b[0m     \u001b[38;5;28mself\u001b[39m\u001b[38;5;241m.\u001b[39magenerate_text, \u001b[38;5;28mself\u001b[39m\u001b[38;5;241m.\u001b[39mrun_config\n\u001b[0;32m    108\u001b[0m )\n\u001b[1;32m--> 109\u001b[0m result \u001b[38;5;241m=\u001b[39m \u001b[38;5;28;01mawait\u001b[39;00m agenerate_text_with_retry(\n\u001b[0;32m    110\u001b[0m     prompt\u001b[38;5;241m=\u001b[39mprompt,\n\u001b[0;32m    111\u001b[0m     n\u001b[38;5;241m=\u001b[39mn,\n\u001b[0;32m    112\u001b[0m     temperature\u001b[38;5;241m=\u001b[39mtemperature,\n\u001b[0;32m    113\u001b[0m     stop\u001b[38;5;241m=\u001b[39mstop,\n\u001b[0;32m    114\u001b[0m     callbacks\u001b[38;5;241m=\u001b[39mcallbacks,\n\u001b[0;32m    115\u001b[0m )\n\u001b[0;32m    117\u001b[0m \u001b[38;5;66;03m# check there are no max_token issues\u001b[39;00m\n\u001b[0;32m    118\u001b[0m \u001b[38;5;28;01mif\u001b[39;00m \u001b[38;5;129;01mnot\u001b[39;00m \u001b[38;5;28mself\u001b[39m\u001b[38;5;241m.\u001b[39mis_finished(result):\n",
      "File \u001b[1;32mf:\\project_test\\solutions\\chat\\.venv_chat\\lib\\site-packages\\tenacity\\asyncio\\__init__.py:189\u001b[0m, in \u001b[0;36mAsyncRetrying.wraps.<locals>.async_wrapped\u001b[1;34m(*args, **kwargs)\u001b[0m\n\u001b[0;32m    187\u001b[0m copy \u001b[38;5;241m=\u001b[39m \u001b[38;5;28mself\u001b[39m\u001b[38;5;241m.\u001b[39mcopy()\n\u001b[0;32m    188\u001b[0m async_wrapped\u001b[38;5;241m.\u001b[39mstatistics \u001b[38;5;241m=\u001b[39m copy\u001b[38;5;241m.\u001b[39mstatistics  \u001b[38;5;66;03m# type: ignore[attr-defined]\u001b[39;00m\n\u001b[1;32m--> 189\u001b[0m \u001b[38;5;28;01mreturn\u001b[39;00m \u001b[38;5;28;01mawait\u001b[39;00m copy(fn, \u001b[38;5;241m*\u001b[39margs, \u001b[38;5;241m*\u001b[39m\u001b[38;5;241m*\u001b[39mkwargs)\n",
      "File \u001b[1;32mf:\\project_test\\solutions\\chat\\.venv_chat\\lib\\site-packages\\tenacity\\asyncio\\__init__.py:111\u001b[0m, in \u001b[0;36mAsyncRetrying.__call__\u001b[1;34m(self, fn, *args, **kwargs)\u001b[0m\n\u001b[0;32m    109\u001b[0m retry_state \u001b[38;5;241m=\u001b[39m RetryCallState(retry_object\u001b[38;5;241m=\u001b[39m\u001b[38;5;28mself\u001b[39m, fn\u001b[38;5;241m=\u001b[39mfn, args\u001b[38;5;241m=\u001b[39margs, kwargs\u001b[38;5;241m=\u001b[39mkwargs)\n\u001b[0;32m    110\u001b[0m \u001b[38;5;28;01mwhile\u001b[39;00m \u001b[38;5;28;01mTrue\u001b[39;00m:\n\u001b[1;32m--> 111\u001b[0m     do \u001b[38;5;241m=\u001b[39m \u001b[38;5;28;01mawait\u001b[39;00m \u001b[38;5;28mself\u001b[39m\u001b[38;5;241m.\u001b[39miter(retry_state\u001b[38;5;241m=\u001b[39mretry_state)\n\u001b[0;32m    112\u001b[0m     \u001b[38;5;28;01mif\u001b[39;00m \u001b[38;5;28misinstance\u001b[39m(do, DoAttempt):\n\u001b[0;32m    113\u001b[0m         \u001b[38;5;28;01mtry\u001b[39;00m:\n",
      "File \u001b[1;32mf:\\project_test\\solutions\\chat\\.venv_chat\\lib\\site-packages\\tenacity\\asyncio\\__init__.py:153\u001b[0m, in \u001b[0;36mAsyncRetrying.iter\u001b[1;34m(self, retry_state)\u001b[0m\n\u001b[0;32m    151\u001b[0m result \u001b[38;5;241m=\u001b[39m \u001b[38;5;28;01mNone\u001b[39;00m\n\u001b[0;32m    152\u001b[0m \u001b[38;5;28;01mfor\u001b[39;00m action \u001b[38;5;129;01min\u001b[39;00m \u001b[38;5;28mself\u001b[39m\u001b[38;5;241m.\u001b[39miter_state\u001b[38;5;241m.\u001b[39mactions:\n\u001b[1;32m--> 153\u001b[0m     result \u001b[38;5;241m=\u001b[39m \u001b[38;5;28;01mawait\u001b[39;00m action(retry_state)\n\u001b[0;32m    154\u001b[0m \u001b[38;5;28;01mreturn\u001b[39;00m result\n",
      "File \u001b[1;32mf:\\project_test\\solutions\\chat\\.venv_chat\\lib\\site-packages\\tenacity\\_utils.py:99\u001b[0m, in \u001b[0;36mwrap_to_async_func.<locals>.inner\u001b[1;34m(*args, **kwargs)\u001b[0m\n\u001b[0;32m     98\u001b[0m \u001b[38;5;28;01masync\u001b[39;00m \u001b[38;5;28;01mdef\u001b[39;00m\u001b[38;5;250m \u001b[39m\u001b[38;5;21minner\u001b[39m(\u001b[38;5;241m*\u001b[39margs: typing\u001b[38;5;241m.\u001b[39mAny, \u001b[38;5;241m*\u001b[39m\u001b[38;5;241m*\u001b[39mkwargs: typing\u001b[38;5;241m.\u001b[39mAny) \u001b[38;5;241m-\u001b[39m\u001b[38;5;241m>\u001b[39m typing\u001b[38;5;241m.\u001b[39mAny:\n\u001b[1;32m---> 99\u001b[0m     \u001b[38;5;28;01mreturn\u001b[39;00m call(\u001b[38;5;241m*\u001b[39margs, \u001b[38;5;241m*\u001b[39m\u001b[38;5;241m*\u001b[39mkwargs)\n",
      "File \u001b[1;32mf:\\project_test\\solutions\\chat\\.venv_chat\\lib\\site-packages\\tenacity\\__init__.py:420\u001b[0m, in \u001b[0;36mBaseRetrying._post_stop_check_actions.<locals>.exc_check\u001b[1;34m(rs)\u001b[0m\n\u001b[0;32m    418\u001b[0m retry_exc \u001b[38;5;241m=\u001b[39m \u001b[38;5;28mself\u001b[39m\u001b[38;5;241m.\u001b[39mretry_error_cls(fut)\n\u001b[0;32m    419\u001b[0m \u001b[38;5;28;01mif\u001b[39;00m \u001b[38;5;28mself\u001b[39m\u001b[38;5;241m.\u001b[39mreraise:\n\u001b[1;32m--> 420\u001b[0m     \u001b[38;5;28;01mraise\u001b[39;00m \u001b[43mretry_exc\u001b[49m\u001b[38;5;241;43m.\u001b[39;49m\u001b[43mreraise\u001b[49m\u001b[43m(\u001b[49m\u001b[43m)\u001b[49m\n\u001b[0;32m    421\u001b[0m \u001b[38;5;28;01mraise\u001b[39;00m retry_exc \u001b[38;5;28;01mfrom\u001b[39;00m\u001b[38;5;250m \u001b[39m\u001b[38;5;21;01mfut\u001b[39;00m\u001b[38;5;21;01m.\u001b[39;00m\u001b[38;5;21;01mexception\u001b[39;00m()\n",
      "File \u001b[1;32mf:\\project_test\\solutions\\chat\\.venv_chat\\lib\\site-packages\\tenacity\\__init__.py:187\u001b[0m, in \u001b[0;36mRetryError.reraise\u001b[1;34m(self)\u001b[0m\n\u001b[0;32m    185\u001b[0m \u001b[38;5;28;01mdef\u001b[39;00m\u001b[38;5;250m \u001b[39m\u001b[38;5;21mreraise\u001b[39m(\u001b[38;5;28mself\u001b[39m) \u001b[38;5;241m-\u001b[39m\u001b[38;5;241m>\u001b[39m t\u001b[38;5;241m.\u001b[39mNoReturn:\n\u001b[0;32m    186\u001b[0m     \u001b[38;5;28;01mif\u001b[39;00m \u001b[38;5;28mself\u001b[39m\u001b[38;5;241m.\u001b[39mlast_attempt\u001b[38;5;241m.\u001b[39mfailed:\n\u001b[1;32m--> 187\u001b[0m         \u001b[38;5;28;01mraise\u001b[39;00m \u001b[38;5;28;43mself\u001b[39;49m\u001b[38;5;241;43m.\u001b[39;49m\u001b[43mlast_attempt\u001b[49m\u001b[38;5;241;43m.\u001b[39;49m\u001b[43mresult\u001b[49m\u001b[43m(\u001b[49m\u001b[43m)\u001b[49m\n\u001b[0;32m    188\u001b[0m     \u001b[38;5;28;01mraise\u001b[39;00m \u001b[38;5;28mself\u001b[39m\n",
      "File \u001b[1;32m~\\AppData\\Local\\Programs\\Python\\Python310\\lib\\concurrent\\futures\\_base.py:451\u001b[0m, in \u001b[0;36mFuture.result\u001b[1;34m(self, timeout)\u001b[0m\n\u001b[0;32m    449\u001b[0m     \u001b[38;5;28;01mraise\u001b[39;00m CancelledError()\n\u001b[0;32m    450\u001b[0m \u001b[38;5;28;01melif\u001b[39;00m \u001b[38;5;28mself\u001b[39m\u001b[38;5;241m.\u001b[39m_state \u001b[38;5;241m==\u001b[39m FINISHED:\n\u001b[1;32m--> 451\u001b[0m     \u001b[38;5;28;01mreturn\u001b[39;00m \u001b[38;5;28;43mself\u001b[39;49m\u001b[38;5;241;43m.\u001b[39;49m\u001b[43m__get_result\u001b[49m\u001b[43m(\u001b[49m\u001b[43m)\u001b[49m\n\u001b[0;32m    453\u001b[0m \u001b[38;5;28mself\u001b[39m\u001b[38;5;241m.\u001b[39m_condition\u001b[38;5;241m.\u001b[39mwait(timeout)\n\u001b[0;32m    455\u001b[0m \u001b[38;5;28;01mif\u001b[39;00m \u001b[38;5;28mself\u001b[39m\u001b[38;5;241m.\u001b[39m_state \u001b[38;5;129;01min\u001b[39;00m [CANCELLED, CANCELLED_AND_NOTIFIED]:\n",
      "File \u001b[1;32m~\\AppData\\Local\\Programs\\Python\\Python310\\lib\\concurrent\\futures\\_base.py:403\u001b[0m, in \u001b[0;36mFuture.__get_result\u001b[1;34m(self)\u001b[0m\n\u001b[0;32m    401\u001b[0m \u001b[38;5;28;01mif\u001b[39;00m \u001b[38;5;28mself\u001b[39m\u001b[38;5;241m.\u001b[39m_exception:\n\u001b[0;32m    402\u001b[0m     \u001b[38;5;28;01mtry\u001b[39;00m:\n\u001b[1;32m--> 403\u001b[0m         \u001b[38;5;28;01mraise\u001b[39;00m \u001b[38;5;28mself\u001b[39m\u001b[38;5;241m.\u001b[39m_exception\n\u001b[0;32m    404\u001b[0m     \u001b[38;5;28;01mfinally\u001b[39;00m:\n\u001b[0;32m    405\u001b[0m         \u001b[38;5;66;03m# Break a reference cycle with the exception in self._exception\u001b[39;00m\n\u001b[0;32m    406\u001b[0m         \u001b[38;5;28mself\u001b[39m \u001b[38;5;241m=\u001b[39m \u001b[38;5;28;01mNone\u001b[39;00m\n",
      "File \u001b[1;32mf:\\project_test\\solutions\\chat\\.venv_chat\\lib\\site-packages\\tenacity\\asyncio\\__init__.py:114\u001b[0m, in \u001b[0;36mAsyncRetrying.__call__\u001b[1;34m(self, fn, *args, **kwargs)\u001b[0m\n\u001b[0;32m    112\u001b[0m \u001b[38;5;28;01mif\u001b[39;00m \u001b[38;5;28misinstance\u001b[39m(do, DoAttempt):\n\u001b[0;32m    113\u001b[0m     \u001b[38;5;28;01mtry\u001b[39;00m:\n\u001b[1;32m--> 114\u001b[0m         result \u001b[38;5;241m=\u001b[39m \u001b[38;5;28;01mawait\u001b[39;00m fn(\u001b[38;5;241m*\u001b[39margs, \u001b[38;5;241m*\u001b[39m\u001b[38;5;241m*\u001b[39mkwargs)\n\u001b[0;32m    115\u001b[0m     \u001b[38;5;28;01mexcept\u001b[39;00m \u001b[38;5;167;01mBaseException\u001b[39;00m:  \u001b[38;5;66;03m# noqa: B902\u001b[39;00m\n\u001b[0;32m    116\u001b[0m         retry_state\u001b[38;5;241m.\u001b[39mset_exception(sys\u001b[38;5;241m.\u001b[39mexc_info())  \u001b[38;5;66;03m# type: ignore[arg-type]\u001b[39;00m\n",
      "Cell \u001b[1;32mIn[85], line 41\u001b[0m, in \u001b[0;36mOllamaRagasAdapter.agenerate_text\u001b[1;34m(self, prompt, n, temperature, stop, **kwargs)\u001b[0m\n\u001b[0;32m     32\u001b[0m \u001b[38;5;28;01masync\u001b[39;00m \u001b[38;5;28;01mdef\u001b[39;00m\u001b[38;5;250m \u001b[39m\u001b[38;5;21magenerate_text\u001b[39m(\n\u001b[0;32m     33\u001b[0m     \u001b[38;5;28mself\u001b[39m,\n\u001b[0;32m     34\u001b[0m     prompt: \u001b[38;5;28mstr\u001b[39m,\n\u001b[1;32m   (...)\u001b[0m\n\u001b[0;32m     38\u001b[0m     \u001b[38;5;241m*\u001b[39m\u001b[38;5;241m*\u001b[39mkwargs\n\u001b[0;32m     39\u001b[0m ) \u001b[38;5;241m-\u001b[39m\u001b[38;5;241m>\u001b[39m LLMResult:\n\u001b[0;32m     40\u001b[0m     loop \u001b[38;5;241m=\u001b[39m asyncio\u001b[38;5;241m.\u001b[39mget_event_loop()\n\u001b[1;32m---> 41\u001b[0m     text \u001b[38;5;241m=\u001b[39m \u001b[38;5;28;01mawait\u001b[39;00m loop\u001b[38;5;241m.\u001b[39mrun_in_executor(\n\u001b[0;32m     42\u001b[0m         \u001b[38;5;28;01mNone\u001b[39;00m,\n\u001b[0;32m     43\u001b[0m         \u001b[38;5;28;01mlambda\u001b[39;00m: \u001b[38;5;28mself\u001b[39m\u001b[38;5;241m.\u001b[39mllm\u001b[38;5;241m.\u001b[39mcomplete(prompt, stop\u001b[38;5;241m=\u001b[39mstop, \u001b[38;5;241m*\u001b[39m\u001b[38;5;241m*\u001b[39mkwargs)\n\u001b[0;32m     44\u001b[0m     )\n\u001b[0;32m     45\u001b[0m     \u001b[38;5;28;01mreturn\u001b[39;00m LLMResult(generations\u001b[38;5;241m=\u001b[39m[[Generation(text\u001b[38;5;241m=\u001b[39mtext)]])\n",
      "File \u001b[1;32m~\\AppData\\Local\\Programs\\Python\\Python310\\lib\\asyncio\\futures.py:285\u001b[0m, in \u001b[0;36mFuture.__await__\u001b[1;34m(self)\u001b[0m\n\u001b[0;32m    283\u001b[0m \u001b[38;5;28;01mif\u001b[39;00m \u001b[38;5;129;01mnot\u001b[39;00m \u001b[38;5;28mself\u001b[39m\u001b[38;5;241m.\u001b[39mdone():\n\u001b[0;32m    284\u001b[0m     \u001b[38;5;28mself\u001b[39m\u001b[38;5;241m.\u001b[39m_asyncio_future_blocking \u001b[38;5;241m=\u001b[39m \u001b[38;5;28;01mTrue\u001b[39;00m\n\u001b[1;32m--> 285\u001b[0m     \u001b[38;5;28;01myield\u001b[39;00m \u001b[38;5;28mself\u001b[39m  \u001b[38;5;66;03m# This tells Task to wait for completion.\u001b[39;00m\n\u001b[0;32m    286\u001b[0m \u001b[38;5;28;01mif\u001b[39;00m \u001b[38;5;129;01mnot\u001b[39;00m \u001b[38;5;28mself\u001b[39m\u001b[38;5;241m.\u001b[39mdone():\n\u001b[0;32m    287\u001b[0m     \u001b[38;5;28;01mraise\u001b[39;00m \u001b[38;5;167;01mRuntimeError\u001b[39;00m(\u001b[38;5;124m\"\u001b[39m\u001b[38;5;124mawait wasn\u001b[39m\u001b[38;5;124m'\u001b[39m\u001b[38;5;124mt used with future\u001b[39m\u001b[38;5;124m\"\u001b[39m)\n",
      "File \u001b[1;32m~\\AppData\\Local\\Programs\\Python\\Python310\\lib\\asyncio\\tasks.py:304\u001b[0m, in \u001b[0;36mTask.__wakeup\u001b[1;34m(self, future)\u001b[0m\n\u001b[0;32m    302\u001b[0m \u001b[38;5;28;01mdef\u001b[39;00m\u001b[38;5;250m \u001b[39m\u001b[38;5;21m__wakeup\u001b[39m(\u001b[38;5;28mself\u001b[39m, future):\n\u001b[0;32m    303\u001b[0m     \u001b[38;5;28;01mtry\u001b[39;00m:\n\u001b[1;32m--> 304\u001b[0m         \u001b[43mfuture\u001b[49m\u001b[38;5;241;43m.\u001b[39;49m\u001b[43mresult\u001b[49m\u001b[43m(\u001b[49m\u001b[43m)\u001b[49m\n\u001b[0;32m    305\u001b[0m     \u001b[38;5;28;01mexcept\u001b[39;00m \u001b[38;5;167;01mBaseException\u001b[39;00m \u001b[38;5;28;01mas\u001b[39;00m exc:\n\u001b[0;32m    306\u001b[0m         \u001b[38;5;66;03m# This may also be a cancellation.\u001b[39;00m\n\u001b[0;32m    307\u001b[0m         \u001b[38;5;28mself\u001b[39m\u001b[38;5;241m.\u001b[39m__step(exc)\n",
      "File \u001b[1;32m~\\AppData\\Local\\Programs\\Python\\Python310\\lib\\asyncio\\futures.py:201\u001b[0m, in \u001b[0;36mFuture.result\u001b[1;34m(self)\u001b[0m\n\u001b[0;32m    199\u001b[0m \u001b[38;5;28mself\u001b[39m\u001b[38;5;241m.\u001b[39m__log_traceback \u001b[38;5;241m=\u001b[39m \u001b[38;5;28;01mFalse\u001b[39;00m\n\u001b[0;32m    200\u001b[0m \u001b[38;5;28;01mif\u001b[39;00m \u001b[38;5;28mself\u001b[39m\u001b[38;5;241m.\u001b[39m_exception \u001b[38;5;129;01mis\u001b[39;00m \u001b[38;5;129;01mnot\u001b[39;00m \u001b[38;5;28;01mNone\u001b[39;00m:\n\u001b[1;32m--> 201\u001b[0m     \u001b[38;5;28;01mraise\u001b[39;00m \u001b[38;5;28mself\u001b[39m\u001b[38;5;241m.\u001b[39m_exception\u001b[38;5;241m.\u001b[39mwith_traceback(\u001b[38;5;28mself\u001b[39m\u001b[38;5;241m.\u001b[39m_exception_tb)\n\u001b[0;32m    202\u001b[0m \u001b[38;5;28;01mreturn\u001b[39;00m \u001b[38;5;28mself\u001b[39m\u001b[38;5;241m.\u001b[39m_result\n",
      "File \u001b[1;32m~\\AppData\\Local\\Programs\\Python\\Python310\\lib\\concurrent\\futures\\thread.py:58\u001b[0m, in \u001b[0;36m_WorkItem.run\u001b[1;34m(self)\u001b[0m\n\u001b[0;32m     55\u001b[0m     \u001b[38;5;28;01mreturn\u001b[39;00m\n\u001b[0;32m     57\u001b[0m \u001b[38;5;28;01mtry\u001b[39;00m:\n\u001b[1;32m---> 58\u001b[0m     result \u001b[38;5;241m=\u001b[39m \u001b[38;5;28mself\u001b[39m\u001b[38;5;241m.\u001b[39mfn(\u001b[38;5;241m*\u001b[39m\u001b[38;5;28mself\u001b[39m\u001b[38;5;241m.\u001b[39margs, \u001b[38;5;241m*\u001b[39m\u001b[38;5;241m*\u001b[39m\u001b[38;5;28mself\u001b[39m\u001b[38;5;241m.\u001b[39mkwargs)\n\u001b[0;32m     59\u001b[0m \u001b[38;5;28;01mexcept\u001b[39;00m \u001b[38;5;167;01mBaseException\u001b[39;00m \u001b[38;5;28;01mas\u001b[39;00m exc:\n\u001b[0;32m     60\u001b[0m     \u001b[38;5;28mself\u001b[39m\u001b[38;5;241m.\u001b[39mfuture\u001b[38;5;241m.\u001b[39mset_exception(exc)\n",
      "Cell \u001b[1;32mIn[85], line 43\u001b[0m, in \u001b[0;36mOllamaRagasAdapter.agenerate_text.<locals>.<lambda>\u001b[1;34m()\u001b[0m\n\u001b[0;32m     32\u001b[0m \u001b[38;5;28;01masync\u001b[39;00m \u001b[38;5;28;01mdef\u001b[39;00m\u001b[38;5;250m \u001b[39m\u001b[38;5;21magenerate_text\u001b[39m(\n\u001b[0;32m     33\u001b[0m     \u001b[38;5;28mself\u001b[39m,\n\u001b[0;32m     34\u001b[0m     prompt: \u001b[38;5;28mstr\u001b[39m,\n\u001b[1;32m   (...)\u001b[0m\n\u001b[0;32m     38\u001b[0m     \u001b[38;5;241m*\u001b[39m\u001b[38;5;241m*\u001b[39mkwargs\n\u001b[0;32m     39\u001b[0m ) \u001b[38;5;241m-\u001b[39m\u001b[38;5;241m>\u001b[39m LLMResult:\n\u001b[0;32m     40\u001b[0m     loop \u001b[38;5;241m=\u001b[39m asyncio\u001b[38;5;241m.\u001b[39mget_event_loop()\n\u001b[0;32m     41\u001b[0m     text \u001b[38;5;241m=\u001b[39m \u001b[38;5;28;01mawait\u001b[39;00m loop\u001b[38;5;241m.\u001b[39mrun_in_executor(\n\u001b[0;32m     42\u001b[0m         \u001b[38;5;28;01mNone\u001b[39;00m,\n\u001b[1;32m---> 43\u001b[0m         \u001b[38;5;28;01mlambda\u001b[39;00m: \u001b[38;5;28;43mself\u001b[39;49m\u001b[38;5;241;43m.\u001b[39;49m\u001b[43mllm\u001b[49m\u001b[38;5;241;43m.\u001b[39;49m\u001b[43mcomplete\u001b[49m(prompt, stop\u001b[38;5;241m=\u001b[39mstop, \u001b[38;5;241m*\u001b[39m\u001b[38;5;241m*\u001b[39mkwargs)\n\u001b[0;32m     44\u001b[0m     )\n\u001b[0;32m     45\u001b[0m     \u001b[38;5;28;01mreturn\u001b[39;00m LLMResult(generations\u001b[38;5;241m=\u001b[39m[[Generation(text\u001b[38;5;241m=\u001b[39mtext)]])\n",
      "File \u001b[1;32mf:\\project_test\\solutions\\chat\\.venv_chat\\lib\\site-packages\\pydantic\\main.py:991\u001b[0m, in \u001b[0;36mBaseModel.__getattr__\u001b[1;34m(self, item)\u001b[0m\n\u001b[0;32m    988\u001b[0m     \u001b[38;5;28;01mreturn\u001b[39;00m \u001b[38;5;28msuper\u001b[39m()\u001b[38;5;241m.\u001b[39m\u001b[38;5;21m__getattribute__\u001b[39m(item)  \u001b[38;5;66;03m# Raises AttributeError if appropriate\u001b[39;00m\n\u001b[0;32m    989\u001b[0m \u001b[38;5;28;01melse\u001b[39;00m:\n\u001b[0;32m    990\u001b[0m     \u001b[38;5;66;03m# this is the current error\u001b[39;00m\n\u001b[1;32m--> 991\u001b[0m     \u001b[38;5;28;01mraise\u001b[39;00m \u001b[38;5;167;01mAttributeError\u001b[39;00m(\u001b[38;5;124mf\u001b[39m\u001b[38;5;124m'\u001b[39m\u001b[38;5;132;01m{\u001b[39;00m\u001b[38;5;28mtype\u001b[39m(\u001b[38;5;28mself\u001b[39m)\u001b[38;5;241m.\u001b[39m\u001b[38;5;18m__name__\u001b[39m\u001b[38;5;132;01m!r}\u001b[39;00m\u001b[38;5;124m object has no attribute \u001b[39m\u001b[38;5;132;01m{\u001b[39;00mitem\u001b[38;5;132;01m!r}\u001b[39;00m\u001b[38;5;124m'\u001b[39m)\n",
      "\u001b[1;31mAttributeError\u001b[0m: 'ChatOllama' object has no attribute 'complete'"
     ]
    }
   ],
   "source": [
    "from ragas import SingleTurnSample\n",
    "# from ragas.metrics import faithfulness, answer_relevancy\n",
    "from ragas.metrics import Faithfulness, AnswerRelevancy\n",
    "faithfulness = Faithfulness(llm=adapter)\n",
    "answer_relevancy = AnswerRelevancy(llm=adapter)\n",
    "# 평가에 사용할 샘플 데이터 생성\n",
    "sample = SingleTurnSample(\n",
    "    user_input=\"피씨엔 회사 소개\",\n",
    "    response=result_text,\n",
    "    reference=\"피씨엔(PCN)은 기술 회사로 Bigdata, XR, AI, SI 등 다양한 서비스를 제공합니다.\"\n",
    ")\n",
    "\n",
    "# ragas의 각종 평가 지표 계산\n",
    "faithfulness_score = faithfulness.single_turn_score(sample)\n",
    "answer_relevancy_score = answer_relevancy.single_turn_score(sample)\n",
    "\n",
    "print(\"=== RAGAS 기반 평가 결과 ===\")\n",
    "print(f\"Faithfulness(정합성): {faithfulness_score:.2f}\")\n",
    "print(f\"Answer Relevancy(응답 관련성): {answer_relevancy_score:.2f}\")"
   ]
  },
  {
   "cell_type": "code",
   "execution_count": null,
   "id": "cc62add0",
   "metadata": {},
   "outputs": [],
   "source": [
    "from evaluate import load\n",
    "import numpy as np\n",
    "\n",
    "# 1) BERTScore\n",
    "bs = load(\"bertscore\")\n",
    "out = bs.compute(\n",
    "    predictions=[response],\n",
    "    references=[[reference]],\n",
    "    model_type=\"klue/bert-base\"    # 한국어 모델\n",
    ")\n",
    "print(\"BERTScore F1:\", out[\"f1\"][0])\n",
    "\n",
    "# 2) Sentence-Transformer 임베딩 유사도\n",
    "from sentence_transformers import SentenceTransformer, util\n",
    "model = embedding_model\n",
    "emb1 = model.encode(response, convert_to_tensor=True)\n",
    "emb2 = model.encode(reference, convert_to_tensor=True)\n",
    "sim = util.cos_sim(emb1, emb2).item()\n",
    "print(\"Cosine sim:\", sim)\n"
   ]
  },
  {
   "cell_type": "code",
   "execution_count": null,
   "id": "ce23475e",
   "metadata": {},
   "outputs": [
    {
     "ename": "AttributeError",
     "evalue": "'dict' object has no attribute 'log_tenacity'",
     "output_type": "error",
     "traceback": [
      "\u001b[1;31m---------------------------------------------------------------------------\u001b[0m",
      "\u001b[1;31mAttributeError\u001b[0m                            Traceback (most recent call last)",
      "Cell \u001b[1;32mIn[84], line 14\u001b[0m\n\u001b[0;32m      6\u001b[0m answer_relevancy \u001b[38;5;241m=\u001b[39m AnswerRelevancy(llm\u001b[38;5;241m=\u001b[39madapter)\n\u001b[0;32m      8\u001b[0m sample \u001b[38;5;241m=\u001b[39m SingleTurnSample(\n\u001b[0;32m      9\u001b[0m     user_input\u001b[38;5;241m=\u001b[39m\u001b[38;5;124m\"\u001b[39m\u001b[38;5;124m피씨엔 회사 소개\u001b[39m\u001b[38;5;124m\"\u001b[39m,\n\u001b[0;32m     10\u001b[0m     response\u001b[38;5;241m=\u001b[39m\u001b[38;5;124m\"\u001b[39m\u001b[38;5;124m피씨엔(PCN)은 기술 회사로 Bigdata, XR, AI, SI 등 다양한 서비스를 제공합니다.\u001b[39m\u001b[38;5;124m\"\u001b[39m,\n\u001b[0;32m     11\u001b[0m     reference\u001b[38;5;241m=\u001b[39m\u001b[38;5;124m\"\u001b[39m\u001b[38;5;124m피씨엔(PCN)은 IT 솔루션 및 플랫폼 개발 전문 기업입니다.\u001b[39m\u001b[38;5;124m\"\u001b[39m\n\u001b[0;32m     12\u001b[0m )\n\u001b[1;32m---> 14\u001b[0m faith_score \u001b[38;5;241m=\u001b[39m \u001b[43mfaithfulness\u001b[49m\u001b[38;5;241;43m.\u001b[39;49m\u001b[43msingle_turn_score\u001b[49m\u001b[43m(\u001b[49m\u001b[43msample\u001b[49m\u001b[43m)\u001b[49m\n\u001b[0;32m     15\u001b[0m relevancy_score \u001b[38;5;241m=\u001b[39m answer_relevancy\u001b[38;5;241m.\u001b[39msingle_turn_score(sample)\n\u001b[0;32m     16\u001b[0m \u001b[38;5;28mprint\u001b[39m(\u001b[38;5;124m\"\u001b[39m\u001b[38;5;124mFaithfulness:\u001b[39m\u001b[38;5;124m\"\u001b[39m, faith_score)\n",
      "File \u001b[1;32mf:\\project_test\\solutions\\chat\\.venv_chat\\lib\\site-packages\\ragas\\metrics\\base.py:497\u001b[0m, in \u001b[0;36mSingleTurnMetric.single_turn_score\u001b[1;34m(self, sample, callbacks)\u001b[0m\n\u001b[0;32m    495\u001b[0m     \u001b[38;5;28;01mif\u001b[39;00m \u001b[38;5;129;01mnot\u001b[39;00m group_cm\u001b[38;5;241m.\u001b[39mended:\n\u001b[0;32m    496\u001b[0m         rm\u001b[38;5;241m.\u001b[39mon_chain_error(e)\n\u001b[1;32m--> 497\u001b[0m     \u001b[38;5;28;01mraise\u001b[39;00m e\n\u001b[0;32m    498\u001b[0m \u001b[38;5;28;01melse\u001b[39;00m:\n\u001b[0;32m    499\u001b[0m     \u001b[38;5;28;01mif\u001b[39;00m \u001b[38;5;129;01mnot\u001b[39;00m group_cm\u001b[38;5;241m.\u001b[39mended:\n",
      "File \u001b[1;32mf:\\project_test\\solutions\\chat\\.venv_chat\\lib\\site-packages\\ragas\\metrics\\base.py:491\u001b[0m, in \u001b[0;36mSingleTurnMetric.single_turn_score\u001b[1;34m(self, sample, callbacks)\u001b[0m\n\u001b[0;32m    487\u001b[0m             \u001b[38;5;28;01mraise\u001b[39;00m \u001b[38;5;167;01mImportError\u001b[39;00m(\n\u001b[0;32m    488\u001b[0m                 \u001b[38;5;124m\"\u001b[39m\u001b[38;5;124mIt seems like your running this in a jupyter-like environment. Please install nest_asyncio with `pip install nest_asyncio` to make it work.\u001b[39m\u001b[38;5;124m\"\u001b[39m\n\u001b[0;32m    489\u001b[0m             )\n\u001b[0;32m    490\u001b[0m     loop \u001b[38;5;241m=\u001b[39m asyncio\u001b[38;5;241m.\u001b[39mget_event_loop()\n\u001b[1;32m--> 491\u001b[0m     score \u001b[38;5;241m=\u001b[39m \u001b[43mloop\u001b[49m\u001b[38;5;241;43m.\u001b[39;49m\u001b[43mrun_until_complete\u001b[49m\u001b[43m(\u001b[49m\n\u001b[0;32m    492\u001b[0m \u001b[43m        \u001b[49m\u001b[38;5;28;43mself\u001b[39;49m\u001b[38;5;241;43m.\u001b[39;49m\u001b[43m_single_turn_ascore\u001b[49m\u001b[43m(\u001b[49m\u001b[43msample\u001b[49m\u001b[38;5;241;43m=\u001b[39;49m\u001b[43msample\u001b[49m\u001b[43m,\u001b[49m\u001b[43m \u001b[49m\u001b[43mcallbacks\u001b[49m\u001b[38;5;241;43m=\u001b[39;49m\u001b[43mgroup_cm\u001b[49m\u001b[43m)\u001b[49m\n\u001b[0;32m    493\u001b[0m \u001b[43m    \u001b[49m\u001b[43m)\u001b[49m\n\u001b[0;32m    494\u001b[0m \u001b[38;5;28;01mexcept\u001b[39;00m \u001b[38;5;167;01mException\u001b[39;00m \u001b[38;5;28;01mas\u001b[39;00m e:\n\u001b[0;32m    495\u001b[0m     \u001b[38;5;28;01mif\u001b[39;00m \u001b[38;5;129;01mnot\u001b[39;00m group_cm\u001b[38;5;241m.\u001b[39mended:\n",
      "File \u001b[1;32mf:\\project_test\\solutions\\chat\\.venv_chat\\lib\\site-packages\\nest_asyncio.py:98\u001b[0m, in \u001b[0;36m_patch_loop.<locals>.run_until_complete\u001b[1;34m(self, future)\u001b[0m\n\u001b[0;32m     95\u001b[0m \u001b[38;5;28;01mif\u001b[39;00m \u001b[38;5;129;01mnot\u001b[39;00m f\u001b[38;5;241m.\u001b[39mdone():\n\u001b[0;32m     96\u001b[0m     \u001b[38;5;28;01mraise\u001b[39;00m \u001b[38;5;167;01mRuntimeError\u001b[39;00m(\n\u001b[0;32m     97\u001b[0m         \u001b[38;5;124m'\u001b[39m\u001b[38;5;124mEvent loop stopped before Future completed.\u001b[39m\u001b[38;5;124m'\u001b[39m)\n\u001b[1;32m---> 98\u001b[0m \u001b[38;5;28;01mreturn\u001b[39;00m \u001b[43mf\u001b[49m\u001b[38;5;241;43m.\u001b[39;49m\u001b[43mresult\u001b[49m\u001b[43m(\u001b[49m\u001b[43m)\u001b[49m\n",
      "File \u001b[1;32m~\\AppData\\Local\\Programs\\Python\\Python310\\lib\\asyncio\\futures.py:201\u001b[0m, in \u001b[0;36mFuture.result\u001b[1;34m(self)\u001b[0m\n\u001b[0;32m    199\u001b[0m \u001b[38;5;28mself\u001b[39m\u001b[38;5;241m.\u001b[39m__log_traceback \u001b[38;5;241m=\u001b[39m \u001b[38;5;28;01mFalse\u001b[39;00m\n\u001b[0;32m    200\u001b[0m \u001b[38;5;28;01mif\u001b[39;00m \u001b[38;5;28mself\u001b[39m\u001b[38;5;241m.\u001b[39m_exception \u001b[38;5;129;01mis\u001b[39;00m \u001b[38;5;129;01mnot\u001b[39;00m \u001b[38;5;28;01mNone\u001b[39;00m:\n\u001b[1;32m--> 201\u001b[0m     \u001b[38;5;28;01mraise\u001b[39;00m \u001b[38;5;28mself\u001b[39m\u001b[38;5;241m.\u001b[39m_exception\u001b[38;5;241m.\u001b[39mwith_traceback(\u001b[38;5;28mself\u001b[39m\u001b[38;5;241m.\u001b[39m_exception_tb)\n\u001b[0;32m    202\u001b[0m \u001b[38;5;28;01mreturn\u001b[39;00m \u001b[38;5;28mself\u001b[39m\u001b[38;5;241m.\u001b[39m_result\n",
      "File \u001b[1;32m~\\AppData\\Local\\Programs\\Python\\Python310\\lib\\asyncio\\tasks.py:232\u001b[0m, in \u001b[0;36mTask.__step\u001b[1;34m(***failed resolving arguments***)\u001b[0m\n\u001b[0;32m    228\u001b[0m \u001b[38;5;28;01mtry\u001b[39;00m:\n\u001b[0;32m    229\u001b[0m     \u001b[38;5;28;01mif\u001b[39;00m exc \u001b[38;5;129;01mis\u001b[39;00m \u001b[38;5;28;01mNone\u001b[39;00m:\n\u001b[0;32m    230\u001b[0m         \u001b[38;5;66;03m# We use the `send` method directly, because coroutines\u001b[39;00m\n\u001b[0;32m    231\u001b[0m         \u001b[38;5;66;03m# don't have `__iter__` and `__next__` methods.\u001b[39;00m\n\u001b[1;32m--> 232\u001b[0m         result \u001b[38;5;241m=\u001b[39m \u001b[43mcoro\u001b[49m\u001b[38;5;241;43m.\u001b[39;49m\u001b[43msend\u001b[49m\u001b[43m(\u001b[49m\u001b[38;5;28;43;01mNone\u001b[39;49;00m\u001b[43m)\u001b[49m\n\u001b[0;32m    233\u001b[0m     \u001b[38;5;28;01melse\u001b[39;00m:\n\u001b[0;32m    234\u001b[0m         result \u001b[38;5;241m=\u001b[39m coro\u001b[38;5;241m.\u001b[39mthrow(exc)\n",
      "File \u001b[1;32mf:\\project_test\\solutions\\chat\\.venv_chat\\lib\\site-packages\\ragas\\metrics\\_faithfulness.py:200\u001b[0m, in \u001b[0;36mFaithfulness._single_turn_ascore\u001b[1;34m(self, sample, callbacks)\u001b[0m\n\u001b[0;32m    196\u001b[0m \u001b[38;5;28;01masync\u001b[39;00m \u001b[38;5;28;01mdef\u001b[39;00m\u001b[38;5;250m \u001b[39m\u001b[38;5;21m_single_turn_ascore\u001b[39m(\n\u001b[0;32m    197\u001b[0m     \u001b[38;5;28mself\u001b[39m, sample: SingleTurnSample, callbacks: Callbacks\n\u001b[0;32m    198\u001b[0m ) \u001b[38;5;241m-\u001b[39m\u001b[38;5;241m>\u001b[39m \u001b[38;5;28mfloat\u001b[39m:\n\u001b[0;32m    199\u001b[0m     row \u001b[38;5;241m=\u001b[39m sample\u001b[38;5;241m.\u001b[39mto_dict()\n\u001b[1;32m--> 200\u001b[0m     \u001b[38;5;28;01mreturn\u001b[39;00m \u001b[38;5;28;01mawait\u001b[39;00m \u001b[38;5;28mself\u001b[39m\u001b[38;5;241m.\u001b[39m_ascore(row, callbacks)\n",
      "File \u001b[1;32mf:\\project_test\\solutions\\chat\\.venv_chat\\lib\\site-packages\\ragas\\metrics\\_faithfulness.py:208\u001b[0m, in \u001b[0;36mFaithfulness._ascore\u001b[1;34m(self, row, callbacks)\u001b[0m\n\u001b[0;32m    203\u001b[0m \u001b[38;5;250m\u001b[39m\u001b[38;5;124;03m\"\"\"\u001b[39;00m\n\u001b[0;32m    204\u001b[0m \u001b[38;5;124;03mreturns the NLI score for each (q, c, a) pair\u001b[39;00m\n\u001b[0;32m    205\u001b[0m \u001b[38;5;124;03m\"\"\"\u001b[39;00m\n\u001b[0;32m    206\u001b[0m \u001b[38;5;28;01massert\u001b[39;00m \u001b[38;5;28mself\u001b[39m\u001b[38;5;241m.\u001b[39mllm \u001b[38;5;129;01mis\u001b[39;00m \u001b[38;5;129;01mnot\u001b[39;00m \u001b[38;5;28;01mNone\u001b[39;00m, \u001b[38;5;124m\"\u001b[39m\u001b[38;5;124mLLM is not set\u001b[39m\u001b[38;5;124m\"\u001b[39m\n\u001b[1;32m--> 208\u001b[0m statements \u001b[38;5;241m=\u001b[39m \u001b[38;5;28;01mawait\u001b[39;00m \u001b[38;5;28mself\u001b[39m\u001b[38;5;241m.\u001b[39m_create_statements(row, callbacks)\n\u001b[0;32m    209\u001b[0m statements \u001b[38;5;241m=\u001b[39m statements\u001b[38;5;241m.\u001b[39mstatements\n\u001b[0;32m    210\u001b[0m \u001b[38;5;28;01mif\u001b[39;00m statements \u001b[38;5;241m==\u001b[39m []:\n",
      "File \u001b[1;32mf:\\project_test\\solutions\\chat\\.venv_chat\\lib\\site-packages\\ragas\\metrics\\_faithfulness.py:174\u001b[0m, in \u001b[0;36mFaithfulness._create_statements\u001b[1;34m(self, row, callbacks)\u001b[0m\n\u001b[0;32m    171\u001b[0m text, question \u001b[38;5;241m=\u001b[39m row[\u001b[38;5;124m\"\u001b[39m\u001b[38;5;124mresponse\u001b[39m\u001b[38;5;124m\"\u001b[39m], row[\u001b[38;5;124m\"\u001b[39m\u001b[38;5;124muser_input\u001b[39m\u001b[38;5;124m\"\u001b[39m]\n\u001b[0;32m    173\u001b[0m prompt_input \u001b[38;5;241m=\u001b[39m StatementGeneratorInput(question\u001b[38;5;241m=\u001b[39mquestion, answer\u001b[38;5;241m=\u001b[39mtext)\n\u001b[1;32m--> 174\u001b[0m statements \u001b[38;5;241m=\u001b[39m \u001b[38;5;28;01mawait\u001b[39;00m \u001b[38;5;28mself\u001b[39m\u001b[38;5;241m.\u001b[39mstatement_generator_prompt\u001b[38;5;241m.\u001b[39mgenerate(\n\u001b[0;32m    175\u001b[0m     llm\u001b[38;5;241m=\u001b[39m\u001b[38;5;28mself\u001b[39m\u001b[38;5;241m.\u001b[39mllm,\n\u001b[0;32m    176\u001b[0m     data\u001b[38;5;241m=\u001b[39mprompt_input,\n\u001b[0;32m    177\u001b[0m     callbacks\u001b[38;5;241m=\u001b[39mcallbacks,\n\u001b[0;32m    178\u001b[0m )\n\u001b[0;32m    180\u001b[0m \u001b[38;5;28;01mreturn\u001b[39;00m statements\n",
      "File \u001b[1;32mf:\\project_test\\solutions\\chat\\.venv_chat\\lib\\site-packages\\ragas\\prompt\\pydantic_prompt.py:129\u001b[0m, in \u001b[0;36mPydanticPrompt.generate\u001b[1;34m(self, llm, data, temperature, stop, callbacks, retries_left)\u001b[0m\n\u001b[0;32m    126\u001b[0m callbacks \u001b[38;5;241m=\u001b[39m callbacks \u001b[38;5;129;01mor\u001b[39;00m []\n\u001b[0;32m    128\u001b[0m \u001b[38;5;66;03m# this is just a special case of generate_multiple\u001b[39;00m\n\u001b[1;32m--> 129\u001b[0m output_single \u001b[38;5;241m=\u001b[39m \u001b[38;5;28;01mawait\u001b[39;00m \u001b[38;5;28mself\u001b[39m\u001b[38;5;241m.\u001b[39mgenerate_multiple(\n\u001b[0;32m    130\u001b[0m     llm\u001b[38;5;241m=\u001b[39mllm,\n\u001b[0;32m    131\u001b[0m     data\u001b[38;5;241m=\u001b[39mdata,\n\u001b[0;32m    132\u001b[0m     n\u001b[38;5;241m=\u001b[39m\u001b[38;5;241m1\u001b[39m,\n\u001b[0;32m    133\u001b[0m     temperature\u001b[38;5;241m=\u001b[39mtemperature,\n\u001b[0;32m    134\u001b[0m     stop\u001b[38;5;241m=\u001b[39mstop,\n\u001b[0;32m    135\u001b[0m     callbacks\u001b[38;5;241m=\u001b[39mcallbacks,\n\u001b[0;32m    136\u001b[0m     retries_left\u001b[38;5;241m=\u001b[39mretries_left,\n\u001b[0;32m    137\u001b[0m )\n\u001b[0;32m    138\u001b[0m \u001b[38;5;28;01mreturn\u001b[39;00m output_single[\u001b[38;5;241m0\u001b[39m]\n",
      "File \u001b[1;32mf:\\project_test\\solutions\\chat\\.venv_chat\\lib\\site-packages\\ragas\\prompt\\pydantic_prompt.py:190\u001b[0m, in \u001b[0;36mPydanticPrompt.generate_multiple\u001b[1;34m(self, llm, data, n, temperature, stop, callbacks, retries_left)\u001b[0m\n\u001b[0;32m    183\u001b[0m prompt_rm, prompt_cb \u001b[38;5;241m=\u001b[39m new_group(\n\u001b[0;32m    184\u001b[0m     name\u001b[38;5;241m=\u001b[39m\u001b[38;5;28mself\u001b[39m\u001b[38;5;241m.\u001b[39mname,\n\u001b[0;32m    185\u001b[0m     inputs\u001b[38;5;241m=\u001b[39m{\u001b[38;5;124m\"\u001b[39m\u001b[38;5;124mdata\u001b[39m\u001b[38;5;124m\"\u001b[39m: processed_data},\n\u001b[0;32m    186\u001b[0m     callbacks\u001b[38;5;241m=\u001b[39mcallbacks,\n\u001b[0;32m    187\u001b[0m     metadata\u001b[38;5;241m=\u001b[39m{\u001b[38;5;124m\"\u001b[39m\u001b[38;5;124mtype\u001b[39m\u001b[38;5;124m\"\u001b[39m: ChainType\u001b[38;5;241m.\u001b[39mRAGAS_PROMPT},\n\u001b[0;32m    188\u001b[0m )\n\u001b[0;32m    189\u001b[0m prompt_value \u001b[38;5;241m=\u001b[39m PromptValue(text\u001b[38;5;241m=\u001b[39m\u001b[38;5;28mself\u001b[39m\u001b[38;5;241m.\u001b[39mto_string(processed_data))\n\u001b[1;32m--> 190\u001b[0m resp \u001b[38;5;241m=\u001b[39m \u001b[38;5;28;01mawait\u001b[39;00m llm\u001b[38;5;241m.\u001b[39mgenerate(\n\u001b[0;32m    191\u001b[0m     prompt_value,\n\u001b[0;32m    192\u001b[0m     n\u001b[38;5;241m=\u001b[39mn,\n\u001b[0;32m    193\u001b[0m     temperature\u001b[38;5;241m=\u001b[39mtemperature,\n\u001b[0;32m    194\u001b[0m     stop\u001b[38;5;241m=\u001b[39mstop,\n\u001b[0;32m    195\u001b[0m     callbacks\u001b[38;5;241m=\u001b[39mprompt_cb,\n\u001b[0;32m    196\u001b[0m )\n\u001b[0;32m    198\u001b[0m output_models \u001b[38;5;241m=\u001b[39m []\n\u001b[0;32m    199\u001b[0m parser \u001b[38;5;241m=\u001b[39m RagasOutputParser(pydantic_object\u001b[38;5;241m=\u001b[39m\u001b[38;5;28mself\u001b[39m\u001b[38;5;241m.\u001b[39moutput_model)\n",
      "File \u001b[1;32mf:\\project_test\\solutions\\chat\\.venv_chat\\lib\\site-packages\\ragas\\llms\\base.py:106\u001b[0m, in \u001b[0;36mBaseRagasLLM.generate\u001b[1;34m(self, prompt, n, temperature, stop, callbacks)\u001b[0m\n\u001b[0;32m    103\u001b[0m \u001b[38;5;28;01mif\u001b[39;00m temperature \u001b[38;5;129;01mis\u001b[39;00m \u001b[38;5;28;01mNone\u001b[39;00m:\n\u001b[0;32m    104\u001b[0m     temperature \u001b[38;5;241m=\u001b[39m \u001b[38;5;28mself\u001b[39m\u001b[38;5;241m.\u001b[39mget_temperature(n)\n\u001b[1;32m--> 106\u001b[0m agenerate_text_with_retry \u001b[38;5;241m=\u001b[39m \u001b[43madd_async_retry\u001b[49m\u001b[43m(\u001b[49m\n\u001b[0;32m    107\u001b[0m \u001b[43m    \u001b[49m\u001b[38;5;28;43mself\u001b[39;49m\u001b[38;5;241;43m.\u001b[39;49m\u001b[43magenerate_text\u001b[49m\u001b[43m,\u001b[49m\u001b[43m \u001b[49m\u001b[38;5;28;43mself\u001b[39;49m\u001b[38;5;241;43m.\u001b[39;49m\u001b[43mrun_config\u001b[49m\n\u001b[0;32m    108\u001b[0m \u001b[43m\u001b[49m\u001b[43m)\u001b[49m\n\u001b[0;32m    109\u001b[0m result \u001b[38;5;241m=\u001b[39m \u001b[38;5;28;01mawait\u001b[39;00m agenerate_text_with_retry(\n\u001b[0;32m    110\u001b[0m     prompt\u001b[38;5;241m=\u001b[39mprompt,\n\u001b[0;32m    111\u001b[0m     n\u001b[38;5;241m=\u001b[39mn,\n\u001b[1;32m   (...)\u001b[0m\n\u001b[0;32m    114\u001b[0m     callbacks\u001b[38;5;241m=\u001b[39mcallbacks,\n\u001b[0;32m    115\u001b[0m )\n\u001b[0;32m    117\u001b[0m \u001b[38;5;66;03m# check there are no max_token issues\u001b[39;00m\n",
      "File \u001b[1;32mf:\\project_test\\solutions\\chat\\.venv_chat\\lib\\site-packages\\ragas\\run_config.py:102\u001b[0m, in \u001b[0;36madd_async_retry\u001b[1;34m(fn, run_config)\u001b[0m\n\u001b[0;32m     98\u001b[0m \u001b[38;5;250m\u001b[39m\u001b[38;5;124;03m\"\"\"\u001b[39;00m\n\u001b[0;32m     99\u001b[0m \u001b[38;5;124;03mDecorator for retrying a function if it fails.\u001b[39;00m\n\u001b[0;32m    100\u001b[0m \u001b[38;5;124;03m\"\"\"\u001b[39;00m\n\u001b[0;32m    101\u001b[0m \u001b[38;5;66;03m# configure tenacity's after section wtih logger\u001b[39;00m\n\u001b[1;32m--> 102\u001b[0m \u001b[38;5;28;01mif\u001b[39;00m \u001b[43mrun_config\u001b[49m\u001b[38;5;241;43m.\u001b[39;49m\u001b[43mlog_tenacity\u001b[49m \u001b[38;5;129;01mis\u001b[39;00m \u001b[38;5;129;01mnot\u001b[39;00m \u001b[38;5;28;01mNone\u001b[39;00m:\n\u001b[0;32m    103\u001b[0m     logger \u001b[38;5;241m=\u001b[39m logging\u001b[38;5;241m.\u001b[39mgetLogger(\u001b[38;5;124mf\u001b[39m\u001b[38;5;124m\"\u001b[39m\u001b[38;5;124mTENACITYRetry[\u001b[39m\u001b[38;5;132;01m{\u001b[39;00mfn\u001b[38;5;241m.\u001b[39m\u001b[38;5;18m__name__\u001b[39m\u001b[38;5;132;01m}\u001b[39;00m\u001b[38;5;124m]\u001b[39m\u001b[38;5;124m\"\u001b[39m)\n\u001b[0;32m    104\u001b[0m     tenacity_logger \u001b[38;5;241m=\u001b[39m after_log(logger, logging\u001b[38;5;241m.\u001b[39mDEBUG)\n",
      "\u001b[1;31mAttributeError\u001b[0m: 'dict' object has no attribute 'log_tenacity'"
     ]
    }
   ],
   "source": [
    "import nest_asyncio\n",
    "nest_asyncio.apply()\n",
    "\n",
    "adapter = OllamaRagasAdapter(model_path=\"model.gguf\", streaming=False)\n",
    "faithfulness = Faithfulness(llm=adapter)\n",
    "answer_relevancy = AnswerRelevancy(llm=adapter)\n",
    "\n",
    "sample = SingleTurnSample(\n",
    "    user_input=\"피씨엔 회사 소개\",\n",
    "    response=\"피씨엔(PCN)은 기술 회사로 Bigdata, XR, AI, SI 등 다양한 서비스를 제공합니다.\",\n",
    "    reference=\"피씨엔(PCN)은 IT 솔루션 및 플랫폼 개발 전문 기업입니다.\"\n",
    ")\n",
    "\n",
    "faith_score = faithfulness.single_turn_score(sample)\n",
    "relevancy_score = answer_relevancy.single_turn_score(sample)\n",
    "print(\"Faithfulness:\", faith_score)\n",
    "print(\"Relevancy:\", relevancy_score)\n"
   ]
  },
  {
   "cell_type": "code",
   "execution_count": null,
   "id": "ee7e2412",
   "metadata": {},
   "outputs": [
    {
     "ename": "AssertionError",
     "evalue": "LLM is not set",
     "output_type": "error",
     "traceback": [
      "\u001b[1;31m---------------------------------------------------------------------------\u001b[0m",
      "\u001b[1;31mAssertionError\u001b[0m                            Traceback (most recent call last)",
      "Cell \u001b[1;32mIn[45], line 16\u001b[0m\n\u001b[0;32m      9\u001b[0m sample \u001b[38;5;241m=\u001b[39m SingleTurnSample(\n\u001b[0;32m     10\u001b[0m     user_input\u001b[38;5;241m=\u001b[39m\u001b[38;5;124m\"\u001b[39m\u001b[38;5;124m피씨엔 회사 소개\u001b[39m\u001b[38;5;124m\"\u001b[39m,\n\u001b[0;32m     11\u001b[0m     response\u001b[38;5;241m=\u001b[39mresult1\u001b[38;5;241m.\u001b[39mcontent,\n\u001b[0;32m     12\u001b[0m     reference\u001b[38;5;241m=\u001b[39m\u001b[38;5;124m\"\u001b[39m\u001b[38;5;124m피씨엔(PCN)은 기술 회사로 Bigdata, XR, AI, SI 등 다양한 서비스를 제공합니다.\u001b[39m\u001b[38;5;124m\"\u001b[39m\n\u001b[0;32m     13\u001b[0m )\n\u001b[0;32m     15\u001b[0m \u001b[38;5;66;03m# ragas의 각종 평가 지표 계산\u001b[39;00m\n\u001b[1;32m---> 16\u001b[0m faithfulness_score \u001b[38;5;241m=\u001b[39m \u001b[43mfaithfulness\u001b[49m\u001b[38;5;241;43m.\u001b[39;49m\u001b[43msingle_turn_score\u001b[49m\u001b[43m(\u001b[49m\u001b[43msample\u001b[49m\u001b[43m)\u001b[49m\n\u001b[0;32m     17\u001b[0m answer_relevancy_score \u001b[38;5;241m=\u001b[39m answer_relevancy\u001b[38;5;241m.\u001b[39msingle_turn_score(sample)\n\u001b[0;32m     18\u001b[0m \u001b[38;5;66;03m# ragas_precision_score = ragas_precision.single_turn_score(sample)\u001b[39;00m\n\u001b[0;32m     19\u001b[0m \u001b[38;5;66;03m# ragas_recall_score = ragas_recall.single_turn_score(sample)\u001b[39;00m\n",
      "File \u001b[1;32mf:\\project_test\\solutions\\chat\\.venv_chat\\lib\\site-packages\\ragas\\metrics\\base.py:497\u001b[0m, in \u001b[0;36mSingleTurnMetric.single_turn_score\u001b[1;34m(self, sample, callbacks)\u001b[0m\n\u001b[0;32m    495\u001b[0m     \u001b[38;5;28;01mif\u001b[39;00m \u001b[38;5;129;01mnot\u001b[39;00m group_cm\u001b[38;5;241m.\u001b[39mended:\n\u001b[0;32m    496\u001b[0m         rm\u001b[38;5;241m.\u001b[39mon_chain_error(e)\n\u001b[1;32m--> 497\u001b[0m     \u001b[38;5;28;01mraise\u001b[39;00m e\n\u001b[0;32m    498\u001b[0m \u001b[38;5;28;01melse\u001b[39;00m:\n\u001b[0;32m    499\u001b[0m     \u001b[38;5;28;01mif\u001b[39;00m \u001b[38;5;129;01mnot\u001b[39;00m group_cm\u001b[38;5;241m.\u001b[39mended:\n",
      "File \u001b[1;32mf:\\project_test\\solutions\\chat\\.venv_chat\\lib\\site-packages\\ragas\\metrics\\base.py:491\u001b[0m, in \u001b[0;36mSingleTurnMetric.single_turn_score\u001b[1;34m(self, sample, callbacks)\u001b[0m\n\u001b[0;32m    487\u001b[0m             \u001b[38;5;28;01mraise\u001b[39;00m \u001b[38;5;167;01mImportError\u001b[39;00m(\n\u001b[0;32m    488\u001b[0m                 \u001b[38;5;124m\"\u001b[39m\u001b[38;5;124mIt seems like your running this in a jupyter-like environment. Please install nest_asyncio with `pip install nest_asyncio` to make it work.\u001b[39m\u001b[38;5;124m\"\u001b[39m\n\u001b[0;32m    489\u001b[0m             )\n\u001b[0;32m    490\u001b[0m     loop \u001b[38;5;241m=\u001b[39m asyncio\u001b[38;5;241m.\u001b[39mget_event_loop()\n\u001b[1;32m--> 491\u001b[0m     score \u001b[38;5;241m=\u001b[39m \u001b[43mloop\u001b[49m\u001b[38;5;241;43m.\u001b[39;49m\u001b[43mrun_until_complete\u001b[49m\u001b[43m(\u001b[49m\n\u001b[0;32m    492\u001b[0m \u001b[43m        \u001b[49m\u001b[38;5;28;43mself\u001b[39;49m\u001b[38;5;241;43m.\u001b[39;49m\u001b[43m_single_turn_ascore\u001b[49m\u001b[43m(\u001b[49m\u001b[43msample\u001b[49m\u001b[38;5;241;43m=\u001b[39;49m\u001b[43msample\u001b[49m\u001b[43m,\u001b[49m\u001b[43m \u001b[49m\u001b[43mcallbacks\u001b[49m\u001b[38;5;241;43m=\u001b[39;49m\u001b[43mgroup_cm\u001b[49m\u001b[43m)\u001b[49m\n\u001b[0;32m    493\u001b[0m \u001b[43m    \u001b[49m\u001b[43m)\u001b[49m\n\u001b[0;32m    494\u001b[0m \u001b[38;5;28;01mexcept\u001b[39;00m \u001b[38;5;167;01mException\u001b[39;00m \u001b[38;5;28;01mas\u001b[39;00m e:\n\u001b[0;32m    495\u001b[0m     \u001b[38;5;28;01mif\u001b[39;00m \u001b[38;5;129;01mnot\u001b[39;00m group_cm\u001b[38;5;241m.\u001b[39mended:\n",
      "File \u001b[1;32mf:\\project_test\\solutions\\chat\\.venv_chat\\lib\\site-packages\\nest_asyncio.py:98\u001b[0m, in \u001b[0;36m_patch_loop.<locals>.run_until_complete\u001b[1;34m(self, future)\u001b[0m\n\u001b[0;32m     95\u001b[0m \u001b[38;5;28;01mif\u001b[39;00m \u001b[38;5;129;01mnot\u001b[39;00m f\u001b[38;5;241m.\u001b[39mdone():\n\u001b[0;32m     96\u001b[0m     \u001b[38;5;28;01mraise\u001b[39;00m \u001b[38;5;167;01mRuntimeError\u001b[39;00m(\n\u001b[0;32m     97\u001b[0m         \u001b[38;5;124m'\u001b[39m\u001b[38;5;124mEvent loop stopped before Future completed.\u001b[39m\u001b[38;5;124m'\u001b[39m)\n\u001b[1;32m---> 98\u001b[0m \u001b[38;5;28;01mreturn\u001b[39;00m \u001b[43mf\u001b[49m\u001b[38;5;241;43m.\u001b[39;49m\u001b[43mresult\u001b[49m\u001b[43m(\u001b[49m\u001b[43m)\u001b[49m\n",
      "File \u001b[1;32m~\\AppData\\Local\\Programs\\Python\\Python310\\lib\\asyncio\\futures.py:201\u001b[0m, in \u001b[0;36mFuture.result\u001b[1;34m(self)\u001b[0m\n\u001b[0;32m    199\u001b[0m \u001b[38;5;28mself\u001b[39m\u001b[38;5;241m.\u001b[39m__log_traceback \u001b[38;5;241m=\u001b[39m \u001b[38;5;28;01mFalse\u001b[39;00m\n\u001b[0;32m    200\u001b[0m \u001b[38;5;28;01mif\u001b[39;00m \u001b[38;5;28mself\u001b[39m\u001b[38;5;241m.\u001b[39m_exception \u001b[38;5;129;01mis\u001b[39;00m \u001b[38;5;129;01mnot\u001b[39;00m \u001b[38;5;28;01mNone\u001b[39;00m:\n\u001b[1;32m--> 201\u001b[0m     \u001b[38;5;28;01mraise\u001b[39;00m \u001b[38;5;28mself\u001b[39m\u001b[38;5;241m.\u001b[39m_exception\u001b[38;5;241m.\u001b[39mwith_traceback(\u001b[38;5;28mself\u001b[39m\u001b[38;5;241m.\u001b[39m_exception_tb)\n\u001b[0;32m    202\u001b[0m \u001b[38;5;28;01mreturn\u001b[39;00m \u001b[38;5;28mself\u001b[39m\u001b[38;5;241m.\u001b[39m_result\n",
      "File \u001b[1;32m~\\AppData\\Local\\Programs\\Python\\Python310\\lib\\asyncio\\tasks.py:232\u001b[0m, in \u001b[0;36mTask.__step\u001b[1;34m(***failed resolving arguments***)\u001b[0m\n\u001b[0;32m    228\u001b[0m \u001b[38;5;28;01mtry\u001b[39;00m:\n\u001b[0;32m    229\u001b[0m     \u001b[38;5;28;01mif\u001b[39;00m exc \u001b[38;5;129;01mis\u001b[39;00m \u001b[38;5;28;01mNone\u001b[39;00m:\n\u001b[0;32m    230\u001b[0m         \u001b[38;5;66;03m# We use the `send` method directly, because coroutines\u001b[39;00m\n\u001b[0;32m    231\u001b[0m         \u001b[38;5;66;03m# don't have `__iter__` and `__next__` methods.\u001b[39;00m\n\u001b[1;32m--> 232\u001b[0m         result \u001b[38;5;241m=\u001b[39m \u001b[43mcoro\u001b[49m\u001b[38;5;241;43m.\u001b[39;49m\u001b[43msend\u001b[49m\u001b[43m(\u001b[49m\u001b[38;5;28;43;01mNone\u001b[39;49;00m\u001b[43m)\u001b[49m\n\u001b[0;32m    233\u001b[0m     \u001b[38;5;28;01melse\u001b[39;00m:\n\u001b[0;32m    234\u001b[0m         result \u001b[38;5;241m=\u001b[39m coro\u001b[38;5;241m.\u001b[39mthrow(exc)\n",
      "File \u001b[1;32mf:\\project_test\\solutions\\chat\\.venv_chat\\lib\\site-packages\\ragas\\metrics\\_faithfulness.py:200\u001b[0m, in \u001b[0;36mFaithfulness._single_turn_ascore\u001b[1;34m(self, sample, callbacks)\u001b[0m\n\u001b[0;32m    196\u001b[0m \u001b[38;5;28;01masync\u001b[39;00m \u001b[38;5;28;01mdef\u001b[39;00m\u001b[38;5;250m \u001b[39m\u001b[38;5;21m_single_turn_ascore\u001b[39m(\n\u001b[0;32m    197\u001b[0m     \u001b[38;5;28mself\u001b[39m, sample: SingleTurnSample, callbacks: Callbacks\n\u001b[0;32m    198\u001b[0m ) \u001b[38;5;241m-\u001b[39m\u001b[38;5;241m>\u001b[39m \u001b[38;5;28mfloat\u001b[39m:\n\u001b[0;32m    199\u001b[0m     row \u001b[38;5;241m=\u001b[39m sample\u001b[38;5;241m.\u001b[39mto_dict()\n\u001b[1;32m--> 200\u001b[0m     \u001b[38;5;28;01mreturn\u001b[39;00m \u001b[38;5;28;01mawait\u001b[39;00m \u001b[38;5;28mself\u001b[39m\u001b[38;5;241m.\u001b[39m_ascore(row, callbacks)\n",
      "File \u001b[1;32mf:\\project_test\\solutions\\chat\\.venv_chat\\lib\\site-packages\\ragas\\metrics\\_faithfulness.py:206\u001b[0m, in \u001b[0;36mFaithfulness._ascore\u001b[1;34m(self, row, callbacks)\u001b[0m\n\u001b[0;32m    202\u001b[0m \u001b[38;5;28;01masync\u001b[39;00m \u001b[38;5;28;01mdef\u001b[39;00m\u001b[38;5;250m \u001b[39m\u001b[38;5;21m_ascore\u001b[39m(\u001b[38;5;28mself\u001b[39m, row: t\u001b[38;5;241m.\u001b[39mDict, callbacks: Callbacks) \u001b[38;5;241m-\u001b[39m\u001b[38;5;241m>\u001b[39m \u001b[38;5;28mfloat\u001b[39m:\n\u001b[0;32m    203\u001b[0m \u001b[38;5;250m    \u001b[39m\u001b[38;5;124;03m\"\"\"\u001b[39;00m\n\u001b[0;32m    204\u001b[0m \u001b[38;5;124;03m    returns the NLI score for each (q, c, a) pair\u001b[39;00m\n\u001b[0;32m    205\u001b[0m \u001b[38;5;124;03m    \"\"\"\u001b[39;00m\n\u001b[1;32m--> 206\u001b[0m     \u001b[38;5;28;01massert\u001b[39;00m \u001b[38;5;28mself\u001b[39m\u001b[38;5;241m.\u001b[39mllm \u001b[38;5;129;01mis\u001b[39;00m \u001b[38;5;129;01mnot\u001b[39;00m \u001b[38;5;28;01mNone\u001b[39;00m, \u001b[38;5;124m\"\u001b[39m\u001b[38;5;124mLLM is not set\u001b[39m\u001b[38;5;124m\"\u001b[39m\n\u001b[0;32m    208\u001b[0m     statements \u001b[38;5;241m=\u001b[39m \u001b[38;5;28;01mawait\u001b[39;00m \u001b[38;5;28mself\u001b[39m\u001b[38;5;241m.\u001b[39m_create_statements(row, callbacks)\n\u001b[0;32m    209\u001b[0m     statements \u001b[38;5;241m=\u001b[39m statements\u001b[38;5;241m.\u001b[39mstatements\n",
      "\u001b[1;31mAssertionError\u001b[0m: LLM is not set"
     ]
    }
   ],
   "source": [
    "from ragas import SingleTurnSample\n",
    "# BleuScore는 기계 번역 등에서 예측된 텍스트와 참조(reference) 텍스트 간의 유사도를 평가하는 대표적인 지표입니다.\n",
    "# BLEU(Bilingual Evaluation Understudy) 점수는 n-gram의 중복 정도를 기반으로 하며, 0에서 1 사이의 값을 가집니다.\n",
    "# 값이 1에 가까울수록 예측 결과가 참조 문장과 유사함을 의미합니다.\n",
    "from ragas.metrics import BleuScore\n",
    "from ragas.metrics import faithfulness, answer_relevancy\n",
    "\n",
    "# 평가에 사용할 샘플 데이터 생성\n",
    "sample = SingleTurnSample(\n",
    "    user_input=\"피씨엔 회사 소개\",\n",
    "    response=result1.content,\n",
    "    reference=\"피씨엔(PCN)은 기술 회사로 Bigdata, XR, AI, SI 등 다양한 서비스를 제공합니다.\"\n",
    ")\n",
    "\n",
    "# ragas의 각종 평가 지표 계산\n",
    "faithfulness_score = faithfulness.single_turn_score(sample)\n",
    "answer_relevancy_score = answer_relevancy.single_turn_score(sample)\n",
    "# ragas_precision_score = ragas_precision.single_turn_score(sample)\n",
    "# ragas_recall_score = ragas_recall.single_turn_score(sample)\n",
    "\n",
    "print(\"=== RAGAS 기반 평가 결과 ===\")\n",
    "print(f\"Faithfulness(정합성): {faithfulness_score:.2f}\")\n",
    "print(f\"Answer Relevancy(응답 관련성): {answer_relevancy_score:.2f}\")\n",
    "# print(f\"Precision(정밀도): {ragas_precision_score:.2f}\")\n",
    "# print(f\"Recall(재현율): {ragas_recall_score:.2f}\")\n",
    "\n",
    "\n",
    "# test_data = {\n",
    "#     \"user_input\": \"피씨엔 회사 소개\",\n",
    "#     \"response\": result1.content,\n",
    "#     \"reference\": \"피씨엔(PCN)은 기술 회사로 Bigdata, XR, AI, SI 등 다양한 서비스를 제공합니다.\"\n",
    "# }\n",
    "# metric = BleuScore()\n",
    "# test_data = SingleTurnSample(**test_data)\n",
    "# metric.single_turn_score(test_data)"
   ]
  },
  {
   "cell_type": "code",
   "execution_count": null,
   "id": "17f4eaa9",
   "metadata": {},
   "outputs": [
    {
     "name": "stdout",
     "output_type": "stream",
     "text": [
      "=== 주요 성능지표 기반 RAG 평가 결과 (evaluate 사용) ===\n",
      "정확도(Accuracy): 0.00\n",
      "정밀도(Precision): 0.00\n",
      "재현율(Recall): 0.00\n",
      "F1 점수(F1 Score): 0.00\n"
     ]
    },
    {
     "name": "stderr",
     "output_type": "stream",
     "text": [
      "f:\\project_test\\solutions\\chat\\.venv_chat\\lib\\site-packages\\sklearn\\metrics\\_classification.py:1731: UndefinedMetricWarning: Precision is ill-defined and being set to 0.0 due to no predicted samples. Use `zero_division` parameter to control this behavior.\n",
      "  _warn_prf(average, modifier, f\"{metric.capitalize()} is\", result.shape[0])\n"
     ]
    }
   ],
   "source": [
    "import evaluate\n",
    "\n",
    "# 정답과 예측이 완전히 일치하면 1, 아니면 0으로 처리\n",
    "references = []\n",
    "preds = []\n",
    "\n",
    "for item, pred in zip(eval_data, predictions):\n",
    "    if item[\"answer\"].strip() == pred.strip():\n",
    "        references.append(1)\n",
    "        preds.append(1)\n",
    "    else:\n",
    "        references.append(1)\n",
    "        preds.append(0)\n",
    "\n",
    "accuracy_metric = evaluate.load(\"accuracy\")\n",
    "precision_metric = evaluate.load(\"precision\")\n",
    "recall_metric = evaluate.load(\"recall\")\n",
    "f1_metric = evaluate.load(\"f1\")\n",
    "\n",
    "# evaluate 라이브러리는 zero_division 매개변수를 지원하지 않으므로 제거\n",
    "accuracy = accuracy_metric.compute(references=references, predictions=preds)\n",
    "precision = precision_metric.compute(references=references, predictions=preds, average=\"binary\")\n",
    "recall = recall_metric.compute(references=references, predictions=preds, average=\"binary\")\n",
    "f1 = f1_metric.compute(references=references, predictions=preds, average=\"binary\")\n",
    "\n",
    "print(\"=== 주요 성능지표 기반 RAG 평가 결과 (evaluate 사용) ===\")\n",
    "print(f\"정확도(Accuracy): {accuracy['accuracy']:.2f}\")\n",
    "print(f\"정밀도(Precision): {precision['precision']:.2f}\")\n",
    "print(f\"재현율(Recall): {recall['recall']:.2f}\")\n",
    "print(f\"F1 점수(F1 Score): {f1['f1']:.2f}\")"
   ]
  },
  {
   "cell_type": "code",
   "execution_count": null,
   "id": "ef27f0c8",
   "metadata": {},
   "outputs": [
    {
     "name": "stdout",
     "output_type": "stream",
     "text": [
      "=== 주요 성능지표 기반 RAG 평가 결과 (evaluate 사용) ===\n",
      "정확도(Accuracy): 0.00\n",
      "정밀도(Precision): 0.00\n",
      "재현율(Recall): 0.00\n",
      "F1 점수(F1 Score): 0.00\n"
     ]
    },
    {
     "name": "stderr",
     "output_type": "stream",
     "text": [
      "f:\\project_test\\solutions\\chat\\.venv_chat\\lib\\site-packages\\sklearn\\metrics\\_classification.py:1731: UndefinedMetricWarning: Precision is ill-defined and being set to 0.0 due to no predicted samples. Use `zero_division` parameter to control this behavior.\n",
      "  _warn_prf(average, modifier, f\"{metric.capitalize()} is\", result.shape[0])\n"
     ]
    }
   ],
   "source": [
    "import evaluate\n",
    "\n",
    "# 정답과 예측이 완전히 일치하면 1, 아니면 0으로 처리\n",
    "references = []\n",
    "preds = []\n",
    "\n",
    "for item, pred in zip(eval_data, predictions):\n",
    "    if item[\"answer\"].strip() == pred.strip():\n",
    "        references.append(1)\n",
    "        preds.append(1)\n",
    "    else:\n",
    "        references.append(1)\n",
    "        preds.append(0)\n",
    "\n",
    "accuracy_metric = evaluate.load(\"accuracy\")\n",
    "precision_metric = evaluate.load(\"precision\")\n",
    "recall_metric = evaluate.load(\"recall\")\n",
    "f1_metric = evaluate.load(\"f1\")\n",
    "\n",
    "# evaluate 라이브러리는 zero_division 매개변수를 지원하지 않으므로 제거\n",
    "accuracy = accuracy_metric.compute(references=references, predictions=preds)\n",
    "precision = precision_metric.compute(references=references, predictions=preds, average=\"binary\")\n",
    "recall = recall_metric.compute(references=references, predictions=preds, average=\"binary\")\n",
    "f1 = f1_metric.compute(references=references, predictions=preds, average=\"binary\")\n",
    "\n",
    "print(\"=== 주요 성능지표 기반 RAG 평가 결과 (evaluate 사용) ===\")\n",
    "print(f\"정확도(Accuracy): {accuracy['accuracy']:.2f}\")\n",
    "print(f\"정밀도(Precision): {precision['precision']:.2f}\")\n",
    "print(f\"재현율(Recall): {recall['recall']:.2f}\")\n",
    "print(f\"F1 점수(F1 Score): {f1['f1']:.2f}\")"
   ]
  },
  {
   "cell_type": "code",
   "execution_count": null,
   "id": "3144bab9",
   "metadata": {},
   "outputs": [],
   "source": [
    " context_relevancy,"
   ]
  },
  {
   "cell_type": "code",
   "execution_count": null,
   "id": "ee1c422a",
   "metadata": {},
   "outputs": [],
   "source": []
  }
 ],
 "metadata": {
  "kernelspec": {
   "display_name": ".venv_chat",
   "language": "python",
   "name": "python3"
  },
  "language_info": {
   "codemirror_mode": {
    "name": "ipython",
    "version": 3
   },
   "file_extension": ".py",
   "mimetype": "text/x-python",
   "name": "python",
   "nbconvert_exporter": "python",
   "pygments_lexer": "ipython3",
   "version": "3.10.11"
  }
 },
 "nbformat": 4,
 "nbformat_minor": 5
}
