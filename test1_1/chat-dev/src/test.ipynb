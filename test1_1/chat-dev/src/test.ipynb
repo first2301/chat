{
 "cells": [
  {
   "cell_type": "code",
   "execution_count": 1,
   "id": "239be51b",
   "metadata": {},
   "outputs": [
    {
     "name": "stdout",
     "output_type": "stream",
     "text": [
      "/home/jovyan/work\n",
      "['Dockerfile', 'models', 'requirements-base.txt', 'requirements-ml.txt', 'src', 'vector_db']\n"
     ]
    }
   ],
   "source": [
    "import os\n",
    "print(os.getcwd())\n",
    "print(os.listdir())"
   ]
  },
  {
   "cell_type": "code",
   "execution_count": 3,
   "id": "67bf8567",
   "metadata": {},
   "outputs": [
    {
     "data": {
      "text/plain": [
       "'\"하늘이 파란 이유\"라는 질문은 일반적으로 \\'왜 하늘은 파란색일까?\\'와 같은 의미로 이해됩니다. 이 질문에 대한 답을 찾기 위해 몇 가지 주요 요소를 고려해 보겠습니다.\\n\\n1. **광학**: 태양이 지구를 비추면 주로 빨간색 빛을 지구로 전달합니다. 그러나 대기의 분자들이 빨간색 빛을 흡수하고 파란색과 청색의 빛을 반사하므로, 우리가 보는 하늘은 파란색으로 보입니다.\\n\\n2. **대기 구성**: 지구 대기는 다양한 가스와 입자가 포함되어 있습니다. 이들 가스가 빛을 흡수하고 반사하는 방식이 하늘이 파란색으로 보이게 만듭니다.\\n\\n3. **시각적 효과**: 인간의 시각 시스템은 다양한 색을 인식할 때, 주로 파란색과 청색을 더 잘 구분합니다. 이는 하늘의 파란색이 더욱 두드러지게 만드는 요인입니다.\\n\\n4. **시간과 장소**: 하늘이 언제나 파란색일까?는 아니며, 시간대와 위치에 따라 색상이 다를 수 있습니다. 예를 들어, 태양이 아래쪽에 있을 때는 하늘빛이 더 어두워지고 파란색이 강해집니다.\\n\\n이러한 요소들을 종합하면, 하늘이 파란 이유는 주로 대기 구성과 광학적 현상 때문입니다. 이와 같은 과정을 통해 우리는 하늘의 파란색을 이해할 수 있습니다.'"
      ]
     },
     "execution_count": 3,
     "metadata": {},
     "output_type": "execute_result"
    }
   ],
   "source": [
    "from langchain_core.prompts import ChatPromptTemplate\n",
    "from langchain_ollama.llms import OllamaLLM\n",
    "\n",
    "template = \"\"\"Question: {question}\n",
    "\n",
    "Answer: Let's think step by step.\"\"\"\n",
    "\n",
    "prompt = ChatPromptTemplate.from_template(template)\n",
    "\n",
    "model = OllamaLLM(\n",
    "    model=\"ko-llama\",\n",
    "    base_url=\"http://ollama:11434\"  # rnd_ollama 컨테이너의 서비스 주소\n",
    ")\n",
    "\n",
    "chain = prompt | model\n",
    "\n",
    "chain.invoke({\"question\": \"하늘이 파란 이유\"})"
   ]
  },
  {
   "cell_type": "code",
   "execution_count": 14,
   "id": "86604f11",
   "metadata": {},
   "outputs": [],
   "source": [
    "from langchain_ollama import ChatOllama\n",
    "from langchain_core.callbacks import CallbackManager, StreamingStdOutCallbackHandler\n",
    "\n",
    "callback_manager = CallbackManager([StreamingStdOutCallbackHandler()])\n",
    "\n",
    "llm = ChatOllama(\n",
    "    model=\"ko-llama\",\n",
    "    temperature=0,\n",
    "    base_url=\"http://ollama:11434\",\n",
    "    callback_manager=callback_manager\n",
    ")"
   ]
  },
  {
   "cell_type": "code",
   "execution_count": 17,
   "id": "2fa1b27a",
   "metadata": {},
   "outputs": [],
   "source": [
    "from langchain_core.prompts import ChatPromptTemplate, SystemMessagePromptTemplate, HumanMessagePromptTemplate\n",
    "\n",
    "# 더 명시적인 방식\n",
    "system_template = \"당신은 친절하고 유능한 AI 어시스턴트입니다. 사용자의 질문에 대해 정확하고 간결하게 답변하세요.\"\n",
    "human_template = \"Question: {question}\\n\\nAnswer: Let's think step by step.\"\n",
    "\n",
    "system_message_prompt = SystemMessagePromptTemplate.from_template(system_template)\n",
    "human_message_prompt = HumanMessagePromptTemplate.from_template(human_template)\n",
    "\n",
    "prompt = ChatPromptTemplate.from_messages([system_message_prompt, human_message_prompt])\n",
    "chain = prompt | llm"
   ]
  },
  {
   "cell_type": "code",
   "execution_count": 19,
   "id": "20fc98e2",
   "metadata": {},
   "outputs": [
    {
     "name": "stdout",
     "output_type": "stream",
     "text": [
      "파이썬(Python)은 고급 프로그래밍 언어입니다. 1991년 귀도 반 로섬(Guido van Rossum)에 의해 개발되었습니다. 파이썬은 읽기 쉽고 이해하기 쉬운 문법을 가지고 있어 초보자와 전문가 모두에게 유용합니다. 간결하고 명확한 코드로 인해 유지보수와 협업이 용이하며, 다양한 분야에서 사용됩니다. 데이터 분석, 웹 개발, 인공지능, 게임 개발 등 많은 분야에서 널리 사용되고 있습니다."
     ]
    },
    {
     "data": {
      "text/plain": [
       "AIMessage(content='파이썬(Python)은 고급 프로그래밍 언어입니다. 1991년 귀도 반 로섬(Guido van Rossum)에 의해 개발되었습니다. 파이썬은 읽기 쉽고 이해하기 쉬운 문법을 가지고 있어 초보자와 전문가 모두에게 유용합니다. 간결하고 명확한 코드로 인해 유지보수와 협업이 용이하며, 다양한 분야에서 사용됩니다. 데이터 분석, 웹 개발, 인공지능, 게임 개발 등 많은 분야에서 널리 사용되고 있습니다.', additional_kwargs={}, response_metadata={'model': 'ko-llama', 'created_at': '2025-07-29T07:46:08.117247175Z', 'done': True, 'done_reason': 'stop', 'total_duration': 24814140926, 'load_duration': 215477164, 'prompt_eval_count': 129, 'prompt_eval_duration': 1348753003, 'eval_count': 121, 'eval_duration': 23248290131, 'model_name': 'ko-llama'}, id='run--0a4af1c3-0d1f-412d-886b-a333abdf256c-0', usage_metadata={'input_tokens': 129, 'output_tokens': 121, 'total_tokens': 250})"
      ]
     },
     "execution_count": 19,
     "metadata": {},
     "output_type": "execute_result"
    }
   ],
   "source": [
    "llm.invoke(\"파이썬이란?\")"
   ]
  },
  {
   "cell_type": "code",
   "execution_count": null,
   "id": "a8b399ba",
   "metadata": {},
   "outputs": [],
   "source": []
  }
 ],
 "metadata": {
  "kernelspec": {
   "display_name": "Python (venv)",
   "language": "python",
   "name": "venv"
  },
  "language_info": {
   "codemirror_mode": {
    "name": "ipython",
    "version": 3
   },
   "file_extension": ".py",
   "mimetype": "text/x-python",
   "name": "python",
   "nbconvert_exporter": "python",
   "pygments_lexer": "ipython3",
   "version": "3.10.12"
  }
 },
 "nbformat": 4,
 "nbformat_minor": 5
}
