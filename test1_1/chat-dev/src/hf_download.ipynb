{
 "cells": [
  {
   "cell_type": "code",
   "execution_count": 1,
   "id": "458e9503",
   "metadata": {},
   "outputs": [],
   "source": [
    "from huggingface_hub import snapshot_download, hf_hub_download"
   ]
  },
  {
   "cell_type": "markdown",
   "id": "37d2b1cc",
   "metadata": {},
   "source": [
    "# sLLM download"
   ]
  },
  {
   "cell_type": "code",
   "execution_count": null,
   "id": "0cad89fd",
   "metadata": {},
   "outputs": [
    {
     "data": {
      "application/vnd.jupyter.widget-view+json": {
       "model_id": "90fbf4ca05fe42e1890f7d911030033c",
       "version_major": 2,
       "version_minor": 0
      },
      "text/plain": [
       "llama-3-Korean-Bllossom-8B.Q4_K_M.gguf:   0%|          | 0.00/4.92G [00:00<?, ?B/s]"
      ]
     },
     "metadata": {},
     "output_type": "display_data"
    },
    {
     "data": {
      "text/plain": [
       "'models/llama-3-Korean-Bllossom-8B.Q4_K_M.gguf'"
      ]
     },
     "execution_count": 2,
     "metadata": {},
     "output_type": "execute_result"
    }
   ],
   "source": [
    "hf_hub_download(repo_id=\"QuantFactory/llama-3-Korean-Bllossom-8B-GGUF\", \n",
    "                filename=\"llama-3-Korean-Bllossom-8B.Q4_K_M.gguf\", \n",
    "                local_dir=\"./models/ko-llama\")"
   ]
  },
  {
   "cell_type": "markdown",
   "id": "95caa73f",
   "metadata": {},
   "source": [
    "# Emberdding model download"
   ]
  },
  {
   "cell_type": "code",
   "execution_count": 2,
   "id": "de4e1f39",
   "metadata": {},
   "outputs": [
    {
     "data": {
      "application/vnd.jupyter.widget-view+json": {
       "model_id": "52e3ea22447d424e8a84161740c6698c",
       "version_major": 2,
       "version_minor": 0
      },
      "text/plain": [
       "Fetching 11 files:   0%|          | 0/11 [00:00<?, ?it/s]"
      ]
     },
     "metadata": {},
     "output_type": "display_data"
    },
    {
     "data": {
      "application/vnd.jupyter.widget-view+json": {
       "model_id": "7841e0184837404494d6df6af013474e",
       "version_major": 2,
       "version_minor": 0
      },
      "text/plain": [
       "README.md: 0.00B [00:00, ?B/s]"
      ]
     },
     "metadata": {},
     "output_type": "display_data"
    },
    {
     "data": {
      "application/vnd.jupyter.widget-view+json": {
       "model_id": "06147fd866e4451891bb6a698d9e4855",
       "version_major": 2,
       "version_minor": 0
      },
      "text/plain": [
       "config.json:   0%|          | 0.00/297 [00:00<?, ?B/s]"
      ]
     },
     "metadata": {},
     "output_type": "display_data"
    },
    {
     "data": {
      "application/vnd.jupyter.widget-view+json": {
       "model_id": "3815f4731b5b4f028477923b2f695ecb",
       "version_major": 2,
       "version_minor": 0
      },
      "text/plain": [
       "config_sentence_transformers.json:   0%|          | 0.00/201 [00:00<?, ?B/s]"
      ]
     },
     "metadata": {},
     "output_type": "display_data"
    },
    {
     "data": {
      "application/vnd.jupyter.widget-view+json": {
       "model_id": "beb95f9555854c4798985766e814dbf7",
       "version_major": 2,
       "version_minor": 0
      },
      "text/plain": [
       "sentence_bert_config.json:   0%|          | 0.00/54.0 [00:00<?, ?B/s]"
      ]
     },
     "metadata": {},
     "output_type": "display_data"
    },
    {
     "data": {
      "application/vnd.jupyter.widget-view+json": {
       "model_id": "961e46f767854973b4a4c26be906e316",
       "version_major": 2,
       "version_minor": 0
      },
      "text/plain": [
       ".gitattributes: 0.00B [00:00, ?B/s]"
      ]
     },
     "metadata": {},
     "output_type": "display_data"
    },
    {
     "data": {
      "application/vnd.jupyter.widget-view+json": {
       "model_id": "998c3e3f0ed94bb9949d7c500812ec25",
       "version_major": 2,
       "version_minor": 0
      },
      "text/plain": [
       "config.json:   0%|          | 0.00/698 [00:00<?, ?B/s]"
      ]
     },
     "metadata": {},
     "output_type": "display_data"
    },
    {
     "data": {
      "application/vnd.jupyter.widget-view+json": {
       "model_id": "9645939eac5442429ebba3176b61faec",
       "version_major": 2,
       "version_minor": 0
      },
      "text/plain": [
       "modules.json:   0%|          | 0.00/349 [00:00<?, ?B/s]"
      ]
     },
     "metadata": {},
     "output_type": "display_data"
    },
    {
     "data": {
      "application/vnd.jupyter.widget-view+json": {
       "model_id": "45feca457fe24e50b9a87eb0fcffd80f",
       "version_major": 2,
       "version_minor": 0
      },
      "text/plain": [
       "model.safetensors:   0%|          | 0.00/2.27G [00:00<?, ?B/s]"
      ]
     },
     "metadata": {},
     "output_type": "display_data"
    },
    {
     "data": {
      "application/vnd.jupyter.widget-view+json": {
       "model_id": "5ddd258ce6aa4455b24576c8f72ea6f5",
       "version_major": 2,
       "version_minor": 0
      },
      "text/plain": [
       "special_tokens_map.json:   0%|          | 0.00/964 [00:00<?, ?B/s]"
      ]
     },
     "metadata": {},
     "output_type": "display_data"
    },
    {
     "data": {
      "application/vnd.jupyter.widget-view+json": {
       "model_id": "0042fa8bd91c4909a01f6e4260fd2790",
       "version_major": 2,
       "version_minor": 0
      },
      "text/plain": [
       "tokenizer_config.json: 0.00B [00:00, ?B/s]"
      ]
     },
     "metadata": {},
     "output_type": "display_data"
    },
    {
     "data": {
      "application/vnd.jupyter.widget-view+json": {
       "model_id": "aacf389d123346598f0a500dcd1c7800",
       "version_major": 2,
       "version_minor": 0
      },
      "text/plain": [
       "tokenizer.json:   0%|          | 0.00/17.1M [00:00<?, ?B/s]"
      ]
     },
     "metadata": {},
     "output_type": "display_data"
    },
    {
     "name": "stderr",
     "output_type": "stream",
     "text": [
      "Error while downloading from https://cdn-lfs-us-1.hf.co/repos/fe/ee/feeeb3af466d54e3f498611a718e02fd51be61bc7c135361989455a0031890c5/da164fa90633e730db4ee91a79ebf99a0826fb31d6f002c4a8ec7952a286c4f4?response-content-disposition=inline%3B+filename*%3DUTF-8%27%27model.safetensors%3B+filename%3D%22model.safetensors%22%3B&Expires=1753779424&Policy=eyJTdGF0ZW1lbnQiOlt7IkNvbmRpdGlvbiI6eyJEYXRlTGVzc1RoYW4iOnsiQVdTOkVwb2NoVGltZSI6MTc1Mzc3OTQyNH19LCJSZXNvdXJjZSI6Imh0dHBzOi8vY2RuLWxmcy11cy0xLmhmLmNvL3JlcG9zL2ZlL2VlL2ZlZWViM2FmNDY2ZDU0ZTNmNDk4NjExYTcxOGUwMmZkNTFiZTYxYmM3YzEzNTM2MTk4OTQ1NWEwMDMxODkwYzUvZGExNjRmYTkwNjMzZTczMGRiNGVlOTFhNzllYmY5OWEwODI2ZmIzMWQ2ZjAwMmM0YThlYzc5NTJhMjg2YzRmND9yZXNwb25zZS1jb250ZW50LWRpc3Bvc2l0aW9uPSoifV19&Signature=OYVQm2Aa1AbCzuprjYwQiZZwTvUKBuNS4c0Kp70cKUEDynoygZ2iMB8Zs8Z9loNtgtXWCyA6%7EDR6YlNRh9G%7EoUo3MhznXBYcQnHMgJvP3py8bY3w2ud%7E-pJLPIMFhD5K1rTdYil28jGqynPx5cFeUHFogL-IHgrW7SxBRqVajrtVY3PLwm76n2CGJNsCRAnRmgvr87mJbkvqVWDJWmCwoGVvjNB3wlikz3xUbr3UEWVU9FwauRf%7Ec18wTUoPh2S0-P6YhlAB5B1AOWWEa%7Ez-wAgTbre9x5ajKmNvISaOx5ToCdFNdjuNPkhK44FJ1xC83xJ4BAUX7Tz3Sh5BqzXaFQ__&Key-Pair-Id=K24J24Z295AEI9: HTTPSConnectionPool(host='cdn-lfs-us-1.hf.co', port=443): Read timed out.\n",
      "Trying to resume download...\n",
      "Error while downloading from https://cdn-lfs-us-1.hf.co/repos/fe/ee/feeeb3af466d54e3f498611a718e02fd51be61bc7c135361989455a0031890c5/6e3b8957de04e3a4ed42b1a11381556f9adad8d0d502b9dd071c75f626b28f40?response-content-disposition=inline%3B+filename*%3DUTF-8%27%27tokenizer.json%3B+filename%3D%22tokenizer.json%22%3B&response-content-type=application%2Fjson&Expires=1753779424&Policy=eyJTdGF0ZW1lbnQiOlt7IkNvbmRpdGlvbiI6eyJEYXRlTGVzc1RoYW4iOnsiQVdTOkVwb2NoVGltZSI6MTc1Mzc3OTQyNH19LCJSZXNvdXJjZSI6Imh0dHBzOi8vY2RuLWxmcy11cy0xLmhmLmNvL3JlcG9zL2ZlL2VlL2ZlZWViM2FmNDY2ZDU0ZTNmNDk4NjExYTcxOGUwMmZkNTFiZTYxYmM3YzEzNTM2MTk4OTQ1NWEwMDMxODkwYzUvNmUzYjg5NTdkZTA0ZTNhNGVkNDJiMWExMTM4MTU1NmY5YWRhZDhkMGQ1MDJiOWRkMDcxYzc1ZjYyNmIyOGY0MD9yZXNwb25zZS1jb250ZW50LWRpc3Bvc2l0aW9uPSomcmVzcG9uc2UtY29udGVudC10eXBlPSoifV19&Signature=onq3h7O5BfaCWGLf45ysMniui0E0q1hMPRwNfoOKGmiRGFH5D2-lQWjMqLU0CTYtNlXL0fY3pgOKXpqlnp5AiZCEio-hH5A0rS-fapeMPgXRoHI2Ga51ORUqtQEAgXsGkkecIrR3JynhKRStScRMwPZSZ9nu8Cf8UOllgW1sOwPwqITsj6GoSNerKnYNxmFHJrX-hv3uxtPLWoXTshqx7RprqyuCbCnUCoiUh%7ETllobPuQv%7E5VeiHul349ooCdopF5rXSCsR7WuOtrtD%7ED2TPS-ZIIZqzjYHmHaseGt5HYbt9hKbcY4EUvgb4rwAwyUTwPm6UpuWjtg7OBfNZ9aRTw__&Key-Pair-Id=K24J24Z295AEI9: HTTPSConnectionPool(host='cdn-lfs-us-1.hf.co', port=443): Read timed out.\n",
      "Trying to resume download...\n"
     ]
    },
    {
     "data": {
      "application/vnd.jupyter.widget-view+json": {
       "model_id": "85add4d58b7d42beafafa56abec394eb",
       "version_major": 2,
       "version_minor": 0
      },
      "text/plain": [
       "tokenizer.json:   0%|          | 0.00/17.1M [00:00<?, ?B/s]"
      ]
     },
     "metadata": {},
     "output_type": "display_data"
    },
    {
     "data": {
      "application/vnd.jupyter.widget-view+json": {
       "model_id": "2c38aa8cc66a4ee192abfd340cd87592",
       "version_major": 2,
       "version_minor": 0
      },
      "text/plain": [
       "model.safetensors:   5%|5         | 115M/2.27G [00:00<?, ?B/s]"
      ]
     },
     "metadata": {},
     "output_type": "display_data"
    },
    {
     "name": "stderr",
     "output_type": "stream",
     "text": [
      "Error while downloading from https://cdn-lfs-us-1.hf.co/repos/fe/ee/feeeb3af466d54e3f498611a718e02fd51be61bc7c135361989455a0031890c5/da164fa90633e730db4ee91a79ebf99a0826fb31d6f002c4a8ec7952a286c4f4?response-content-disposition=inline%3B+filename*%3DUTF-8%27%27model.safetensors%3B+filename%3D%22model.safetensors%22%3B&Expires=1753779424&Policy=eyJTdGF0ZW1lbnQiOlt7IkNvbmRpdGlvbiI6eyJEYXRlTGVzc1RoYW4iOnsiQVdTOkVwb2NoVGltZSI6MTc1Mzc3OTQyNH19LCJSZXNvdXJjZSI6Imh0dHBzOi8vY2RuLWxmcy11cy0xLmhmLmNvL3JlcG9zL2ZlL2VlL2ZlZWViM2FmNDY2ZDU0ZTNmNDk4NjExYTcxOGUwMmZkNTFiZTYxYmM3YzEzNTM2MTk4OTQ1NWEwMDMxODkwYzUvZGExNjRmYTkwNjMzZTczMGRiNGVlOTFhNzllYmY5OWEwODI2ZmIzMWQ2ZjAwMmM0YThlYzc5NTJhMjg2YzRmND9yZXNwb25zZS1jb250ZW50LWRpc3Bvc2l0aW9uPSoifV19&Signature=OYVQm2Aa1AbCzuprjYwQiZZwTvUKBuNS4c0Kp70cKUEDynoygZ2iMB8Zs8Z9loNtgtXWCyA6%7EDR6YlNRh9G%7EoUo3MhznXBYcQnHMgJvP3py8bY3w2ud%7E-pJLPIMFhD5K1rTdYil28jGqynPx5cFeUHFogL-IHgrW7SxBRqVajrtVY3PLwm76n2CGJNsCRAnRmgvr87mJbkvqVWDJWmCwoGVvjNB3wlikz3xUbr3UEWVU9FwauRf%7Ec18wTUoPh2S0-P6YhlAB5B1AOWWEa%7Ez-wAgTbre9x5ajKmNvISaOx5ToCdFNdjuNPkhK44FJ1xC83xJ4BAUX7Tz3Sh5BqzXaFQ__&Key-Pair-Id=K24J24Z295AEI9: HTTPSConnectionPool(host='cdn-lfs-us-1.hf.co', port=443): Read timed out.\n",
      "Trying to resume download...\n"
     ]
    },
    {
     "data": {
      "application/vnd.jupyter.widget-view+json": {
       "model_id": "3fec682ab08542cc8ad1c590a535ece4",
       "version_major": 2,
       "version_minor": 0
      },
      "text/plain": [
       "model.safetensors:  25%|##4       | 566M/2.27G [00:00<?, ?B/s]"
      ]
     },
     "metadata": {},
     "output_type": "display_data"
    },
    {
     "name": "stderr",
     "output_type": "stream",
     "text": [
      "Error while downloading from https://cdn-lfs-us-1.hf.co/repos/fe/ee/feeeb3af466d54e3f498611a718e02fd51be61bc7c135361989455a0031890c5/da164fa90633e730db4ee91a79ebf99a0826fb31d6f002c4a8ec7952a286c4f4?response-content-disposition=inline%3B+filename*%3DUTF-8%27%27model.safetensors%3B+filename%3D%22model.safetensors%22%3B&Expires=1753779424&Policy=eyJTdGF0ZW1lbnQiOlt7IkNvbmRpdGlvbiI6eyJEYXRlTGVzc1RoYW4iOnsiQVdTOkVwb2NoVGltZSI6MTc1Mzc3OTQyNH19LCJSZXNvdXJjZSI6Imh0dHBzOi8vY2RuLWxmcy11cy0xLmhmLmNvL3JlcG9zL2ZlL2VlL2ZlZWViM2FmNDY2ZDU0ZTNmNDk4NjExYTcxOGUwMmZkNTFiZTYxYmM3YzEzNTM2MTk4OTQ1NWEwMDMxODkwYzUvZGExNjRmYTkwNjMzZTczMGRiNGVlOTFhNzllYmY5OWEwODI2ZmIzMWQ2ZjAwMmM0YThlYzc5NTJhMjg2YzRmND9yZXNwb25zZS1jb250ZW50LWRpc3Bvc2l0aW9uPSoifV19&Signature=OYVQm2Aa1AbCzuprjYwQiZZwTvUKBuNS4c0Kp70cKUEDynoygZ2iMB8Zs8Z9loNtgtXWCyA6%7EDR6YlNRh9G%7EoUo3MhznXBYcQnHMgJvP3py8bY3w2ud%7E-pJLPIMFhD5K1rTdYil28jGqynPx5cFeUHFogL-IHgrW7SxBRqVajrtVY3PLwm76n2CGJNsCRAnRmgvr87mJbkvqVWDJWmCwoGVvjNB3wlikz3xUbr3UEWVU9FwauRf%7Ec18wTUoPh2S0-P6YhlAB5B1AOWWEa%7Ez-wAgTbre9x5ajKmNvISaOx5ToCdFNdjuNPkhK44FJ1xC83xJ4BAUX7Tz3Sh5BqzXaFQ__&Key-Pair-Id=K24J24Z295AEI9: HTTPSConnectionPool(host='cdn-lfs-us-1.hf.co', port=443): Read timed out.\n",
      "Trying to resume download...\n"
     ]
    },
    {
     "data": {
      "application/vnd.jupyter.widget-view+json": {
       "model_id": "61cadc28e80e49d5bec26b57eea02d4f",
       "version_major": 2,
       "version_minor": 0
      },
      "text/plain": [
       "model.safetensors:  25%|##4       | 566M/2.27G [00:00<?, ?B/s]"
      ]
     },
     "metadata": {},
     "output_type": "display_data"
    },
    {
     "data": {
      "text/plain": [
       "'/home/jovyan/work/models/BGE'"
      ]
     },
     "execution_count": 2,
     "metadata": {},
     "output_type": "execute_result"
    }
   ],
   "source": [
    "snapshot_download(repo_id=\"dragonkue/BGE-m3-ko\", \n",
    "                local_dir=\"./models/BGE\")"
   ]
  },
  {
   "cell_type": "code",
   "execution_count": null,
   "id": "1462b8b3",
   "metadata": {},
   "outputs": [],
   "source": []
  }
 ],
 "metadata": {
  "kernelspec": {
   "display_name": "Python (venv)",
   "language": "python",
   "name": "venv"
  },
  "language_info": {
   "codemirror_mode": {
    "name": "ipython",
    "version": 3
   },
   "file_extension": ".py",
   "mimetype": "text/x-python",
   "name": "python",
   "nbconvert_exporter": "python",
   "pygments_lexer": "ipython3",
   "version": "3.10.12"
  }
 },
 "nbformat": 4,
 "nbformat_minor": 5
}
