{
 "cells": [
  {
   "cell_type": "code",
   "execution_count": 1,
   "id": "8f82d050",
   "metadata": {},
   "outputs": [],
   "source": [
    "from huggingface_hub import snapshot_download, hf_hub_download"
   ]
  },
  {
   "cell_type": "code",
   "execution_count": null,
   "id": "0cad89fd",
   "metadata": {},
   "outputs": [
    {
     "data": {
      "application/vnd.jupyter.widget-view+json": {
       "model_id": "90fbf4ca05fe42e1890f7d911030033c",
       "version_major": 2,
       "version_minor": 0
      },
      "text/plain": [
       "llama-3-Korean-Bllossom-8B.Q4_K_M.gguf:   0%|          | 0.00/4.92G [00:00<?, ?B/s]"
      ]
     },
     "metadata": {},
     "output_type": "display_data"
    },
    {
     "data": {
      "text/plain": [
       "'models/llama-3-Korean-Bllossom-8B.Q4_K_M.gguf'"
      ]
     },
     "execution_count": 2,
     "metadata": {},
     "output_type": "execute_result"
    }
   ],
   "source": [
    "hf_hub_download(repo_id=\"QuantFactory/llama-3-Korean-Bllossom-8B-GGUF\", \n",
    "                filename=\"llama-3-Korean-Bllossom-8B.Q4_K_M.gguf\", \n",
    "                local_dir=\"./models/ko-llama\")"
   ]
  },
  {
   "cell_type": "code",
   "execution_count": null,
   "id": "de4e1f39",
   "metadata": {},
   "outputs": [],
   "source": []
  }
 ],
 "metadata": {
  "kernelspec": {
   "display_name": "Python (venv)",
   "language": "python",
   "name": "venv"
  }
 },
 "nbformat": 4,
 "nbformat_minor": 5
}
