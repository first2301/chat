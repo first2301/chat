{
 "cells": [
  {
   "cell_type": "code",
   "execution_count": 1,
   "id": "458e9503",
   "metadata": {},
   "outputs": [],
   "source": [
    "from huggingface_hub import snapshot_download, hf_hub_download"
   ]
  },
  {
   "cell_type": "markdown",
   "id": "37d2b1cc",
   "metadata": {},
   "source": [
    "# sLLM download"
   ]
  },
  {
   "cell_type": "code",
   "execution_count": null,
   "id": "0cad89fd",
   "metadata": {},
   "outputs": [],
   "source": [
    "hf_hub_download(repo_id=\"QuantFactory/llama-3-Korean-Bllossom-8B-GGUF\", \n",
    "                filename=\"llama-3-Korean-Bllossom-8B.Q4_K_M.gguf\", \n",
    "                local_dir=\"./models/ko-llama\")"
   ]
  },
  {
   "cell_type": "markdown",
   "id": "95caa73f",
   "metadata": {},
   "source": [
    "# Emberdding model download"
   ]
  },
  {
   "cell_type": "code",
   "execution_count": null,
   "id": "de4e1f39",
   "metadata": {},
   "outputs": [],
   "source": [
    "snapshot_download(repo_id=\"dragonkue/BGE-m3-ko\", \n",
    "                local_dir=\"./models/BGE\")"
   ]
  },
  {
   "cell_type": "code",
   "execution_count": null,
   "id": "1462b8b3",
   "metadata": {},
   "outputs": [],
   "source": []
  }
 ],
 "metadata": {
  "kernelspec": {
   "display_name": "Python (venv)",
   "language": "python",
   "name": "venv"
  }
 },
 "nbformat": 4,
 "nbformat_minor": 5
}
