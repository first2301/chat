{
 "cells": [
  {
   "cell_type": "code",
   "execution_count": 1,
   "id": "8f82d050",
   "metadata": {},
   "outputs": [],
   "source": [
    "from huggingface_hub import snapshot_download, hf_hub_download"
   ]
  },
  {
   "cell_type": "code",
   "execution_count": 2,
   "id": "0cad89fd",
   "metadata": {},
   "outputs": [
    {
     "name": "stderr",
     "output_type": "stream",
     "text": [
      "Couldn't access the Hub to check for update but local file already exists. Defaulting to existing file. (error: (MaxRetryError(\"HTTPSConnectionPool(host='huggingface.co', port=443): Max retries exceeded with url: /Bllossom/llama-3.2-Korean-Bllossom-3B-gguf-Q4_K_M/resolve/main/llama-3.2-Korean-Bllossom-3B-gguf-Q4_K_M.gguf (Caused by NewConnectionError('<urllib3.connection.HTTPSConnection object at 0x795d2ff91ea0>: Failed to establish a new connection: [Errno 101] Network is unreachable'))\"), '(Request ID: 107be75c-9d4e-45d9-a8c8-9deb5a41071b)'))\n"
     ]
    },
    {
     "data": {
      "text/plain": [
       "'models/llama-3.2-Korean-Bllossom-3B-gguf-Q4_K_M.gguf'"
      ]
     },
     "execution_count": 2,
     "metadata": {},
     "output_type": "execute_result"
    }
   ],
   "source": [
    "hf_hub_download(repo_id=\"Bllossom/llama-3.2-Korean-Bllossom-3B-gguf-Q4_K_M\", \n",
    "                filename=\"llama-3.2-Korean-Bllossom-3B-gguf-Q4_K_M.gguf\", \n",
    "                local_dir=\"./models\")"
   ]
  },
  {
   "cell_type": "code",
   "execution_count": null,
   "id": "de4e1f39",
   "metadata": {},
   "outputs": [],
   "source": []
  }
 ],
 "metadata": {
  "kernelspec": {
   "display_name": "Python (venv)",
   "language": "python",
   "name": "venv"
  },
  "language_info": {
   "codemirror_mode": {
    "name": "ipython",
    "version": 3
   },
   "file_extension": ".py",
   "mimetype": "text/x-python",
   "name": "python",
   "nbconvert_exporter": "python",
   "pygments_lexer": "ipython3",
   "version": "3.10.12"
  }
 },
 "nbformat": 4,
 "nbformat_minor": 5
}
