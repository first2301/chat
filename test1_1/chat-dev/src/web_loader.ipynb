{
 "cells": [
  {
   "cell_type": "code",
   "execution_count": 11,
   "id": "2736271d",
   "metadata": {},
   "outputs": [],
   "source": [
    "from bs4 import SoupStrainer\n",
    "from langchain_community.document_loaders import WebBaseLoader\n",
    "from langchain_huggingface import HuggingFaceEmbeddings\n",
    "from langchain.text_splitter import RecursiveCharacterTextSplitter"
   ]
  },
  {
   "cell_type": "code",
   "execution_count": 9,
   "id": "2bcd0ac3",
   "metadata": {},
   "outputs": [
    {
     "name": "stdout",
     "output_type": "stream",
     "text": [
      "25\n"
     ]
    }
   ],
   "source": [
    "from bs4 import SoupStrainer\n",
    "from langchain_community.document_loaders import WebBaseLoader, SeleniumURLLoader\n",
    "\n",
    "urls = [\n",
    "    \"https://www.pcninc.co.kr/\",\n",
    "    \"https://www.pcninc.co.kr/digital/ai.do\",\n",
    "    \"https://www.pcninc.co.kr/digital/bigdata.do\",\n",
    "    \"https://www.pcninc.co.kr/digital/xrcontents.do\",\n",
    "    \"https://www.pcninc.co.kr/digital/portfolio/list.do\",\n",
    "    \"https://www.pcninc.co.kr/siux/public.do\",\n",
    "    \"https://www.pcninc.co.kr/siux/finance.do\",\n",
    "    \"https://www.pcninc.co.kr/siux/brand.do\",\n",
    "    \"https://www.pcninc.co.kr/siux/health.do\",\n",
    "    \"https://www.pcninc.co.kr/solution/oasis.do\",\n",
    "    \"https://www.pcninc.co.kr/solution/apim.do\",\n",
    "    \"https://www.pcninc.co.kr/solution/esearch.do\",\n",
    "    \"https://www.pcninc.co.kr/solution/oasisx.do\",\n",
    "    \"https://www.pcninc.co.kr/solution/datamap.do\",\n",
    "    \"https://www.pcninc.co.kr/solution/trenddata.do\",\n",
    "    \"https://www.pcninc.co.kr/solution/ozai.do\",\n",
    "    \"https://www.pcninc.co.kr/company/introduce.do\",\n",
    "    \"https://www.pcninc.co.kr/company/business.do?accYear=2023\",\n",
    "    \"https://www.pcninc.co.kr/company/benefit.do\",\n",
    "    \"https://www.pcninc.co.kr/company/history.do\",\n",
    "    \"https://www.pcninc.co.kr/company/location.do\",\n",
    "    \"https://www.pcninc.co.kr/ir/disinfo/list.do?page=1&pageSize=10\",\n",
    "    \"https://www.pcninc.co.kr/notice/press/list.do?page=1&pageSize=6\",\n",
    "    \"https://www.pcninc.co.kr/notice/plus/list.do?page=1&pageSize=6\",\n",
    "    \"https://www.pcninc.co.kr/notice/news/list.do?page=1&pageSize=6\",\n",
    "]\n",
    "    \n",
    "loader = WebBaseLoader(\n",
    "    web_paths=urls,\n",
    "    # urls=urls,\n",
    "    # browser=\"chrome\",\n",
    "    # headless=True,\n",
    "    header_template={\n",
    "        \"User-Agent\": \"Mozilla/5.0 (Windows NT 10.0; Win64; x64) AppleWebKit/537.36 (KHTML, like Gecko) Chrome/102.0.0.0 Safari/537.36\",\n",
    "    },\n",
    "    bs_kwargs={\n",
    "        \"parse_only\": SoupStrainer([\"p\", \"h1\", \"h2\", \"h3\", \"div\", \"span\"])  # 텍스트 노드만 파싱\n",
    "    }\n",
    ")\n",
    "docs = loader.load()\n",
    "print(len(docs))\n"
   ]
  },
  {
   "cell_type": "code",
   "execution_count": 14,
   "id": "3187ea32",
   "metadata": {},
   "outputs": [
    {
     "data": {
      "text/plain": [
       "[Document(metadata={'source': 'https://www.pcninc.co.kr/'}, page_content='공공 · 민간 데이터 검색 및 활용\\n한양도성 타임머신\\nView More\\n\\n\\n\\n\\n\\n\\n\\n화성시 문화유산에 대한 3차원 디지털 데이터\\n화성시 문화유산 3D 스캐닝 및 VR 제작\\nView More\\n\\n\\n\\n\\n\\n\\n\\n대용량 뉴스 기반 사건 · 사고 지식 빅데이터 센터 구축\\n스마트치안 빅데이터 센터\\nView More\\n\\n\\n\\n\\n\\n\\n\\n대시민 소통의 접점 역할\\n서울시 홈페이지 운영 및 유지관리\\nView More\\n\\n\\n\\n\\n\\n\\n\\n\\n01Big Data\\n02XR Contents\\n03AI\\n04SI/UX\\n\\n\\n\\n\\n\\n\\n\\n\\n\\n\\n\\n\\n\\n\\n\\n\\n\\n\\n\\n\\n\\n\\n\\n\\n\\nProjectsView More\\n\\n\\n\\n\\n\\n행정안전부\\n2022년 정부24 국가보조금 맞춤형서비스 구축\\n\\n\\n\\n\\n\\n\\n한국지능정보사회진흥원\\n디스플레이 중심 안구 움직임 영상 데이터\\n\\n\\n\\n\\n\\n\\n서울특별시\\n2022년 서울시 홈페이지 운영 및 유지관리\\n\\n\\n\\n\\n\\n\\n문화재청\\n2022년 한양도성 타임머신\\n\\n\\n\\n\\n\\n한국지능정보사회진흥원\\n대용량 뉴스 기반 사건.사고 지식 빅데이터 센터 구축\\n\\n\\n\\n\\n\\n\\n서울특별시\\n2022년 열린데이터광장 운영 및 유지관리 용역\\n\\n\\n\\n\\n\\n\\nWe Are\\nPCN이 가진 고유한 기술의 융합을 통해 가치 있는 디지털 플랫폼을 만들어 나갑니다.\\n\\n\\n\\n\\nEXPERTISE\\n기업의 풍부한 경험과 인재의 열정을 통한\\n                        실질적이고 실제적인 전문성을 보여드립니다.\\n\\n\\n\\n\\n\\nSUCCESS\\n우리의 전문성을 통해 고객의 성공을 돕는\\n                        일이 PCN의 명확한 목표입니다.\\n\\n\\n\\n\\n\\nVALUE\\n우리가 만들어가는 디지털 서비스는 최고의\\n                        전문성을 갖추고 가치 증대에 기여합니다.\\n\\n\\n\\n\\n\\nPRIDE\\n우리는 고객의 성공을 위해 세상의 가치증대를\\n                        실현하여 감동과 자긍심을 느낍니다.\\n\\n\\n\\n\\n\\nMore NewsView More'),\n",
       " Document(metadata={'source': 'https://www.pcninc.co.kr/'}, page_content='More NewsView More\\n\\n\\n\\n\\n\\n\\n\\nPCN, 2024년 주주명부 폐쇄기간 및 기준일 설정 공고\\n상법 제354조 및 당사 정관 제17조에 의거 제24기 정기주주총회에서 의결권을 행사할 주주확정을 위하여 다음과 같이 공고합니다.\\xa0기준일 : 2024년 12월 31일명의개서정지기간 : 2025년 1월 1일 ~ 2025년 1월 31일설정사유 :\\xa0제24기 정기주주총회 개최를 위한 권리주주 확정기타사항 :\\xa0당사 정관 제17조 [주주명부의 폐쇄 및 기준일]에 의거함2024년 12월 12일\\xa0주식회사 피씨엔서울특별시 강남구 학동로 146 PCN빌딩대표이사 송광헌\\xa0명의개서대리인 한국예탁결제원 사장 이순호\\n12월 12, 2024\\n\\n\\n\\n\\n\\n\\n\\n\\n\\n피씨엔, ‘2023 K-ICT 위크 인 부산’ 참가\\n\\n 9월 22, 2023\\n\\n\\n\\n\\n\\n\\n\\n\\n\\nPCN 2023 하반기 사업부 워크숍\\n\\xa0PCN이 2023년 7월 31일 하반기 사업부장 워크숍을 진행했습니다.\\xa0본부, 그룹, 실, 일반사업부까지 피씨엔 내 20여 개 전체 사업 관련 인원이 참석했으며, 각 사업부장이 발표한 내용을 토론을 통해 사업부 계획서에 반영했습니다.토론에는 제한 시간을 두지 않고 모든 사업부가 이해할 만한 답을 찾을 때까지 계속 토론 형식으로 진행되었습니다.\\xa0\\n 9월 22, 2023\\n\\n\\n\\n\\n\\n\\nOur Clients'),\n",
       " Document(metadata={'source': 'https://www.pcninc.co.kr/digital/ai.do'}, page_content='대용량 뉴스 기반 사건사고 지식 빅데이터 센터 구축\\n스마트 치안 빅데이터 센터\\n효과적인 스마트치안 활동을 위한 고품질 사건·사고 원문 뉴스 데이터를 생산·관리·유통하는 빅데이터 센터\\n\\n\\n\\n\\n\\n\\n\\n\\n원문 뉴스기반고품질 메타데이터\\n\\n\\n\\n\\n\\n뉴스 데이터 통합 및분류 체계 표준화\\n\\n\\n\\n\\n\\n자연어 처리를 통한특징 추출\\n\\n\\n\\n\\n\\n\\n\\n뉴스 특징 기반자동 문류\\n\\n\\n\\n\\n\\n데이터 품질 관리\\n\\n\\n\\n\\n\\n클라우드 컴퓨팅기반 인프라 구축\\n\\n\\n\\n\\n\\n\\nFeatures\\n\\n\\n\\n\\n통계 분석 및 시각화\\n\\n\\n\\n네트워킹 기술\\n\\n\\n\\n\\n\\n생산 데이터의 통계 분석 및 시각화 모델\\n\\nOS를 가리지 않는 플랫폼 서버 배포 환경\\n서버 내 별도의 콘텐츠 관리\\nReal Time 메타버스 환경을 위한 게임 서버 아키텍처\\n\\n\\n\\n효율적 관리를 위한 지식 베이스 구축\\n\\n입력된 메타데이터 기반 개체 추출 및 시계열 기반 구축\\n시각적 분석 및 데이터 융합 기술 적용\\n\\n\\n\\n데이터 융합 네트워킹 기술\\n\\n자연어 처리를 통한 인물,장소,시간 개체를 추출\\n생산된 시멘틱 데이터의 관계 그래프 생성 및 시각화\\n\\n\\n\\n\\n\\n\\n\\nTech\\n\\n\\n\\n\\n\\n\\n\\nRelated Business\\n\\n\\n\\n\\n\\n\\n미디어온\\n미디어 기반 팩트 체크 서비스(데이터 제공)\\nView More\\n\\n\\n\\n\\n\\n서울대학교 산학협력단\\nAI 기반 팩트체크 자동화 서비스(데이터 제공)\\nView More'),\n",
       " Document(metadata={'source': 'https://www.pcninc.co.kr/digital/bigdata.do'}, page_content='공공∙민간 데이터 검색 및 활용\\n통합 데이터지도 구축\\n공공과 민간 데이터를 쉽게 검색 및 활용할 수 있도록 지원하기 위한 빅데이터 수집∙가공∙유통 체계 구축\\n\\n\\n\\n\\n\\n\\n\\n\\n표준화된 메타데이터연계 시스템\\n\\n\\n\\n\\n\\n오픈소스 기반의데이터 공유 환경\\n\\n\\n\\n\\n\\n딥러닝 기반자연어처리 솔루션\\n\\n\\n\\n\\n\\n\\n\\n효율적이고지능화된 검색 시스템\\n\\n\\n\\n\\n\\n이용자 중심의UI/UX\\n\\n\\n\\n\\n\\n민간 크라우드기반 운영\\n\\n\\n\\n\\n\\n\\nFeatures\\n\\n\\n\\n\\n데이터 연계 확장성 확보를 위한 메타데이터 표준화\\n상세 검색 및 신규·복합 단어 등 고도화된 검색을 위한 고속 검색 엔진\\nAI 기반 데이터 자동 분류 기술\\nAI 기반 데이터 간 연관도 분석 및 데이터 맵 시각화 기술\\nAI 기반 핵심 키워드 자동 추출 기술\\n\\n\\n\\n\\n공공민간 데이터 연계\\n\\n\\n\\n고속 검색 엔진\\n\\n\\n\\n실시간 데이터 관리 시스템\\n\\n\\n\\nAI 데이터 분석\\n\\n\\n\\n\\n\\n\\n\\nTech\\n표준 메타데이터 연계부터 AI 자연어처리 기반 실시간 자동 분류, 핵심 키워드 자동 추출, 데이터맵 시각화까지 처리되는 고속 검색 엔진 구축\\n\\n\\n\\n\\n\\n1메타데이터연계 API 서버\\n\\n연계 API 개선으로 메타데이터 항목 실시간 동기화 구현\\n\\n\\n\\n2데이터정체모델\\n\\n한국어에 특화된 언어 모델 BERT를 활용하여 자동 분류 및 임베딩 정확도 향상\\n\\n\\n\\n3검색엔진서버\\n\\n한국어 형태소 분석 및 연관 검색이 가능한 고속 검색엔진 탑재\\n\\n\\n\\n4연관분석모델\\n\\n고도화된 언어 모델 기반으로 연관도 분석 성능 개선\\n\\n\\n\\n\\n\\n\\n\\nApplied Solutions\\nPCN이 보유한 기술을 활용하여 다양한 프로젝트를 진행하고 있습니다.\\n\\n\\n\\n\\n\\n\\nOASIS DataMap\\nView More'),\n",
       " Document(metadata={'source': 'https://www.pcninc.co.kr/digital/xrcontents.do'}, page_content='반응형 웹 기반의 XR 메타버스 플랫폼\\nMetaPlusOne\\n기관이 보유하고 있는 표준화된 3D 콘텐츠를 활용해 복합적인 공간을 만들어\\n                        유저간 인터렉티브한 액션을 취하면서 정보를 공유할 수 있는 반응형 웹 기반의 XR 메타버스 플랫폼\\n\\n\\n\\n\\n\\n\\n\\n\\n\\n\\n\\nReact 반응형 반응형 웹 기반의 XR 메타버스 플랫폼\\n\\n\\n\\n\\n\\nEntity Component System 구성\\n\\n\\n\\n\\n\\n3D 공간 표현을 위한 Three.js 활용\\n\\n\\n\\n\\n\\n\\n\\n물리엔진을 활용하여 부드러운 동작 구현\\n\\n\\n\\n\\n\\n다양한 하드웨어 기반 VR / AR 기술지원\\n\\n\\n\\n\\n\\nWebRTC를 통한 채팅, 오디오, 비디오 등 구현 가능\\n\\n\\n\\n\\n\\n정적 3D모델 표현을 위한 GLTF Animation\\n\\n\\n\\n\\n\\n\\nTech\\n각각의 시스템은 상호작용하여 메타버스 공간 내, 실감형 콘텐츠를 제공하고 있습니다.\\n\\n\\nProject Build\\n\\n\\n\\n\\n\\n\\nArchitecture\\n\\n\\n\\n\\n\\n\\n1서버\\n\\nOS를 가리지 않는 플랫폼 서버 배포 환경\\n서버 내 별도의 콘텐츠 관리\\nReal time 메타버스 환경을 위한 게임 서버 아키텍처\\n\\n\\n\\n2클라이언트\\n\\nWebRTC 스트림 할당 및 자신의 아바타 생성\\n리액트 기반의 반응형 웹 인터페이스 및 다양한 디바이스 지원\\n\\n\\n\\n3에디터\\n\\n3D 공간 구현을 위한 공간 배치 지원\\n볼륨메트릭, 영상, 이미지 등 Asset 배치 및 properties 설정\\n\\n\\n\\n4프로젝트\\n\\n프로젝트별 별도의 관리 시스템 적용\\n프로젝트 컨셉에 맞는 물리엔진 및 3D 시스템 적용\\nGLTF animation 관리 및 실시간 프로젝트 API 관리\\n\\n\\n\\n\\n\\n\\n\\nRelated Business\\n메타플러스원을 활용하여 다양한 프로젝트를 진행하고 있습니다.\\n\\n\\n\\n\\n\\n\\n\\n한양도성 타임머신\\nView More'),\n",
       " Document(metadata={'source': 'https://www.pcninc.co.kr/digital/xrcontents.do'}, page_content='Related Business\\n메타플러스원을 활용하여 다양한 프로젝트를 진행하고 있습니다.\\n\\n\\n\\n\\n\\n\\n\\n한양도성 타임머신\\nView More\\n\\n\\n\\n\\n\\n\\n\\n\\n\\n\\n화성시 문화유산 3D 스캐닝 및 VR 제작\\n화성시 문화유산에 대한 3차원 디지털 데이터 및 360도 실사 영상 VR 확보를 목적으로 하는\\n                        사업으로 화성시 내 중요 문화유산의 시청각 자료 및 화성시 역사박물관 내 사이버 박물관 콘텐츠 서비스 활용 자료를 확보할 수 있습니다.\\n\\n\\n\\n\\n\\n\\n\\n\\n\\n\\nFeatures\\n3차원 스캔 기술을 통해 문화유산의 건축물 및 지형 등을 데이터, 영상, VR 콘텐츠를 확보하여 문화유산 관련 정보전달부터\\n                        생생한 체험과 교육이 가능합니다.\\n\\n\\n\\n\\n3차원 스캔을 통한 문화유산 데이터 확보\\n보존, 연구 및 기타 조사 등에 필요한 3D 데이터 자료로 활용\\n\\n\\n\\n문화유산의 구조 및 특징을 살린 영상 확보\\n중요 문화유산의 이해 및 정보 전달 효과를 높일 수 있음\\n\\n\\n\\n문화유산 현장 체험 가능한 VR 콘텐츠 제작\\n문화유산 교육의 추가적인 시너지 효과 기대\\n\\n\\n\\n\\n\\n\\n\\nTech\\n3D 스캐닝, VR 촬영, 제작, 편집 등 전문적인 기술을 활용하여 XR Contents를 만들어냅니다.\\n\\n\\n\\n3D 스캐닝\\n스캔 대상의 외부 및 내부 구조를 파악한 후 스캐너의 위치는 대상을\\n                            기준으로 적정 위치에서 3D 스캐닝 진행\\n\\n\\n\\nVR 촬영\\n항공 및 지상 VR 촬영 사진은 1차 편집(색 보정, 선명도 수정, 스티칭,\\n                            배경 편집)과 2차 VR 레이아웃 구성(노드 포인트, 팝업, 자막, 영상재생)\\n                            등의 작업을 거쳐 VR 파노라마 데이터 제작\\n\\n\\n\\n\\n\\n\\nVR 제작\\n\\n\\n\\n\\n지상 360° VR 촬영 원리'),\n",
       " Document(metadata={'source': 'https://www.pcninc.co.kr/digital/xrcontents.do'}, page_content='VR 제작\\n\\n\\n\\n\\n지상 360° VR 촬영 원리\\n\\n대상을 중심으로 카메라의 위치를 정확히 고정한 상태에서 수평방향 360° 수직방향 180°를 빠짐없이 30% 중복 하여 촬영하는 방식\\n기본 카메라, 렌즈, 삼각대, 로테이터 이용\\n\\n\\n\\n\\n\\n\\n\\n\\nVR 편집\\n스티칭 작업, 불필요한 이미지 보정 및 삭제, 누락된 배경 편집, 균일한 색 보정의 작업 과정을 실시하여 고품질 VR 데이터를 구축합니다.\\n\\n\\n\\n\\n\\n\\n\\n컬러 조정 및 스티칭 \\n\\n여러 대의 카메라를 사용할 경우 서로 다른 광량으로영상 색감의 차이가 발생함\\n촬영 시 해결하기 어려우므로 편집 단계에서 색상 조정\\n색 보정 후 기초 스티칭 작업 수행\\n\\n\\n\\n\\n\\n\\n\\n편집 및 스티칭 고도화\\n\\n스티칭 과정에서 많은 인력과 시간이 소요되므로 실제로 사용할 부분 선정\\n편집 과정에서 선정된 분량으로 정밀한 스티칭 작업 수행\\n스티칭라인이 어긋나면 몰입감이 저하되기 때문에 매끄럽게 연결시켜주는 것이 중요함\\n\\n\\n\\n\\n\\n\\n\\n컬러 조정 및 스티칭 \\n\\n영상 컨텐츠의 분위기와 색조, 밝기를 고려하여 보정 실시\\n\\n\\n\\n\\n\\n\\n\\nApplied Solution\\nXR Contents 기술을 활용하여 다양한 프로젝트를 진행하고 있습니다.\\n\\n\\n\\n\\n\\n\\n2021-2022 문화유산 원형기록 통합DB 구축\\nView More'),\n",
       " Document(metadata={'source': 'https://www.pcninc.co.kr/digital/portfolio/list.do'}, page_content='Portfolio\\nPCN의 Digital Platform 주요 사업을 소개합니다.\\n\\n\\n\\n전체\\nMetaverse\\nAi\\nBig data\\nXR Contents\\n\\n\\n\\n\\n\\n\\n\\n\\nMore'),\n",
       " Document(metadata={'source': 'https://www.pcninc.co.kr/siux/public.do'}, page_content='프로젝트명\\n\\n\\n\\n프로젝트 성격\\n\\n\\n\\n도메인\\n\\n\\n\\n발주기관\\n\\n\\n\\n적용 기술\\n\\n\\n\\n주요 목적'),\n",
       " Document(metadata={'source': 'https://www.pcninc.co.kr/siux/finance.do'}, page_content='프로젝트명\\n\\n\\n\\n프로젝트 성격\\n\\n\\n\\n도메인\\n\\n\\n\\n발주기관\\n\\n\\n\\n적용 기술\\n\\n\\n\\n주요 목적'),\n",
       " Document(metadata={'source': 'https://www.pcninc.co.kr/siux/brand.do'}, page_content='프로젝트명\\n\\n\\n\\n프로젝트 성격\\n\\n\\n\\n도메인\\n\\n\\n\\n발주기관\\n\\n\\n\\n적용 기술\\n\\n\\n\\n주요 목적'),\n",
       " Document(metadata={'source': 'https://www.pcninc.co.kr/siux/health.do'}, page_content='프로젝트명\\n\\n\\n\\n프로젝트 성격\\n\\n\\n\\n도메인\\n\\n\\n\\n발주기관\\n\\n\\n\\n적용 기술\\n\\n\\n\\n주요 목적'),\n",
       " Document(metadata={'source': 'https://www.pcninc.co.kr/solution/oasis.do'}, page_content='OASIS\\nOpen API 자동화 솔루션\\n(Open API Service Integration System)\\nOASIS는 Open API Service Integration System의 약자로 DB에 저장된 데이터를 Open API 형태로 변환시켜, 이를 배포할 수 있는 환경을 제공해 주는 자동화 플랫폼입니다.\\n\\n\\n\\n특장점\\n\\n1. 웹기반 API 자동 생성\\n클릭 및 간단한 입력을 통해 손쉽게 작업\\nAPI를 코딩없이 자동으로 생성\\n\\n\\n2. 용이한 유지보수\\n신규 API 추가 및 수정, 삭제가 자유로움\\n개발인력 변동에 따른 리스크가 없음\\n\\n\\n3. 표준 준수\\nSOAP, REST, RSS/ATOM, RDF등 웹서비스 표준 제공\\n개발 표준 및 일관성 유지 보장\\n\\n\\n4. 시간/비용 절감\\n기존 개발방식에 비해 60% 정도 절감 효과\\n\\n\\n5. 보안\\n시큐어코딩 및 OWASP 10대 취약점 준수\\n\\n\\n6. 무중단 서비스\\nOpen API 변동시 재시작을 서비스 수준에서 자유롭게 할 수 있음\\n\\n\\n\\n\\n\\n\\n서비스관리\\nREST, SOAP, RSS1.0/2.0,\\n                                ATOM1.0, RDF Service\\n                                자동 생성 및 배포\\n\\n\\n\\n서비스 키관리\\n사용자키 또는 접속 IP 기반으로\\n                                접근 통제\\n\\n\\n\\n접근권한 제어관리\\n사용자 별 무제한 접근과\\n                                일일 접근 횟수 제한 서비스별\\n                                트래픽 조절\\n\\n\\n\\nAPI 사용 통계\\n각 서비스 별\\n                                API 사용 통계 모니터링\\n\\n\\n\\n\\n\\n\\n제품 소개서 다운로드'),\n",
       " Document(metadata={'source': 'https://www.pcninc.co.kr/solution/apim.do'}, page_content='OASIS-APIM\\nAPI 관리서버 솔루션\\n서버로 요청되는 모든 API의 접점 역할을 하는 API 관리 서버(API Management System: APIM)로써 외부에서의 API 요청 시 내부의 시스템과 상관 없이\\n                    약속된 형태의 API 요청을 할 수 있도록 지원합니다.\\n\\n\\n\\n구성도\\n\\n\\n\\n특장점\\n\\n1. 다양한 API의 라우팅 처리\\n2. 플러그인 지원으로 확장성 보장\\n3. 요청 현황에 대한 모니터링\\n4. Web UI 지원으로 손쉬운 구성\\n5. 트래픽 및 요청 횟수 제한\\n6. 사용자에 대한 인증 및 인가 처리\\n7. 변경사항의 실시간 반영\\n8. 캐시 사용에 의한 성능 보장\\n\\n\\n\\n\\n\\n\\n제품 소개서 다운로드'),\n",
       " Document(metadata={'source': 'https://www.pcninc.co.kr/solution/esearch.do'}, page_content='PCN E-Search\\nPCN 통합검색 솔루션\\nPCN E-Search는 Lucene 라이브러리 및 Elastic 오픈소스 기반으로 제작되었고 다양한 형태의 리소스 데이터에 대한 크롤링,\\n                    분산 저장 및 검색을 지원하는 확장성이 뛰어난 검색 플랫폼입니다. PCN 기업부설연구소는 Elastic기반으로 검색엔진을 확장하여 공공 기관에 납품한 실적을 보유하고 있습니다.\\n\\n\\n\\n구성도\\n\\n\\n\\n특장점\\n\\n1. 다양한 형태의 데이터 수집 및 색인 지원\\n2. 멀티 노드 기반의 고가용성 지원\\n3. 다수의 클러스터링 구성 가능\\n4. 독립된 모듈 형태의 기능 분할\\n5. 빅데이터 분산 저장소 및 분석도구 지원\\n6. 플러그인 지원으로 확장성 보장\\n7. 자연어 검색, 복합명사 붙용어 필터 지원\\n8. 검색어 자동완성, 트랜드 분석 및 연관검색어 지원\\n\\n\\n\\n\\n\\n\\n제품 소개서 다운로드'),\n",
       " Document(metadata={'source': 'https://www.pcninc.co.kr/solution/oasisx.do'}, page_content='OASIS-X\\n빅데이터 수집 솔루션\\n무료 오픈 소스 서버의 데이터 처리 파이프라인인 Logstash는 다양한 소스에서 데이터를 수집하여 변환한 후 자주 사용하는 저장소로 전달합니다. PCN 기업부설연구소는 Logstash 기반의 데이터 수집/저장 프로세스를 쉽게 구성 할 수 있도록 Web 기반의 솔루션을 개발 하였으며 다양한\\n                    플러그인을 추가하여 기능을 확장 하였습니다.\\n\\n\\n\\n구성도\\n\\n\\n\\n특장점\\n\\n1. 다양한 형태의 데이터 소스 지원\\n2. 다양한 형태의 데이터 저장소 지원\\n3. 필터를 제공하여 다양한 형태로의 데이터 가공\\n4. 플러그인 지원으로 확장성 보장\\n5. Web UI 지원으로 손쉬운 구성\\n6. 수집/저장 현황의 모니터링\\n7. 스케줄러 지원으로 배치 작업 수행\\n\\n\\n\\n\\n\\n\\n제품 소개서 다운로드'),\n",
       " Document(metadata={'source': 'https://www.pcninc.co.kr/solution/datamap.do'}, page_content='OASIS DataMap\\n연관성 시각화맵\\nOASIS-DataMap은 비정형 콘텐츠들 간의 상관관계를 분석해서 주제별 클러스터링을 통한 데이터 연관도를 시각화해서\\n                    보여주는 빅데이터 솔루션입니다.\\n\\n\\n\\n\\n\\n\\n\\n\\n특장점\\n\\n1. 자연어처리 기술을 이용한 문맥적 의미 파악 기반 지능형 검색 기술\\n2. 문장 및 문서 간 상관관계 분석 기능\\n3. 맥적 이해 기반으로 다양하고 추상화된 질의어에 유연한 대응 가능\\n4. 주제별 클러스터링 지원\\n5. 별도의 사전 구축 없이 동의어 및 유의어 검색 지원\\n6. 도메인에 특화된 딥러닝 기반 언어모델 지원\\n7. 대량의 실시간 스트리밍 데이터 처리 지원\\n\\n\\n\\n\\n\\n\\n제품 소개서 다운로드'),\n",
       " Document(metadata={'source': 'https://www.pcninc.co.kr/solution/trenddata.do'}, page_content='OASIS TrendData\\n트렌드 시각화\\n다양한 매체 데이터의 실시간 수집부터 분석,시각화, 리포트까지 제공하는 데이터 기반의 Full Package 서비스 솔루션 입니다.\\n\\n\\n\\n\\n\\n\\n\\n\\n특장점\\n\\n1. 언론사 및 SNS API 연계를 통한 실시간 데이터 수집\\n2. 분석에 최적화된 데이터 정제 모듈 패키지\\n3. “Toolva” 고성능 자연어 처리 모듈 패키지\\n4. Block Interactive 대시보드를 통한 고객 맞춤형 시각화\\n5. 실시간 모니터링 기능\\n6. 종합 분석 리포트 제공\\n\\n\\n\\n\\n\\n\\n제품 소개서 다운로드'),\n",
       " Document(metadata={'source': 'https://www.pcninc.co.kr/solution/ozai.do'}, page_content='Ozai\\n다기능 AI 챗봇 솔루션 \\n오즈아이는 사용자에게 신속한 정보 검색과 실시간 인사이트, 데이터시각화, 인터뷰, 설문지 작성을 자동으로 수행해주는 AI 솔루션입니다.\\n\\n\\n\\n오즈아이 설명\\n\\n\\n특장점\\n\\n1. 다기능 AI 챗봇 솔루션\\n2. 유연한 배포 방식 지원\\n3. 확장성 및 연동성\\n4. 사용자 친화적 설계\\n\\n\\n\\n\\n\\n제품 소개서 다운로드'),\n",
       " Document(metadata={'source': 'https://www.pcninc.co.kr/company/introduce.do'}, page_content='디지털 가치를 만드는 기업\\nPCN은 지식, 경험, 네트워크를 바탕으로 디지털 환경에서의 고객 비즈니스 성공을 지원하는 Digital Value Service 기업입니다.\\n\\n\\n\\n                        PCN은 다양한 기업 및 기업들의 온라인 비즈니스 파트너로서,\\n                        고객들과 함께 꾸준히 성장해왔습니다. PCN은 기술력과 노하우를 두루 갖춘\\n                        분야별 스페셜리스트들이 고객의 비즈니스 파트너로서 감동의 가치를 실현합니다.\\n                        온라인 환경과 비즈니스에 대한 깊은 이해를 가진 중·고급 인력이 전체의 60%를\\n                        차지하고 있으며 다양한 전문 기술을 보유한 인재들로 구성되어 있어 사업을 성공으로\\n                        이끌고 있습니다.\\n                    \\n\\n\\n\\n\\n\\n\\n\\nCEO 메세지\\n\\n\\n                    안녕하세요? PCN의 송광헌 대표입니다.\\n                    (주)PCN은 1999년 설립되고 2001년 법인전환 이후 20년 넘게 IT전문기업으로서 매진해 왔습니다.\\n                    그 결과 Bigdata, AI, XR 콘텐츠 기술과 이를 바탕으로 최근 메타버스 플랫폼까지 다양한 사업에서 최고의 기술과 실적을 만들고 있습니다.\\n                    그 바탕에는 PCN 3.0으로 시작한 ‘Flat stage’ 즉, 공정한 무대에서 인재들이 마음껏 본인의 역량을 펼칠 수 있는 문화의 힘이 있다고 생각합니다.'),\n",
       " Document(metadata={'source': 'https://www.pcninc.co.kr/company/introduce.do'}, page_content=\"인재들이 자신이 원하는 리더와 함께, 혹은 자신이 리더가 되어서 원하는 꿈에 도전할 수 있는 회사를 만들고자 합니다.\\n                    이를 위한 공정한 룰, 객관적인 평가, 합리적인 보상을 바탕으로 인재가 중심인 회사를 만들겠습니다.\\n                    그러한 노력들의 결과로 매년 동종업계 대비 놀라운 실적의 영업이익과 성장률을 보이고 강남에 사옥을 마련하고\\n                    사내 안마사인 헬스키퍼, PCN 제주 펜션, PCN 양양 등의 직원 복지를 늘리고 함께 성장하고 있습니다.\\n                    PCN은 이에 만족하지 않고 좋은 회사를 넘어서는 위대한 기업 PCN을 만들겠습니다.\\n                    고객감동, 인재행복, 가치창조를 핵심 가치를 바탕으로 ‘디지털 세계에서의 가치 창조'를 실현하여 NO.1 Digital Flatform Company로 더욱 정진하겠습니다.\\n                \\n감사합니다.\\n\\n\\n\\n기업 정보\\n\\n\\n\\n설립 연도\\n1999년 12월\\n\\n\\n\\n사업 분야\\nSI(시스템 통합),\\n                        SM(시스템 관리)\\n                        컨설팅, 솔루션 Bix, 모바일 등\\n                    \\n\\n\\n\\n매출액\\n264억\\n*2022년 기준\\n\\n\\n\\n임직원\\n180명\\n*2022년 기준\\n\\n\\n\\n\\n비전\\n디지털 세상에서의 가치창조라는 Vision을 토대로 고객이 아닌 파트너가 많은 기업으로 계속 성장하겠습니다.\\n\\n\\nMISSION\\n우리는 고객의 성공을 도와 세상의 가치를\\n                        증대 시키며 행복과 긍지를 느낀다.\\n\\n\\n\\nVALUE\\n고객 감동, 인재 행복, 가치 창조\\n\\n\\n\\nVISION\\nNO.1 DIGITAL VALUE SERVICE COMPANY\\n\\n\\n\\n\\n\\n회사 소개서 PDF\"),\n",
       " Document(metadata={'source': 'https://www.pcninc.co.kr/company/business.do?accYear=2023'}, page_content='사업영역 · PROJECT\\n\\n\\n 2023\\n 2022\\n 2021\\n\\n\\n\\n\\n\\n\\n서울대학교 치의학대학원\\n서울대학교 치의학대학원 홈페이지 리뉴얼\\n\\n\\n\\n\\n\\n\\n\\n한국지능정보사회진흥원\\n통합 데이터지도 운영 및 유지관리\\n\\n\\n\\n\\n\\n\\n\\n서울대학교 의과대학\\n서울대학교 의과대학 홈페이지 유지보수'),\n",
       " Document(metadata={'source': 'https://www.pcninc.co.kr/company/benefit.do'}, page_content='PCN 직원 혜택\\nPCN은 다양한 사원복지를 통해 임직원들이 즐겁고 행복하게 일 할 수 있는 회사가 될 수 있도록 노력 합니다.\\n\\n\\n\\n\\n\\n\\n제주 양양 펜션\\n직원들이 휴식 및 숙박을 할 수 있는 임직원 전용 공간입니다.\\n\\n제주 펜션\\n양양 펜션\\n\\n\\n\\n\\n\\n\\n헬스키퍼\\n직원들의 뭉친 근육을 풀어 드립니다! 국가공인 안마사 자격을\\n                            갖춘 헬스 키퍼 분들에게 주 1회 안마를 받을 수 있습니다\\n\\n\\n\\n\\n\\n맞춤형 복지 제도\\n여행, 건강, 교육, 취미 1회에 한하여 현금을 지급합니다.\\n\\n\\n\\n\\n\\n장기근속자 포상\\nPCN과 함께 꾸준히 성장해준 직원들에게 3/5/7/10/15/20/25주년\\n                            선물을 지급 합니다.\\n\\n\\n\\n\\n\\n교육훈련비 지원\\n사외교육 50% 지원 및 직원 본인 대학/대학원 등록금 50%\\n                            지원 합니다.\\n\\n\\n\\n\\n\\n패밀리 데이\\n매월 1일 2시간 조기 퇴근\\n\\n\\n\\n\\n\\n명절 선물 지급\\n설과 추석 명절에 감사의 마음을 전하기 위해 선물을 지급합니다.\\n\\n\\n\\n\\n\\n도서비 지원\\n직원들의 성장과 역량 향상을 위해  업무 관련 도서비를 지원합니다.\\n\\n\\n\\n\\n\\n생일자 선물\\n생일 파티 또는 본인 선물 구매를 위해 현금을 지급합니다.\\n\\n\\n\\n\\n\\n휴식공간\\n업무 중에 잠시 휴식을 위해 사내 카페에서 커피한잔의 여유와\\n                            휴게공간에서 안마의자 등을 통해 잠시 휴식을 가질 수 있습니다.\\n\\n\\n\\n\\n\\n경조화환\\n경조사 발생시 조의의 마음을 전하고자 화환을 제공합니다.'),\n",
       " Document(metadata={'source': 'https://www.pcninc.co.kr/company/history.do'}, page_content='23년간 남긴 기록들\\n\\n                ‘디지털 세상에서의 가치 창조’라는 비전 아래 20년간 끊임 없이 달려왔습니다.\\n                1999년 PCN의 전신인 코리아넷이 설립된 이후부터 지금에 이르기까지 다양한 특허와 인증을 획득하며 해당 분야에서 공고히 자리매김해왔습니다.\\n            \\n\\n\\n\\n\\n2022\\n\\n\\n\\n12월\\n\\n대한민국디지털경영혁신대상 문화체육관광부 장관상\\n\\n\\n\\n10월\\n\\n레드닷 디자인 어워드 브랜드 커뮤니케이션부문상\\n\\n\\n\\n08월\\n\\nPCN 신사옥 이전(학동로 146 PCN빌딩)\\n\\n\\n\\n01월\\n\\n갤러리 아트인사이트 개관\\n\\n\\n\\n\\n\\n\\n2021\\n\\n\\n\\n12월\\n\\n국무총리 표창 (소프트웨어산업진흥 발전)\\n행정안전부 장관 표창 (정보화 발전)\\n\\n\\n\\n11월\\n\\n제6회 3D 프린팅 BIZCON 경진대회 최우수상(문화재청)\\n행정안전부 장관 표창 (정부혁신 추진)\\n\\n\\n\\n09월\\n\\nPCN 사옥 이전 PCN 빌딩(언주로135길 33)\\n\\n\\n\\n01월\\n\\nPCN E-SEARCH v1.0 GS인증 1등급 취득\\n\\n\\n\\n\\n\\n\\n2020\\n\\n\\n\\n06월\\n\\n여성가족부 가족친화기업 인증\\n대한상공회의소 일하기 좋은 중소기업 선정\\n\\n\\n\\n02월\\n\\nKiss OASIS v1.2 GS 인증 1등급 취득\\n\\n\\n\\n\\n\\n\\n2019\\n\\n\\n\\n04월\\n\\nRDF 트리플 데이터 기반의 지능형 검색 시스템 및 방법 특허 출원\\n\\n\\n\\n03월\\n\\n온톨리지 기반의 검색 서비스 시스템 및 방법 특허 출원\\n\\n\\n\\n\\n\\n\\n\\n\\n\\n\\n\\n\\n2022 레드닷 디자인 어워드 수상\\n\\n\\n\\n\\n\\n\\n\\n\\n\\n\\n\\n2018\\n\\n\\n\\n07월\\n\\n재난재해 복구를 위한 자원관리 방법 및 시스템 특허 출원\\n\\n\\n\\n05월\\n\\n전통문화 융복합 지원을 위한 디지털 연표 표출시스템 특허 출원\\n\\n\\n\\n08월\\n\\nPCN 신사옥 이전(학동로 146 PCN빌딩)\\n\\n\\n\\n01월\\n\\n갤러리 아트인사이트 개관\\n\\n\\n\\n\\n\\n\\n2016\\n\\n\\n\\n09월\\n\\n일학습병행제 경진대회 장려상(한국산업인력공단)\\n\\n\\n\\n\\n\\n\\n2015\\n\\n\\n\\n11월\\n\\n미래창조과학부 장관 표창\\n\\n\\n\\n08월'),\n",
       " Document(metadata={'source': 'https://www.pcninc.co.kr/company/history.do'}, page_content=\"갤러리 아트인사이트 개관\\n\\n\\n\\n\\n\\n\\n2016\\n\\n\\n\\n09월\\n\\n일학습병행제 경진대회 장려상(한국산업인력공단)\\n\\n\\n\\n\\n\\n\\n2015\\n\\n\\n\\n11월\\n\\n미래창조과학부 장관 표창\\n\\n\\n\\n08월\\n\\n정보통신 공사업 취득\\n\\n\\n\\n\\n\\n\\n2013\\n\\n\\n\\n11월\\n\\n오픈 API 기반 콘텐츠 서비스 인터페이스 제공시스템 및 방법 특허 출원\\n\\n\\n\\n08월\\n\\n포렌식기반 이미지 위변조방지 시스템 invisibleCode, GS인증\\n\\n\\n\\n\\n\\n\\n2011\\n\\n\\n\\n08월\\n한국정보산업협동조합 조합원 가입\\n\\n\\n07월\\n기술혁신형 중소기업(INNO-BIZ) 확인\\n\\n\\n06월\\n㈜피씨엔으로 상호변경\\n\\n\\n04월\\n포스트코리아넷 부설 연구소 ISO 9001:2008 인증 획득\\n\\n\\n\\n\\n\\n\\n\\n\\n\\n\\n\\n행정안전부 장관상 수상\\n\\n\\n\\n\\n\\n\\n\\n\\n\\n\\n\\n2010\\n\\n\\n\\n11월\\n\\n㈜포스트코리아넷 부설연구소 설립\\n\\n\\n\\n08월\\n\\n소프트웨어공제조합 가입(출자)\\n\\n\\n\\n06월\\n\\n벤처기업확인 인증\\n\\n\\n\\n\\n\\n\\n2008\\n\\n\\n\\n04월\\n\\n소프트웨어 사업자 신고\\n\\n\\n\\n03월\\n\\n2008 웹어워드 위원회 최우수 디지털에이전시 인증\\n\\n\\n\\n\\n\\n\\n2004\\n\\n\\n\\n10월\\n\\n온라인쇼핑몰 솔루션 PCNShop V 1.0 개발\\n\\n\\n\\n\\n\\n\\n2002\\n\\n\\n\\n04월\\n\\n'온라인을 이용한 병원 자동화 서비스 시스템' 특허출원 (출원번호 10-2004-0051772)\\n\\n\\n\\n\\n\\n\\n2001\\n\\n\\n\\n05월\\n\\n㈜포스트코리아넷 법인전환\\n\\n\\n\\n\\n\\n\\n1999\\n\\n\\n\\n12월\\n\\n코리아넷 설립\\n\\n\\n\\n\\n\\n\\n\\n\\n\\n\\n\\n\\n웹어워드 코리아 공공ㆍ의료 통합대상 수상\"),\n",
       " Document(metadata={'source': 'https://www.pcninc.co.kr/company/location.do'}, page_content='PCN에 오시는 길\\nPCN은 강남구 학동역/논현역 부근에 위치하고 있습니다. 문의는 언제나 열려있습니다.\\n\\n\\n\\n\\n\\n\\n주소\\n서울특별시 강남구 학동로 146 PCN빌딩\\n\\n\\n문의\\n\\n\\n채용‧프로젝트‧홍보문의\\nE.master@pcninc.co.kr\\nT.02 - 565 - 7740\\n\\n\\n영업문의\\nE.master@pcninc.co.kr\\nT.02 - 6027 - 5870\\n\\n\\n\\n\\n\\n\\n지하철\\n\\n학동역에서 하차\\n(5번 출구에서 300m 도보 5분거리)\\n\\n\\n논현역에서 하차\\n(1번 출구에서 450m 도보 8분거리)\\n\\n\\n\\n버스\\n\\n논현사거리, 학동역\\n240, 401, 3412, 6411\\n\\n\\n\\n자가용\\n\\nPCN 빌딩 주차장\\n유료 시설로 대중교통 이용을 권장'),\n",
       " Document(metadata={'source': 'https://www.pcninc.co.kr/ir/disinfo/list.do?page=1&pageSize=10', 'language': 'ko'}, page_content='정보제공 : 금융감독원 DART\\n\\n\\n\\n\\n\\n\\n\\n\\n\\n\\n\\n\\n\\n검색\\n\\n전체\\n제목\\n\\n\\n\\n\\n검색\\n\\n\\n\\n\\n\\n\\n                전체\\n                3 \\n                건\\n            \\n\\n\\n\\n\\n\\n\\n\\n\\n\\n\\n\\n\\n\\n번호\\n제목\\n공시일\\n\\n\\n\\n\\n3\\n감사보고서 (2024.12)\\n2025-03-31\\n\\n\\n2\\n[기재정정]감사보고서 (2023.12)\\n2025-03-04\\n\\n\\n1\\n감사보고서 (2023.12)\\n2025-03-04\\n\\n\\n\\n\\n\\n\\n\\n\\n\\n\\n\\n\\n\\n \\n \\n\\n1'),\n",
       " Document(metadata={'source': 'https://www.pcninc.co.kr/notice/press/list.do?page=1&pageSize=6', 'language': 'ko'}, page_content=\"검색\\n\\n전체\\n제목\\n\\n\\n\\n\\n검색\\n\\n\\n\\n\\n\\n\\n                전체\\n                66 \\n                건\\n            \\n\\n\\n\\n\\n\\n\\n\\n\\n\\n\\n\\n\\n\\n피씨엔, AI 플랫폼 '오즈아이' 앞세워 피지컬 AI 시장 진출\\n2025-07-28\\n\\n\\n\\n\\n\\n\\n\\n피씨엔(PCN), 민관 디지털 혁신 플랫폼 'DPG 통합테스트베드' 운영 맡는다\\n2025-06-11\\n\\n\\n\\n\\n\\n\\n\\nPCN, 제4기 정기 주총 성료···재무제표 등 승인\\n2025-03-31\\n\\n\\n\\n\\n\\n\\n\\n피씨엔, XR 콘텐츠서 상호작용 가능성 열었다\\n2025-02-19\\n\\n\\n\\n\\n\\n\\n\\n피씨엔-메디트릭스, 디지털 헬스케어 사업 협력\\n2025-02-19\\n\\n\\n\\n\\n\\n\\n\\n과기정통부, 산업기술연구조합 기술교류회 개최\\n2025-02-13\\n\\n\\n\\n\\n\\n\\n\\n\\n\\n\\n\\n\\n\\n \\n \\n\\n1\\n2\\n3\\n4\\n5\\n6\\n7\\n8\\n9\\n10\"),\n",
       " Document(metadata={'source': 'https://www.pcninc.co.kr/notice/plus/list.do?page=1&pageSize=6', 'language': 'ko'}, page_content='검색\\n\\n전체\\n제목\\n내용\\n\\n\\n\\n\\n검색\\n\\n\\n\\n\\n\\n\\n                전체\\n                24 \\n                건\\n            \\n\\n\\n\\n\\n\\n\\n\\n\\n\\n\\n\\n\\n\\n2025년도 AI툴 활용 아이디어 공모전\\n2025-07-23\\n\\n\\n\\n\\n\\n\\n\\n2024 PCN 맥주파티\\n2024-06-10\\n\\n\\n\\n\\n\\n\\n\\n2023 PCN AWARDS\\n2024-06-10\\n\\n\\n\\n\\n\\n\\n\\n2023 피플 10기 워크숍\\n2024-06-07\\n\\n\\n\\n\\n\\n\\n\\n2023 PCN 맥주파티\\n2023-09-26\\n\\n\\n\\n\\n\\n\\n\\nPCN 2023 하반기 사업부 워크숍\\n2023-09-22\\n\\n\\n\\n\\n\\n\\n\\n\\n\\n\\n\\n\\n \\n \\n\\n1\\n2\\n3\\n4'),\n",
       " Document(metadata={'source': 'https://www.pcninc.co.kr/notice/news/list.do?page=1&pageSize=6', 'language': 'ko'}, page_content='검색\\n\\n전체\\n제목\\n내용\\n\\n\\n\\n\\n검색\\n\\n\\n\\n\\n\\n\\n                전체\\n                98 \\n                건\\n            \\n\\n\\n\\n\\n\\n\\n\\n\\n\\n\\n\\n\\nPCN 제24기 결산공고\\n2025-03-31\\n\\n\\n\\n\\n\\n\\n\\nPCN 제24기 정기주주총회 소집 공고\\n2025-02-28\\n\\n\\n\\n\\n\\n\\n\\nPCN, 2024년 주주명부 폐쇄기간 및 기준일 설정 공고\\n2024-12-12\\n\\n\\n\\n\\n\\n\\n\\nPCN, 임시주주총회 소집공고\\n2024-05-08\\n\\n\\n\\n\\n\\n\\n\\nPCN, 임시주주총회 기준일 설정공고\\n2024-04-08\\n\\n\\n\\n\\n\\n\\n\\nPCN, 제23기 결산공고\\n2024-04-02\\n\\n\\n\\n\\n\\n\\n\\n\\n\\n\\n\\n\\n\\n\\n \\n \\n\\n1\\n2\\n3\\n4\\n5\\n6\\n7\\n8\\n9\\n10')]"
      ]
     },
     "execution_count": 14,
     "metadata": {},
     "output_type": "execute_result"
    }
   ],
   "source": [
    "from langchain.text_splitter import RecursiveCharacterTextSplitter\n",
    "\n",
    "text_splitter = RecursiveCharacterTextSplitter(\n",
    "    chunk_size=1024,\n",
    "    chunk_overlap=100,\n",
    "    length_function=len,  # 텍스트 길이를 측정하는 함수\n",
    "    is_separator_regex=False,  # 구분자가 정규식이 아님을 명시\n",
    "    separators=[\"\\n\\n\", \"\\n\", \" \", \"\"]\n",
    ")\n",
    "\n",
    "split_docs = text_splitter.split_documents(docs)\n",
    "split_docs"
   ]
  },
  {
   "cell_type": "code",
   "execution_count": 26,
   "id": "5e6893ec",
   "metadata": {},
   "outputs": [
    {
     "name": "stdout",
     "output_type": "stream",
     "text": [
      "f:\\project_test\\solutions\\chat\\test1_1\n",
      "f:\\project_test\\solutions\\chat\\test1_1\\ollama-service\\models\\BGE-m3-ko\n"
     ]
    }
   ],
   "source": [
    "import os\n",
    "from pathlib import Path\n",
    "root_path = Path(os.getcwd()).parent.parent\n",
    "embeddings_path = root_path / \"ollama-service\" / \"models\" / \"BGE-m3-ko\"\n",
    "print(root_path)\n",
    "print(embeddings_path)"
   ]
  },
  {
   "cell_type": "code",
   "execution_count": 27,
   "id": "30033af2",
   "metadata": {},
   "outputs": [],
   "source": [
    "from langchain_huggingface import HuggingFaceEmbeddings\n",
    "\n",
    "# HuggingFace 임베딩 모델 로드 (경로를 문자열로 변환하여 오류 방지)\n",
    "embedding_model = HuggingFaceEmbeddings(\n",
    "    model_name=str(embeddings_path)\n",
    ")"
   ]
  },
  {
   "cell_type": "code",
   "execution_count": 30,
   "id": "7d677b6f",
   "metadata": {},
   "outputs": [],
   "source": [
    "# 원본\n",
    "# embeddings = embedding_model.embed_documents([doc.page_content for doc in split_docs])\n",
    "\n",
    "# 개선 제안 1: 더 명확한 변수명 사용\n",
    "document_contents = [doc.page_content for doc in split_docs]\n",
    "embeddings = embedding_model.embed_documents(document_contents)"
   ]
  },
  {
   "cell_type": "code",
   "execution_count": 35,
   "id": "d7ab2485",
   "metadata": {},
   "outputs": [],
   "source": [
    "from langchain_community.vectorstores import FAISS"
   ]
  },
  {
   "cell_type": "code",
   "execution_count": 36,
   "id": "466d9527",
   "metadata": {},
   "outputs": [
    {
     "name": "stderr",
     "output_type": "stream",
     "text": [
      "f:\\project_test\\solutions\\chat\\.venv_chat\\lib\\site-packages\\torch\\nn\\modules\\module.py:1762: FutureWarning: `encoder_attention_mask` is deprecated and will be removed in version 4.55.0 for `XLMRobertaSdpaSelfAttention.forward`.\n",
      "  return forward_call(*args, **kwargs)\n"
     ]
    }
   ],
   "source": [
    "db = FAISS.from_documents(split_docs, embedding_model)"
   ]
  },
  {
   "cell_type": "code",
   "execution_count": 45,
   "id": "e23ee0a8",
   "metadata": {},
   "outputs": [],
   "source": [
    "db.save_local(\"./vector_db/pcn_web\")"
   ]
  },
  {
   "cell_type": "code",
   "execution_count": 48,
   "id": "80de583b",
   "metadata": {},
   "outputs": [],
   "source": [
    "db = FAISS.load_local(\"./vector_db/pcn_web\", embedding_model, allow_dangerous_deserialization=True)"
   ]
  },
  {
   "cell_type": "code",
   "execution_count": 53,
   "id": "5fba079c",
   "metadata": {},
   "outputs": [],
   "source": [
    "# 쿼리 문서 임베딩 생성 (예: 첫 번째 문서 사용)\n",
    "query_embedding = embedding_model.embed_query(\"피씨엔 소개\")\n",
    "\n",
    "# 벡터 유사도 검색 (상위 3개 결과 반환)\n",
    "results = db.similarity_search_by_vector(query_embedding, k=10)\n",
    "\n",
    "# for i, doc in enumerate(results, 1):\n",
    "#     print(f\"{i}번째 결과:\\n{doc.page_content}\\n\")"
   ]
  },
  {
   "cell_type": "code",
   "execution_count": 54,
   "id": "cbd029f3",
   "metadata": {},
   "outputs": [
    {
     "data": {
      "text/plain": [
       "[Document(id='5d320a3c-3826-4e75-8f53-e7a181329ed9', metadata={'source': 'https://www.pcninc.co.kr/'}, page_content='More NewsView More\\n\\n\\n\\n\\n\\n\\n\\nPCN, 2024년 주주명부 폐쇄기간 및 기준일 설정 공고\\n상법 제354조 및 당사 정관 제17조에 의거 제24기 정기주주총회에서 의결권을 행사할 주주확정을 위하여 다음과 같이 공고합니다.\\xa0기준일 : 2024년 12월 31일명의개서정지기간 : 2025년 1월 1일 ~ 2025년 1월 31일설정사유 :\\xa0제24기 정기주주총회 개최를 위한 권리주주 확정기타사항 :\\xa0당사 정관 제17조 [주주명부의 폐쇄 및 기준일]에 의거함2024년 12월 12일\\xa0주식회사 피씨엔서울특별시 강남구 학동로 146 PCN빌딩대표이사 송광헌\\xa0명의개서대리인 한국예탁결제원 사장 이순호\\n12월 12, 2024\\n\\n\\n\\n\\n\\n\\n\\n\\n\\n피씨엔, ‘2023 K-ICT 위크 인 부산’ 참가\\n\\n 9월 22, 2023\\n\\n\\n\\n\\n\\n\\n\\n\\n\\nPCN 2023 하반기 사업부 워크숍\\n\\xa0PCN이 2023년 7월 31일 하반기 사업부장 워크숍을 진행했습니다.\\xa0본부, 그룹, 실, 일반사업부까지 피씨엔 내 20여 개 전체 사업 관련 인원이 참석했으며, 각 사업부장이 발표한 내용을 토론을 통해 사업부 계획서에 반영했습니다.토론에는 제한 시간을 두지 않고 모든 사업부가 이해할 만한 답을 찾을 때까지 계속 토론 형식으로 진행되었습니다.\\xa0\\n 9월 22, 2023\\n\\n\\n\\n\\n\\n\\nOur Clients'),\n",
       " Document(id='98ffaa9d-354e-4266-828a-3b1de0f14785', metadata={'source': 'https://www.pcninc.co.kr/notice/press/list.do?page=1&pageSize=6', 'language': 'ko'}, page_content=\"검색\\n\\n전체\\n제목\\n\\n\\n\\n\\n검색\\n\\n\\n\\n\\n\\n\\n                전체\\n                66 \\n                건\\n            \\n\\n\\n\\n\\n\\n\\n\\n\\n\\n\\n\\n\\n\\n피씨엔, AI 플랫폼 '오즈아이' 앞세워 피지컬 AI 시장 진출\\n2025-07-28\\n\\n\\n\\n\\n\\n\\n\\n피씨엔(PCN), 민관 디지털 혁신 플랫폼 'DPG 통합테스트베드' 운영 맡는다\\n2025-06-11\\n\\n\\n\\n\\n\\n\\n\\nPCN, 제4기 정기 주총 성료···재무제표 등 승인\\n2025-03-31\\n\\n\\n\\n\\n\\n\\n\\n피씨엔, XR 콘텐츠서 상호작용 가능성 열었다\\n2025-02-19\\n\\n\\n\\n\\n\\n\\n\\n피씨엔-메디트릭스, 디지털 헬스케어 사업 협력\\n2025-02-19\\n\\n\\n\\n\\n\\n\\n\\n과기정통부, 산업기술연구조합 기술교류회 개최\\n2025-02-13\\n\\n\\n\\n\\n\\n\\n\\n\\n\\n\\n\\n\\n\\n \\n \\n\\n1\\n2\\n3\\n4\\n5\\n6\\n7\\n8\\n9\\n10\"),\n",
       " Document(id='70b80dd1-371f-44c0-a102-3156ae810948', metadata={'source': 'https://www.pcninc.co.kr/company/introduce.do'}, page_content=\"인재들이 자신이 원하는 리더와 함께, 혹은 자신이 리더가 되어서 원하는 꿈에 도전할 수 있는 회사를 만들고자 합니다.\\n                    이를 위한 공정한 룰, 객관적인 평가, 합리적인 보상을 바탕으로 인재가 중심인 회사를 만들겠습니다.\\n                    그러한 노력들의 결과로 매년 동종업계 대비 놀라운 실적의 영업이익과 성장률을 보이고 강남에 사옥을 마련하고\\n                    사내 안마사인 헬스키퍼, PCN 제주 펜션, PCN 양양 등의 직원 복지를 늘리고 함께 성장하고 있습니다.\\n                    PCN은 이에 만족하지 않고 좋은 회사를 넘어서는 위대한 기업 PCN을 만들겠습니다.\\n                    고객감동, 인재행복, 가치창조를 핵심 가치를 바탕으로 ‘디지털 세계에서의 가치 창조'를 실현하여 NO.1 Digital Flatform Company로 더욱 정진하겠습니다.\\n                \\n감사합니다.\\n\\n\\n\\n기업 정보\\n\\n\\n\\n설립 연도\\n1999년 12월\\n\\n\\n\\n사업 분야\\nSI(시스템 통합),\\n                        SM(시스템 관리)\\n                        컨설팅, 솔루션 Bix, 모바일 등\\n                    \\n\\n\\n\\n매출액\\n264억\\n*2022년 기준\\n\\n\\n\\n임직원\\n180명\\n*2022년 기준\\n\\n\\n\\n\\n비전\\n디지털 세상에서의 가치창조라는 Vision을 토대로 고객이 아닌 파트너가 많은 기업으로 계속 성장하겠습니다.\\n\\n\\nMISSION\\n우리는 고객의 성공을 도와 세상의 가치를\\n                        증대 시키며 행복과 긍지를 느낀다.\\n\\n\\n\\nVALUE\\n고객 감동, 인재 행복, 가치 창조\\n\\n\\n\\nVISION\\nNO.1 DIGITAL VALUE SERVICE COMPANY\\n\\n\\n\\n\\n\\n회사 소개서 PDF\"),\n",
       " Document(id='12c4fae1-f2ed-490a-b806-d8a00053c2f4', metadata={'source': 'https://www.pcninc.co.kr/solution/esearch.do'}, page_content='PCN E-Search\\nPCN 통합검색 솔루션\\nPCN E-Search는 Lucene 라이브러리 및 Elastic 오픈소스 기반으로 제작되었고 다양한 형태의 리소스 데이터에 대한 크롤링,\\n                    분산 저장 및 검색을 지원하는 확장성이 뛰어난 검색 플랫폼입니다. PCN 기업부설연구소는 Elastic기반으로 검색엔진을 확장하여 공공 기관에 납품한 실적을 보유하고 있습니다.\\n\\n\\n\\n구성도\\n\\n\\n\\n특장점\\n\\n1. 다양한 형태의 데이터 수집 및 색인 지원\\n2. 멀티 노드 기반의 고가용성 지원\\n3. 다수의 클러스터링 구성 가능\\n4. 독립된 모듈 형태의 기능 분할\\n5. 빅데이터 분산 저장소 및 분석도구 지원\\n6. 플러그인 지원으로 확장성 보장\\n7. 자연어 검색, 복합명사 붙용어 필터 지원\\n8. 검색어 자동완성, 트랜드 분석 및 연관검색어 지원\\n\\n\\n\\n\\n\\n\\n제품 소개서 다운로드'),\n",
       " Document(id='c027203c-7026-400a-a627-f2eaef558911', metadata={'source': 'https://www.pcninc.co.kr/company/introduce.do'}, page_content='디지털 가치를 만드는 기업\\nPCN은 지식, 경험, 네트워크를 바탕으로 디지털 환경에서의 고객 비즈니스 성공을 지원하는 Digital Value Service 기업입니다.\\n\\n\\n\\n                        PCN은 다양한 기업 및 기업들의 온라인 비즈니스 파트너로서,\\n                        고객들과 함께 꾸준히 성장해왔습니다. PCN은 기술력과 노하우를 두루 갖춘\\n                        분야별 스페셜리스트들이 고객의 비즈니스 파트너로서 감동의 가치를 실현합니다.\\n                        온라인 환경과 비즈니스에 대한 깊은 이해를 가진 중·고급 인력이 전체의 60%를\\n                        차지하고 있으며 다양한 전문 기술을 보유한 인재들로 구성되어 있어 사업을 성공으로\\n                        이끌고 있습니다.\\n                    \\n\\n\\n\\n\\n\\n\\n\\nCEO 메세지\\n\\n\\n                    안녕하세요? PCN의 송광헌 대표입니다.\\n                    (주)PCN은 1999년 설립되고 2001년 법인전환 이후 20년 넘게 IT전문기업으로서 매진해 왔습니다.\\n                    그 결과 Bigdata, AI, XR 콘텐츠 기술과 이를 바탕으로 최근 메타버스 플랫폼까지 다양한 사업에서 최고의 기술과 실적을 만들고 있습니다.\\n                    그 바탕에는 PCN 3.0으로 시작한 ‘Flat stage’ 즉, 공정한 무대에서 인재들이 마음껏 본인의 역량을 펼칠 수 있는 문화의 힘이 있다고 생각합니다.'),\n",
       " Document(id='302d1a40-0b87-49c2-8f7a-460615b931f7', metadata={'source': 'https://www.pcninc.co.kr/company/location.do'}, page_content='PCN에 오시는 길\\nPCN은 강남구 학동역/논현역 부근에 위치하고 있습니다. 문의는 언제나 열려있습니다.\\n\\n\\n\\n\\n\\n\\n주소\\n서울특별시 강남구 학동로 146 PCN빌딩\\n\\n\\n문의\\n\\n\\n채용‧프로젝트‧홍보문의\\nE.master@pcninc.co.kr\\nT.02 - 565 - 7740\\n\\n\\n영업문의\\nE.master@pcninc.co.kr\\nT.02 - 6027 - 5870\\n\\n\\n\\n\\n\\n\\n지하철\\n\\n학동역에서 하차\\n(5번 출구에서 300m 도보 5분거리)\\n\\n\\n논현역에서 하차\\n(1번 출구에서 450m 도보 8분거리)\\n\\n\\n\\n버스\\n\\n논현사거리, 학동역\\n240, 401, 3412, 6411\\n\\n\\n\\n자가용\\n\\nPCN 빌딩 주차장\\n유료 시설로 대중교통 이용을 권장'),\n",
       " Document(id='6b2e64f7-aa29-49ed-8e31-7e19f39761d0', metadata={'source': 'https://www.pcninc.co.kr/company/benefit.do'}, page_content='PCN 직원 혜택\\nPCN은 다양한 사원복지를 통해 임직원들이 즐겁고 행복하게 일 할 수 있는 회사가 될 수 있도록 노력 합니다.\\n\\n\\n\\n\\n\\n\\n제주 양양 펜션\\n직원들이 휴식 및 숙박을 할 수 있는 임직원 전용 공간입니다.\\n\\n제주 펜션\\n양양 펜션\\n\\n\\n\\n\\n\\n\\n헬스키퍼\\n직원들의 뭉친 근육을 풀어 드립니다! 국가공인 안마사 자격을\\n                            갖춘 헬스 키퍼 분들에게 주 1회 안마를 받을 수 있습니다\\n\\n\\n\\n\\n\\n맞춤형 복지 제도\\n여행, 건강, 교육, 취미 1회에 한하여 현금을 지급합니다.\\n\\n\\n\\n\\n\\n장기근속자 포상\\nPCN과 함께 꾸준히 성장해준 직원들에게 3/5/7/10/15/20/25주년\\n                            선물을 지급 합니다.\\n\\n\\n\\n\\n\\n교육훈련비 지원\\n사외교육 50% 지원 및 직원 본인 대학/대학원 등록금 50%\\n                            지원 합니다.\\n\\n\\n\\n\\n\\n패밀리 데이\\n매월 1일 2시간 조기 퇴근\\n\\n\\n\\n\\n\\n명절 선물 지급\\n설과 추석 명절에 감사의 마음을 전하기 위해 선물을 지급합니다.\\n\\n\\n\\n\\n\\n도서비 지원\\n직원들의 성장과 역량 향상을 위해  업무 관련 도서비를 지원합니다.\\n\\n\\n\\n\\n\\n생일자 선물\\n생일 파티 또는 본인 선물 구매를 위해 현금을 지급합니다.\\n\\n\\n\\n\\n\\n휴식공간\\n업무 중에 잠시 휴식을 위해 사내 카페에서 커피한잔의 여유와\\n                            휴게공간에서 안마의자 등을 통해 잠시 휴식을 가질 수 있습니다.\\n\\n\\n\\n\\n\\n경조화환\\n경조사 발생시 조의의 마음을 전하고자 화환을 제공합니다.'),\n",
       " Document(id='53642653-88d1-4f67-881b-c4f1c418c079', metadata={'source': 'https://www.pcninc.co.kr/company/history.do'}, page_content=\"갤러리 아트인사이트 개관\\n\\n\\n\\n\\n\\n\\n2016\\n\\n\\n\\n09월\\n\\n일학습병행제 경진대회 장려상(한국산업인력공단)\\n\\n\\n\\n\\n\\n\\n2015\\n\\n\\n\\n11월\\n\\n미래창조과학부 장관 표창\\n\\n\\n\\n08월\\n\\n정보통신 공사업 취득\\n\\n\\n\\n\\n\\n\\n2013\\n\\n\\n\\n11월\\n\\n오픈 API 기반 콘텐츠 서비스 인터페이스 제공시스템 및 방법 특허 출원\\n\\n\\n\\n08월\\n\\n포렌식기반 이미지 위변조방지 시스템 invisibleCode, GS인증\\n\\n\\n\\n\\n\\n\\n2011\\n\\n\\n\\n08월\\n한국정보산업협동조합 조합원 가입\\n\\n\\n07월\\n기술혁신형 중소기업(INNO-BIZ) 확인\\n\\n\\n06월\\n㈜피씨엔으로 상호변경\\n\\n\\n04월\\n포스트코리아넷 부설 연구소 ISO 9001:2008 인증 획득\\n\\n\\n\\n\\n\\n\\n\\n\\n\\n\\n\\n행정안전부 장관상 수상\\n\\n\\n\\n\\n\\n\\n\\n\\n\\n\\n\\n2010\\n\\n\\n\\n11월\\n\\n㈜포스트코리아넷 부설연구소 설립\\n\\n\\n\\n08월\\n\\n소프트웨어공제조합 가입(출자)\\n\\n\\n\\n06월\\n\\n벤처기업확인 인증\\n\\n\\n\\n\\n\\n\\n2008\\n\\n\\n\\n04월\\n\\n소프트웨어 사업자 신고\\n\\n\\n\\n03월\\n\\n2008 웹어워드 위원회 최우수 디지털에이전시 인증\\n\\n\\n\\n\\n\\n\\n2004\\n\\n\\n\\n10월\\n\\n온라인쇼핑몰 솔루션 PCNShop V 1.0 개발\\n\\n\\n\\n\\n\\n\\n2002\\n\\n\\n\\n04월\\n\\n'온라인을 이용한 병원 자동화 서비스 시스템' 특허출원 (출원번호 10-2004-0051772)\\n\\n\\n\\n\\n\\n\\n2001\\n\\n\\n\\n05월\\n\\n㈜포스트코리아넷 법인전환\\n\\n\\n\\n\\n\\n\\n1999\\n\\n\\n\\n12월\\n\\n코리아넷 설립\\n\\n\\n\\n\\n\\n\\n\\n\\n\\n\\n\\n\\n웹어워드 코리아 공공ㆍ의료 통합대상 수상\"),\n",
       " Document(id='07c4515b-6668-4085-913f-1eeddae1c025', metadata={'source': 'https://www.pcninc.co.kr/solution/oasisx.do'}, page_content='OASIS-X\\n빅데이터 수집 솔루션\\n무료 오픈 소스 서버의 데이터 처리 파이프라인인 Logstash는 다양한 소스에서 데이터를 수집하여 변환한 후 자주 사용하는 저장소로 전달합니다. PCN 기업부설연구소는 Logstash 기반의 데이터 수집/저장 프로세스를 쉽게 구성 할 수 있도록 Web 기반의 솔루션을 개발 하였으며 다양한\\n                    플러그인을 추가하여 기능을 확장 하였습니다.\\n\\n\\n\\n구성도\\n\\n\\n\\n특장점\\n\\n1. 다양한 형태의 데이터 소스 지원\\n2. 다양한 형태의 데이터 저장소 지원\\n3. 필터를 제공하여 다양한 형태로의 데이터 가공\\n4. 플러그인 지원으로 확장성 보장\\n5. Web UI 지원으로 손쉬운 구성\\n6. 수집/저장 현황의 모니터링\\n7. 스케줄러 지원으로 배치 작업 수행\\n\\n\\n\\n\\n\\n\\n제품 소개서 다운로드'),\n",
       " Document(id='e46cc995-d53b-4244-8143-57d4656b6d3e', metadata={'source': 'https://www.pcninc.co.kr/company/history.do'}, page_content='23년간 남긴 기록들\\n\\n                ‘디지털 세상에서의 가치 창조’라는 비전 아래 20년간 끊임 없이 달려왔습니다.\\n                1999년 PCN의 전신인 코리아넷이 설립된 이후부터 지금에 이르기까지 다양한 특허와 인증을 획득하며 해당 분야에서 공고히 자리매김해왔습니다.\\n            \\n\\n\\n\\n\\n2022\\n\\n\\n\\n12월\\n\\n대한민국디지털경영혁신대상 문화체육관광부 장관상\\n\\n\\n\\n10월\\n\\n레드닷 디자인 어워드 브랜드 커뮤니케이션부문상\\n\\n\\n\\n08월\\n\\nPCN 신사옥 이전(학동로 146 PCN빌딩)\\n\\n\\n\\n01월\\n\\n갤러리 아트인사이트 개관\\n\\n\\n\\n\\n\\n\\n2021\\n\\n\\n\\n12월\\n\\n국무총리 표창 (소프트웨어산업진흥 발전)\\n행정안전부 장관 표창 (정보화 발전)\\n\\n\\n\\n11월\\n\\n제6회 3D 프린팅 BIZCON 경진대회 최우수상(문화재청)\\n행정안전부 장관 표창 (정부혁신 추진)\\n\\n\\n\\n09월\\n\\nPCN 사옥 이전 PCN 빌딩(언주로135길 33)\\n\\n\\n\\n01월\\n\\nPCN E-SEARCH v1.0 GS인증 1등급 취득\\n\\n\\n\\n\\n\\n\\n2020\\n\\n\\n\\n06월\\n\\n여성가족부 가족친화기업 인증\\n대한상공회의소 일하기 좋은 중소기업 선정\\n\\n\\n\\n02월\\n\\nKiss OASIS v1.2 GS 인증 1등급 취득\\n\\n\\n\\n\\n\\n\\n2019\\n\\n\\n\\n04월\\n\\nRDF 트리플 데이터 기반의 지능형 검색 시스템 및 방법 특허 출원\\n\\n\\n\\n03월\\n\\n온톨리지 기반의 검색 서비스 시스템 및 방법 특허 출원\\n\\n\\n\\n\\n\\n\\n\\n\\n\\n\\n\\n\\n2022 레드닷 디자인 어워드 수상\\n\\n\\n\\n\\n\\n\\n\\n\\n\\n\\n\\n2018\\n\\n\\n\\n07월\\n\\n재난재해 복구를 위한 자원관리 방법 및 시스템 특허 출원\\n\\n\\n\\n05월\\n\\n전통문화 융복합 지원을 위한 디지털 연표 표출시스템 특허 출원\\n\\n\\n\\n08월\\n\\nPCN 신사옥 이전(학동로 146 PCN빌딩)\\n\\n\\n\\n01월\\n\\n갤러리 아트인사이트 개관\\n\\n\\n\\n\\n\\n\\n2016\\n\\n\\n\\n09월\\n\\n일학습병행제 경진대회 장려상(한국산업인력공단)\\n\\n\\n\\n\\n\\n\\n2015\\n\\n\\n\\n11월\\n\\n미래창조과학부 장관 표창\\n\\n\\n\\n08월')]"
      ]
     },
     "execution_count": 54,
     "metadata": {},
     "output_type": "execute_result"
    }
   ],
   "source": [
    "results"
   ]
  },
  {
   "cell_type": "code",
   "execution_count": null,
   "id": "bb4cad46",
   "metadata": {},
   "outputs": [],
   "source": []
  }
 ],
 "metadata": {
  "kernelspec": {
   "display_name": ".venv_chat",
   "language": "python",
   "name": "python3"
  },
  "language_info": {
   "codemirror_mode": {
    "name": "ipython",
    "version": 3
   },
   "file_extension": ".py",
   "mimetype": "text/x-python",
   "name": "python",
   "nbconvert_exporter": "python",
   "pygments_lexer": "ipython3",
   "version": "3.10.11"
  }
 },
 "nbformat": 4,
 "nbformat_minor": 5
}
