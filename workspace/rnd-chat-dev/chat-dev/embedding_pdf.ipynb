{
 "cells": [
  {
   "cell_type": "code",
   "execution_count": null,
   "metadata": {},
   "outputs": [],
   "source": [
    "import os\n",
    "os.environ[\"CUDA_VISIBLE_DEVICES\"] = \"3\""
   ]
  },
  {
   "cell_type": "code",
   "execution_count": null,
   "metadata": {},
   "outputs": [],
   "source": [
    "import torch\n",
    "print(torch.cuda.is_available())\n",
    "print(torch.cuda.get_device_name(0))\n",
    "print((torch.cuda._get_nvml_device_index(0)))"
   ]
  },
  {
   "cell_type": "code",
   "execution_count": null,
   "metadata": {},
   "outputs": [],
   "source": [
    "from langchain.embeddings import HuggingFaceEmbeddings\n",
    "from langchain.vectorstores import FAISS\n",
    "from langchain_community.document_loaders import PyPDFDirectoryLoader, WebBaseLoader\n",
    "from langchain_community.document_loaders import PyPDFDirectoryLoader, WebBaseLoader\n",
    "from langchain.text_splitter import RecursiveCharacterTextSplitter\n",
    "from pathlib import Path"
   ]
  },
  {
   "cell_type": "code",
   "execution_count": null,
   "metadata": {},
   "outputs": [],
   "source": [
    "# 모델 경로 설정\n",
    "root_path = Path(\".\").resolve().parent.parent\n",
    "embedding_model_path = root_path / \"ai_models\" / \"base_models\" / \"embeddings\" /\"dragonkue\" / \"BGE-m3-ko\"\n",
    "\n",
    "\n",
    "print(root_path)\n",
    "print(embedding_model_path)"
   ]
  },
  {
   "cell_type": "code",
   "execution_count": null,
   "metadata": {},
   "outputs": [],
   "source": [
    "# 임베딩 모델 초기화\n",
    "embeddings = HuggingFaceEmbeddings(\n",
    "    model_name=str(embedding_model_path),\n",
    "    model_kwargs={'device': 'cuda:0'},\n",
    "    encode_kwargs={'normalize_embeddings': True}\n",
    ")"
   ]
  },
  {
   "cell_type": "code",
   "execution_count": null,
   "metadata": {},
   "outputs": [],
   "source": [
    "# def load_pdf_directory(directory_path):\n",
    "#     loader = PyPDFDirectoryLoader(directory_path)\n",
    "#     pages = loader.load()\n",
    "#     return pages\n",
    "\n",
    "def load_pdf_directory(directory_path):\n",
    "    loader = PyPDFDirectoryLoader(directory_path, recursive=True, silent_errors=True)\n",
    "    pages = loader.load()\n",
    "\n",
    "    # 줄바꿈 노이즈 정리\n",
    "    for page in pages:\n",
    "        # 하이픈으로 줄바꿈된 단어 복원\n",
    "        page.page_content = page.page_content.replace(\"-\\n\", \"\")\n",
    "        # 일반 줄바꿈은 공백으로 변환\n",
    "        page.page_content = page.page_content.replace(\"\\n\", \" \")\n",
    "\n",
    "    return pages\n",
    "pdf_paths = \"./data/pdf\"\n",
    "pdf_data = load_pdf_directory(pdf_paths)"
   ]
  },
  {
   "cell_type": "code",
   "execution_count": null,
   "metadata": {},
   "outputs": [],
   "source": [
    "pdf_data[:3]"
   ]
  },
  {
   "cell_type": "code",
   "execution_count": null,
   "metadata": {},
   "outputs": [],
   "source": [
    "\n",
    "def split_documents(documents):\n",
    "    text_splitter = RecursiveCharacterTextSplitter(\n",
    "        chunk_size=400,\n",
    "        chunk_overlap=50,\n",
    "        length_function=len,\n",
    "        separators=[r\"\\n{2,}\", r\"\\n\", r\"[.!?]\", r\"[,;:]\", r\" \"],\n",
    "        is_separator_regex=True\n",
    "    )\n",
    "    return text_splitter.split_documents(documents)\n",
    "\n",
    "chunks = split_documents(pdf_data)\n",
    "\n",
    "# text_splitter = RecursiveCharacterTextSplitter(\n",
    "#     chunk_size=400,  # 한 청크에 너무 많은 문장이 담기지 않도록\n",
    "#     chunk_overlap=50,  # 앞뒤 문맥 연결 위해 소폭 겹침\n",
    "#     separators=[r\"\\n{2,}\", r\"\\n\", r\"[.!?]\", r\"[,;:]\", r\" \"],  # 문단, 줄, 문장, 쉼표, 공백 순으로 분할\n",
    "#     is_separator_regex=True\n",
    "# )\n",
    "\n",
    "# chunks = text_splitter.split_documents(pdf_data)\n",
    "\n",
    "# text_splitter = RecursiveCharacterTextSplitter(\n",
    "#     chunk_size=500,  # PDF 문서는 더 작은 청크로 나누는 것이 좋음\n",
    "#     chunk_overlap=50, # 청크 간 중복도 줄임\n",
    "#     length_function=len,\n",
    "#     separators=[\"\\n\\n\", \"\\n\", \".\", \"!\", \"?\", \";\", \":\", \" \", \"\"],  # PDF 문서의 구조를 고려한 구분자 추가\n",
    "#     is_separator_regex=False\n",
    "# )\n",
    "\n",
    "# chunks = text_splitter.split_documents(pdf_data)"
   ]
  },
  {
   "cell_type": "code",
   "execution_count": null,
   "metadata": {},
   "outputs": [],
   "source": [
    "# FAISS 벡터 스토어 생성\n",
    "db = FAISS.from_documents(\n",
    "    chunks, \n",
    "    embeddings\n",
    ")"
   ]
  },
  {
   "cell_type": "code",
   "execution_count": null,
   "metadata": {},
   "outputs": [],
   "source": [
    "# FAISS 벡터 스토어 저장\n",
    "faiss_index_directory = \"./faiss_pdf_directory\"\n",
    "# os.makedirs(faiss_index_directory, exist_ok=True)\n",
    "db.save_local(faiss_index_directory)"
   ]
  },
  {
   "cell_type": "code",
   "execution_count": null,
   "metadata": {},
   "outputs": [],
   "source": [
    "# FAISS 벡터 스토어에서 유사도 검색\n",
    "query = \"피씨엔 회사소개\"\n",
    "docs = db.similarity_search(query, k=3)  # k는 반환할 문서 수\n",
    "\n",
    "# 검색 결과 출력\n",
    "for i, doc in enumerate(docs):\n",
    "    print(f\"\\n## 검색결과 {i+1}\")\n",
    "    print(f\"내용: {doc.page_content}\")\n",
    "    print(f\"출처: {doc.metadata}\")"
   ]
  },
  {
   "cell_type": "code",
   "execution_count": null,
   "metadata": {},
   "outputs": [],
   "source": [
    "faiss_index_directory = \"./faiss_pdf_directory\"\n",
    "vectorstore = FAISS.load_local(faiss_index_directory, embeddings, allow_dangerous_deserialization=True)\n",
    "retriever = vectorstore.as_retriever(    \n",
    "    search_type=\"similarity_score_threshold\", \n",
    "    search_kwargs={\"score_threshold\": 0.5, \"k\": 3}\n",
    ")"
   ]
  },
  {
   "cell_type": "code",
   "execution_count": null,
   "metadata": {},
   "outputs": [],
   "source": [
    "vectorstore.similarity_search(k=3, query=\"AI 프로젝트 소개\")"
   ]
  },
  {
   "cell_type": "code",
   "execution_count": null,
   "metadata": {},
   "outputs": [],
   "source": []
  }
 ],
 "metadata": {
  "kernelspec": {
   "display_name": "rnd_chatbot",
   "language": "python",
   "name": "python3"
  },
  "language_info": {
   "codemirror_mode": {
    "name": "ipython",
    "version": 3
   },
   "file_extension": ".py",
   "mimetype": "text/x-python",
   "name": "python",
   "nbconvert_exporter": "python",
   "pygments_lexer": "ipython3",
   "version": "3.13.5"
  }
 },
 "nbformat": 4,
 "nbformat_minor": 2
}
